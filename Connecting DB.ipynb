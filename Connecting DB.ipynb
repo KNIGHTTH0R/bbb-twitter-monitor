{
 "cells": [
  {
   "cell_type": "code",
   "execution_count": 1,
   "metadata": {},
   "outputs": [],
   "source": [
    "import sqlite3 \n",
    "  \n",
    "conn = sqlite3.connect('pythonDB.db') \n",
    "c = conn.cursor() \n",
    "  \n",
    "def create_table(): \n",
    "    c.execute('CREATE TABLE IF NOT EXISTS RecordONE (Date REAL, tweets TEXT)') \n",
    "    \n",
    "\n",
    "def data_entry(): \n",
    "    number = 1234\n",
    "    name = \"GeeksforGeeks\"\n",
    "    c.execute(\"INSERT INTO RecordONE (Number, Name) VALUES(?, ?)\", (number, name)) \n",
    "    conn.commit() \n",
    "\n",
    "\n",
    "create_table() \n",
    "data_entry() \n",
    "  \n",
    "c.close() \n",
    "conn.close() "
   ]
  },
  {
   "cell_type": "code",
   "execution_count": 2,
   "metadata": {},
   "outputs": [
    {
     "ename": "AttributeError",
     "evalue": "'sqlite3.Connection' object has no attribute 'connect'",
     "output_type": "error",
     "traceback": [
      "\u001b[0;31m---------------------------------------------------------------------------\u001b[0m",
      "\u001b[0;31mAttributeError\u001b[0m                            Traceback (most recent call last)",
      "\u001b[0;32m<ipython-input-2-4a60397cd9b5>\u001b[0m in \u001b[0;36m<module>\u001b[0;34m\u001b[0m\n\u001b[0;32m----> 1\u001b[0;31m \u001b[0mconn\u001b[0m\u001b[0;34m.\u001b[0m\u001b[0mconnect\u001b[0m\u001b[0;34m(\u001b[0m\u001b[0;34m'pythonDB.db'\u001b[0m\u001b[0;34m)\u001b[0m\u001b[0;34m\u001b[0m\u001b[0;34m\u001b[0m\u001b[0m\n\u001b[0m",
      "\u001b[0;31mAttributeError\u001b[0m: 'sqlite3.Connection' object has no attribute 'connect'"
     ]
    }
   ],
   "source": [
    "conn.connect('pythonDB.db')"
   ]
  },
  {
   "cell_type": "code",
   "execution_count": null,
   "metadata": {},
   "outputs": [],
   "source": []
  }
 ],
 "metadata": {
  "kernelspec": {
   "display_name": "tf-gpu-2.0",
   "language": "python",
   "name": "tf_gpu2"
  },
  "language_info": {
   "codemirror_mode": {
    "name": "ipython",
    "version": 3
   },
   "file_extension": ".py",
   "mimetype": "text/x-python",
   "name": "python",
   "nbconvert_exporter": "python",
   "pygments_lexer": "ipython3",
   "version": "3.7.1"
  }
 },
 "nbformat": 4,
 "nbformat_minor": 2
}
