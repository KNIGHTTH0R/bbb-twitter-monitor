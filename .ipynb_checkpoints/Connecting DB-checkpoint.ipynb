{
 "cells": [
  {
   "cell_type": "code",
   "execution_count": 1,
   "metadata": {},
   "outputs": [],
   "source": [
    "import sqlite3 \n",
    "  \n",
    "conn = sqlite3.connect('pythonDB.db') \n",
    "c = conn.cursor() \n",
    "  \n",
    "def create_table(): \n",
    "    c.execute('CREATE TABLE IF NOT EXISTS RecordONE (Date REAL, tweets TEXT)') \n",
    "    \n",
    "\n",
    "def data_entry(): \n",
    "    number = 1234\n",
    "    name = \"GeeksforGeeks\"\n",
    "    c.execute(\"INSERT INTO RecordONE (Number, Name) VALUES(?, ?)\", (number, name)) \n",
    "    conn.commit() \n",
    "\n",
    "\n",
    "create_table() \n",
    "data_entry() \n",
    "  \n",
    "c.close() \n",
    "conn.close() "
   ]
  },
  {
   "cell_type": "code",
   "execution_count": 2,
   "metadata": {},
   "outputs": [
    {
     "ename": "AttributeError",
     "evalue": "'sqlite3.Connection' object has no attribute 'connect'",
     "output_type": "error",
     "traceback": [
      "\u001b[0;31m---------------------------------------------------------------------------\u001b[0m",
      "\u001b[0;31mAttributeError\u001b[0m                            Traceback (most recent call last)",
      "\u001b[0;32m<ipython-input-2-4a60397cd9b5>\u001b[0m in \u001b[0;36m<module>\u001b[0;34m\u001b[0m\n\u001b[0;32m----> 1\u001b[0;31m \u001b[0mconn\u001b[0m\u001b[0;34m.\u001b[0m\u001b[0mconnect\u001b[0m\u001b[0;34m(\u001b[0m\u001b[0;34m'pythonDB.db'\u001b[0m\u001b[0;34m)\u001b[0m\u001b[0;34m\u001b[0m\u001b[0;34m\u001b[0m\u001b[0m\n\u001b[0m",
      "\u001b[0;31mAttributeError\u001b[0m: 'sqlite3.Connection' object has no attribute 'connect'"
     ]
    }
   ],
   "source": [
    "conn.connect('pythonDB.db')"
   ]
  },
  {
   "cell_type": "code",
   "execution_count": 7,
   "metadata": {},
   "outputs": [
    {
     "name": "stdout",
     "output_type": "stream",
     "text": [
      " * Serving Flask app \"testes\" (lazy loading)\n",
      " * Environment: production\n",
      "\u001b[31m   WARNING: This is a development server. Do not use it in a production deployment.\u001b[0m\n",
      "\u001b[2m   Use a production WSGI server instead.\u001b[0m\n",
      " * Debug mode: off\n"
     ]
    },
    {
     "name": "stderr",
     "output_type": "stream",
     "text": [
      "/home/leonardo/anaconda3/envs/tf_gpu2/lib/python3.7/site-packages/flask_sqlalchemy/__init__.py:835: FSADeprecationWarning:\n",
      "\n",
      "SQLALCHEMY_TRACK_MODIFICATIONS adds significant overhead and will be disabled by default in the future.  Set it to True or False to suppress this warning.\n",
      "\n",
      " * Running on http://127.0.0.1:8050/ (Press CTRL+C to quit)\n",
      "127.0.0.1 - - [23/Mar/2020 16:57:00] \"\u001b[37mGET / HTTP/1.1\u001b[0m\" 200 -\n",
      "127.0.0.1 - - [23/Mar/2020 16:57:00] \"\u001b[37mGET /_dash-component-suites/dash_renderer/polyfill@7.v1_2_3m1581101810.7.0.min.js HTTP/1.1\u001b[0m\" 200 -\n",
      "127.0.0.1 - - [23/Mar/2020 16:57:00] \"\u001b[37mGET /_dash-component-suites/dash_renderer/react@16.v1_2_3m1581101810.8.6.min.js HTTP/1.1\u001b[0m\" 200 -\n",
      "127.0.0.1 - - [23/Mar/2020 16:57:00] \"\u001b[37mGET /_dash-component-suites/dash_renderer/prop-types@15.v1_2_3m1581101810.7.2.min.js HTTP/1.1\u001b[0m\" 200 -\n",
      "127.0.0.1 - - [23/Mar/2020 16:57:00] \"\u001b[37mGET /_dash-component-suites/dash_renderer/react-dom@16.v1_2_3m1581101810.8.6.min.js HTTP/1.1\u001b[0m\" 200 -\n",
      "127.0.0.1 - - [23/Mar/2020 16:57:00] \"\u001b[37mGET /_dash-component-suites/dash_core_components/dash_core_components-shared.v1_7_0m1581101811.js HTTP/1.1\u001b[0m\" 200 -\n",
      "127.0.0.1 - - [23/Mar/2020 16:57:00] \"\u001b[37mGET /_dash-component-suites/dash_html_components/dash_html_components.v1_0_2m1581101812.min.js HTTP/1.1\u001b[0m\" 200 -\n",
      "127.0.0.1 - - [23/Mar/2020 16:57:00] \"\u001b[37mGET /_dash-component-suites/dash_core_components/dash_core_components.v1_7_0m1581101811.min.js HTTP/1.1\u001b[0m\" 200 -\n",
      "127.0.0.1 - - [23/Mar/2020 16:57:00] \"\u001b[37mGET /_dash-component-suites/dash_renderer/dash_renderer.v1_2_3m1581101810.min.js HTTP/1.1\u001b[0m\" 200 -\n",
      "127.0.0.1 - - [23/Mar/2020 16:57:00] \"\u001b[37mGET /_dash-dependencies HTTP/1.1\u001b[0m\" 200 -\n",
      "127.0.0.1 - - [23/Mar/2020 16:57:00] \"\u001b[37mGET /_dash-layout HTTP/1.1\u001b[0m\" 200 -\n",
      "127.0.0.1 - - [23/Mar/2020 16:57:00] \"\u001b[37mPOST /_dash-update-component HTTP/1.1\u001b[0m\" 200 -\n",
      "127.0.0.1 - - [23/Mar/2020 16:57:03] \"\u001b[37mGET / HTTP/1.1\u001b[0m\" 200 -\n",
      "127.0.0.1 - - [23/Mar/2020 16:57:03] \"\u001b[37mGET /_dash-layout HTTP/1.1\u001b[0m\" 200 -\n",
      "127.0.0.1 - - [23/Mar/2020 16:57:03] \"\u001b[37mGET /_dash-dependencies HTTP/1.1\u001b[0m\" 200 -\n",
      "127.0.0.1 - - [23/Mar/2020 16:57:03] \"\u001b[37mPOST /_dash-update-component HTTP/1.1\u001b[0m\" 200 -\n",
      "127.0.0.1 - - [23/Mar/2020 16:57:12] \"\u001b[37mPOST /_dash-update-component HTTP/1.1\u001b[0m\" 200 -\n"
     ]
    }
   ],
   "source": [
    "from jupyter_plotly_dash import JupyterDash\n",
    "\n",
    "import dash\n",
    "import dash_core_components as dcc\n",
    "import dash_html_components as html\n",
    "from dash.dependencies import Input, Output, State\n",
    "from flask_sqlalchemy import SQLAlchemy\n",
    "\n",
    "app = dash.Dash('testes')\n",
    "\n",
    "app.server.config[\"SQLALCHEMY_DATABASE_URI\"] = \"sqlite:////tmp/test.db\"\n",
    "\n",
    "db = SQLAlchemy(app.server)\n",
    "\n",
    "\n",
    "class User(db.Model):\n",
    "    id = db.Column(db.Integer, primary_key=True)\n",
    "    username = db.Column(db.String(80), unique=True, nullable=False)\n",
    "    email = db.Column(db.String(120), unique=True, nullable=False)\n",
    "\n",
    "    def __repr__(self):\n",
    "        return \"<User %r>\" % self.username\n",
    "\n",
    "\n",
    "app.layout = html.Div(\n",
    "    [\n",
    "        html.H4(\"username\"),\n",
    "        dcc.Input(id=\"username\", placeholder=\"enter username\", type=\"text\"),\n",
    "        html.H4(\"email\"),\n",
    "        dcc.Input(id=\"email\", placeholder=\"enter email\", type=\"email\"),\n",
    "        html.Button(\"add user\", id=\"add-button\"),\n",
    "        html.Hr(),\n",
    "        html.H3(\"users\"),\n",
    "        html.Div(id=\"users\"),\n",
    "    ]\n",
    ")\n",
    "\n",
    "\n",
    "@app.callback(\n",
    "    Output(\"users\", \"children\"),\n",
    "    [Input(\"add-button\", \"n_clicks\")],\n",
    "    [State(\"username\", \"value\"), State(\"email\", \"value\")],\n",
    ")\n",
    "def add_and_show_users(n, username, email):\n",
    "    if n is not None:\n",
    "        # if button clicked, add user\n",
    "        db.session.add(User(username=username, email=email))\n",
    "        db.session.commit()\n",
    "\n",
    "    # get all users in database\n",
    "    users = db.session.query(User).all()\n",
    "    return [\n",
    "        html.Div(\n",
    "            [\n",
    "                html.Span([html.H5(\"Username: \"), u.username]),\n",
    "                html.Span([html.H5(\"Email: \"), u.email]),\n",
    "            ]\n",
    "        )\n",
    "        for u in users\n",
    "    ]\n",
    "\n",
    "\n",
    "if __name__ == \"__main__\":\n",
    "    db.create_all()\n",
    "    app.run_server()"
   ]
  },
  {
   "cell_type": "code",
   "execution_count": 4,
   "metadata": {},
   "outputs": [
    {
     "name": "stdout",
     "output_type": "stream",
     "text": [
      "Collecting flask_sqlalchemy\n",
      "  Downloading https://files.pythonhosted.org/packages/1e/65/226d95466c75e34e291a76890ed0e27af2e46ab913002847856f11d4d59d/Flask_SQLAlchemy-2.4.1-py2.py3-none-any.whl\n",
      "Requirement already satisfied: SQLAlchemy>=0.8.0 in /home/leonardo/anaconda3/envs/tf_gpu2/lib/python3.7/site-packages (from flask_sqlalchemy) (1.3.12)\n",
      "Requirement already satisfied: Flask>=0.10 in /home/leonardo/anaconda3/envs/tf_gpu2/lib/python3.7/site-packages (from flask_sqlalchemy) (1.1.1)\n",
      "Requirement already satisfied: click>=5.1 in /home/leonardo/anaconda3/envs/tf_gpu2/lib/python3.7/site-packages (from Flask>=0.10->flask_sqlalchemy) (7.1.1)\n",
      "Requirement already satisfied: Jinja2>=2.10.1 in /home/leonardo/anaconda3/envs/tf_gpu2/lib/python3.7/site-packages (from Flask>=0.10->flask_sqlalchemy) (2.10.3)\n",
      "Requirement already satisfied: itsdangerous>=0.24 in /home/leonardo/anaconda3/envs/tf_gpu2/lib/python3.7/site-packages (from Flask>=0.10->flask_sqlalchemy) (1.1.0)\n",
      "Requirement already satisfied: Werkzeug>=0.15 in /home/leonardo/anaconda3/envs/tf_gpu2/lib/python3.7/site-packages (from Flask>=0.10->flask_sqlalchemy) (0.16.0)\n",
      "Requirement already satisfied: MarkupSafe>=0.23 in /home/leonardo/anaconda3/envs/tf_gpu2/lib/python3.7/site-packages (from Jinja2>=2.10.1->Flask>=0.10->flask_sqlalchemy) (1.1.1)\n",
      "Installing collected packages: flask-sqlalchemy\n",
      "Successfully installed flask-sqlalchemy-2.4.1\n"
     ]
    }
   ],
   "source": [
    "!pip install flask_sqlalchemy"
   ]
  },
  {
   "cell_type": "code",
   "execution_count": null,
   "metadata": {},
   "outputs": [],
   "source": []
  }
 ],
 "metadata": {
  "kernelspec": {
   "display_name": "tf-gpu-2.0",
   "language": "python",
   "name": "tf_gpu2"
  },
  "language_info": {
   "codemirror_mode": {
    "name": "ipython",
    "version": 3
   },
   "file_extension": ".py",
   "mimetype": "text/x-python",
   "name": "python",
   "nbconvert_exporter": "python",
   "pygments_lexer": "ipython3",
   "version": "3.7.1"
  }
 },
 "nbformat": 4,
 "nbformat_minor": 2
}
