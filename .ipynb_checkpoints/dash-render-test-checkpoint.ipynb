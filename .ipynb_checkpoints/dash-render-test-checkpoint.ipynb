{
 "cells": [
  {
   "cell_type": "code",
   "execution_count": 108,
   "metadata": {},
   "outputs": [
    {
     "data": {
      "text/html": [
       "<div>\n",
       "  <iframe src=\"/app/endpoints/8458b851830b4bf0af48b66dd2a5f062/\" width=800 height=600 frameborder=\"0\"></iframe>\n",
       "  <hr/><a href=\"/app/endpoints/8458b851830b4bf0af48b66dd2a5f062/\" target=\"_new\">Open in new window</a> for /app/endpoints/8458b851830b4bf0af48b66dd2a5f062/\n",
       "</div>"
      ],
      "text/plain": [
       "<jupyter_plotly_dash.dash_wrapper.JupyterDash at 0x7f8d40d882e8>"
      ]
     },
     "execution_count": 108,
     "metadata": {},
     "output_type": "execute_result"
    }
   ],
   "source": [
    "from jupyter_plotly_dash import JupyterDash\n",
    "\n",
    "import dash\n",
    "import dash_core_components as dcc\n",
    "import dash_html_components as html\n",
    "from dash.dependencies import Input, Output\n",
    "import sqlite3\n",
    "import pandas as pd\n",
    "app = JupyterDash('SimpleExample')\n",
    "\n",
    "con = sqlite3.connect(\"tweets.sqlite\")\n",
    "df = pd.read_sql_query(\"SELECT * from tweet\", con)\n",
    "len_df = len(df)\n",
    "unique_list = df.nunique()\n",
    "\n",
    "df = df[df.index.isin(df.text.drop_duplicates(keep='last').index)].sort_values('retweet_likes', ascending=False)[:20]\n",
    "   \n",
    "\n",
    "app.layout = html.Div([\n",
    "    html.Div([\n",
    "        dcc.Dropdown(\n",
    "            id='dropdown-value',\n",
    "            options=[{'label': c, 'value': c} for c in list(range(20))],\n",
    "            value=0)\n",
    "    ], style={'width':'70%', 'display':'inline-block'}),\n",
    "    \n",
    "    html.Div([\n",
    "        html.Div(id='tweet_render', style={'width':'500px'})\n",
    "    ], className='row')\n",
    "])\n",
    "\n",
    "\n",
    "@app.callback(\n",
    "    dash.dependencies.Output('tweet_render', 'children'),\n",
    "    [dash.dependencies.Input('dropdown-value', 'value')])\n",
    "def callback_size(dropdown_value):\n",
    "\n",
    "#     print(df['id_user'][dropdown_value])\n",
    "    \n",
    "    user = df['id_user'].to_list()[dropdown_value]\n",
    "    tweet = df['tweet_id'].to_list()[dropdown_value]\n",
    "    tweets_list = []\n",
    "#     print(f\"https://twitframe.com/show?url=https://twitter.com/{df['id_user'].to_list()[0]}/status/{df['tweet_id'].to_list()[0]}\")\n",
    "    for i in list(range(20)):\n",
    "        user = df['id_user'].to_list()[i]\n",
    "        tweet = df['tweet_id'].to_list()[i]\n",
    "        \n",
    "        tweets_list.append(html.Div([html.Iframe(src=f\"https://twitframe.com/show?url=https://twitter.com/{user}/status/{tweet}\", \n",
    "                                                 id='tweets', \n",
    "                                     style={'width':'500px', 'height':'100%', 'overflow':'hidden',\n",
    "                                            'position':'relative',\n",
    "                                            #'height':'100%',\n",
    "                                           'border':'0',\n",
    "                                           'frameborder':'0',\n",
    "                                           #'theme':'dark'\n",
    "                                           })]\n",
    "                                   ))\n",
    "    \n",
    "    return tweets_list\n",
    "\n",
    "# \n",
    "          \n",
    "# [html.Iframe(src=f\"https://twitframe.com/show?url=https://twitter.com/{user}/status/{tweet}\")]\n",
    "\n",
    "                        \n",
    "app "
   ]
  },
  {
   "cell_type": "code",
   "execution_count": 20,
   "metadata": {},
   "outputs": [
    {
     "data": {
      "text/plain": [
       "'1242235697064480770'"
      ]
     },
     "execution_count": 20,
     "metadata": {},
     "output_type": "execute_result"
    }
   ],
   "source": [
    "df['id_user'].to_list()[0]"
   ]
  },
  {
   "cell_type": "code",
   "execution_count": 38,
   "metadata": {},
   "outputs": [
    {
     "name": "stdout",
     "output_type": "stream",
     "text": [
      "https://twitframe.com/show?url=https://twitter.com/Santos_NOW/status/1242235697064480770\n"
     ]
    }
   ],
   "source": []
  },
  {
   "cell_type": "code",
   "execution_count": 30,
   "metadata": {},
   "outputs": [
    {
     "name": "stdout",
     "output_type": "stream",
     "text": [
      "0\n",
      "1\n",
      "2\n",
      "3\n",
      "4\n",
      "5\n",
      "6\n",
      "7\n",
      "8\n",
      "9\n",
      "10\n",
      "11\n",
      "12\n",
      "13\n",
      "14\n",
      "15\n",
      "16\n",
      "17\n",
      "18\n",
      "19\n"
     ]
    }
   ],
   "source": [
    "for i in list(range(20)):\n",
    "    print(i)"
   ]
  },
  {
   "cell_type": "code",
   "execution_count": null,
   "metadata": {},
   "outputs": [],
   "source": []
  },
  {
   "cell_type": "code",
   "execution_count": null,
   "metadata": {},
   "outputs": [],
   "source": []
  },
  {
   "cell_type": "code",
   "execution_count": 9,
   "metadata": {},
   "outputs": [
    {
     "data": {
      "text/html": [
       "<div>\n",
       "  <iframe src=\"/app/endpoints/14415b3b16df4eb185353e661d5e5fdd/\" width=800 height=600 frameborder=\"0\"></iframe>\n",
       "  <hr/><a href=\"/app/endpoints/14415b3b16df4eb185353e661d5e5fdd/\" target=\"_new\">Open in new window</a> for /app/endpoints/14415b3b16df4eb185353e661d5e5fdd/\n",
       "</div>"
      ],
      "text/plain": [
       "<jupyter_plotly_dash.dash_wrapper.JupyterDash at 0x7f40c45d2400>"
      ]
     },
     "execution_count": 9,
     "metadata": {},
     "output_type": "execute_result"
    }
   ],
   "source": [
    "from jupyter_plotly_dash import JupyterDash\n",
    "\n",
    "from datetime import datetime as dt\n",
    "import dash\n",
    "import dash_html_components as html\n",
    "import dash_core_components as dcc\n",
    "\n",
    "external_stylesheets = ['https://codepen.io/chriddyp/pen/bWLwgP.css']\n",
    "\n",
    "app = JupyterDash('SimpleExample')\n",
    "\n",
    "app.layout = html.Div([\n",
    "    dcc.DatePickerRange(\n",
    "        id='my-date-picker-range',\n",
    "        min_date_allowed=dt(1995, 8, 5),\n",
    "        max_date_allowed=dt(2017, 9, 19),\n",
    "        initial_visible_month=dt(2017, 8, 5),\n",
    "        end_date=dt(2017, 8, 25).date(),\n",
    "        display_format='D-M-Y'\n",
    "    ),\n",
    "    html.Div(id='output-container-date-picker-range')\n",
    "])\n",
    "\n",
    "\n",
    "@app.callback(\n",
    "    dash.dependencies.Output('output-container-date-picker-range', 'children'),\n",
    "    [dash.dependencies.Input('my-date-picker-range', 'start_date'),\n",
    "     dash.dependencies.Input('my-date-picker-range', 'end_date')])\n",
    "def update_output(start_date, end_date):\n",
    "    string_prefix = 'You have selected: '\n",
    "    if start_date is not None:\n",
    "        start_date = dt.strptime(start_date.split('T')[0], '%Y-%m-%d')\n",
    "        start_date_string = start_date.strftime('%D-%M-%Y')\n",
    "        string_prefix = string_prefix + 'Start Date: ' + start_date_string + ' | '\n",
    "    if end_date is not None:\n",
    "        end_date = dt.strptime(end_date.split('T')[0], '%Y-%m-%d')\n",
    "        end_date_string = end_date.strftime('%D-%M-%YY')\n",
    "        string_prefix = string_prefix + 'End Date: ' + end_date_string\n",
    "    if len(string_prefix) == len('You have selected: '):\n",
    "        return 'Select a date to see it displayed here'\n",
    "    else:\n",
    "        return string_prefix\n",
    "\n",
    "\n",
    "app"
   ]
  },
  {
   "cell_type": "code",
   "execution_count": null,
   "metadata": {},
   "outputs": [],
   "source": []
  },
  {
   "cell_type": "code",
   "execution_count": null,
   "metadata": {},
   "outputs": [],
   "source": []
  },
  {
   "cell_type": "code",
   "execution_count": 2,
   "metadata": {},
   "outputs": [],
   "source": [
    "import pandas as pd\n",
    "import numpy as np"
   ]
  },
  {
   "cell_type": "code",
   "execution_count": 87,
   "metadata": {},
   "outputs": [],
   "source": [
    "df = pd.DataFrame({'project_name':['proj1', 'proj2', 'proj3', 'proj4'],\n",
    "                   'StartDate': ['01/05/2015', '15/08/2016', '23/05/2016', '12/10/2017'], \n",
    "                   'FinalDate': ['7/12/2016', '23/5/2017', '12/2/2017', '23/4/2018'],\n",
    "                   'Region': ['regions0', 'regions7', 'regions2', 'regions12']})\n",
    "\n",
    "df.to_csv('Upwork1-Noah-APP/data_simulation.csv')\n"
   ]
  },
  {
   "cell_type": "code",
   "execution_count": 88,
   "metadata": {},
   "outputs": [
    {
     "data": {
      "text/plain": [
       "0   2015-01-05\n",
       "1   2016-08-15\n",
       "2   2016-05-23\n",
       "3   2017-12-10\n",
       "Name: StartDate, dtype: datetime64[ns]"
      ]
     },
     "execution_count": 88,
     "metadata": {},
     "output_type": "execute_result"
    }
   ],
   "source": [
    "pd.to_datetime(df['StartDate'])"
   ]
  },
  {
   "cell_type": "code",
   "execution_count": 3,
   "metadata": {},
   "outputs": [
    {
     "name": "stdout",
     "output_type": "stream",
     "text": [
      "bla\n"
     ]
    }
   ],
   "source": [
    "if None in [1, 5, None]:\n",
    "    print('bla')\n",
    "else:\n",
    "    print('not none')"
   ]
  },
  {
   "cell_type": "code",
   "execution_count": 89,
   "metadata": {},
   "outputs": [
    {
     "ename": "AttributeError",
     "evalue": "'Series' object has no attribute 'strftime'",
     "output_type": "error",
     "traceback": [
      "\u001b[0;31m---------------------------------------------------------------------------\u001b[0m",
      "\u001b[0;31mAttributeError\u001b[0m                            Traceback (most recent call last)",
      "\u001b[0;32m<ipython-input-89-8ee186b4214b>\u001b[0m in \u001b[0;36m<module>\u001b[0;34m\u001b[0m\n\u001b[0;32m----> 1\u001b[0;31m \u001b[0mdf\u001b[0m\u001b[0;34m[\u001b[0m\u001b[0;34m'StartDate'\u001b[0m\u001b[0;34m]\u001b[0m\u001b[0;34m.\u001b[0m\u001b[0mstrftime\u001b[0m\u001b[0;34m(\u001b[0m\u001b[0;34m'%Y-%m-%d'\u001b[0m\u001b[0;34m)\u001b[0m\u001b[0;34m\u001b[0m\u001b[0;34m\u001b[0m\u001b[0m\n\u001b[0m",
      "\u001b[0;32m~/anaconda3/envs/tf_gpu2/lib/python3.7/site-packages/pandas/core/generic.py\u001b[0m in \u001b[0;36m__getattr__\u001b[0;34m(self, name)\u001b[0m\n\u001b[1;32m   5178\u001b[0m             \u001b[0;32mif\u001b[0m \u001b[0mself\u001b[0m\u001b[0;34m.\u001b[0m\u001b[0m_info_axis\u001b[0m\u001b[0;34m.\u001b[0m\u001b[0m_can_hold_identifiers_and_holds_name\u001b[0m\u001b[0;34m(\u001b[0m\u001b[0mname\u001b[0m\u001b[0;34m)\u001b[0m\u001b[0;34m:\u001b[0m\u001b[0;34m\u001b[0m\u001b[0;34m\u001b[0m\u001b[0m\n\u001b[1;32m   5179\u001b[0m                 \u001b[0;32mreturn\u001b[0m \u001b[0mself\u001b[0m\u001b[0;34m[\u001b[0m\u001b[0mname\u001b[0m\u001b[0;34m]\u001b[0m\u001b[0;34m\u001b[0m\u001b[0;34m\u001b[0m\u001b[0m\n\u001b[0;32m-> 5180\u001b[0;31m             \u001b[0;32mreturn\u001b[0m \u001b[0mobject\u001b[0m\u001b[0;34m.\u001b[0m\u001b[0m__getattribute__\u001b[0m\u001b[0;34m(\u001b[0m\u001b[0mself\u001b[0m\u001b[0;34m,\u001b[0m \u001b[0mname\u001b[0m\u001b[0;34m)\u001b[0m\u001b[0;34m\u001b[0m\u001b[0;34m\u001b[0m\u001b[0m\n\u001b[0m\u001b[1;32m   5181\u001b[0m \u001b[0;34m\u001b[0m\u001b[0m\n\u001b[1;32m   5182\u001b[0m     \u001b[0;32mdef\u001b[0m \u001b[0m__setattr__\u001b[0m\u001b[0;34m(\u001b[0m\u001b[0mself\u001b[0m\u001b[0;34m,\u001b[0m \u001b[0mname\u001b[0m\u001b[0;34m,\u001b[0m \u001b[0mvalue\u001b[0m\u001b[0;34m)\u001b[0m\u001b[0;34m:\u001b[0m\u001b[0;34m\u001b[0m\u001b[0;34m\u001b[0m\u001b[0m\n",
      "\u001b[0;31mAttributeError\u001b[0m: 'Series' object has no attribute 'strftime'"
     ]
    }
   ],
   "source": [
    "df['StartDate'].strftime('%Y-%m-%d')"
   ]
  },
  {
   "cell_type": "code",
   "execution_count": 42,
   "metadata": {},
   "outputs": [
    {
     "data": {
      "text/plain": [
       "array(['proj1', 'proj2', 'proj3', 'proj4'], dtype=object)"
      ]
     },
     "execution_count": 42,
     "metadata": {},
     "output_type": "execute_result"
    }
   ],
   "source": [
    "df['project_name'].values"
   ]
  },
  {
   "cell_type": "code",
   "execution_count": 43,
   "metadata": {},
   "outputs": [],
   "source": [
    "regions = ['regions0', 'regions1', 'regions2', 'regions3', 'regions4',\n",
    "           'regions5', 'regions6', 'regions7', 'regions8', 'regions9',\n",
    "           'regions10', 'regions11', 'regions12', 'regions13', 'regions14',\n",
    "           'regions15', 'regions16', 'regions17', 'regions18', 'regions19']"
   ]
  },
  {
   "cell_type": "code",
   "execution_count": 44,
   "metadata": {},
   "outputs": [
    {
     "data": {
      "text/html": [
       "<div>\n",
       "<style scoped>\n",
       "    .dataframe tbody tr th:only-of-type {\n",
       "        vertical-align: middle;\n",
       "    }\n",
       "\n",
       "    .dataframe tbody tr th {\n",
       "        vertical-align: top;\n",
       "    }\n",
       "\n",
       "    .dataframe thead th {\n",
       "        text-align: right;\n",
       "    }\n",
       "</style>\n",
       "<table border=\"1\" class=\"dataframe\">\n",
       "  <thead>\n",
       "    <tr style=\"text-align: right;\">\n",
       "      <th></th>\n",
       "      <th>project_name</th>\n",
       "      <th>StartDate</th>\n",
       "      <th>FinalDate</th>\n",
       "      <th>Region</th>\n",
       "    </tr>\n",
       "  </thead>\n",
       "  <tbody>\n",
       "    <tr>\n",
       "      <th>0</th>\n",
       "      <td>proj1</td>\n",
       "      <td>01/05/2015</td>\n",
       "      <td>7/12/2016</td>\n",
       "      <td>regions0</td>\n",
       "    </tr>\n",
       "    <tr>\n",
       "      <th>1</th>\n",
       "      <td>proj2</td>\n",
       "      <td>15/08/2016</td>\n",
       "      <td>23/5/2017</td>\n",
       "      <td>regions7</td>\n",
       "    </tr>\n",
       "    <tr>\n",
       "      <th>2</th>\n",
       "      <td>proj3</td>\n",
       "      <td>23/05/2016</td>\n",
       "      <td>12/2/2017</td>\n",
       "      <td>regions2</td>\n",
       "    </tr>\n",
       "    <tr>\n",
       "      <th>3</th>\n",
       "      <td>proj4</td>\n",
       "      <td>12/10/2017</td>\n",
       "      <td>23/4/2018</td>\n",
       "      <td>regions12</td>\n",
       "    </tr>\n",
       "  </tbody>\n",
       "</table>\n",
       "</div>"
      ],
      "text/plain": [
       "  project_name   StartDate  FinalDate     Region\n",
       "0        proj1  01/05/2015  7/12/2016   regions0\n",
       "1        proj2  15/08/2016  23/5/2017   regions7\n",
       "2        proj3  23/05/2016  12/2/2017   regions2\n",
       "3        proj4  12/10/2017  23/4/2018  regions12"
      ]
     },
     "execution_count": 44,
     "metadata": {},
     "output_type": "execute_result"
    }
   ],
   "source": [
    "df"
   ]
  },
  {
   "cell_type": "code",
   "execution_count": 45,
   "metadata": {},
   "outputs": [],
   "source": [
    "regions = ['regions0', 'regions1', 'regions2', 'regions3', 'regions4',\n",
    "           'regions5', 'regions6', 'regions7', 'regions8', 'regions9',\n",
    "           'regions10', 'regions11', 'regions12', 'regions13', 'regions14',\n",
    "           'regions15', 'regions16', 'regions17', 'regions18', 'regions19']"
   ]
  },
  {
   "cell_type": "code",
   "execution_count": 46,
   "metadata": {},
   "outputs": [],
   "source": [
    "regions = []\n",
    "for i in range(20):\n",
    "    regions.append(f\"regions{i}\")"
   ]
  },
  {
   "cell_type": "code",
   "execution_count": 47,
   "metadata": {},
   "outputs": [
    {
     "data": {
      "text/plain": [
       "array(['regions0', 'regions1', 'regions2', 'regions3', 'regions4',\n",
       "       'regions5', 'regions6', 'regions7', 'regions8', 'regions9',\n",
       "       'regions10', 'regions11', 'regions12', 'regions13', 'regions14',\n",
       "       'regions15', 'regions16', 'regions17', 'regions18', 'regions19'],\n",
       "      dtype='<U9')"
      ]
     },
     "execution_count": 47,
     "metadata": {},
     "output_type": "execute_result"
    }
   ],
   "source": [
    "np.array(regions\n",
    ")"
   ]
  },
  {
   "cell_type": "code",
   "execution_count": 48,
   "metadata": {},
   "outputs": [],
   "source": [
    "import datetime"
   ]
  },
  {
   "cell_type": "code",
   "execution_count": 49,
   "metadata": {},
   "outputs": [
    {
     "data": {
      "text/plain": [
       "'2020-03-22'"
      ]
     },
     "execution_count": 49,
     "metadata": {},
     "output_type": "execute_result"
    }
   ],
   "source": [
    "from datetime import datetime\n",
    "\n",
    "datetime.today().strftime('%Y-%m-%d')"
   ]
  },
  {
   "cell_type": "code",
   "execution_count": 50,
   "metadata": {},
   "outputs": [
    {
     "data": {
      "text/html": [
       "<div>\n",
       "<style scoped>\n",
       "    .dataframe tbody tr th:only-of-type {\n",
       "        vertical-align: middle;\n",
       "    }\n",
       "\n",
       "    .dataframe tbody tr th {\n",
       "        vertical-align: top;\n",
       "    }\n",
       "\n",
       "    .dataframe thead th {\n",
       "        text-align: right;\n",
       "    }\n",
       "</style>\n",
       "<table border=\"1\" class=\"dataframe\">\n",
       "  <thead>\n",
       "    <tr style=\"text-align: right;\">\n",
       "      <th></th>\n",
       "      <th>project_name</th>\n",
       "      <th>StartDate</th>\n",
       "      <th>FinalDate</th>\n",
       "      <th>Region</th>\n",
       "    </tr>\n",
       "  </thead>\n",
       "  <tbody>\n",
       "    <tr>\n",
       "      <th>0</th>\n",
       "      <td>proj1</td>\n",
       "      <td>01/05/2015</td>\n",
       "      <td>7/12/2016</td>\n",
       "      <td>regions0</td>\n",
       "    </tr>\n",
       "    <tr>\n",
       "      <th>1</th>\n",
       "      <td>proj2</td>\n",
       "      <td>15/08/2016</td>\n",
       "      <td>23/5/2017</td>\n",
       "      <td>regions7</td>\n",
       "    </tr>\n",
       "    <tr>\n",
       "      <th>2</th>\n",
       "      <td>proj3</td>\n",
       "      <td>23/05/2016</td>\n",
       "      <td>12/2/2017</td>\n",
       "      <td>regions2</td>\n",
       "    </tr>\n",
       "    <tr>\n",
       "      <th>3</th>\n",
       "      <td>proj4</td>\n",
       "      <td>12/10/2017</td>\n",
       "      <td>23/4/2018</td>\n",
       "      <td>regions12</td>\n",
       "    </tr>\n",
       "  </tbody>\n",
       "</table>\n",
       "</div>"
      ],
      "text/plain": [
       "  project_name   StartDate  FinalDate     Region\n",
       "0        proj1  01/05/2015  7/12/2016   regions0\n",
       "1        proj2  15/08/2016  23/5/2017   regions7\n",
       "2        proj3  23/05/2016  12/2/2017   regions2\n",
       "3        proj4  12/10/2017  23/4/2018  regions12"
      ]
     },
     "execution_count": 50,
     "metadata": {},
     "output_type": "execute_result"
    }
   ],
   "source": [
    "df\n",
    "\n",
    "\n",
    "\n"
   ]
  },
  {
   "cell_type": "code",
   "execution_count": 91,
   "metadata": {},
   "outputs": [],
   "source": [
    "df['StartDate'] = pd.to_datetime(df['StartDate'])\n",
    "df['FinalDate'] = pd.to_datetime(df['FinalDate'])\n",
    "df['diff'] = (date_final - date_start)"
   ]
  },
  {
   "cell_type": "code",
   "execution_count": 71,
   "metadata": {},
   "outputs": [
    {
     "data": {
      "text/plain": [
       "0   554 days\n",
       "1   281 days\n",
       "2   558 days\n",
       "3   134 days\n",
       "dtype: timedelta64[ns]"
      ]
     },
     "execution_count": 71,
     "metadata": {},
     "output_type": "execute_result"
    }
   ],
   "source": [
    "days_diff"
   ]
  },
  {
   "cell_type": "code",
   "execution_count": 72,
   "metadata": {},
   "outputs": [
    {
     "data": {
      "text/plain": [
       "9"
      ]
     },
     "execution_count": 72,
     "metadata": {},
     "output_type": "execute_result"
    }
   ],
   "source": [
    "len(pd.date_range(start=date_start[1],\n",
    "                  end=date_final[1], freq='M'))"
   ]
  },
  {
   "cell_type": "code",
   "execution_count": 73,
   "metadata": {},
   "outputs": [
    {
     "data": {
      "text/plain": [
       "0    6\n",
       "1   -3\n",
       "2    7\n",
       "3   -8\n",
       "dtype: int64"
      ]
     },
     "execution_count": 73,
     "metadata": {},
     "output_type": "execute_result"
    }
   ],
   "source": [
    "date_final.dt.month - date_start.dt.month"
   ]
  },
  {
   "cell_type": "code",
   "execution_count": null,
   "metadata": {},
   "outputs": [],
   "source": []
  },
  {
   "cell_type": "code",
   "execution_count": 74,
   "metadata": {},
   "outputs": [
    {
     "data": {
      "text/plain": [
       "0     7\n",
       "1     5\n",
       "2    12\n",
       "3     4\n",
       "Name: FinalDate, dtype: int64"
      ]
     },
     "execution_count": 74,
     "metadata": {},
     "output_type": "execute_result"
    }
   ],
   "source": [
    "date_final.dt.month "
   ]
  },
  {
   "cell_type": "code",
   "execution_count": 75,
   "metadata": {},
   "outputs": [],
   "source": [
    "df['diff'] = ((date_final - date_start) / np.timedelta64(1, 'M'))\n",
    "df['diff'] = df['diff'].astype(int)"
   ]
  },
  {
   "cell_type": "code",
   "execution_count": 76,
   "metadata": {},
   "outputs": [
    {
     "data": {
      "text/html": [
       "<div>\n",
       "<style scoped>\n",
       "    .dataframe tbody tr th:only-of-type {\n",
       "        vertical-align: middle;\n",
       "    }\n",
       "\n",
       "    .dataframe tbody tr th {\n",
       "        vertical-align: top;\n",
       "    }\n",
       "\n",
       "    .dataframe thead th {\n",
       "        text-align: right;\n",
       "    }\n",
       "</style>\n",
       "<table border=\"1\" class=\"dataframe\">\n",
       "  <thead>\n",
       "    <tr style=\"text-align: right;\">\n",
       "      <th></th>\n",
       "      <th>project_name</th>\n",
       "      <th>StartDate</th>\n",
       "      <th>FinalDate</th>\n",
       "      <th>Region</th>\n",
       "      <th>diff</th>\n",
       "    </tr>\n",
       "  </thead>\n",
       "  <tbody>\n",
       "    <tr>\n",
       "      <th>0</th>\n",
       "      <td>proj1</td>\n",
       "      <td>2015-01-05</td>\n",
       "      <td>2016-07-12</td>\n",
       "      <td>regions0</td>\n",
       "      <td>18</td>\n",
       "    </tr>\n",
       "    <tr>\n",
       "      <th>1</th>\n",
       "      <td>proj2</td>\n",
       "      <td>2016-08-15</td>\n",
       "      <td>2017-05-23</td>\n",
       "      <td>regions7</td>\n",
       "      <td>9</td>\n",
       "    </tr>\n",
       "    <tr>\n",
       "      <th>2</th>\n",
       "      <td>proj3</td>\n",
       "      <td>2016-05-23</td>\n",
       "      <td>2017-12-02</td>\n",
       "      <td>regions2</td>\n",
       "      <td>18</td>\n",
       "    </tr>\n",
       "    <tr>\n",
       "      <th>3</th>\n",
       "      <td>proj4</td>\n",
       "      <td>2017-12-10</td>\n",
       "      <td>2018-04-23</td>\n",
       "      <td>regions12</td>\n",
       "      <td>4</td>\n",
       "    </tr>\n",
       "  </tbody>\n",
       "</table>\n",
       "</div>"
      ],
      "text/plain": [
       "  project_name  StartDate  FinalDate     Region  diff\n",
       "0        proj1 2015-01-05 2016-07-12   regions0    18\n",
       "1        proj2 2016-08-15 2017-05-23   regions7     9\n",
       "2        proj3 2016-05-23 2017-12-02   regions2    18\n",
       "3        proj4 2017-12-10 2018-04-23  regions12     4"
      ]
     },
     "execution_count": 76,
     "metadata": {},
     "output_type": "execute_result"
    }
   ],
   "source": [
    "df"
   ]
  },
  {
   "cell_type": "code",
   "execution_count": null,
   "metadata": {},
   "outputs": [],
   "source": []
  },
  {
   "cell_type": "code",
   "execution_count": 77,
   "metadata": {},
   "outputs": [
    {
     "data": {
      "text/plain": [
       "0    2015-01-05\n",
       "Name: StartDate, dtype: object"
      ]
     },
     "execution_count": 77,
     "metadata": {},
     "output_type": "execute_result"
    }
   ],
   "source": [
    "df[df['project_name'] == 'proj1']['StartDate'].astype(str)"
   ]
  },
  {
   "cell_type": "code",
   "execution_count": 92,
   "metadata": {},
   "outputs": [
    {
     "data": {
      "text/plain": [
       "'2015-01-05'"
      ]
     },
     "execution_count": 92,
     "metadata": {},
     "output_type": "execute_result"
    }
   ],
   "source": [
    "df['StartDate'][0].strftime('%Y-%m-%d')"
   ]
  },
  {
   "cell_type": "code",
   "execution_count": 95,
   "metadata": {},
   "outputs": [],
   "source": [
    "mask = df[\"project_name\"] == 'proj1'\n",
    "\n",
    "\n",
    "df['StartDate'] = pd.to_datetime(df['StartDate'])\n",
    "df['FinalDate'] = pd.to_datetime(df['FinalDate'])\n",
    "\n",
    "df['diff'] = ((df['FinalDate'] - df['StartDate']) / np.timedelta64(1, 'M'))\n",
    "df['diff'] = df['diff'].astype(int)\n",
    "\n",
    "\n"
   ]
  },
  {
   "cell_type": "code",
   "execution_count": 99,
   "metadata": {},
   "outputs": [
    {
     "data": {
      "text/plain": [
       "(array(['proj1'], dtype=object), '2015-01-05', 0    18\n",
       " Name: diff, dtype: int64, '2016-07-12')"
      ]
     },
     "execution_count": 99,
     "metadata": {},
     "output_type": "execute_result"
    }
   ],
   "source": [
    "df[mask]['project_name'].values, df[mask]['StartDate'][0].strftime('%Y-%m-%d'), df[mask]['diff'], df[mask]['FinalDate'][0].strftime('%Y-%m-%d')"
   ]
  },
  {
   "cell_type": "code",
   "execution_count": 111,
   "metadata": {},
   "outputs": [],
   "source": [
    "final = df[mask].to_dict('row')[0]"
   ]
  },
  {
   "cell_type": "code",
   "execution_count": 112,
   "metadata": {},
   "outputs": [
    {
     "data": {
      "text/plain": [
       "'proj1'"
      ]
     },
     "execution_count": 112,
     "metadata": {},
     "output_type": "execute_result"
    }
   ],
   "source": [
    "final['project_name']"
   ]
  },
  {
   "cell_type": "code",
   "execution_count": 121,
   "metadata": {},
   "outputs": [
    {
     "data": {
      "text/plain": [
       "'2015-01-05'"
      ]
     },
     "execution_count": 121,
     "metadata": {},
     "output_type": "execute_result"
    }
   ],
   "source": [
    "final['StartDate'].strftime('%Y-%m-%d')"
   ]
  },
  {
   "cell_type": "code",
   "execution_count": null,
   "metadata": {},
   "outputs": [],
   "source": [
    "final['StartDate'].date.year"
   ]
  },
  {
   "cell_type": "code",
   "execution_count": null,
   "metadata": {},
   "outputs": [],
   "source": []
  }
 ],
 "metadata": {
  "kernelspec": {
   "display_name": "tf-gpu-2.0",
   "language": "python",
   "name": "tf_gpu2"
  },
  "language_info": {
   "codemirror_mode": {
    "name": "ipython",
    "version": 3
   },
   "file_extension": ".py",
   "mimetype": "text/x-python",
   "name": "python",
   "nbconvert_exporter": "python",
   "pygments_lexer": "ipython3",
   "version": "3.7.1"
  }
 },
 "nbformat": 4,
 "nbformat_minor": 2
}
