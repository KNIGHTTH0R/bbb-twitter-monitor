{
 "cells": [
  {
   "cell_type": "code",
   "execution_count": 49,
   "metadata": {},
   "outputs": [],
   "source": [
    "import pandas as pd\n",
    "import sqlite3\n",
    "import string\n",
    "import re\n",
    "import pt_core_news_sm\n",
    "from spacy import displacy\n",
    "import plotly_express as px\n",
    "# Read sqlite query results into a pandas DataFrame"
   ]
  },
  {
   "cell_type": "code",
   "execution_count": 3,
   "metadata": {},
   "outputs": [],
   "source": [
    "test = pd.DataFrame(data=[], columns=['created_at', 'index'])"
   ]
  },
  {
   "cell_type": "code",
   "execution_count": 50,
   "metadata": {},
   "outputs": [],
   "source": [
    "con = sqlite3.connect(\"tweets.sqlite\")\n",
    "df = pd.read_sql_query(\"SELECT * from tweet\", con)"
   ]
  },
  {
   "cell_type": "code",
   "execution_count": 51,
   "metadata": {},
   "outputs": [
    {
     "data": {
      "text/plain": [
       "index                 1\n",
       "created_at           51\n",
       "text                459\n",
       "verified              2\n",
       "retweeted             1\n",
       "location            374\n",
       "retweeted_counts    285\n",
       "likes_counts        336\n",
       "reply_counts        108\n",
       "lang                  8\n",
       "id_user             837\n",
       "orig_tweet_user     253\n",
       "orig_tweet_id       304\n",
       "dtype: int64"
      ]
     },
     "execution_count": 51,
     "metadata": {},
     "output_type": "execute_result"
    }
   ],
   "source": [
    "df.nunique()"
   ]
  },
  {
   "cell_type": "code",
   "execution_count": 47,
   "metadata": {
    "scrolled": true
   },
   "outputs": [
    {
     "data": {
      "text/plain": [
       "bbb                83\n",
       "itolindoo          37\n",
       "Dantinhas          26\n",
       "srtalycia_         24\n",
       "gizellybicalho_    22\n",
       "Itspedrito         22\n",
       "portalprior        20\n",
       "ZAMENZA            19\n",
       "VemBigBrother      18\n",
       "RibSte             16\n",
       "LwithP             16\n",
       "smgrarw            15\n",
       "ntvnasredes        15\n",
       "vaidesmaiar        14\n",
       "HugoGloss          14\n",
       "thelminha_assis    13\n",
       "cmilasphile        12\n",
       "rodzeiro           12\n",
       "ManuGavassiInfo    11\n",
       "laneeoficial       11\n",
       "Name: orig_tweet_user, dtype: int64"
      ]
     },
     "execution_count": 47,
     "metadata": {},
     "output_type": "execute_result"
    }
   ],
   "source": [
    "df.drop_duplicates('text', keep='last').orig_tweet_user.value_counts()[:20]"
   ]
  },
  {
   "cell_type": "code",
   "execution_count": 48,
   "metadata": {},
   "outputs": [
    {
     "data": {
      "text/html": [
       "<div>\n",
       "<style scoped>\n",
       "    .dataframe tbody tr th:only-of-type {\n",
       "        vertical-align: middle;\n",
       "    }\n",
       "\n",
       "    .dataframe tbody tr th {\n",
       "        vertical-align: top;\n",
       "    }\n",
       "\n",
       "    .dataframe thead th {\n",
       "        text-align: right;\n",
       "    }\n",
       "</style>\n",
       "<table border=\"1\" class=\"dataframe\">\n",
       "  <thead>\n",
       "    <tr style=\"text-align: right;\">\n",
       "      <th></th>\n",
       "      <th>index</th>\n",
       "      <th>created_at</th>\n",
       "      <th>text</th>\n",
       "      <th>verified</th>\n",
       "      <th>retweeted</th>\n",
       "      <th>location</th>\n",
       "      <th>retweeted_counts</th>\n",
       "      <th>likes_counts</th>\n",
       "      <th>reply_counts</th>\n",
       "      <th>lang</th>\n",
       "      <th>id_user</th>\n",
       "      <th>orig_tweet_user</th>\n",
       "    </tr>\n",
       "  </thead>\n",
       "  <tbody>\n",
       "    <tr>\n",
       "      <th>10475</th>\n",
       "      <td>0</td>\n",
       "      <td>2020-03-11 15:22:24.000000</td>\n",
       "      <td>I'm sorry, the old Manu can't come to the phon...</td>\n",
       "      <td>0</td>\n",
       "      <td>0</td>\n",
       "      <td>ㅤ .⃗ ˙˖ ❍ ˒ 솝 ⭑ 彼氏 !! ‹3 ، ୭̥</td>\n",
       "      <td>1972</td>\n",
       "      <td>13198</td>\n",
       "      <td>310</td>\n",
       "      <td>pt</td>\n",
       "      <td>yoonieprince</td>\n",
       "      <td>bbb</td>\n",
       "    </tr>\n",
       "    <tr>\n",
       "      <th>20012</th>\n",
       "      <td>0</td>\n",
       "      <td>2020-03-11 15:31:23.000000</td>\n",
       "      <td>Thelma defende Babu para brothers: \"Eu acho qu...</td>\n",
       "      <td>0</td>\n",
       "      <td>0</td>\n",
       "      <td>None</td>\n",
       "      <td>1580</td>\n",
       "      <td>17639</td>\n",
       "      <td>328</td>\n",
       "      <td>pt</td>\n",
       "      <td>mycsminah</td>\n",
       "      <td>bbb</td>\n",
       "    </tr>\n",
       "    <tr>\n",
       "      <th>20391</th>\n",
       "      <td>0</td>\n",
       "      <td>2020-03-11 15:31:44.000000</td>\n",
       "      <td>Depois da saída de Victor Hugo, Babu chorou ba...</td>\n",
       "      <td>0</td>\n",
       "      <td>0</td>\n",
       "      <td>Recife, PE</td>\n",
       "      <td>1175</td>\n",
       "      <td>17678</td>\n",
       "      <td>226</td>\n",
       "      <td>pt</td>\n",
       "      <td>rayhsoliveira</td>\n",
       "      <td>bbb</td>\n",
       "    </tr>\n",
       "    <tr>\n",
       "      <th>6063</th>\n",
       "      <td>0</td>\n",
       "      <td>2020-03-11 15:18:11.000000</td>\n",
       "      <td>Victor Hugo: 'Estou louco para que chegue logo...</td>\n",
       "      <td>0</td>\n",
       "      <td>0</td>\n",
       "      <td>None</td>\n",
       "      <td>853</td>\n",
       "      <td>14021</td>\n",
       "      <td>2265</td>\n",
       "      <td>pt</td>\n",
       "      <td>brumaleasy</td>\n",
       "      <td>bbb</td>\n",
       "    </tr>\n",
       "    <tr>\n",
       "      <th>17551</th>\n",
       "      <td>0</td>\n",
       "      <td>2020-03-11 15:29:06.000000</td>\n",
       "      <td>Felipe revela opções de voto caso seja Líder: ...</td>\n",
       "      <td>0</td>\n",
       "      <td>0</td>\n",
       "      <td>Niterói, Brasil</td>\n",
       "      <td>565</td>\n",
       "      <td>12598</td>\n",
       "      <td>1106</td>\n",
       "      <td>pt</td>\n",
       "      <td>LucianoLGomes1</td>\n",
       "      <td>bbb</td>\n",
       "    </tr>\n",
       "    <tr>\n",
       "      <th>20169</th>\n",
       "      <td>0</td>\n",
       "      <td>2020-03-11 15:31:32.000000</td>\n",
       "      <td>Daniel chora e se explica para Marcela:\\n\\nDan...</td>\n",
       "      <td>0</td>\n",
       "      <td>0</td>\n",
       "      <td>Belém - Pará</td>\n",
       "      <td>429</td>\n",
       "      <td>5584</td>\n",
       "      <td>974</td>\n",
       "      <td>pt</td>\n",
       "      <td>_aphonsodeleon</td>\n",
       "      <td>bbb</td>\n",
       "    </tr>\n",
       "    <tr>\n",
       "      <th>18875</th>\n",
       "      <td>0</td>\n",
       "      <td>2020-03-11 15:30:18.000000</td>\n",
       "      <td>Manu: \"Fiquei muito feliz que eu pedi desculpa...</td>\n",
       "      <td>0</td>\n",
       "      <td>0</td>\n",
       "      <td>São Gonçalo, Brasil</td>\n",
       "      <td>335</td>\n",
       "      <td>6231</td>\n",
       "      <td>103</td>\n",
       "      <td>pt</td>\n",
       "      <td>eukelvinsouza</td>\n",
       "      <td>bbb</td>\n",
       "    </tr>\n",
       "    <tr>\n",
       "      <th>16202</th>\n",
       "      <td>0</td>\n",
       "      <td>2020-03-11 15:27:49.000000</td>\n",
       "      <td>\"Meu nome é Manu Gavassi\\nfada sensata\\num tan...</td>\n",
       "      <td>0</td>\n",
       "      <td>0</td>\n",
       "      <td>São Gonçalo, Brasil</td>\n",
       "      <td>281</td>\n",
       "      <td>1550</td>\n",
       "      <td>72</td>\n",
       "      <td>pt</td>\n",
       "      <td>eukelvinsouza</td>\n",
       "      <td>bbb</td>\n",
       "    </tr>\n",
       "    <tr>\n",
       "      <th>20492</th>\n",
       "      <td>0</td>\n",
       "      <td>2020-03-11 15:31:49.000000</td>\n",
       "      <td>Babu desabafa sobre brothers: \"Essas pessoas n...</td>\n",
       "      <td>0</td>\n",
       "      <td>0</td>\n",
       "      <td>São Gonçalo, Brasil</td>\n",
       "      <td>279</td>\n",
       "      <td>3383</td>\n",
       "      <td>164</td>\n",
       "      <td>pt</td>\n",
       "      <td>eukelvinsouza</td>\n",
       "      <td>bbb</td>\n",
       "    </tr>\n",
       "    <tr>\n",
       "      <th>13202</th>\n",
       "      <td>0</td>\n",
       "      <td>2020-03-11 15:24:55.000000</td>\n",
       "      <td>Eu acho q não querem te ouvir pq td vc aprovei...</td>\n",
       "      <td>0</td>\n",
       "      <td>0</td>\n",
       "      <td>São Paulo</td>\n",
       "      <td>270</td>\n",
       "      <td>3268</td>\n",
       "      <td>164</td>\n",
       "      <td>pt</td>\n",
       "      <td>RosanaTD1</td>\n",
       "      <td>bbb</td>\n",
       "    </tr>\n",
       "    <tr>\n",
       "      <th>20320</th>\n",
       "      <td>0</td>\n",
       "      <td>2020-03-11 15:31:39.000000</td>\n",
       "      <td>Ué, mudou de ideia? 🤔 Felipe garante indicação...</td>\n",
       "      <td>0</td>\n",
       "      <td>0</td>\n",
       "      <td>None</td>\n",
       "      <td>253</td>\n",
       "      <td>4117</td>\n",
       "      <td>1203</td>\n",
       "      <td>pt</td>\n",
       "      <td>feehbjj</td>\n",
       "      <td>bbb</td>\n",
       "    </tr>\n",
       "    <tr>\n",
       "      <th>19056</th>\n",
       "      <td>0</td>\n",
       "      <td>2020-03-11 15:30:29.000000</td>\n",
       "      <td>Eliminado com 85,22% dos votos, Victor Hugo re...</td>\n",
       "      <td>0</td>\n",
       "      <td>0</td>\n",
       "      <td>São Gonçalo, Brasil</td>\n",
       "      <td>190</td>\n",
       "      <td>1482</td>\n",
       "      <td>248</td>\n",
       "      <td>pt</td>\n",
       "      <td>eukelvinsouza</td>\n",
       "      <td>bbb</td>\n",
       "    </tr>\n",
       "    <tr>\n",
       "      <th>19059</th>\n",
       "      <td>0</td>\n",
       "      <td>2020-03-11 15:30:29.000000</td>\n",
       "      <td>Victor Hugo acaba de ser eliminado do #BBB20 e...</td>\n",
       "      <td>0</td>\n",
       "      <td>0</td>\n",
       "      <td>São Gonçalo, Brasil</td>\n",
       "      <td>159</td>\n",
       "      <td>1170</td>\n",
       "      <td>170</td>\n",
       "      <td>pt</td>\n",
       "      <td>eukelvinsouza</td>\n",
       "      <td>bbb</td>\n",
       "    </tr>\n",
       "    <tr>\n",
       "      <th>16421</th>\n",
       "      <td>0</td>\n",
       "      <td>2020-03-11 15:28:01.000000</td>\n",
       "      <td>Thelma sobre Jogo da Discórdia: \"Pyong, eu não...</td>\n",
       "      <td>0</td>\n",
       "      <td>0</td>\n",
       "      <td>São Gonçalo, Brasil</td>\n",
       "      <td>140</td>\n",
       "      <td>1779</td>\n",
       "      <td>78</td>\n",
       "      <td>pt</td>\n",
       "      <td>eukelvinsouza</td>\n",
       "      <td>bbb</td>\n",
       "    </tr>\n",
       "    <tr>\n",
       "      <th>18424</th>\n",
       "      <td>0</td>\n",
       "      <td>2020-03-11 15:29:55.000000</td>\n",
       "      <td>Marcela sobre Gabi:\\n\\n\"Por exemplo, ela fala ...</td>\n",
       "      <td>0</td>\n",
       "      <td>0</td>\n",
       "      <td>São Gonçalo, Brasil</td>\n",
       "      <td>129</td>\n",
       "      <td>2445</td>\n",
       "      <td>356</td>\n",
       "      <td>pt</td>\n",
       "      <td>eukelvinsouza</td>\n",
       "      <td>bbb</td>\n",
       "    </tr>\n",
       "    <tr>\n",
       "      <th>17953</th>\n",
       "      <td>0</td>\n",
       "      <td>2020-03-11 15:29:27.000000</td>\n",
       "      <td>Os mimos da #RedeBBB para os emparedados de ho...</td>\n",
       "      <td>0</td>\n",
       "      <td>0</td>\n",
       "      <td>São Gonçalo, Brasil</td>\n",
       "      <td>125</td>\n",
       "      <td>2702</td>\n",
       "      <td>160</td>\n",
       "      <td>pt</td>\n",
       "      <td>eukelvinsouza</td>\n",
       "      <td>bbb</td>\n",
       "    </tr>\n",
       "    <tr>\n",
       "      <th>20545</th>\n",
       "      <td>0</td>\n",
       "      <td>2020-03-11 15:31:53.000000</td>\n",
       "      <td>Manu defende Daniel: 'O lance é saber pedir de...</td>\n",
       "      <td>0</td>\n",
       "      <td>0</td>\n",
       "      <td>São Paulo das Missões, Brasil</td>\n",
       "      <td>81</td>\n",
       "      <td>889</td>\n",
       "      <td>491</td>\n",
       "      <td>pt</td>\n",
       "      <td>marcela_fan</td>\n",
       "      <td>bbb</td>\n",
       "    </tr>\n",
       "    <tr>\n",
       "      <th>19428</th>\n",
       "      <td>0</td>\n",
       "      <td>2020-03-11 15:30:50.000000</td>\n",
       "      <td>Rafa questiona fim do namoro de Gabi e Guilher...</td>\n",
       "      <td>0</td>\n",
       "      <td>0</td>\n",
       "      <td>São Paulo, Brasil</td>\n",
       "      <td>80</td>\n",
       "      <td>2164</td>\n",
       "      <td>152</td>\n",
       "      <td>pt</td>\n",
       "      <td>angelseokxing</td>\n",
       "      <td>bbb</td>\n",
       "    </tr>\n",
       "    <tr>\n",
       "      <th>18154</th>\n",
       "      <td>0</td>\n",
       "      <td>2020-03-11 15:29:40.000000</td>\n",
       "      <td>A romantização do pedido de desculpa.\\nO pedid...</td>\n",
       "      <td>0</td>\n",
       "      <td>0</td>\n",
       "      <td>João Pessoa, Brasil</td>\n",
       "      <td>79</td>\n",
       "      <td>869</td>\n",
       "      <td>477</td>\n",
       "      <td>pt</td>\n",
       "      <td>jesyka_monteiro</td>\n",
       "      <td>bbb</td>\n",
       "    </tr>\n",
       "    <tr>\n",
       "      <th>18738</th>\n",
       "      <td>0</td>\n",
       "      <td>2020-03-11 15:30:12.000000</td>\n",
       "      <td>engraçado que com o babu que já pediu desculpa...</td>\n",
       "      <td>0</td>\n",
       "      <td>0</td>\n",
       "      <td>None</td>\n",
       "      <td>79</td>\n",
       "      <td>872</td>\n",
       "      <td>483</td>\n",
       "      <td>pt</td>\n",
       "      <td>myouikgs</td>\n",
       "      <td>bbb</td>\n",
       "    </tr>\n",
       "    <tr>\n",
       "      <th>16220</th>\n",
       "      <td>0</td>\n",
       "      <td>2020-03-11 15:27:50.000000</td>\n",
       "      <td>Engraçado né Manuela? A Bianca crucificaram el...</td>\n",
       "      <td>0</td>\n",
       "      <td>0</td>\n",
       "      <td>👄🐿🌟</td>\n",
       "      <td>77</td>\n",
       "      <td>853</td>\n",
       "      <td>470</td>\n",
       "      <td>pt</td>\n",
       "      <td>ycomentei</td>\n",
       "      <td>bbb</td>\n",
       "    </tr>\n",
       "    <tr>\n",
       "      <th>7931</th>\n",
       "      <td>0</td>\n",
       "      <td>2020-03-11 15:19:58.000000</td>\n",
       "      <td>Eu tentei de todas as formas não crítica essa ...</td>\n",
       "      <td>0</td>\n",
       "      <td>0</td>\n",
       "      <td>None</td>\n",
       "      <td>76</td>\n",
       "      <td>2144</td>\n",
       "      <td>152</td>\n",
       "      <td>pt</td>\n",
       "      <td>PraOpiniao</td>\n",
       "      <td>bbb</td>\n",
       "    </tr>\n",
       "    <tr>\n",
       "      <th>11668</th>\n",
       "      <td>0</td>\n",
       "      <td>2020-03-11 15:23:30.000000</td>\n",
       "      <td>Eu acho ridículo esse linchamento da internet....</td>\n",
       "      <td>0</td>\n",
       "      <td>0</td>\n",
       "      <td>None</td>\n",
       "      <td>72</td>\n",
       "      <td>798</td>\n",
       "      <td>453</td>\n",
       "      <td>pt</td>\n",
       "      <td>michelly13121</td>\n",
       "      <td>bbb</td>\n",
       "    </tr>\n",
       "    <tr>\n",
       "      <th>10708</th>\n",
       "      <td>0</td>\n",
       "      <td>2020-03-11 15:22:36.000000</td>\n",
       "      <td>Eu acho ridículo esse linchamento da internet....</td>\n",
       "      <td>0</td>\n",
       "      <td>0</td>\n",
       "      <td>Curitiba, Brasil</td>\n",
       "      <td>71</td>\n",
       "      <td>789</td>\n",
       "      <td>447</td>\n",
       "      <td>pt</td>\n",
       "      <td>leonardovdn</td>\n",
       "      <td>bbb</td>\n",
       "    </tr>\n",
       "    <tr>\n",
       "      <th>10211</th>\n",
       "      <td>0</td>\n",
       "      <td>2020-03-11 15:22:08.000000</td>\n",
       "      <td>prior pede desculpas, cagam pra ele\\nbabu pede...</td>\n",
       "      <td>0</td>\n",
       "      <td>0</td>\n",
       "      <td>pocam degran, rj</td>\n",
       "      <td>71</td>\n",
       "      <td>781</td>\n",
       "      <td>445</td>\n",
       "      <td>pt</td>\n",
       "      <td>lnffc</td>\n",
       "      <td>bbb</td>\n",
       "    </tr>\n",
       "    <tr>\n",
       "      <th>9332</th>\n",
       "      <td>0</td>\n",
       "      <td>2020-03-11 15:21:16.000000</td>\n",
       "      <td>quase caiu a boca dele pra pedir desculpas, aí...</td>\n",
       "      <td>0</td>\n",
       "      <td>0</td>\n",
       "      <td>None</td>\n",
       "      <td>71</td>\n",
       "      <td>768</td>\n",
       "      <td>439</td>\n",
       "      <td>pt</td>\n",
       "      <td>monispeak</td>\n",
       "      <td>bbb</td>\n",
       "    </tr>\n",
       "    <tr>\n",
       "      <th>7764</th>\n",
       "      <td>0</td>\n",
       "      <td>2020-03-11 15:19:48.000000</td>\n",
       "      <td>Menos se a desculpa vier da Bianca ou de um ca...</td>\n",
       "      <td>0</td>\n",
       "      <td>0</td>\n",
       "      <td>Home</td>\n",
       "      <td>68</td>\n",
       "      <td>748</td>\n",
       "      <td>436</td>\n",
       "      <td>pt</td>\n",
       "      <td>kookiecomilk</td>\n",
       "      <td>bbb</td>\n",
       "    </tr>\n",
       "    <tr>\n",
       "      <th>6136</th>\n",
       "      <td>0</td>\n",
       "      <td>2020-03-11 15:18:15.000000</td>\n",
       "      <td>devem ta atacando ne? mas é aquilo, hadson e l...</td>\n",
       "      <td>0</td>\n",
       "      <td>0</td>\n",
       "      <td>Rio de Janeiro, Brasil</td>\n",
       "      <td>64</td>\n",
       "      <td>729</td>\n",
       "      <td>432</td>\n",
       "      <td>pt</td>\n",
       "      <td>effyzx</td>\n",
       "      <td>bbb</td>\n",
       "    </tr>\n",
       "    <tr>\n",
       "      <th>3499</th>\n",
       "      <td>0</td>\n",
       "      <td>2020-03-11 15:15:47.000000</td>\n",
       "      <td>Sinceramnte diante doq osboys já disseram nake...</td>\n",
       "      <td>0</td>\n",
       "      <td>0</td>\n",
       "      <td>None</td>\n",
       "      <td>63</td>\n",
       "      <td>703</td>\n",
       "      <td>423</td>\n",
       "      <td>pt</td>\n",
       "      <td>Cazita9</td>\n",
       "      <td>bbb</td>\n",
       "    </tr>\n",
       "    <tr>\n",
       "      <th>3135</th>\n",
       "      <td>0</td>\n",
       "      <td>2020-03-11 15:15:25.000000</td>\n",
       "      <td>Quando se trata do macho hétero BRANCO, é acei...</td>\n",
       "      <td>0</td>\n",
       "      <td>0</td>\n",
       "      <td>Centro, Rio de Janeiro</td>\n",
       "      <td>61</td>\n",
       "      <td>698</td>\n",
       "      <td>420</td>\n",
       "      <td>pt</td>\n",
       "      <td>LizandraG14</td>\n",
       "      <td>bbb</td>\n",
       "    </tr>\n",
       "    <tr>\n",
       "      <th>...</th>\n",
       "      <td>...</td>\n",
       "      <td>...</td>\n",
       "      <td>...</td>\n",
       "      <td>...</td>\n",
       "      <td>...</td>\n",
       "      <td>...</td>\n",
       "      <td>...</td>\n",
       "      <td>...</td>\n",
       "      <td>...</td>\n",
       "      <td>...</td>\n",
       "      <td>...</td>\n",
       "      <td>...</td>\n",
       "    </tr>\n",
       "    <tr>\n",
       "      <th>20535</th>\n",
       "      <td>0</td>\n",
       "      <td>2020-03-11 15:31:52.000000</td>\n",
       "      <td>E o coração? ❤ No @MaisVoce, Victor Hugo falou...</td>\n",
       "      <td>0</td>\n",
       "      <td>0</td>\n",
       "      <td>São Gonçalo, Brasil</td>\n",
       "      <td>14</td>\n",
       "      <td>525</td>\n",
       "      <td>101</td>\n",
       "      <td>pt</td>\n",
       "      <td>eukelvinsouza</td>\n",
       "      <td>bbb</td>\n",
       "    </tr>\n",
       "    <tr>\n",
       "      <th>19503</th>\n",
       "      <td>0</td>\n",
       "      <td>2020-03-11 15:30:54.000000</td>\n",
       "      <td>Pyong comenta sobre atrito com brother e prome...</td>\n",
       "      <td>0</td>\n",
       "      <td>0</td>\n",
       "      <td>São Gonçalo, Brasil</td>\n",
       "      <td>14</td>\n",
       "      <td>492</td>\n",
       "      <td>19</td>\n",
       "      <td>pt</td>\n",
       "      <td>eukelvinsouza</td>\n",
       "      <td>bbb</td>\n",
       "    </tr>\n",
       "    <tr>\n",
       "      <th>18468</th>\n",
       "      <td>0</td>\n",
       "      <td>2020-03-11 15:29:58.000000</td>\n",
       "      <td>Gabi sobre sister: \"Comecei a ver coisas... A ...</td>\n",
       "      <td>0</td>\n",
       "      <td>0</td>\n",
       "      <td>Bbblandia</td>\n",
       "      <td>8</td>\n",
       "      <td>479</td>\n",
       "      <td>184</td>\n",
       "      <td>pt</td>\n",
       "      <td>guibi93</td>\n",
       "      <td>bbb</td>\n",
       "    </tr>\n",
       "    <tr>\n",
       "      <th>20562</th>\n",
       "      <td>0</td>\n",
       "      <td>2020-03-11 15:31:54.000000</td>\n",
       "      <td>Nada como tomar café da manhã no @MaisVoce no ...</td>\n",
       "      <td>0</td>\n",
       "      <td>0</td>\n",
       "      <td>São Gonçalo, Brasil</td>\n",
       "      <td>6</td>\n",
       "      <td>300</td>\n",
       "      <td>45</td>\n",
       "      <td>pt</td>\n",
       "      <td>eukelvinsouza</td>\n",
       "      <td>bbb</td>\n",
       "    </tr>\n",
       "    <tr>\n",
       "      <th>12643</th>\n",
       "      <td>0</td>\n",
       "      <td>2020-03-11 15:24:25.000000</td>\n",
       "      <td>👀 E a \"Guerra do Feijão\"? Jamais será esquecid...</td>\n",
       "      <td>0</td>\n",
       "      <td>0</td>\n",
       "      <td>None</td>\n",
       "      <td>6</td>\n",
       "      <td>412</td>\n",
       "      <td>58</td>\n",
       "      <td>pt</td>\n",
       "      <td>LifeKalimann</td>\n",
       "      <td>bbb</td>\n",
       "    </tr>\n",
       "    <tr>\n",
       "      <th>7001</th>\n",
       "      <td>0</td>\n",
       "      <td>2020-03-11 15:19:05.000000</td>\n",
       "      <td>@gabimartinsof vejam os comentarios. Pra Gabi ...</td>\n",
       "      <td>0</td>\n",
       "      <td>0</td>\n",
       "      <td>None</td>\n",
       "      <td>5</td>\n",
       "      <td>432</td>\n",
       "      <td>161</td>\n",
       "      <td>pt</td>\n",
       "      <td>realitysempre1</td>\n",
       "      <td>bbb</td>\n",
       "    </tr>\n",
       "    <tr>\n",
       "      <th>19422</th>\n",
       "      <td>0</td>\n",
       "      <td>2020-03-11 15:30:50.000000</td>\n",
       "      <td>RT @bbb: Babu analisa: 'De sete Paredões, fui ...</td>\n",
       "      <td>0</td>\n",
       "      <td>0</td>\n",
       "      <td>São Gonçalo, Brasil</td>\n",
       "      <td>0</td>\n",
       "      <td>0</td>\n",
       "      <td>0</td>\n",
       "      <td>pt</td>\n",
       "      <td>eukelvinsouza</td>\n",
       "      <td>bbb</td>\n",
       "    </tr>\n",
       "    <tr>\n",
       "      <th>19386</th>\n",
       "      <td>0</td>\n",
       "      <td>2020-03-11 15:30:47.000000</td>\n",
       "      <td>RT @bbb: Flayslane aponta sobre brother: 'Tem ...</td>\n",
       "      <td>0</td>\n",
       "      <td>0</td>\n",
       "      <td>São Gonçalo, Brasil</td>\n",
       "      <td>0</td>\n",
       "      <td>0</td>\n",
       "      <td>0</td>\n",
       "      <td>pt</td>\n",
       "      <td>eukelvinsouza</td>\n",
       "      <td>bbb</td>\n",
       "    </tr>\n",
       "    <tr>\n",
       "      <th>5451</th>\n",
       "      <td>0</td>\n",
       "      <td>2020-03-11 15:17:37.000000</td>\n",
       "      <td>RT @bbb: O que eliminou Victor Hugo do #BBB20?...</td>\n",
       "      <td>0</td>\n",
       "      <td>0</td>\n",
       "      <td>Belo Horizonte, Brasil</td>\n",
       "      <td>0</td>\n",
       "      <td>0</td>\n",
       "      <td>0</td>\n",
       "      <td>es</td>\n",
       "      <td>_julianovais</td>\n",
       "      <td>bbb</td>\n",
       "    </tr>\n",
       "    <tr>\n",
       "      <th>20539</th>\n",
       "      <td>0</td>\n",
       "      <td>2020-03-11 15:31:52.000000</td>\n",
       "      <td>RT @bbb: Música: Dancela\\nArtista: @rafaportug...</td>\n",
       "      <td>0</td>\n",
       "      <td>0</td>\n",
       "      <td>Rio de Janeiro, Brasil</td>\n",
       "      <td>0</td>\n",
       "      <td>0</td>\n",
       "      <td>0</td>\n",
       "      <td>pt</td>\n",
       "      <td>Carloswk03</td>\n",
       "      <td>bbb</td>\n",
       "    </tr>\n",
       "    <tr>\n",
       "      <th>16150</th>\n",
       "      <td>0</td>\n",
       "      <td>2020-03-11 15:27:46.000000</td>\n",
       "      <td>RT @bbb: Tá chegando a horaaaaaaaaaa 👀 #RedeBB...</td>\n",
       "      <td>0</td>\n",
       "      <td>0</td>\n",
       "      <td>São Gonçalo, Brasil</td>\n",
       "      <td>0</td>\n",
       "      <td>0</td>\n",
       "      <td>0</td>\n",
       "      <td>pt</td>\n",
       "      <td>eukelvinsouza</td>\n",
       "      <td>bbb</td>\n",
       "    </tr>\n",
       "    <tr>\n",
       "      <th>20480</th>\n",
       "      <td>0</td>\n",
       "      <td>2020-03-11 15:31:49.000000</td>\n",
       "      <td>RT @bbb: dancinha-do-babu.gif\\n#RedeBBB #BBB20...</td>\n",
       "      <td>0</td>\n",
       "      <td>0</td>\n",
       "      <td>Minas Gerais</td>\n",
       "      <td>0</td>\n",
       "      <td>0</td>\n",
       "      <td>0</td>\n",
       "      <td>in</td>\n",
       "      <td>drewgozado</td>\n",
       "      <td>bbb</td>\n",
       "    </tr>\n",
       "    <tr>\n",
       "      <th>16277</th>\n",
       "      <td>0</td>\n",
       "      <td>2020-03-11 15:27:53.000000</td>\n",
       "      <td>RT @bbb: \"Hora da palestrinha, a palestrinha v...</td>\n",
       "      <td>0</td>\n",
       "      <td>0</td>\n",
       "      <td>São Gonçalo, Brasil</td>\n",
       "      <td>0</td>\n",
       "      <td>0</td>\n",
       "      <td>0</td>\n",
       "      <td>pt</td>\n",
       "      <td>eukelvinsouza</td>\n",
       "      <td>bbb</td>\n",
       "    </tr>\n",
       "    <tr>\n",
       "      <th>16464</th>\n",
       "      <td>0</td>\n",
       "      <td>2020-03-11 15:28:04.000000</td>\n",
       "      <td>RT @bbb: 🎉 QUE VAI ROLAR A FESTA\\nVAI ROLAR\\nO...</td>\n",
       "      <td>0</td>\n",
       "      <td>0</td>\n",
       "      <td>São Gonçalo, Brasil</td>\n",
       "      <td>0</td>\n",
       "      <td>0</td>\n",
       "      <td>0</td>\n",
       "      <td>pt</td>\n",
       "      <td>eukelvinsouza</td>\n",
       "      <td>bbb</td>\n",
       "    </tr>\n",
       "    <tr>\n",
       "      <th>16547</th>\n",
       "      <td>0</td>\n",
       "      <td>2020-03-11 15:28:09.000000</td>\n",
       "      <td>RT @bbb: Um VT de tretas em festas ao som de @...</td>\n",
       "      <td>0</td>\n",
       "      <td>0</td>\n",
       "      <td>São Gonçalo, Brasil</td>\n",
       "      <td>0</td>\n",
       "      <td>0</td>\n",
       "      <td>0</td>\n",
       "      <td>pt</td>\n",
       "      <td>eukelvinsouza</td>\n",
       "      <td>bbb</td>\n",
       "    </tr>\n",
       "    <tr>\n",
       "      <th>16592</th>\n",
       "      <td>0</td>\n",
       "      <td>2020-03-11 15:28:12.000000</td>\n",
       "      <td>RT @bbb: Pyong: \"Ô, Dani, eu vou jogar seu aça...</td>\n",
       "      <td>0</td>\n",
       "      <td>0</td>\n",
       "      <td>São Gonçalo, Brasil</td>\n",
       "      <td>0</td>\n",
       "      <td>0</td>\n",
       "      <td>0</td>\n",
       "      <td>pt</td>\n",
       "      <td>eukelvinsouza</td>\n",
       "      <td>bbb</td>\n",
       "    </tr>\n",
       "    <tr>\n",
       "      <th>16631</th>\n",
       "      <td>0</td>\n",
       "      <td>2020-03-11 15:28:14.000000</td>\n",
       "      <td>RT @bbb: 🎵 \"Some, some \\nSome que ele vem atrá...</td>\n",
       "      <td>0</td>\n",
       "      <td>0</td>\n",
       "      <td>São Gonçalo, Brasil</td>\n",
       "      <td>0</td>\n",
       "      <td>0</td>\n",
       "      <td>0</td>\n",
       "      <td>pt</td>\n",
       "      <td>eukelvinsouza</td>\n",
       "      <td>bbb</td>\n",
       "    </tr>\n",
       "    <tr>\n",
       "      <th>17478</th>\n",
       "      <td>0</td>\n",
       "      <td>2020-03-11 15:29:03.000000</td>\n",
       "      <td>RT @bbb: A intensidade de Gigi Furacão 🌪️ #Red...</td>\n",
       "      <td>0</td>\n",
       "      <td>0</td>\n",
       "      <td>São Gonçalo, Brasil</td>\n",
       "      <td>0</td>\n",
       "      <td>0</td>\n",
       "      <td>0</td>\n",
       "      <td>pt</td>\n",
       "      <td>eukelvinsouza</td>\n",
       "      <td>bbb</td>\n",
       "    </tr>\n",
       "    <tr>\n",
       "      <th>18092</th>\n",
       "      <td>0</td>\n",
       "      <td>2020-03-11 15:29:36.000000</td>\n",
       "      <td>RT @bbb: Gritando até agora com Rafael Portuga...</td>\n",
       "      <td>0</td>\n",
       "      <td>0</td>\n",
       "      <td>São Gonçalo, Brasil</td>\n",
       "      <td>0</td>\n",
       "      <td>0</td>\n",
       "      <td>0</td>\n",
       "      <td>pt</td>\n",
       "      <td>eukelvinsouza</td>\n",
       "      <td>bbb</td>\n",
       "    </tr>\n",
       "    <tr>\n",
       "      <th>18467</th>\n",
       "      <td>0</td>\n",
       "      <td>2020-03-11 15:29:57.000000</td>\n",
       "      <td>RT @bbb: 🗣 VOTAÇÃO ENCERRADA! #RedeBBB #BBB20</td>\n",
       "      <td>0</td>\n",
       "      <td>0</td>\n",
       "      <td>São Gonçalo, Brasil</td>\n",
       "      <td>0</td>\n",
       "      <td>0</td>\n",
       "      <td>0</td>\n",
       "      <td>pt</td>\n",
       "      <td>eukelvinsouza</td>\n",
       "      <td>bbb</td>\n",
       "    </tr>\n",
       "    <tr>\n",
       "      <th>18500</th>\n",
       "      <td>0</td>\n",
       "      <td>2020-03-11 15:29:59.000000</td>\n",
       "      <td>RT @bbb: Victor Hugo é o sétimo eliminado do #...</td>\n",
       "      <td>0</td>\n",
       "      <td>0</td>\n",
       "      <td>São Gonçalo, Brasil</td>\n",
       "      <td>0</td>\n",
       "      <td>0</td>\n",
       "      <td>0</td>\n",
       "      <td>pt</td>\n",
       "      <td>eukelvinsouza</td>\n",
       "      <td>bbb</td>\n",
       "    </tr>\n",
       "    <tr>\n",
       "      <th>18817</th>\n",
       "      <td>0</td>\n",
       "      <td>2020-03-11 15:30:15.000000</td>\n",
       "      <td>RT @bbb: Valeu, Victor Hugo! #BBB20\\nVem que o...</td>\n",
       "      <td>0</td>\n",
       "      <td>0</td>\n",
       "      <td>São Gonçalo, Brasil</td>\n",
       "      <td>0</td>\n",
       "      <td>0</td>\n",
       "      <td>0</td>\n",
       "      <td>pt</td>\n",
       "      <td>eukelvinsouza</td>\n",
       "      <td>bbb</td>\n",
       "    </tr>\n",
       "    <tr>\n",
       "      <th>18935</th>\n",
       "      <td>0</td>\n",
       "      <td>2020-03-11 15:30:21.000000</td>\n",
       "      <td>RT @bbb: Veeem, que o Victor Hugo tá chegando ...</td>\n",
       "      <td>0</td>\n",
       "      <td>0</td>\n",
       "      <td>São Gonçalo, Brasil</td>\n",
       "      <td>0</td>\n",
       "      <td>0</td>\n",
       "      <td>0</td>\n",
       "      <td>pt</td>\n",
       "      <td>eukelvinsouza</td>\n",
       "      <td>bbb</td>\n",
       "    </tr>\n",
       "    <tr>\n",
       "      <th>19208</th>\n",
       "      <td>0</td>\n",
       "      <td>2020-03-11 15:30:38.000000</td>\n",
       "      <td>RT @bbb: Felipe faz planos: 'Eles têm que se q...</td>\n",
       "      <td>0</td>\n",
       "      <td>0</td>\n",
       "      <td>São Gonçalo, Brasil</td>\n",
       "      <td>0</td>\n",
       "      <td>0</td>\n",
       "      <td>0</td>\n",
       "      <td>pt</td>\n",
       "      <td>eukelvinsouza</td>\n",
       "      <td>bbb</td>\n",
       "    </tr>\n",
       "    <tr>\n",
       "      <th>19578</th>\n",
       "      <td>0</td>\n",
       "      <td>2020-03-11 15:30:58.000000</td>\n",
       "      <td>RT @bbb: Pyong pensa em próximo Paredão: 'Acho...</td>\n",
       "      <td>0</td>\n",
       "      <td>0</td>\n",
       "      <td>São Gonçalo, Brasil</td>\n",
       "      <td>0</td>\n",
       "      <td>0</td>\n",
       "      <td>0</td>\n",
       "      <td>pt</td>\n",
       "      <td>eukelvinsouza</td>\n",
       "      <td>bbb</td>\n",
       "    </tr>\n",
       "    <tr>\n",
       "      <th>19538</th>\n",
       "      <td>0</td>\n",
       "      <td>2020-03-11 15:30:56.000000</td>\n",
       "      <td>RT @bbb: Rafa declara sobre brother: 'Fiquei m...</td>\n",
       "      <td>0</td>\n",
       "      <td>0</td>\n",
       "      <td>São Gonçalo, Brasil</td>\n",
       "      <td>0</td>\n",
       "      <td>0</td>\n",
       "      <td>0</td>\n",
       "      <td>pt</td>\n",
       "      <td>eukelvinsouza</td>\n",
       "      <td>bbb</td>\n",
       "    </tr>\n",
       "    <tr>\n",
       "      <th>19256</th>\n",
       "      <td>0</td>\n",
       "      <td>2020-03-11 15:30:41.000000</td>\n",
       "      <td>RT @bbb: Daniel se justifica para Ivy: 'Eu não...</td>\n",
       "      <td>0</td>\n",
       "      <td>0</td>\n",
       "      <td>São Gonçalo, Brasil</td>\n",
       "      <td>0</td>\n",
       "      <td>0</td>\n",
       "      <td>0</td>\n",
       "      <td>pt</td>\n",
       "      <td>eukelvinsouza</td>\n",
       "      <td>bbb</td>\n",
       "    </tr>\n",
       "    <tr>\n",
       "      <th>19343</th>\n",
       "      <td>0</td>\n",
       "      <td>2020-03-11 15:30:45.000000</td>\n",
       "      <td>RT @bbb: Sobre Victor Hugo....\\nPyong: 'Algo d...</td>\n",
       "      <td>0</td>\n",
       "      <td>0</td>\n",
       "      <td>São Gonçalo, Brasil</td>\n",
       "      <td>0</td>\n",
       "      <td>0</td>\n",
       "      <td>0</td>\n",
       "      <td>pt</td>\n",
       "      <td>eukelvinsouza</td>\n",
       "      <td>bbb</td>\n",
       "    </tr>\n",
       "    <tr>\n",
       "      <th>19468</th>\n",
       "      <td>0</td>\n",
       "      <td>2020-03-11 15:30:52.000000</td>\n",
       "      <td>RT @bbb: Rafa questiona Thelma: 'Você votaria ...</td>\n",
       "      <td>0</td>\n",
       "      <td>0</td>\n",
       "      <td>São Gonçalo, Brasil</td>\n",
       "      <td>0</td>\n",
       "      <td>0</td>\n",
       "      <td>0</td>\n",
       "      <td>pt</td>\n",
       "      <td>eukelvinsouza</td>\n",
       "      <td>bbb</td>\n",
       "    </tr>\n",
       "    <tr>\n",
       "      <th>18337</th>\n",
       "      <td>0</td>\n",
       "      <td>2020-03-11 15:29:51.000000</td>\n",
       "      <td>RT @bbb: Gabi: \"Por isso que eu desconto tudo ...</td>\n",
       "      <td>0</td>\n",
       "      <td>0</td>\n",
       "      <td>São Gonçalo, Brasil</td>\n",
       "      <td>0</td>\n",
       "      <td>0</td>\n",
       "      <td>0</td>\n",
       "      <td>pt</td>\n",
       "      <td>eukelvinsouza</td>\n",
       "      <td>bbb</td>\n",
       "    </tr>\n",
       "  </tbody>\n",
       "</table>\n",
       "<p>83 rows × 12 columns</p>\n",
       "</div>"
      ],
      "text/plain": [
       "       index                  created_at  \\\n",
       "10475      0  2020-03-11 15:22:24.000000   \n",
       "20012      0  2020-03-11 15:31:23.000000   \n",
       "20391      0  2020-03-11 15:31:44.000000   \n",
       "6063       0  2020-03-11 15:18:11.000000   \n",
       "17551      0  2020-03-11 15:29:06.000000   \n",
       "...      ...                         ...   \n",
       "19538      0  2020-03-11 15:30:56.000000   \n",
       "19256      0  2020-03-11 15:30:41.000000   \n",
       "19343      0  2020-03-11 15:30:45.000000   \n",
       "19468      0  2020-03-11 15:30:52.000000   \n",
       "18337      0  2020-03-11 15:29:51.000000   \n",
       "\n",
       "                                                    text  verified  retweeted  \\\n",
       "10475  I'm sorry, the old Manu can't come to the phon...         0          0   \n",
       "20012  Thelma defende Babu para brothers: \"Eu acho qu...         0          0   \n",
       "20391  Depois da saída de Victor Hugo, Babu chorou ba...         0          0   \n",
       "6063   Victor Hugo: 'Estou louco para que chegue logo...         0          0   \n",
       "17551  Felipe revela opções de voto caso seja Líder: ...         0          0   \n",
       "...                                                  ...       ...        ...   \n",
       "19538  RT @bbb: Rafa declara sobre brother: 'Fiquei m...         0          0   \n",
       "19256  RT @bbb: Daniel se justifica para Ivy: 'Eu não...         0          0   \n",
       "19343  RT @bbb: Sobre Victor Hugo....\\nPyong: 'Algo d...         0          0   \n",
       "19468  RT @bbb: Rafa questiona Thelma: 'Você votaria ...         0          0   \n",
       "18337  RT @bbb: Gabi: \"Por isso que eu desconto tudo ...         0          0   \n",
       "\n",
       "                            location  retweeted_counts  likes_counts  \\\n",
       "10475  ㅤ .⃗ ˙˖ ❍ ˒ 솝 ⭑ 彼氏 !! ‹3 ، ୭̥              1972         13198   \n",
       "20012                           None              1580         17639   \n",
       "20391                     Recife, PE              1175         17678   \n",
       "6063                            None               853         14021   \n",
       "17551                Niterói, Brasil               565         12598   \n",
       "...                              ...               ...           ...   \n",
       "19538            São Gonçalo, Brasil                 0             0   \n",
       "19256            São Gonçalo, Brasil                 0             0   \n",
       "19343            São Gonçalo, Brasil                 0             0   \n",
       "19468            São Gonçalo, Brasil                 0             0   \n",
       "18337            São Gonçalo, Brasil                 0             0   \n",
       "\n",
       "       reply_counts lang         id_user orig_tweet_user  \n",
       "10475           310   pt    yoonieprince             bbb  \n",
       "20012           328   pt       mycsminah             bbb  \n",
       "20391           226   pt   rayhsoliveira             bbb  \n",
       "6063           2265   pt      brumaleasy             bbb  \n",
       "17551          1106   pt  LucianoLGomes1             bbb  \n",
       "...             ...  ...             ...             ...  \n",
       "19538             0   pt   eukelvinsouza             bbb  \n",
       "19256             0   pt   eukelvinsouza             bbb  \n",
       "19343             0   pt   eukelvinsouza             bbb  \n",
       "19468             0   pt   eukelvinsouza             bbb  \n",
       "18337             0   pt   eukelvinsouza             bbb  \n",
       "\n",
       "[83 rows x 12 columns]"
      ]
     },
     "execution_count": 48,
     "metadata": {},
     "output_type": "execute_result"
    }
   ],
   "source": [
    "filtered_top_20 = df[df.orig_tweet_user.isin(['bbb'])].drop_duplicates('text', keep='last')\n",
    "\n",
    "filtered_top_20.sort_values('retweeted_counts', ascending=False)"
   ]
  },
  {
   "cell_type": "code",
   "execution_count": 26,
   "metadata": {},
   "outputs": [],
   "source": [
    "df['ret_count'] = df.groupby('text')['text'].transform('count')"
   ]
  },
  {
   "cell_type": "code",
   "execution_count": 22,
   "metadata": {},
   "outputs": [
    {
     "data": {
      "text/html": [
       "<div>\n",
       "<style scoped>\n",
       "    .dataframe tbody tr th:only-of-type {\n",
       "        vertical-align: middle;\n",
       "    }\n",
       "\n",
       "    .dataframe tbody tr th {\n",
       "        vertical-align: top;\n",
       "    }\n",
       "\n",
       "    .dataframe thead th {\n",
       "        text-align: right;\n",
       "    }\n",
       "</style>\n",
       "<table border=\"1\" class=\"dataframe\">\n",
       "  <thead>\n",
       "    <tr style=\"text-align: right;\">\n",
       "      <th></th>\n",
       "      <th>user_id</th>\n",
       "      <th>shares</th>\n",
       "    </tr>\n",
       "  </thead>\n",
       "  <tbody>\n",
       "    <tr>\n",
       "      <th>0</th>\n",
       "      <td>luizguiprado</td>\n",
       "      <td>888</td>\n",
       "    </tr>\n",
       "    <tr>\n",
       "      <th>1</th>\n",
       "      <td>bbb</td>\n",
       "      <td>845</td>\n",
       "    </tr>\n",
       "    <tr>\n",
       "      <th>2</th>\n",
       "      <td>rafaportugalc</td>\n",
       "      <td>543</td>\n",
       "    </tr>\n",
       "    <tr>\n",
       "      <th>3</th>\n",
       "      <td>pedrohales</td>\n",
       "      <td>539</td>\n",
       "    </tr>\n",
       "    <tr>\n",
       "      <th>4</th>\n",
       "      <td>SlytherclawZ</td>\n",
       "      <td>491</td>\n",
       "    </tr>\n",
       "    <tr>\n",
       "      <th>5</th>\n",
       "      <td>Dantinhas</td>\n",
       "      <td>393</td>\n",
       "    </tr>\n",
       "    <tr>\n",
       "      <th>6</th>\n",
       "      <td>_naratb</td>\n",
       "      <td>341</td>\n",
       "    </tr>\n",
       "    <tr>\n",
       "      <th>7</th>\n",
       "      <td>vagsner</td>\n",
       "      <td>339</td>\n",
       "    </tr>\n",
       "    <tr>\n",
       "      <th>8</th>\n",
       "      <td>LucasBGallina</td>\n",
       "      <td>338</td>\n",
       "    </tr>\n",
       "    <tr>\n",
       "      <th>9</th>\n",
       "      <td>cirohamen</td>\n",
       "      <td>299</td>\n",
       "    </tr>\n",
       "    <tr>\n",
       "      <th>10</th>\n",
       "      <td>LwithP</td>\n",
       "      <td>297</td>\n",
       "    </tr>\n",
       "    <tr>\n",
       "      <th>11</th>\n",
       "      <td>alexandrismos</td>\n",
       "      <td>275</td>\n",
       "    </tr>\n",
       "    <tr>\n",
       "      <th>12</th>\n",
       "      <td>gabilegalzlnha</td>\n",
       "      <td>268</td>\n",
       "    </tr>\n",
       "    <tr>\n",
       "      <th>13</th>\n",
       "      <td>itolindoo</td>\n",
       "      <td>268</td>\n",
       "    </tr>\n",
       "    <tr>\n",
       "      <th>14</th>\n",
       "      <td>universodoluna</td>\n",
       "      <td>262</td>\n",
       "    </tr>\n",
       "  </tbody>\n",
       "</table>\n",
       "</div>"
      ],
      "text/plain": [
       "           user_id  shares\n",
       "0     luizguiprado     888\n",
       "1              bbb     845\n",
       "2    rafaportugalc     543\n",
       "3       pedrohales     539\n",
       "4     SlytherclawZ     491\n",
       "5        Dantinhas     393\n",
       "6          _naratb     341\n",
       "7          vagsner     339\n",
       "8    LucasBGallina     338\n",
       "9        cirohamen     299\n",
       "10          LwithP     297\n",
       "11   alexandrismos     275\n",
       "12  gabilegalzlnha     268\n",
       "13       itolindoo     268\n",
       "14  universodoluna     262"
      ]
     },
     "execution_count": 22,
     "metadata": {},
     "output_type": "execute_result"
    }
   ],
   "source": [
    "df.orig_tweet_user.value_counts()[:20].reset_index()[:15].rename(columns={'index':'user_id',  \n",
    "                                                                          'orig_tweet_user':'shares'})"
   ]
  },
  {
   "cell_type": "code",
   "execution_count": null,
   "metadata": {},
   "outputs": [],
   "source": [
    "df.orig_tweet_user.value_counts()[:20]"
   ]
  },
  {
   "cell_type": "code",
   "execution_count": null,
   "metadata": {},
   "outputs": [],
   "source": [
    "df"
   ]
  },
  {
   "cell_type": "code",
   "execution_count": 28,
   "metadata": {},
   "outputs": [
    {
     "data": {
      "text/html": [
       "<div>\n",
       "<style scoped>\n",
       "    .dataframe tbody tr th:only-of-type {\n",
       "        vertical-align: middle;\n",
       "    }\n",
       "\n",
       "    .dataframe tbody tr th {\n",
       "        vertical-align: top;\n",
       "    }\n",
       "\n",
       "    .dataframe thead th {\n",
       "        text-align: right;\n",
       "    }\n",
       "</style>\n",
       "<table border=\"1\" class=\"dataframe\">\n",
       "  <thead>\n",
       "    <tr style=\"text-align: right;\">\n",
       "      <th></th>\n",
       "      <th>index</th>\n",
       "      <th>created_at</th>\n",
       "      <th>text</th>\n",
       "      <th>verified</th>\n",
       "      <th>retweeted</th>\n",
       "      <th>location</th>\n",
       "      <th>retweeted_counts</th>\n",
       "      <th>likes_counts</th>\n",
       "      <th>reply_counts</th>\n",
       "      <th>lang</th>\n",
       "      <th>id_user</th>\n",
       "      <th>orig_tweet_user</th>\n",
       "      <th>ret_count</th>\n",
       "    </tr>\n",
       "  </thead>\n",
       "  <tbody>\n",
       "    <tr>\n",
       "      <th>19351</th>\n",
       "      <td>0</td>\n",
       "      <td>2020-03-11 15:08:16.000000</td>\n",
       "      <td>A casa com um monte de “militante” e só quem a...</td>\n",
       "      <td>0</td>\n",
       "      <td>0</td>\n",
       "      <td>Timóteo, Brasil</td>\n",
       "      <td>10488</td>\n",
       "      <td>72345</td>\n",
       "      <td>627</td>\n",
       "      <td>pt</td>\n",
       "      <td>Lucao04Edu</td>\n",
       "      <td>luizguiprado</td>\n",
       "      <td>712</td>\n",
       "    </tr>\n",
       "    <tr>\n",
       "      <th>19382</th>\n",
       "      <td>0</td>\n",
       "      <td>2020-03-11 15:08:18.000000</td>\n",
       "      <td>RT @pedrohales: o babu é um exemplo de vítima ...</td>\n",
       "      <td>0</td>\n",
       "      <td>0</td>\n",
       "      <td>Santa Catarina, Brasil</td>\n",
       "      <td>0</td>\n",
       "      <td>0</td>\n",
       "      <td>0</td>\n",
       "      <td>pt</td>\n",
       "      <td>heidemannigr</td>\n",
       "      <td>pedrohales</td>\n",
       "      <td>539</td>\n",
       "    </tr>\n",
       "    <tr>\n",
       "      <th>19390</th>\n",
       "      <td>0</td>\n",
       "      <td>2020-03-11 15:08:19.000000</td>\n",
       "      <td>RT @rafaportugalc: TO ZUAAAAANDO</td>\n",
       "      <td>0</td>\n",
       "      <td>0</td>\n",
       "      <td>None</td>\n",
       "      <td>0</td>\n",
       "      <td>0</td>\n",
       "      <td>0</td>\n",
       "      <td>pt</td>\n",
       "      <td>patriciojulia08</td>\n",
       "      <td>rafaportugalc</td>\n",
       "      <td>509</td>\n",
       "    </tr>\n",
       "    <tr>\n",
       "      <th>19402</th>\n",
       "      <td>0</td>\n",
       "      <td>2020-03-11 15:08:20.000000</td>\n",
       "      <td>E com 85% dos votos, Victor Hugo até então, é ...</td>\n",
       "      <td>0</td>\n",
       "      <td>0</td>\n",
       "      <td>None</td>\n",
       "      <td>20259</td>\n",
       "      <td>102618</td>\n",
       "      <td>419</td>\n",
       "      <td>pt</td>\n",
       "      <td>karolcost2</td>\n",
       "      <td>SlytherclawZ</td>\n",
       "      <td>488</td>\n",
       "    </tr>\n",
       "    <tr>\n",
       "      <th>19292</th>\n",
       "      <td>0</td>\n",
       "      <td>2020-03-11 15:08:13.000000</td>\n",
       "      <td>RT @bbb: Música: Dancela\\nArtista: @rafaportug...</td>\n",
       "      <td>0</td>\n",
       "      <td>0</td>\n",
       "      <td>💍</td>\n",
       "      <td>0</td>\n",
       "      <td>0</td>\n",
       "      <td>0</td>\n",
       "      <td>pt</td>\n",
       "      <td>oliveiraj_Anne</td>\n",
       "      <td>bbb</td>\n",
       "      <td>415</td>\n",
       "    </tr>\n",
       "    <tr>\n",
       "      <th>19320</th>\n",
       "      <td>0</td>\n",
       "      <td>2020-03-11 15:08:14.000000</td>\n",
       "      <td>RT @_naratb: Prior e Manu dublando. Gente, KKK...</td>\n",
       "      <td>0</td>\n",
       "      <td>0</td>\n",
       "      <td>None</td>\n",
       "      <td>0</td>\n",
       "      <td>0</td>\n",
       "      <td>0</td>\n",
       "      <td>pt</td>\n",
       "      <td>Jennyfcrf</td>\n",
       "      <td>_naratb</td>\n",
       "      <td>340</td>\n",
       "    </tr>\n",
       "    <tr>\n",
       "      <th>19357</th>\n",
       "      <td>0</td>\n",
       "      <td>2020-03-11 15:08:17.000000</td>\n",
       "      <td>RT @vagsner: MEU DEUS EU AMO A INTERNET KKKKKK...</td>\n",
       "      <td>0</td>\n",
       "      <td>0</td>\n",
       "      <td>Rio de Janeiro</td>\n",
       "      <td>0</td>\n",
       "      <td>0</td>\n",
       "      <td>0</td>\n",
       "      <td>pt</td>\n",
       "      <td>biiavalle</td>\n",
       "      <td>vagsner</td>\n",
       "      <td>339</td>\n",
       "    </tr>\n",
       "    <tr>\n",
       "      <th>19372</th>\n",
       "      <td>0</td>\n",
       "      <td>2020-03-11 15:08:17.000000</td>\n",
       "      <td>RT @LucasBGallina: Para os outros é “macho esc...</td>\n",
       "      <td>0</td>\n",
       "      <td>0</td>\n",
       "      <td>Rio de Janeiro, Brasil</td>\n",
       "      <td>0</td>\n",
       "      <td>0</td>\n",
       "      <td>0</td>\n",
       "      <td>pt</td>\n",
       "      <td>Chernomichael_1</td>\n",
       "      <td>LucasBGallina</td>\n",
       "      <td>311</td>\n",
       "    </tr>\n",
       "    <tr>\n",
       "      <th>19345</th>\n",
       "      <td>0</td>\n",
       "      <td>2020-03-11 15:08:16.000000</td>\n",
       "      <td>RT @cirohamen: Quem não chora com isso aqui já...</td>\n",
       "      <td>0</td>\n",
       "      <td>0</td>\n",
       "      <td>None</td>\n",
       "      <td>0</td>\n",
       "      <td>0</td>\n",
       "      <td>0</td>\n",
       "      <td>pt</td>\n",
       "      <td>culpadabebida</td>\n",
       "      <td>cirohamen</td>\n",
       "      <td>297</td>\n",
       "    </tr>\n",
       "    <tr>\n",
       "      <th>19194</th>\n",
       "      <td>0</td>\n",
       "      <td>2020-03-11 15:08:07.000000</td>\n",
       "      <td>MEU DEUS! \\n\\nAna Clara finalizando a conversa...</td>\n",
       "      <td>0</td>\n",
       "      <td>0</td>\n",
       "      <td>the world</td>\n",
       "      <td>298</td>\n",
       "      <td>3596</td>\n",
       "      <td>185</td>\n",
       "      <td>tl</td>\n",
       "      <td>lovatikeddl</td>\n",
       "      <td>Dantinhas</td>\n",
       "      <td>296</td>\n",
       "    </tr>\n",
       "    <tr>\n",
       "      <th>19299</th>\n",
       "      <td>0</td>\n",
       "      <td>2020-03-11 15:08:13.000000</td>\n",
       "      <td>RT @alexandrismos: Marcela e Ivy foram gordofo...</td>\n",
       "      <td>0</td>\n",
       "      <td>0</td>\n",
       "      <td>None</td>\n",
       "      <td>0</td>\n",
       "      <td>0</td>\n",
       "      <td>0</td>\n",
       "      <td>pt</td>\n",
       "      <td>souzadayane_</td>\n",
       "      <td>alexandrismos</td>\n",
       "      <td>274</td>\n",
       "    </tr>\n",
       "    <tr>\n",
       "      <th>19321</th>\n",
       "      <td>0</td>\n",
       "      <td>2020-03-11 15:08:14.000000</td>\n",
       "      <td>Vocês estão vendo o ESFORÇO DAS MENINAS pra pa...</td>\n",
       "      <td>0</td>\n",
       "      <td>0</td>\n",
       "      <td>ㅤ      ، cinty. 🕊</td>\n",
       "      <td>3844</td>\n",
       "      <td>20622</td>\n",
       "      <td>214</td>\n",
       "      <td>pt</td>\n",
       "      <td>kthisjjk</td>\n",
       "      <td>universodoluna</td>\n",
       "      <td>261</td>\n",
       "    </tr>\n",
       "    <tr>\n",
       "      <th>19343</th>\n",
       "      <td>0</td>\n",
       "      <td>2020-03-11 15:08:16.000000</td>\n",
       "      <td>VH:”bla bla bla bla bla”\\nAna Maria:” Faz o se...</td>\n",
       "      <td>0</td>\n",
       "      <td>0</td>\n",
       "      <td>São Paulo, Brasil</td>\n",
       "      <td>1734</td>\n",
       "      <td>9231</td>\n",
       "      <td>111</td>\n",
       "      <td>pt</td>\n",
       "      <td>pandasnowflake</td>\n",
       "      <td>wallysonnovaes</td>\n",
       "      <td>196</td>\n",
       "    </tr>\n",
       "    <tr>\n",
       "      <th>19400</th>\n",
       "      <td>0</td>\n",
       "      <td>2020-03-11 15:08:20.000000</td>\n",
       "      <td>Rafa tá desesperada por causa da manu desde se...</td>\n",
       "      <td>0</td>\n",
       "      <td>0</td>\n",
       "      <td>None</td>\n",
       "      <td>1747</td>\n",
       "      <td>6927</td>\n",
       "      <td>84</td>\n",
       "      <td>pt</td>\n",
       "      <td>ymthias</td>\n",
       "      <td>twittaandreza</td>\n",
       "      <td>196</td>\n",
       "    </tr>\n",
       "    <tr>\n",
       "      <th>19376</th>\n",
       "      <td>0</td>\n",
       "      <td>2020-03-11 15:08:18.000000</td>\n",
       "      <td>RT @jdbrmadrid: e o daniel que deu banana pro ...</td>\n",
       "      <td>0</td>\n",
       "      <td>0</td>\n",
       "      <td>None</td>\n",
       "      <td>0</td>\n",
       "      <td>0</td>\n",
       "      <td>0</td>\n",
       "      <td>pt</td>\n",
       "      <td>slytherab</td>\n",
       "      <td>jdbrmadrid</td>\n",
       "      <td>184</td>\n",
       "    </tr>\n",
       "    <tr>\n",
       "      <th>19272</th>\n",
       "      <td>0</td>\n",
       "      <td>2020-03-11 15:08:11.000000</td>\n",
       "      <td>Eu gosto da amizade dos dois, mas nunca vou es...</td>\n",
       "      <td>0</td>\n",
       "      <td>0</td>\n",
       "      <td>princess park</td>\n",
       "      <td>10485</td>\n",
       "      <td>72328</td>\n",
       "      <td>627</td>\n",
       "      <td>pt</td>\n",
       "      <td>theynamedmebia</td>\n",
       "      <td>luizguiprado</td>\n",
       "      <td>165</td>\n",
       "    </tr>\n",
       "    <tr>\n",
       "      <th>19092</th>\n",
       "      <td>0</td>\n",
       "      <td>2020-03-11 15:08:01.000000</td>\n",
       "      <td>RT @raregomezz: GENTE O VICTOR HUGO PEGOU A CO...</td>\n",
       "      <td>0</td>\n",
       "      <td>0</td>\n",
       "      <td>em algum lugar do tempo</td>\n",
       "      <td>0</td>\n",
       "      <td>0</td>\n",
       "      <td>0</td>\n",
       "      <td>pt</td>\n",
       "      <td>aflopadadoblog</td>\n",
       "      <td>raregomezz</td>\n",
       "      <td>161</td>\n",
       "    </tr>\n",
       "    <tr>\n",
       "      <th>19350</th>\n",
       "      <td>0</td>\n",
       "      <td>2020-03-11 15:08:16.000000</td>\n",
       "      <td>Manu defende Daniel: 'O lance é saber pedir de...</td>\n",
       "      <td>0</td>\n",
       "      <td>0</td>\n",
       "      <td>Bahia, Brasil</td>\n",
       "      <td>48</td>\n",
       "      <td>607</td>\n",
       "      <td>377</td>\n",
       "      <td>es</td>\n",
       "      <td>daicoments</td>\n",
       "      <td>bbb</td>\n",
       "      <td>151</td>\n",
       "    </tr>\n",
       "    <tr>\n",
       "      <th>18787</th>\n",
       "      <td>0</td>\n",
       "      <td>2020-03-11 15:07:42.000000</td>\n",
       "      <td>RT @Itspedrito: Gente... #BBB20 https://t.co/K...</td>\n",
       "      <td>0</td>\n",
       "      <td>0</td>\n",
       "      <td>Brasil</td>\n",
       "      <td>0</td>\n",
       "      <td>0</td>\n",
       "      <td>0</td>\n",
       "      <td>pt</td>\n",
       "      <td>RafaCoriolano</td>\n",
       "      <td>Itspedrito</td>\n",
       "      <td>150</td>\n",
       "    </tr>\n",
       "    <tr>\n",
       "      <th>19192</th>\n",
       "      <td>0</td>\n",
       "      <td>2020-03-11 15:08:07.000000</td>\n",
       "      <td>prior ''mano a marcela tá perdidinha no jogo ô...</td>\n",
       "      <td>0</td>\n",
       "      <td>0</td>\n",
       "      <td>Franca, Brasil</td>\n",
       "      <td>10904</td>\n",
       "      <td>82355</td>\n",
       "      <td>239</td>\n",
       "      <td>pt</td>\n",
       "      <td>LauraBucci15</td>\n",
       "      <td>gabilegalzlnha</td>\n",
       "      <td>143</td>\n",
       "    </tr>\n",
       "    <tr>\n",
       "      <th>19234</th>\n",
       "      <td>0</td>\n",
       "      <td>2020-03-11 15:08:09.000000</td>\n",
       "      <td>RT @LwithP: a reação da ana maria ouvindo o vi...</td>\n",
       "      <td>0</td>\n",
       "      <td>0</td>\n",
       "      <td>021/Caxias.</td>\n",
       "      <td>0</td>\n",
       "      <td>0</td>\n",
       "      <td>0</td>\n",
       "      <td>pt</td>\n",
       "      <td>sra_diass</td>\n",
       "      <td>LwithP</td>\n",
       "      <td>142</td>\n",
       "    </tr>\n",
       "    <tr>\n",
       "      <th>19338</th>\n",
       "      <td>0</td>\n",
       "      <td>2020-03-11 15:08:15.000000</td>\n",
       "      <td>RT @cleytu: e o Rafael Portugal se supera a ca...</td>\n",
       "      <td>0</td>\n",
       "      <td>0</td>\n",
       "      <td>None</td>\n",
       "      <td>0</td>\n",
       "      <td>0</td>\n",
       "      <td>0</td>\n",
       "      <td>pt</td>\n",
       "      <td>gersonscrf</td>\n",
       "      <td>cleytu</td>\n",
       "      <td>138</td>\n",
       "    </tr>\n",
       "    <tr>\n",
       "      <th>18878</th>\n",
       "      <td>0</td>\n",
       "      <td>2020-03-11 15:07:47.000000</td>\n",
       "      <td>É CAMPEÃO!\\n\\nVictor Hugo foi O PROTAGONISTA d...</td>\n",
       "      <td>0</td>\n",
       "      <td>0</td>\n",
       "      <td>None</td>\n",
       "      <td>1972</td>\n",
       "      <td>18014</td>\n",
       "      <td>583</td>\n",
       "      <td>pt</td>\n",
       "      <td>dreadfulady</td>\n",
       "      <td>victorhugers</td>\n",
       "      <td>127</td>\n",
       "    </tr>\n",
       "    <tr>\n",
       "      <th>19398</th>\n",
       "      <td>0</td>\n",
       "      <td>2020-03-11 15:08:19.000000</td>\n",
       "      <td>Manu e Babu agora na xepa, um clima muito bom....</td>\n",
       "      <td>0</td>\n",
       "      <td>0</td>\n",
       "      <td>Salvador, Brasil</td>\n",
       "      <td>101</td>\n",
       "      <td>543</td>\n",
       "      <td>19</td>\n",
       "      <td>pt</td>\n",
       "      <td>aludmil4</td>\n",
       "      <td>RenataMaccor</td>\n",
       "      <td>114</td>\n",
       "    </tr>\n",
       "    <tr>\n",
       "      <th>19377</th>\n",
       "      <td>0</td>\n",
       "      <td>2020-03-11 15:08:18.000000</td>\n",
       "      <td>Rafa sai em defesa de Prior e diz que prefere ...</td>\n",
       "      <td>0</td>\n",
       "      <td>0</td>\n",
       "      <td>None</td>\n",
       "      <td>41</td>\n",
       "      <td>252</td>\n",
       "      <td>40</td>\n",
       "      <td>pt</td>\n",
       "      <td>Phrases_Dulce</td>\n",
       "      <td>mexericaryca</td>\n",
       "      <td>106</td>\n",
       "    </tr>\n",
       "    <tr>\n",
       "      <th>18435</th>\n",
       "      <td>0</td>\n",
       "      <td>2020-03-11 15:07:19.000000</td>\n",
       "      <td>“eu fiz o meu melhor. dancei até o chão, brigu...</td>\n",
       "      <td>0</td>\n",
       "      <td>0</td>\n",
       "      <td>None</td>\n",
       "      <td>15775</td>\n",
       "      <td>127753</td>\n",
       "      <td>664</td>\n",
       "      <td>pt</td>\n",
       "      <td>tadoendoascosta</td>\n",
       "      <td>lucioaraujo_</td>\n",
       "      <td>97</td>\n",
       "    </tr>\n",
       "    <tr>\n",
       "      <th>19388</th>\n",
       "      <td>0</td>\n",
       "      <td>2020-03-11 15:08:18.000000</td>\n",
       "      <td>manu: \"babu, você quer que eu faça alguma cois...</td>\n",
       "      <td>0</td>\n",
       "      <td>0</td>\n",
       "      <td>None</td>\n",
       "      <td>73</td>\n",
       "      <td>494</td>\n",
       "      <td>6</td>\n",
       "      <td>pt</td>\n",
       "      <td>pixxtole_se</td>\n",
       "      <td>yorancomenta</td>\n",
       "      <td>90</td>\n",
       "    </tr>\n",
       "    <tr>\n",
       "      <th>19361</th>\n",
       "      <td>0</td>\n",
       "      <td>2020-03-11 15:08:17.000000</td>\n",
       "      <td>#BBB20 #MaisVoce \\n\\nVH: Blá blá blá\\n\\nLouro ...</td>\n",
       "      <td>0</td>\n",
       "      <td>0</td>\n",
       "      <td>Penápolis, Brasil</td>\n",
       "      <td>418</td>\n",
       "      <td>2290</td>\n",
       "      <td>15</td>\n",
       "      <td>tl</td>\n",
       "      <td>CampanhaEdson</td>\n",
       "      <td>XSillyGirl1</td>\n",
       "      <td>89</td>\n",
       "    </tr>\n",
       "    <tr>\n",
       "      <th>19250</th>\n",
       "      <td>0</td>\n",
       "      <td>2020-03-11 15:08:10.000000</td>\n",
       "      <td>Rafa compara Flayslane com Felipe: 'É uma bala...</td>\n",
       "      <td>0</td>\n",
       "      <td>0</td>\n",
       "      <td>São Paulo, Brasil</td>\n",
       "      <td>14</td>\n",
       "      <td>429</td>\n",
       "      <td>153</td>\n",
       "      <td>pt</td>\n",
       "      <td>CrisLuciano5</td>\n",
       "      <td>bbb</td>\n",
       "      <td>83</td>\n",
       "    </tr>\n",
       "    <tr>\n",
       "      <th>19251</th>\n",
       "      <td>0</td>\n",
       "      <td>2020-03-11 15:08:10.000000</td>\n",
       "      <td>RT @diorcardib: a gizelly: e ai, transou? foi ...</td>\n",
       "      <td>0</td>\n",
       "      <td>0</td>\n",
       "      <td>Niterói</td>\n",
       "      <td>0</td>\n",
       "      <td>0</td>\n",
       "      <td>0</td>\n",
       "      <td>pt</td>\n",
       "      <td>BruhCosta1254</td>\n",
       "      <td>diorcardib</td>\n",
       "      <td>81</td>\n",
       "    </tr>\n",
       "    <tr>\n",
       "      <th>...</th>\n",
       "      <td>...</td>\n",
       "      <td>...</td>\n",
       "      <td>...</td>\n",
       "      <td>...</td>\n",
       "      <td>...</td>\n",
       "      <td>...</td>\n",
       "      <td>...</td>\n",
       "      <td>...</td>\n",
       "      <td>...</td>\n",
       "      <td>...</td>\n",
       "      <td>...</td>\n",
       "      <td>...</td>\n",
       "      <td>...</td>\n",
       "    </tr>\n",
       "    <tr>\n",
       "      <th>9610</th>\n",
       "      <td>0</td>\n",
       "      <td>2020-03-11 14:58:24.000000</td>\n",
       "      <td>Falem para a interesseira @manugavassi não sai...</td>\n",
       "      <td>0</td>\n",
       "      <td>0</td>\n",
       "      <td>Brasil</td>\n",
       "      <td>0</td>\n",
       "      <td>0</td>\n",
       "      <td>0</td>\n",
       "      <td>pt</td>\n",
       "      <td>PATRIO_TA</td>\n",
       "      <td>None</td>\n",
       "      <td>1</td>\n",
       "    </tr>\n",
       "    <tr>\n",
       "      <th>9456</th>\n",
       "      <td>0</td>\n",
       "      <td>2020-03-11 14:58:14.000000</td>\n",
       "      <td>PELA PRIMEIRA VEZ EU CONCORDO COM A FLAY SOCOR...</td>\n",
       "      <td>0</td>\n",
       "      <td>0</td>\n",
       "      <td>São Paulo, Brasil</td>\n",
       "      <td>0</td>\n",
       "      <td>0</td>\n",
       "      <td>0</td>\n",
       "      <td>pt</td>\n",
       "      <td>RobbersMilk</td>\n",
       "      <td>None</td>\n",
       "      <td>1</td>\n",
       "    </tr>\n",
       "    <tr>\n",
       "      <th>9534</th>\n",
       "      <td>0</td>\n",
       "      <td>2020-03-11 14:58:19.000000</td>\n",
       "      <td>ORDEM DE ELIMINAÇÃO DO #BBB20 \\n\\nDaniel \\nMar...</td>\n",
       "      <td>0</td>\n",
       "      <td>0</td>\n",
       "      <td>None</td>\n",
       "      <td>0</td>\n",
       "      <td>0</td>\n",
       "      <td>0</td>\n",
       "      <td>ro</td>\n",
       "      <td>satanitta</td>\n",
       "      <td>None</td>\n",
       "      <td>1</td>\n",
       "    </tr>\n",
       "    <tr>\n",
       "      <th>9458</th>\n",
       "      <td>0</td>\n",
       "      <td>2020-03-11 14:58:14.000000</td>\n",
       "      <td>Hoje definitivamente coloco minha torcida pro ...</td>\n",
       "      <td>0</td>\n",
       "      <td>0</td>\n",
       "      <td>None</td>\n",
       "      <td>0</td>\n",
       "      <td>0</td>\n",
       "      <td>0</td>\n",
       "      <td>pt</td>\n",
       "      <td>vitorjoa1</td>\n",
       "      <td>None</td>\n",
       "      <td>1</td>\n",
       "    </tr>\n",
       "    <tr>\n",
       "      <th>9460</th>\n",
       "      <td>0</td>\n",
       "      <td>2020-03-11 14:58:15.000000</td>\n",
       "      <td>a gizelly matando a marcela “ ela é advogada e...</td>\n",
       "      <td>0</td>\n",
       "      <td>0</td>\n",
       "      <td>Caraguatatuba, Brasil</td>\n",
       "      <td>29</td>\n",
       "      <td>178</td>\n",
       "      <td>4</td>\n",
       "      <td>pt</td>\n",
       "      <td>_anelove</td>\n",
       "      <td>savio097</td>\n",
       "      <td>1</td>\n",
       "    </tr>\n",
       "    <tr>\n",
       "      <th>9466</th>\n",
       "      <td>0</td>\n",
       "      <td>2020-03-11 14:58:15.000000</td>\n",
       "      <td>Manu cozinhando pro Babu e pro Prior na cozinh...</td>\n",
       "      <td>0</td>\n",
       "      <td>0</td>\n",
       "      <td>Porto Alegre, Brasil</td>\n",
       "      <td>0</td>\n",
       "      <td>0</td>\n",
       "      <td>0</td>\n",
       "      <td>pt</td>\n",
       "      <td>alebilson</td>\n",
       "      <td>None</td>\n",
       "      <td>1</td>\n",
       "    </tr>\n",
       "    <tr>\n",
       "      <th>9468</th>\n",
       "      <td>0</td>\n",
       "      <td>2020-03-11 14:58:15.000000</td>\n",
       "      <td>Gente vocês sabiam que a Simone de Beauvoir es...</td>\n",
       "      <td>0</td>\n",
       "      <td>0</td>\n",
       "      <td>Chernobyl</td>\n",
       "      <td>0</td>\n",
       "      <td>0</td>\n",
       "      <td>0</td>\n",
       "      <td>pt</td>\n",
       "      <td>dr_biel</td>\n",
       "      <td>None</td>\n",
       "      <td>1</td>\n",
       "    </tr>\n",
       "    <tr>\n",
       "      <th>9476</th>\n",
       "      <td>0</td>\n",
       "      <td>2020-03-11 14:58:15.000000</td>\n",
       "      <td>Quem sai? Flay x Daniel #bbb20 #RedeBBB</td>\n",
       "      <td>0</td>\n",
       "      <td>0</td>\n",
       "      <td>None</td>\n",
       "      <td>0</td>\n",
       "      <td>0</td>\n",
       "      <td>0</td>\n",
       "      <td>pt</td>\n",
       "      <td>pottariana</td>\n",
       "      <td>None</td>\n",
       "      <td>1</td>\n",
       "    </tr>\n",
       "    <tr>\n",
       "      <th>9486</th>\n",
       "      <td>0</td>\n",
       "      <td>2020-03-11 14:58:16.000000</td>\n",
       "      <td>prior eh branco latino</td>\n",
       "      <td>0</td>\n",
       "      <td>0</td>\n",
       "      <td>São Paulo, Brasil</td>\n",
       "      <td>0</td>\n",
       "      <td>0</td>\n",
       "      <td>0</td>\n",
       "      <td>it</td>\n",
       "      <td>tinasfuck</td>\n",
       "      <td>None</td>\n",
       "      <td>1</td>\n",
       "    </tr>\n",
       "    <tr>\n",
       "      <th>9494</th>\n",
       "      <td>0</td>\n",
       "      <td>2020-03-11 14:58:16.000000</td>\n",
       "      <td>KKKKKKKKKKKKM</td>\n",
       "      <td>0</td>\n",
       "      <td>0</td>\n",
       "      <td>Guarujá, Brasil</td>\n",
       "      <td>0</td>\n",
       "      <td>0</td>\n",
       "      <td>0</td>\n",
       "      <td>und</td>\n",
       "      <td>thaimurari13</td>\n",
       "      <td>None</td>\n",
       "      <td>1</td>\n",
       "    </tr>\n",
       "    <tr>\n",
       "      <th>9506</th>\n",
       "      <td>0</td>\n",
       "      <td>2020-03-11 14:58:17.000000</td>\n",
       "      <td>Lindíssima falou tudo</td>\n",
       "      <td>0</td>\n",
       "      <td>0</td>\n",
       "      <td>None</td>\n",
       "      <td>0</td>\n",
       "      <td>0</td>\n",
       "      <td>0</td>\n",
       "      <td>pt</td>\n",
       "      <td>nicolevilela5</td>\n",
       "      <td>None</td>\n",
       "      <td>1</td>\n",
       "    </tr>\n",
       "    <tr>\n",
       "      <th>9508</th>\n",
       "      <td>0</td>\n",
       "      <td>2020-03-11 14:58:17.000000</td>\n",
       "      <td>La vem um pãozinho com ovo pro felipe tb hahaa...</td>\n",
       "      <td>0</td>\n",
       "      <td>0</td>\n",
       "      <td>None</td>\n",
       "      <td>0</td>\n",
       "      <td>0</td>\n",
       "      <td>0</td>\n",
       "      <td>pt</td>\n",
       "      <td>euseitudoo</td>\n",
       "      <td>None</td>\n",
       "      <td>1</td>\n",
       "    </tr>\n",
       "    <tr>\n",
       "      <th>9509</th>\n",
       "      <td>0</td>\n",
       "      <td>2020-03-11 14:58:17.000000</td>\n",
       "      <td>Vcs são perfeitos!</td>\n",
       "      <td>0</td>\n",
       "      <td>0</td>\n",
       "      <td>PoA - RS</td>\n",
       "      <td>0</td>\n",
       "      <td>0</td>\n",
       "      <td>0</td>\n",
       "      <td>pt</td>\n",
       "      <td>gracipalacios</td>\n",
       "      <td>None</td>\n",
       "      <td>1</td>\n",
       "    </tr>\n",
       "    <tr>\n",
       "      <th>9511</th>\n",
       "      <td>0</td>\n",
       "      <td>2020-03-11 14:58:17.000000</td>\n",
       "      <td>RT @CacauRatimbum: Ahahahahahahahha ❤️U Babuuu...</td>\n",
       "      <td>0</td>\n",
       "      <td>0</td>\n",
       "      <td>Fan account</td>\n",
       "      <td>0</td>\n",
       "      <td>0</td>\n",
       "      <td>0</td>\n",
       "      <td>pt</td>\n",
       "      <td>fazapessega_</td>\n",
       "      <td>CacauRatimbum</td>\n",
       "      <td>1</td>\n",
       "    </tr>\n",
       "    <tr>\n",
       "      <th>9527</th>\n",
       "      <td>0</td>\n",
       "      <td>2020-03-11 14:58:18.000000</td>\n",
       "      <td>mortíssima aqui 😍</td>\n",
       "      <td>0</td>\n",
       "      <td>0</td>\n",
       "      <td>Belo Horizonte-MG</td>\n",
       "      <td>0</td>\n",
       "      <td>0</td>\n",
       "      <td>0</td>\n",
       "      <td>pt</td>\n",
       "      <td>farriagui</td>\n",
       "      <td>None</td>\n",
       "      <td>1</td>\n",
       "    </tr>\n",
       "    <tr>\n",
       "      <th>9542</th>\n",
       "      <td>0</td>\n",
       "      <td>2020-03-11 14:58:19.000000</td>\n",
       "      <td>Tá bom Pyong já deu essa brincadeira besta, já...</td>\n",
       "      <td>0</td>\n",
       "      <td>0</td>\n",
       "      <td>None</td>\n",
       "      <td>1</td>\n",
       "      <td>19</td>\n",
       "      <td>2</td>\n",
       "      <td>und</td>\n",
       "      <td>g2e0m0a0</td>\n",
       "      <td>elustosaf</td>\n",
       "      <td>1</td>\n",
       "    </tr>\n",
       "    <tr>\n",
       "      <th>9607</th>\n",
       "      <td>0</td>\n",
       "      <td>2020-03-11 14:58:23.000000</td>\n",
       "      <td>é impossível ouvir don't start now e não lembr...</td>\n",
       "      <td>0</td>\n",
       "      <td>0</td>\n",
       "      <td>Natal/RN</td>\n",
       "      <td>1</td>\n",
       "      <td>16</td>\n",
       "      <td>0</td>\n",
       "      <td>pt</td>\n",
       "      <td>eu_victor13</td>\n",
       "      <td>jaonitta</td>\n",
       "      <td>1</td>\n",
       "    </tr>\n",
       "    <tr>\n",
       "      <th>9544</th>\n",
       "      <td>0</td>\n",
       "      <td>2020-03-11 14:58:19.000000</td>\n",
       "      <td>RT @dougeoliveira: Huuum kkkk bjs! #MaisVoce #...</td>\n",
       "      <td>0</td>\n",
       "      <td>0</td>\n",
       "      <td>Passo Fundo, Brasil</td>\n",
       "      <td>0</td>\n",
       "      <td>0</td>\n",
       "      <td>0</td>\n",
       "      <td>pt</td>\n",
       "      <td>destrilucas</td>\n",
       "      <td>dougeoliveira</td>\n",
       "      <td>1</td>\n",
       "    </tr>\n",
       "    <tr>\n",
       "      <th>9556</th>\n",
       "      <td>0</td>\n",
       "      <td>2020-03-11 14:58:20.000000</td>\n",
       "      <td>RT @andersonccc28: Saudades dos tempo de Pânic...</td>\n",
       "      <td>0</td>\n",
       "      <td>0</td>\n",
       "      <td>#MeuCaldeirão</td>\n",
       "      <td>0</td>\n",
       "      <td>0</td>\n",
       "      <td>0</td>\n",
       "      <td>pt</td>\n",
       "      <td>RumoaoNossoCT</td>\n",
       "      <td>andersonccc28</td>\n",
       "      <td>1</td>\n",
       "    </tr>\n",
       "    <tr>\n",
       "      <th>9561</th>\n",
       "      <td>0</td>\n",
       "      <td>2020-03-11 14:58:20.000000</td>\n",
       "      <td>Eu tb quero saber como a Manu faz esse pão com...</td>\n",
       "      <td>0</td>\n",
       "      <td>0</td>\n",
       "      <td>São Paulo</td>\n",
       "      <td>0</td>\n",
       "      <td>0</td>\n",
       "      <td>0</td>\n",
       "      <td>pt</td>\n",
       "      <td>TatAvril</td>\n",
       "      <td>None</td>\n",
       "      <td>1</td>\n",
       "    </tr>\n",
       "    <tr>\n",
       "      <th>9565</th>\n",
       "      <td>0</td>\n",
       "      <td>2020-03-11 14:58:20.000000</td>\n",
       "      <td>bolsonaro nsfw bts kpop 18+ dom exo sub porn p...</td>\n",
       "      <td>0</td>\n",
       "      <td>0</td>\n",
       "      <td>❀︎</td>\n",
       "      <td>0</td>\n",
       "      <td>0</td>\n",
       "      <td>0</td>\n",
       "      <td>en</td>\n",
       "      <td>9sIut</td>\n",
       "      <td>None</td>\n",
       "      <td>1</td>\n",
       "    </tr>\n",
       "    <tr>\n",
       "      <th>9574</th>\n",
       "      <td>0</td>\n",
       "      <td>2020-03-11 14:58:21.000000</td>\n",
       "      <td>Por mim a flay indo com o sabugo ou qualquer d...</td>\n",
       "      <td>0</td>\n",
       "      <td>0</td>\n",
       "      <td>sp</td>\n",
       "      <td>0</td>\n",
       "      <td>0</td>\n",
       "      <td>0</td>\n",
       "      <td>pt</td>\n",
       "      <td>naycomentou</td>\n",
       "      <td>None</td>\n",
       "      <td>1</td>\n",
       "    </tr>\n",
       "    <tr>\n",
       "      <th>9575</th>\n",
       "      <td>0</td>\n",
       "      <td>2020-03-11 14:58:21.000000</td>\n",
       "      <td>RT @ops_thai: digo e repito que foi o melhor b...</td>\n",
       "      <td>0</td>\n",
       "      <td>0</td>\n",
       "      <td>None</td>\n",
       "      <td>0</td>\n",
       "      <td>0</td>\n",
       "      <td>0</td>\n",
       "      <td>pt</td>\n",
       "      <td>Paesju9</td>\n",
       "      <td>ops_thai</td>\n",
       "      <td>1</td>\n",
       "    </tr>\n",
       "    <tr>\n",
       "      <th>9578</th>\n",
       "      <td>0</td>\n",
       "      <td>2020-03-11 14:58:21.000000</td>\n",
       "      <td>Alguém avisa que isso é furto!!!!!</td>\n",
       "      <td>0</td>\n",
       "      <td>0</td>\n",
       "      <td>Rio de Janeiro, Brasil</td>\n",
       "      <td>0</td>\n",
       "      <td>0</td>\n",
       "      <td>0</td>\n",
       "      <td>pt</td>\n",
       "      <td>Carlamattos98</td>\n",
       "      <td>None</td>\n",
       "      <td>1</td>\n",
       "    </tr>\n",
       "    <tr>\n",
       "      <th>9584</th>\n",
       "      <td>0</td>\n",
       "      <td>2020-03-11 14:58:22.000000</td>\n",
       "      <td>RT @rodzeiro: Gizelly perguntando pro Pyong so...</td>\n",
       "      <td>0</td>\n",
       "      <td>0</td>\n",
       "      <td>None</td>\n",
       "      <td>0</td>\n",
       "      <td>0</td>\n",
       "      <td>0</td>\n",
       "      <td>pt</td>\n",
       "      <td>shamelesswarhol</td>\n",
       "      <td>rodzeiro</td>\n",
       "      <td>1</td>\n",
       "    </tr>\n",
       "    <tr>\n",
       "      <th>9588</th>\n",
       "      <td>0</td>\n",
       "      <td>2020-03-11 14:58:22.000000</td>\n",
       "      <td>mano????? sério q esse cara é psicólogo???????</td>\n",
       "      <td>0</td>\n",
       "      <td>0</td>\n",
       "      <td>Bauru, Brasil</td>\n",
       "      <td>0</td>\n",
       "      <td>0</td>\n",
       "      <td>0</td>\n",
       "      <td>pt</td>\n",
       "      <td>gigspires</td>\n",
       "      <td>None</td>\n",
       "      <td>1</td>\n",
       "    </tr>\n",
       "    <tr>\n",
       "      <th>2622</th>\n",
       "      <td>0</td>\n",
       "      <td>2020-03-11 14:51:06.000000</td>\n",
       "      <td>Passo mal</td>\n",
       "      <td>0</td>\n",
       "      <td>0</td>\n",
       "      <td>Fortaleza, Brasil</td>\n",
       "      <td>0</td>\n",
       "      <td>0</td>\n",
       "      <td>0</td>\n",
       "      <td>pt</td>\n",
       "      <td>metilguigu</td>\n",
       "      <td>None</td>\n",
       "      <td>1</td>\n",
       "    </tr>\n",
       "    <tr>\n",
       "      <th>9603</th>\n",
       "      <td>0</td>\n",
       "      <td>2020-03-11 14:58:23.000000</td>\n",
       "      <td>RT @Lua69863952: Boninho arruma esse monstro p...</td>\n",
       "      <td>0</td>\n",
       "      <td>0</td>\n",
       "      <td>Santa Izabel Pará Brasil</td>\n",
       "      <td>0</td>\n",
       "      <td>0</td>\n",
       "      <td>0</td>\n",
       "      <td>pt</td>\n",
       "      <td>LuannSiilvaa</td>\n",
       "      <td>Lua69863952</td>\n",
       "      <td>1</td>\n",
       "    </tr>\n",
       "    <tr>\n",
       "      <th>2617</th>\n",
       "      <td>0</td>\n",
       "      <td>2020-03-11 14:51:05.000000</td>\n",
       "      <td>@gilalemos @desvendaparcial https://t.co/sEp9v...</td>\n",
       "      <td>0</td>\n",
       "      <td>0</td>\n",
       "      <td>None</td>\n",
       "      <td>0</td>\n",
       "      <td>0</td>\n",
       "      <td>0</td>\n",
       "      <td>und</td>\n",
       "      <td>BBBNaWeb</td>\n",
       "      <td>None</td>\n",
       "      <td>1</td>\n",
       "    </tr>\n",
       "    <tr>\n",
       "      <th>8</th>\n",
       "      <td>0</td>\n",
       "      <td>2020-03-11 14:48:26.000000</td>\n",
       "      <td>Manu: Aqui todo mundo erra, o que difere é a f...</td>\n",
       "      <td>0</td>\n",
       "      <td>0</td>\n",
       "      <td>Osasco, Brasil🇧🇷</td>\n",
       "      <td>1</td>\n",
       "      <td>3</td>\n",
       "      <td>1</td>\n",
       "      <td>pt</td>\n",
       "      <td>anacarlatattoo</td>\n",
       "      <td>carolini_lisboa</td>\n",
       "      <td>1</td>\n",
       "    </tr>\n",
       "  </tbody>\n",
       "</table>\n",
       "<p>4656 rows × 13 columns</p>\n",
       "</div>"
      ],
      "text/plain": [
       "       index                  created_at  \\\n",
       "19351      0  2020-03-11 15:08:16.000000   \n",
       "19382      0  2020-03-11 15:08:18.000000   \n",
       "19390      0  2020-03-11 15:08:19.000000   \n",
       "19402      0  2020-03-11 15:08:20.000000   \n",
       "19292      0  2020-03-11 15:08:13.000000   \n",
       "...      ...                         ...   \n",
       "9588       0  2020-03-11 14:58:22.000000   \n",
       "2622       0  2020-03-11 14:51:06.000000   \n",
       "9603       0  2020-03-11 14:58:23.000000   \n",
       "2617       0  2020-03-11 14:51:05.000000   \n",
       "8          0  2020-03-11 14:48:26.000000   \n",
       "\n",
       "                                                    text  verified  retweeted  \\\n",
       "19351  A casa com um monte de “militante” e só quem a...         0          0   \n",
       "19382  RT @pedrohales: o babu é um exemplo de vítima ...         0          0   \n",
       "19390                   RT @rafaportugalc: TO ZUAAAAANDO         0          0   \n",
       "19402  E com 85% dos votos, Victor Hugo até então, é ...         0          0   \n",
       "19292  RT @bbb: Música: Dancela\\nArtista: @rafaportug...         0          0   \n",
       "...                                                  ...       ...        ...   \n",
       "9588      mano????? sério q esse cara é psicólogo???????         0          0   \n",
       "2622                                           Passo mal         0          0   \n",
       "9603   RT @Lua69863952: Boninho arruma esse monstro p...         0          0   \n",
       "2617   @gilalemos @desvendaparcial https://t.co/sEp9v...         0          0   \n",
       "8      Manu: Aqui todo mundo erra, o que difere é a f...         0          0   \n",
       "\n",
       "                       location  retweeted_counts  likes_counts  reply_counts  \\\n",
       "19351           Timóteo, Brasil             10488         72345           627   \n",
       "19382    Santa Catarina, Brasil                 0             0             0   \n",
       "19390                      None                 0             0             0   \n",
       "19402                      None             20259        102618           419   \n",
       "19292                         💍                 0             0             0   \n",
       "...                         ...               ...           ...           ...   \n",
       "9588              Bauru, Brasil                 0             0             0   \n",
       "2622          Fortaleza, Brasil                 0             0             0   \n",
       "9603   Santa Izabel Pará Brasil                 0             0             0   \n",
       "2617                       None                 0             0             0   \n",
       "8              Osasco, Brasil🇧🇷                 1             3             1   \n",
       "\n",
       "      lang          id_user  orig_tweet_user  ret_count  \n",
       "19351   pt       Lucao04Edu     luizguiprado        712  \n",
       "19382   pt     heidemannigr       pedrohales        539  \n",
       "19390   pt  patriciojulia08    rafaportugalc        509  \n",
       "19402   pt       karolcost2     SlytherclawZ        488  \n",
       "19292   pt   oliveiraj_Anne              bbb        415  \n",
       "...    ...              ...              ...        ...  \n",
       "9588    pt        gigspires             None          1  \n",
       "2622    pt       metilguigu             None          1  \n",
       "9603    pt     LuannSiilvaa      Lua69863952          1  \n",
       "2617   und         BBBNaWeb             None          1  \n",
       "8       pt   anacarlatattoo  carolini_lisboa          1  \n",
       "\n",
       "[4656 rows x 13 columns]"
      ]
     },
     "execution_count": 28,
     "metadata": {},
     "output_type": "execute_result"
    }
   ],
   "source": [
    "df.drop_duplicates('text', keep='last').sort_values('ret_count', ascending=False)"
   ]
  },
  {
   "cell_type": "code",
   "execution_count": 29,
   "metadata": {},
   "outputs": [
    {
     "data": {
      "text/html": [
       "<div>\n",
       "<style scoped>\n",
       "    .dataframe tbody tr th:only-of-type {\n",
       "        vertical-align: middle;\n",
       "    }\n",
       "\n",
       "    .dataframe tbody tr th {\n",
       "        vertical-align: top;\n",
       "    }\n",
       "\n",
       "    .dataframe thead th {\n",
       "        text-align: right;\n",
       "    }\n",
       "</style>\n",
       "<table border=\"1\" class=\"dataframe\">\n",
       "  <thead>\n",
       "    <tr style=\"text-align: right;\">\n",
       "      <th></th>\n",
       "      <th>index</th>\n",
       "      <th>created_at</th>\n",
       "      <th>text</th>\n",
       "      <th>verified</th>\n",
       "      <th>retweeted</th>\n",
       "      <th>location</th>\n",
       "      <th>retweeted_counts</th>\n",
       "      <th>likes_counts</th>\n",
       "      <th>reply_counts</th>\n",
       "      <th>lang</th>\n",
       "      <th>id_user</th>\n",
       "      <th>orig_tweet_user</th>\n",
       "      <th>ret_count</th>\n",
       "    </tr>\n",
       "  </thead>\n",
       "  <tbody>\n",
       "    <tr>\n",
       "      <th>13893</th>\n",
       "      <td>0</td>\n",
       "      <td>2020-03-11 15:02:39.000000</td>\n",
       "      <td>Ei @boninho eu tive uma ideia de prova!!!! Peg...</td>\n",
       "      <td>0</td>\n",
       "      <td>0</td>\n",
       "      <td>Rio de Janeiro, Brasil</td>\n",
       "      <td>50726</td>\n",
       "      <td>271244</td>\n",
       "      <td>9530</td>\n",
       "      <td>pt</td>\n",
       "      <td>AneOliveiraan</td>\n",
       "      <td>delhpine</td>\n",
       "      <td>2</td>\n",
       "    </tr>\n",
       "    <tr>\n",
       "      <th>4745</th>\n",
       "      <td>0</td>\n",
       "      <td>2020-03-11 14:53:16.000000</td>\n",
       "      <td>Prior: \"Tudo que ele (Daniel) fizer, eu também...</td>\n",
       "      <td>0</td>\n",
       "      <td>0</td>\n",
       "      <td>None</td>\n",
       "      <td>22161</td>\n",
       "      <td>147218</td>\n",
       "      <td>293</td>\n",
       "      <td>pt</td>\n",
       "      <td>glass_hawk</td>\n",
       "      <td>itolindoo</td>\n",
       "      <td>1</td>\n",
       "    </tr>\n",
       "    <tr>\n",
       "      <th>6382</th>\n",
       "      <td>0</td>\n",
       "      <td>2020-03-11 14:55:00.000000</td>\n",
       "      <td>prior ''ô babu cê ficou sabendo que a thelminh...</td>\n",
       "      <td>0</td>\n",
       "      <td>0</td>\n",
       "      <td>Anápolis, Brasil</td>\n",
       "      <td>20880</td>\n",
       "      <td>182356</td>\n",
       "      <td>465</td>\n",
       "      <td>pt</td>\n",
       "      <td>Geehcosta_r</td>\n",
       "      <td>gabilegalzlnha</td>\n",
       "      <td>1</td>\n",
       "    </tr>\n",
       "    <tr>\n",
       "      <th>7945</th>\n",
       "      <td>0</td>\n",
       "      <td>2020-03-11 14:56:43.000000</td>\n",
       "      <td>é muito simbólico o pai da gizelly ter sido as...</td>\n",
       "      <td>0</td>\n",
       "      <td>0</td>\n",
       "      <td>None</td>\n",
       "      <td>20498</td>\n",
       "      <td>133330</td>\n",
       "      <td>259</td>\n",
       "      <td>und</td>\n",
       "      <td>Fernand18304050</td>\n",
       "      <td>normaniresist</td>\n",
       "      <td>1</td>\n",
       "    </tr>\n",
       "    <tr>\n",
       "      <th>878</th>\n",
       "      <td>0</td>\n",
       "      <td>2020-03-11 14:49:21.000000</td>\n",
       "      <td>\"Cara, a Marcela me olha de um jeito… do mesmo...</td>\n",
       "      <td>0</td>\n",
       "      <td>0</td>\n",
       "      <td>IRAQUE LÁ NO MANGUINHO🇮🇶🚩</td>\n",
       "      <td>20497</td>\n",
       "      <td>106738</td>\n",
       "      <td>610</td>\n",
       "      <td>pt</td>\n",
       "      <td>PHTRZ27_</td>\n",
       "      <td>DejotaCn</td>\n",
       "      <td>1</td>\n",
       "    </tr>\n",
       "    <tr>\n",
       "      <th>939</th>\n",
       "      <td>0</td>\n",
       "      <td>2020-03-11 14:49:25.000000</td>\n",
       "      <td>Pra quem não sabe essa patroa que babu fala, é...</td>\n",
       "      <td>0</td>\n",
       "      <td>0</td>\n",
       "      <td>IRAQUE LÁ NO MANGUINHO🇮🇶🚩</td>\n",
       "      <td>20497</td>\n",
       "      <td>106738</td>\n",
       "      <td>610</td>\n",
       "      <td>pt</td>\n",
       "      <td>PHTRZ27_</td>\n",
       "      <td>DejotaCn</td>\n",
       "      <td>1</td>\n",
       "    </tr>\n",
       "    <tr>\n",
       "      <th>19402</th>\n",
       "      <td>0</td>\n",
       "      <td>2020-03-11 15:08:20.000000</td>\n",
       "      <td>E com 85% dos votos, Victor Hugo até então, é ...</td>\n",
       "      <td>0</td>\n",
       "      <td>0</td>\n",
       "      <td>None</td>\n",
       "      <td>20259</td>\n",
       "      <td>102618</td>\n",
       "      <td>419</td>\n",
       "      <td>pt</td>\n",
       "      <td>karolcost2</td>\n",
       "      <td>SlytherclawZ</td>\n",
       "      <td>488</td>\n",
       "    </tr>\n",
       "    <tr>\n",
       "      <th>18435</th>\n",
       "      <td>0</td>\n",
       "      <td>2020-03-11 15:07:19.000000</td>\n",
       "      <td>“eu fiz o meu melhor. dancei até o chão, brigu...</td>\n",
       "      <td>0</td>\n",
       "      <td>0</td>\n",
       "      <td>None</td>\n",
       "      <td>15775</td>\n",
       "      <td>127753</td>\n",
       "      <td>664</td>\n",
       "      <td>pt</td>\n",
       "      <td>tadoendoascosta</td>\n",
       "      <td>lucioaraujo_</td>\n",
       "      <td>97</td>\n",
       "    </tr>\n",
       "    <tr>\n",
       "      <th>19038</th>\n",
       "      <td>0</td>\n",
       "      <td>2020-03-11 15:07:57.000000</td>\n",
       "      <td>sem dúvidas esse termo nunca foi usado na exis...</td>\n",
       "      <td>0</td>\n",
       "      <td>0</td>\n",
       "      <td>fan account</td>\n",
       "      <td>15400</td>\n",
       "      <td>103645</td>\n",
       "      <td>1038</td>\n",
       "      <td>pt</td>\n",
       "      <td>tataishendo</td>\n",
       "      <td>exawstiva</td>\n",
       "      <td>25</td>\n",
       "    </tr>\n",
       "    <tr>\n",
       "      <th>9832</th>\n",
       "      <td>0</td>\n",
       "      <td>2020-03-11 14:58:35.000000</td>\n",
       "      <td>O Daniel fez um comentário machista na sala, a...</td>\n",
       "      <td>0</td>\n",
       "      <td>0</td>\n",
       "      <td>None</td>\n",
       "      <td>15338</td>\n",
       "      <td>98292</td>\n",
       "      <td>348</td>\n",
       "      <td>pt</td>\n",
       "      <td>baapresto</td>\n",
       "      <td>rodzeiro</td>\n",
       "      <td>1</td>\n",
       "    </tr>\n",
       "    <tr>\n",
       "      <th>15913</th>\n",
       "      <td>0</td>\n",
       "      <td>2020-03-11 15:04:46.000000</td>\n",
       "      <td>o rafael portugal é o funcionário que passa o ...</td>\n",
       "      <td>0</td>\n",
       "      <td>0</td>\n",
       "      <td>Rio de Janeiro, Brasil</td>\n",
       "      <td>14991</td>\n",
       "      <td>73324</td>\n",
       "      <td>176</td>\n",
       "      <td>und</td>\n",
       "      <td>Vventuram</td>\n",
       "      <td>sweetgwlaxy</td>\n",
       "      <td>11</td>\n",
       "    </tr>\n",
       "    <tr>\n",
       "      <th>14246</th>\n",
       "      <td>0</td>\n",
       "      <td>2020-03-11 15:03:02.000000</td>\n",
       "      <td>Gizelly: “Você sabe o que é um menino negro de...</td>\n",
       "      <td>0</td>\n",
       "      <td>0</td>\n",
       "      <td>None</td>\n",
       "      <td>14969</td>\n",
       "      <td>76140</td>\n",
       "      <td>190</td>\n",
       "      <td>pt</td>\n",
       "      <td>mlouiise_</td>\n",
       "      <td>lovfoolish</td>\n",
       "      <td>4</td>\n",
       "    </tr>\n",
       "    <tr>\n",
       "      <th>4262</th>\n",
       "      <td>0</td>\n",
       "      <td>2020-03-11 14:52:45.000000</td>\n",
       "      <td>Pyong falando agora q Babu só não saiu porque ...</td>\n",
       "      <td>0</td>\n",
       "      <td>0</td>\n",
       "      <td>Rio de Janeiro, Brasil</td>\n",
       "      <td>14405</td>\n",
       "      <td>80296</td>\n",
       "      <td>752</td>\n",
       "      <td>pt</td>\n",
       "      <td>VicAlves142</td>\n",
       "      <td>fonsecando</td>\n",
       "      <td>1</td>\n",
       "    </tr>\n",
       "    <tr>\n",
       "      <th>19020</th>\n",
       "      <td>0</td>\n",
       "      <td>2020-03-11 15:07:56.000000</td>\n",
       "      <td>O jeito que a Ivy imita o Babu é tããããoooo sim...</td>\n",
       "      <td>0</td>\n",
       "      <td>0</td>\n",
       "      <td>ela/dela</td>\n",
       "      <td>13344</td>\n",
       "      <td>70147</td>\n",
       "      <td>854</td>\n",
       "      <td>pt</td>\n",
       "      <td>anaalmeidaq</td>\n",
       "      <td>natalyneri</td>\n",
       "      <td>1</td>\n",
       "    </tr>\n",
       "    <tr>\n",
       "      <th>19163</th>\n",
       "      <td>0</td>\n",
       "      <td>2020-03-11 15:08:06.000000</td>\n",
       "      <td>flay: \"se ela (marcela) passar a mão na cabeça...</td>\n",
       "      <td>0</td>\n",
       "      <td>0</td>\n",
       "      <td>None</td>\n",
       "      <td>13237</td>\n",
       "      <td>75704</td>\n",
       "      <td>298</td>\n",
       "      <td>pt</td>\n",
       "      <td>gio1516</td>\n",
       "      <td>lilienada</td>\n",
       "      <td>55</td>\n",
       "    </tr>\n",
       "    <tr>\n",
       "      <th>19073</th>\n",
       "      <td>0</td>\n",
       "      <td>2020-03-11 15:08:00.000000</td>\n",
       "      <td>PRIOR DIZENDO PARA O BABU: SE EU GANHAR O PODE...</td>\n",
       "      <td>0</td>\n",
       "      <td>0</td>\n",
       "      <td>None</td>\n",
       "      <td>12090</td>\n",
       "      <td>118452</td>\n",
       "      <td>1131</td>\n",
       "      <td>pt</td>\n",
       "      <td>gloriaadeux</td>\n",
       "      <td>felipepriorofc</td>\n",
       "      <td>16</td>\n",
       "    </tr>\n",
       "    <tr>\n",
       "      <th>17540</th>\n",
       "      <td>0</td>\n",
       "      <td>2020-03-11 15:06:25.000000</td>\n",
       "      <td>Eu To vendo todo mundo votando pro VH sair, qu...</td>\n",
       "      <td>0</td>\n",
       "      <td>0</td>\n",
       "      <td>Salvador, Brasil</td>\n",
       "      <td>11057</td>\n",
       "      <td>65917</td>\n",
       "      <td>501</td>\n",
       "      <td>pt</td>\n",
       "      <td>jaaaaamile</td>\n",
       "      <td>ValescaOficial</td>\n",
       "      <td>2</td>\n",
       "    </tr>\n",
       "    <tr>\n",
       "      <th>19192</th>\n",
       "      <td>0</td>\n",
       "      <td>2020-03-11 15:08:07.000000</td>\n",
       "      <td>prior ''mano a marcela tá perdidinha no jogo ô...</td>\n",
       "      <td>0</td>\n",
       "      <td>0</td>\n",
       "      <td>Franca, Brasil</td>\n",
       "      <td>10904</td>\n",
       "      <td>82355</td>\n",
       "      <td>239</td>\n",
       "      <td>pt</td>\n",
       "      <td>LauraBucci15</td>\n",
       "      <td>gabilegalzlnha</td>\n",
       "      <td>143</td>\n",
       "    </tr>\n",
       "    <tr>\n",
       "      <th>10202</th>\n",
       "      <td>0</td>\n",
       "      <td>2020-03-11 14:58:55.000000</td>\n",
       "      <td>#bbb20\\n\\nE cabe ao rafael portugal zuar o dan...</td>\n",
       "      <td>0</td>\n",
       "      <td>0</td>\n",
       "      <td>None</td>\n",
       "      <td>10597</td>\n",
       "      <td>64979</td>\n",
       "      <td>287</td>\n",
       "      <td>pt</td>\n",
       "      <td>angelipes</td>\n",
       "      <td>wxcaeta</td>\n",
       "      <td>1</td>\n",
       "    </tr>\n",
       "    <tr>\n",
       "      <th>19351</th>\n",
       "      <td>0</td>\n",
       "      <td>2020-03-11 15:08:16.000000</td>\n",
       "      <td>A casa com um monte de “militante” e só quem a...</td>\n",
       "      <td>0</td>\n",
       "      <td>0</td>\n",
       "      <td>Timóteo, Brasil</td>\n",
       "      <td>10488</td>\n",
       "      <td>72345</td>\n",
       "      <td>627</td>\n",
       "      <td>pt</td>\n",
       "      <td>Lucao04Edu</td>\n",
       "      <td>luizguiprado</td>\n",
       "      <td>712</td>\n",
       "    </tr>\n",
       "    <tr>\n",
       "      <th>19272</th>\n",
       "      <td>0</td>\n",
       "      <td>2020-03-11 15:08:11.000000</td>\n",
       "      <td>Eu gosto da amizade dos dois, mas nunca vou es...</td>\n",
       "      <td>0</td>\n",
       "      <td>0</td>\n",
       "      <td>princess park</td>\n",
       "      <td>10485</td>\n",
       "      <td>72328</td>\n",
       "      <td>627</td>\n",
       "      <td>pt</td>\n",
       "      <td>theynamedmebia</td>\n",
       "      <td>luizguiprado</td>\n",
       "      <td>165</td>\n",
       "    </tr>\n",
       "    <tr>\n",
       "      <th>17030</th>\n",
       "      <td>0</td>\n",
       "      <td>2020-03-11 15:05:54.000000</td>\n",
       "      <td>Eu gosto da amizade dos dois, mas nunca vou es...</td>\n",
       "      <td>0</td>\n",
       "      <td>0</td>\n",
       "      <td>são paulo</td>\n",
       "      <td>10391</td>\n",
       "      <td>71813</td>\n",
       "      <td>624</td>\n",
       "      <td>pt</td>\n",
       "      <td>fernandaaurora1</td>\n",
       "      <td>luizguiprado</td>\n",
       "      <td>8</td>\n",
       "    </tr>\n",
       "    <tr>\n",
       "      <th>16986</th>\n",
       "      <td>0</td>\n",
       "      <td>2020-03-11 15:05:51.000000</td>\n",
       "      <td>Gente n é por nada... mas será que qlqr atitud...</td>\n",
       "      <td>0</td>\n",
       "      <td>0</td>\n",
       "      <td>None</td>\n",
       "      <td>10390</td>\n",
       "      <td>71785</td>\n",
       "      <td>624</td>\n",
       "      <td>pt</td>\n",
       "      <td>akemibruh</td>\n",
       "      <td>luizguiprado</td>\n",
       "      <td>1</td>\n",
       "    </tr>\n",
       "    <tr>\n",
       "      <th>9208</th>\n",
       "      <td>0</td>\n",
       "      <td>2020-03-11 14:58:01.000000</td>\n",
       "      <td>mas gnt, um cara q já foi machista pra krlh, q...</td>\n",
       "      <td>0</td>\n",
       "      <td>0</td>\n",
       "      <td>Venda Nova do Imigrante</td>\n",
       "      <td>10108</td>\n",
       "      <td>70036</td>\n",
       "      <td>613</td>\n",
       "      <td>pt</td>\n",
       "      <td>n1cklx_azv</td>\n",
       "      <td>luizguiprado</td>\n",
       "      <td>1</td>\n",
       "    </tr>\n",
       "    <tr>\n",
       "      <th>8266</th>\n",
       "      <td>0</td>\n",
       "      <td>2020-03-11 14:57:04.000000</td>\n",
       "      <td>A caça por likes meu pai, não deu 5 minutos qu...</td>\n",
       "      <td>0</td>\n",
       "      <td>0</td>\n",
       "      <td>None</td>\n",
       "      <td>10059</td>\n",
       "      <td>69807</td>\n",
       "      <td>611</td>\n",
       "      <td>pt</td>\n",
       "      <td>furacao_cpi</td>\n",
       "      <td>luizguiprado</td>\n",
       "      <td>1</td>\n",
       "    </tr>\n",
       "    <tr>\n",
       "      <th>11363</th>\n",
       "      <td>0</td>\n",
       "      <td>2020-03-11 15:00:02.000000</td>\n",
       "      <td>Gente a verdade é que eu não consigo ter pena ...</td>\n",
       "      <td>0</td>\n",
       "      <td>0</td>\n",
       "      <td>None</td>\n",
       "      <td>9133</td>\n",
       "      <td>35675</td>\n",
       "      <td>395</td>\n",
       "      <td>pt</td>\n",
       "      <td>Meirelescof</td>\n",
       "      <td>Itspedrito</td>\n",
       "      <td>4</td>\n",
       "    </tr>\n",
       "    <tr>\n",
       "      <th>19022</th>\n",
       "      <td>0</td>\n",
       "      <td>2020-03-11 15:07:56.000000</td>\n",
       "      <td>thelma: \"se eu ganhar o líder vou colocar no v...</td>\n",
       "      <td>0</td>\n",
       "      <td>0</td>\n",
       "      <td>nárnia</td>\n",
       "      <td>9077</td>\n",
       "      <td>51534</td>\n",
       "      <td>635</td>\n",
       "      <td>pt</td>\n",
       "      <td>Unjix1</td>\n",
       "      <td>fuckingvittarof</td>\n",
       "      <td>16</td>\n",
       "    </tr>\n",
       "    <tr>\n",
       "      <th>11833</th>\n",
       "      <td>0</td>\n",
       "      <td>2020-03-11 15:00:34.000000</td>\n",
       "      <td>DANIEL BROXANDO // mas zuar isso vai contra os...</td>\n",
       "      <td>0</td>\n",
       "      <td>0</td>\n",
       "      <td>Aruanã, Brasil</td>\n",
       "      <td>8824</td>\n",
       "      <td>37960</td>\n",
       "      <td>128</td>\n",
       "      <td>pt</td>\n",
       "      <td>aimmarcos</td>\n",
       "      <td>IgorJ_Inacio</td>\n",
       "      <td>4</td>\n",
       "    </tr>\n",
       "    <tr>\n",
       "      <th>7466</th>\n",
       "      <td>0</td>\n",
       "      <td>2020-03-11 14:56:12.000000</td>\n",
       "      <td>Marcela pra Gi:\\nSe você fez, tem que arcar co...</td>\n",
       "      <td>0</td>\n",
       "      <td>0</td>\n",
       "      <td>London, England</td>\n",
       "      <td>8387</td>\n",
       "      <td>40855</td>\n",
       "      <td>277</td>\n",
       "      <td>pt</td>\n",
       "      <td>kiwiharry4</td>\n",
       "      <td>bicmuller</td>\n",
       "      <td>1</td>\n",
       "    </tr>\n",
       "    <tr>\n",
       "      <th>18733</th>\n",
       "      <td>0</td>\n",
       "      <td>2020-03-11 15:07:38.000000</td>\n",
       "      <td>Pra quem nunca tinha visto as legendas das fot...</td>\n",
       "      <td>0</td>\n",
       "      <td>0</td>\n",
       "      <td>Minas Gerais, Brasil</td>\n",
       "      <td>7920</td>\n",
       "      <td>47501</td>\n",
       "      <td>302</td>\n",
       "      <td>pt</td>\n",
       "      <td>maadudsc</td>\n",
       "      <td>BBBBaile</td>\n",
       "      <td>26</td>\n",
       "    </tr>\n",
       "    <tr>\n",
       "      <th>...</th>\n",
       "      <td>...</td>\n",
       "      <td>...</td>\n",
       "      <td>...</td>\n",
       "      <td>...</td>\n",
       "      <td>...</td>\n",
       "      <td>...</td>\n",
       "      <td>...</td>\n",
       "      <td>...</td>\n",
       "      <td>...</td>\n",
       "      <td>...</td>\n",
       "      <td>...</td>\n",
       "      <td>...</td>\n",
       "      <td>...</td>\n",
       "    </tr>\n",
       "    <tr>\n",
       "      <th>10909</th>\n",
       "      <td>0</td>\n",
       "      <td>2020-03-11 14:59:34.000000</td>\n",
       "      <td>falou oq nem na casa tá mais</td>\n",
       "      <td>0</td>\n",
       "      <td>0</td>\n",
       "      <td>None</td>\n",
       "      <td>0</td>\n",
       "      <td>0</td>\n",
       "      <td>0</td>\n",
       "      <td>pt</td>\n",
       "      <td>DudaWin10416646</td>\n",
       "      <td>None</td>\n",
       "      <td>1</td>\n",
       "    </tr>\n",
       "    <tr>\n",
       "      <th>10791</th>\n",
       "      <td>0</td>\n",
       "      <td>2020-03-11 14:59:27.000000</td>\n",
       "      <td>o controle né eu teria dito \"não\" k</td>\n",
       "      <td>0</td>\n",
       "      <td>0</td>\n",
       "      <td>Dourados, Brasil</td>\n",
       "      <td>0</td>\n",
       "      <td>0</td>\n",
       "      <td>0</td>\n",
       "      <td>pt</td>\n",
       "      <td>solwstice</td>\n",
       "      <td>None</td>\n",
       "      <td>1</td>\n",
       "    </tr>\n",
       "    <tr>\n",
       "      <th>10785</th>\n",
       "      <td>0</td>\n",
       "      <td>2020-03-11 14:59:27.000000</td>\n",
       "      <td>RT @DeCaraPraLua: Rafa acha que o Babu é o car...</td>\n",
       "      <td>0</td>\n",
       "      <td>0</td>\n",
       "      <td>🌊</td>\n",
       "      <td>0</td>\n",
       "      <td>0</td>\n",
       "      <td>0</td>\n",
       "      <td>pt</td>\n",
       "      <td>Nete_Peixoto</td>\n",
       "      <td>DeCaraPraLua</td>\n",
       "      <td>2</td>\n",
       "    </tr>\n",
       "    <tr>\n",
       "      <th>10668</th>\n",
       "      <td>0</td>\n",
       "      <td>2020-03-11 14:59:21.000000</td>\n",
       "      <td>Alguém janta ele na porrada por gentileza</td>\n",
       "      <td>0</td>\n",
       "      <td>0</td>\n",
       "      <td>Montes Claros, Brasil</td>\n",
       "      <td>0</td>\n",
       "      <td>0</td>\n",
       "      <td>0</td>\n",
       "      <td>pt</td>\n",
       "      <td>damatinha_</td>\n",
       "      <td>None</td>\n",
       "      <td>1</td>\n",
       "    </tr>\n",
       "    <tr>\n",
       "      <th>10721</th>\n",
       "      <td>0</td>\n",
       "      <td>2020-03-11 14:59:23.000000</td>\n",
       "      <td>Gente olha o tamanho do maribondo chocado o bi...</td>\n",
       "      <td>0</td>\n",
       "      <td>0</td>\n",
       "      <td>brasil</td>\n",
       "      <td>0</td>\n",
       "      <td>0</td>\n",
       "      <td>0</td>\n",
       "      <td>pt</td>\n",
       "      <td>Renanpim</td>\n",
       "      <td>None</td>\n",
       "      <td>1</td>\n",
       "    </tr>\n",
       "    <tr>\n",
       "      <th>10672</th>\n",
       "      <td>0</td>\n",
       "      <td>2020-03-11 14:59:21.000000</td>\n",
       "      <td>Pronto @boninho já pode colocar todos os elimi...</td>\n",
       "      <td>0</td>\n",
       "      <td>0</td>\n",
       "      <td>None</td>\n",
       "      <td>0</td>\n",
       "      <td>0</td>\n",
       "      <td>0</td>\n",
       "      <td>pt</td>\n",
       "      <td>MariadoSFOcava1</td>\n",
       "      <td>None</td>\n",
       "      <td>1</td>\n",
       "    </tr>\n",
       "    <tr>\n",
       "      <th>10676</th>\n",
       "      <td>0</td>\n",
       "      <td>2020-03-11 14:59:21.000000</td>\n",
       "      <td>RT @gabi_guibi: Ana Maria:\\n... Bonitão, Moren...</td>\n",
       "      <td>0</td>\n",
       "      <td>0</td>\n",
       "      <td>None</td>\n",
       "      <td>0</td>\n",
       "      <td>0</td>\n",
       "      <td>0</td>\n",
       "      <td>pt</td>\n",
       "      <td>JuhMcedo</td>\n",
       "      <td>gabi_guibi</td>\n",
       "      <td>2</td>\n",
       "    </tr>\n",
       "    <tr>\n",
       "      <th>10686</th>\n",
       "      <td>0</td>\n",
       "      <td>2020-03-11 14:59:21.000000</td>\n",
       "      <td>#BBB20 \\n“O que pesa mais: a falta de ética, m...</td>\n",
       "      <td>0</td>\n",
       "      <td>0</td>\n",
       "      <td>PriorNation</td>\n",
       "      <td>0</td>\n",
       "      <td>0</td>\n",
       "      <td>0</td>\n",
       "      <td>pt</td>\n",
       "      <td>AntoniazzIntoc</td>\n",
       "      <td>None</td>\n",
       "      <td>1</td>\n",
       "    </tr>\n",
       "    <tr>\n",
       "      <th>10687</th>\n",
       "      <td>0</td>\n",
       "      <td>2020-03-11 14:59:22.000000</td>\n",
       "      <td>se dedicou muito no cursinho...</td>\n",
       "      <td>0</td>\n",
       "      <td>0</td>\n",
       "      <td>Maceió, Brasil</td>\n",
       "      <td>0</td>\n",
       "      <td>0</td>\n",
       "      <td>0</td>\n",
       "      <td>pt</td>\n",
       "      <td>alissonricardoq</td>\n",
       "      <td>None</td>\n",
       "      <td>1</td>\n",
       "    </tr>\n",
       "    <tr>\n",
       "      <th>10696</th>\n",
       "      <td>0</td>\n",
       "      <td>2020-03-11 14:59:22.000000</td>\n",
       "      <td>RT @emina_mori: Quem você prefere? #BBB20 \\nRT...</td>\n",
       "      <td>0</td>\n",
       "      <td>0</td>\n",
       "      <td>None</td>\n",
       "      <td>0</td>\n",
       "      <td>0</td>\n",
       "      <td>0</td>\n",
       "      <td>pt</td>\n",
       "      <td>Luane68728953</td>\n",
       "      <td>emina_mori</td>\n",
       "      <td>2</td>\n",
       "    </tr>\n",
       "    <tr>\n",
       "      <th>10705</th>\n",
       "      <td>0</td>\n",
       "      <td>2020-03-11 14:59:22.000000</td>\n",
       "      <td>GENTE</td>\n",
       "      <td>0</td>\n",
       "      <td>0</td>\n",
       "      <td>Rio de Janeiro</td>\n",
       "      <td>0</td>\n",
       "      <td>0</td>\n",
       "      <td>0</td>\n",
       "      <td>pt</td>\n",
       "      <td>crlamand</td>\n",
       "      <td>None</td>\n",
       "      <td>1</td>\n",
       "    </tr>\n",
       "    <tr>\n",
       "      <th>10709</th>\n",
       "      <td>0</td>\n",
       "      <td>2020-03-11 14:59:22.000000</td>\n",
       "      <td>A THELMINHA E MARAVILHOSA 🎭\\n\\n#BBB20 #festaBb...</td>\n",
       "      <td>0</td>\n",
       "      <td>0</td>\n",
       "      <td>São Paulo, Brasil</td>\n",
       "      <td>0</td>\n",
       "      <td>0</td>\n",
       "      <td>0</td>\n",
       "      <td>pt</td>\n",
       "      <td>Nanacru38925114</td>\n",
       "      <td>None</td>\n",
       "      <td>1</td>\n",
       "    </tr>\n",
       "    <tr>\n",
       "      <th>10710</th>\n",
       "      <td>0</td>\n",
       "      <td>2020-03-11 14:59:22.000000</td>\n",
       "      <td>Aiii gente adoro vai lá palestrinha #bbb20 htt...</td>\n",
       "      <td>0</td>\n",
       "      <td>0</td>\n",
       "      <td>Rio de Janeiro - Brasil</td>\n",
       "      <td>0</td>\n",
       "      <td>0</td>\n",
       "      <td>0</td>\n",
       "      <td>pt</td>\n",
       "      <td>17Breno</td>\n",
       "      <td>None</td>\n",
       "      <td>1</td>\n",
       "    </tr>\n",
       "    <tr>\n",
       "      <th>10715</th>\n",
       "      <td>0</td>\n",
       "      <td>2020-03-11 14:59:23.000000</td>\n",
       "      <td>Xentê</td>\n",
       "      <td>0</td>\n",
       "      <td>0</td>\n",
       "      <td>João Pessoa, Brasil</td>\n",
       "      <td>0</td>\n",
       "      <td>0</td>\n",
       "      <td>0</td>\n",
       "      <td>pt</td>\n",
       "      <td>nanda_soarees</td>\n",
       "      <td>None</td>\n",
       "      <td>1</td>\n",
       "    </tr>\n",
       "    <tr>\n",
       "      <th>10719</th>\n",
       "      <td>0</td>\n",
       "      <td>2020-03-11 14:59:23.000000</td>\n",
       "      <td>Maribondos gigantes esses do BBB...eu já teria...</td>\n",
       "      <td>0</td>\n",
       "      <td>0</td>\n",
       "      <td>None</td>\n",
       "      <td>0</td>\n",
       "      <td>0</td>\n",
       "      <td>0</td>\n",
       "      <td>pt</td>\n",
       "      <td>MariaAl88831162</td>\n",
       "      <td>None</td>\n",
       "      <td>1</td>\n",
       "    </tr>\n",
       "    <tr>\n",
       "      <th>10720</th>\n",
       "      <td>0</td>\n",
       "      <td>2020-03-11 14:59:23.000000</td>\n",
       "      <td>Babu quer Mumuzinho ou Ferrugem a tarde no #BBB20</td>\n",
       "      <td>0</td>\n",
       "      <td>0</td>\n",
       "      <td>None</td>\n",
       "      <td>0</td>\n",
       "      <td>0</td>\n",
       "      <td>0</td>\n",
       "      <td>pt</td>\n",
       "      <td>lmtjddario</td>\n",
       "      <td>None</td>\n",
       "      <td>1</td>\n",
       "    </tr>\n",
       "    <tr>\n",
       "      <th>10724</th>\n",
       "      <td>0</td>\n",
       "      <td>2020-03-11 14:59:24.000000</td>\n",
       "      <td>manu fazendo pão com ovo para o prior agora mo...</td>\n",
       "      <td>0</td>\n",
       "      <td>0</td>\n",
       "      <td>None</td>\n",
       "      <td>0</td>\n",
       "      <td>0</td>\n",
       "      <td>0</td>\n",
       "      <td>pt</td>\n",
       "      <td>lcomentando</td>\n",
       "      <td>None</td>\n",
       "      <td>1</td>\n",
       "    </tr>\n",
       "    <tr>\n",
       "      <th>3832</th>\n",
       "      <td>0</td>\n",
       "      <td>2020-03-11 14:52:19.000000</td>\n",
       "      <td>E o Babu faz tudo #BBB20 https://t.co/BpDU1kwq7r</td>\n",
       "      <td>0</td>\n",
       "      <td>0</td>\n",
       "      <td>None</td>\n",
       "      <td>0</td>\n",
       "      <td>0</td>\n",
       "      <td>0</td>\n",
       "      <td>pt</td>\n",
       "      <td>itscaptainluffy</td>\n",
       "      <td>None</td>\n",
       "      <td>1</td>\n",
       "    </tr>\n",
       "    <tr>\n",
       "      <th>10743</th>\n",
       "      <td>0</td>\n",
       "      <td>2020-03-11 14:59:24.000000</td>\n",
       "      <td>RT @Deschamper: Pyong disse que Manu foi a men...</td>\n",
       "      <td>0</td>\n",
       "      <td>0</td>\n",
       "      <td>None</td>\n",
       "      <td>0</td>\n",
       "      <td>0</td>\n",
       "      <td>0</td>\n",
       "      <td>pt</td>\n",
       "      <td>INTZ_ORieNTaL</td>\n",
       "      <td>Deschamper</td>\n",
       "      <td>1</td>\n",
       "    </tr>\n",
       "    <tr>\n",
       "      <th>10745</th>\n",
       "      <td>0</td>\n",
       "      <td>2020-03-11 14:59:24.000000</td>\n",
       "      <td>RT @washmatias: poucos dias e o cara fez a ami...</td>\n",
       "      <td>0</td>\n",
       "      <td>0</td>\n",
       "      <td>Tres rios</td>\n",
       "      <td>0</td>\n",
       "      <td>0</td>\n",
       "      <td>0</td>\n",
       "      <td>pt</td>\n",
       "      <td>ciellen_lo</td>\n",
       "      <td>washmatias</td>\n",
       "      <td>1</td>\n",
       "    </tr>\n",
       "    <tr>\n",
       "      <th>10748</th>\n",
       "      <td>0</td>\n",
       "      <td>2020-03-11 14:59:25.000000</td>\n",
       "      <td>RT @nataliavicente9: Q saudade</td>\n",
       "      <td>0</td>\n",
       "      <td>0</td>\n",
       "      <td>Jardim Vinte e Cinco de Agosto</td>\n",
       "      <td>0</td>\n",
       "      <td>0</td>\n",
       "      <td>0</td>\n",
       "      <td>pt</td>\n",
       "      <td>lorrayne_sandes</td>\n",
       "      <td>nataliavicente9</td>\n",
       "      <td>1</td>\n",
       "    </tr>\n",
       "    <tr>\n",
       "      <th>10761</th>\n",
       "      <td>0</td>\n",
       "      <td>2020-03-11 14:59:25.000000</td>\n",
       "      <td>Tô nada, TO SIM</td>\n",
       "      <td>0</td>\n",
       "      <td>0</td>\n",
       "      <td>Barreiro</td>\n",
       "      <td>0</td>\n",
       "      <td>0</td>\n",
       "      <td>0</td>\n",
       "      <td>pt</td>\n",
       "      <td>Affigor69</td>\n",
       "      <td>None</td>\n",
       "      <td>1</td>\n",
       "    </tr>\n",
       "    <tr>\n",
       "      <th>3845</th>\n",
       "      <td>0</td>\n",
       "      <td>2020-03-11 14:52:20.000000</td>\n",
       "      <td>RT @gizellybicalho_: Quem é #TeamGizelly e vai...</td>\n",
       "      <td>0</td>\n",
       "      <td>0</td>\n",
       "      <td>None</td>\n",
       "      <td>0</td>\n",
       "      <td>0</td>\n",
       "      <td>0</td>\n",
       "      <td>pt</td>\n",
       "      <td>brendazao</td>\n",
       "      <td>gizellybicalho_</td>\n",
       "      <td>1</td>\n",
       "    </tr>\n",
       "    <tr>\n",
       "      <th>10763</th>\n",
       "      <td>0</td>\n",
       "      <td>2020-03-11 14:59:25.000000</td>\n",
       "      <td>#bbb20 Daniel x Flay, Daniel x Thelma, Daniel ...</td>\n",
       "      <td>0</td>\n",
       "      <td>0</td>\n",
       "      <td>Porto Alegre, Brazil</td>\n",
       "      <td>0</td>\n",
       "      <td>0</td>\n",
       "      <td>0</td>\n",
       "      <td>pt</td>\n",
       "      <td>maymay35798606</td>\n",
       "      <td>None</td>\n",
       "      <td>1</td>\n",
       "    </tr>\n",
       "    <tr>\n",
       "      <th>10765</th>\n",
       "      <td>0</td>\n",
       "      <td>2020-03-11 14:59:26.000000</td>\n",
       "      <td>RT @loucareality: VOCÊS SÃO FODA!!!!!! ❤️ a me...</td>\n",
       "      <td>0</td>\n",
       "      <td>0</td>\n",
       "      <td>None</td>\n",
       "      <td>0</td>\n",
       "      <td>0</td>\n",
       "      <td>0</td>\n",
       "      <td>pt</td>\n",
       "      <td>DricaCleto</td>\n",
       "      <td>loucareality</td>\n",
       "      <td>2</td>\n",
       "    </tr>\n",
       "    <tr>\n",
       "      <th>10770</th>\n",
       "      <td>0</td>\n",
       "      <td>2020-03-11 14:59:26.000000</td>\n",
       "      <td>Se forçar mais caga</td>\n",
       "      <td>0</td>\n",
       "      <td>0</td>\n",
       "      <td>Rondônia, Brasil</td>\n",
       "      <td>0</td>\n",
       "      <td>0</td>\n",
       "      <td>0</td>\n",
       "      <td>pt</td>\n",
       "      <td>muccavalcanti</td>\n",
       "      <td>None</td>\n",
       "      <td>1</td>\n",
       "    </tr>\n",
       "    <tr>\n",
       "      <th>10772</th>\n",
       "      <td>0</td>\n",
       "      <td>2020-03-11 14:59:26.000000</td>\n",
       "      <td>EU TBM QUERO ABRAÇAR O BABU AAAAAAAAA 💕💕💕💕💕💕💕💕...</td>\n",
       "      <td>0</td>\n",
       "      <td>0</td>\n",
       "      <td>Por ai</td>\n",
       "      <td>0</td>\n",
       "      <td>0</td>\n",
       "      <td>0</td>\n",
       "      <td>pt</td>\n",
       "      <td>abbyfromhell</td>\n",
       "      <td>None</td>\n",
       "      <td>1</td>\n",
       "    </tr>\n",
       "    <tr>\n",
       "      <th>10778</th>\n",
       "      <td>0</td>\n",
       "      <td>2020-03-11 14:59:26.000000</td>\n",
       "      <td>RT @ncgttt: @bbb @rafaportugalc eu: só acredit...</td>\n",
       "      <td>0</td>\n",
       "      <td>0</td>\n",
       "      <td>None</td>\n",
       "      <td>0</td>\n",
       "      <td>0</td>\n",
       "      <td>0</td>\n",
       "      <td>pt</td>\n",
       "      <td>md_sirose</td>\n",
       "      <td>ncgttt</td>\n",
       "      <td>1</td>\n",
       "    </tr>\n",
       "    <tr>\n",
       "      <th>10782</th>\n",
       "      <td>0</td>\n",
       "      <td>2020-03-11 14:59:27.000000</td>\n",
       "      <td>Vamos fazer Thelminha chegar aos 2milhões no I...</td>\n",
       "      <td>0</td>\n",
       "      <td>0</td>\n",
       "      <td>Rio de Janeiro</td>\n",
       "      <td>0</td>\n",
       "      <td>0</td>\n",
       "      <td>0</td>\n",
       "      <td>pt</td>\n",
       "      <td>PB_PalomaBlack</td>\n",
       "      <td>None</td>\n",
       "      <td>1</td>\n",
       "    </tr>\n",
       "    <tr>\n",
       "      <th>11172</th>\n",
       "      <td>0</td>\n",
       "      <td>2020-03-11 14:59:50.000000</td>\n",
       "      <td>RT @artspaliwaI: que perturbação KKKKKKKKKKKKK...</td>\n",
       "      <td>0</td>\n",
       "      <td>0</td>\n",
       "      <td>São Paulo, Brasil</td>\n",
       "      <td>0</td>\n",
       "      <td>0</td>\n",
       "      <td>0</td>\n",
       "      <td>pt</td>\n",
       "      <td>susiebarbosa_</td>\n",
       "      <td>artspaliwaI</td>\n",
       "      <td>4</td>\n",
       "    </tr>\n",
       "  </tbody>\n",
       "</table>\n",
       "<p>4656 rows × 13 columns</p>\n",
       "</div>"
      ],
      "text/plain": [
       "       index                  created_at  \\\n",
       "13893      0  2020-03-11 15:02:39.000000   \n",
       "4745       0  2020-03-11 14:53:16.000000   \n",
       "6382       0  2020-03-11 14:55:00.000000   \n",
       "7945       0  2020-03-11 14:56:43.000000   \n",
       "878        0  2020-03-11 14:49:21.000000   \n",
       "...      ...                         ...   \n",
       "10770      0  2020-03-11 14:59:26.000000   \n",
       "10772      0  2020-03-11 14:59:26.000000   \n",
       "10778      0  2020-03-11 14:59:26.000000   \n",
       "10782      0  2020-03-11 14:59:27.000000   \n",
       "11172      0  2020-03-11 14:59:50.000000   \n",
       "\n",
       "                                                    text  verified  retweeted  \\\n",
       "13893  Ei @boninho eu tive uma ideia de prova!!!! Peg...         0          0   \n",
       "4745   Prior: \"Tudo que ele (Daniel) fizer, eu também...         0          0   \n",
       "6382   prior ''ô babu cê ficou sabendo que a thelminh...         0          0   \n",
       "7945   é muito simbólico o pai da gizelly ter sido as...         0          0   \n",
       "878    \"Cara, a Marcela me olha de um jeito… do mesmo...         0          0   \n",
       "...                                                  ...       ...        ...   \n",
       "10770                                Se forçar mais caga         0          0   \n",
       "10772  EU TBM QUERO ABRAÇAR O BABU AAAAAAAAA 💕💕💕💕💕💕💕💕...         0          0   \n",
       "10778  RT @ncgttt: @bbb @rafaportugalc eu: só acredit...         0          0   \n",
       "10782  Vamos fazer Thelminha chegar aos 2milhões no I...         0          0   \n",
       "11172  RT @artspaliwaI: que perturbação KKKKKKKKKKKKK...         0          0   \n",
       "\n",
       "                        location  retweeted_counts  likes_counts  \\\n",
       "13893     Rio de Janeiro, Brasil             50726        271244   \n",
       "4745                        None             22161        147218   \n",
       "6382            Anápolis, Brasil             20880        182356   \n",
       "7945                        None             20498        133330   \n",
       "878    IRAQUE LÁ NO MANGUINHO🇮🇶🚩             20497        106738   \n",
       "...                          ...               ...           ...   \n",
       "10770           Rondônia, Brasil                 0             0   \n",
       "10772                     Por ai                 0             0   \n",
       "10778                       None                 0             0   \n",
       "10782             Rio de Janeiro                 0             0   \n",
       "11172          São Paulo, Brasil                 0             0   \n",
       "\n",
       "       reply_counts lang          id_user orig_tweet_user  ret_count  \n",
       "13893          9530   pt    AneOliveiraan        delhpine          2  \n",
       "4745            293   pt       glass_hawk       itolindoo          1  \n",
       "6382            465   pt      Geehcosta_r  gabilegalzlnha          1  \n",
       "7945            259  und  Fernand18304050   normaniresist          1  \n",
       "878             610   pt         PHTRZ27_        DejotaCn          1  \n",
       "...             ...  ...              ...             ...        ...  \n",
       "10770             0   pt    muccavalcanti            None          1  \n",
       "10772             0   pt     abbyfromhell            None          1  \n",
       "10778             0   pt        md_sirose          ncgttt          1  \n",
       "10782             0   pt   PB_PalomaBlack            None          1  \n",
       "11172             0   pt    susiebarbosa_     artspaliwaI          4  \n",
       "\n",
       "[4656 rows x 13 columns]"
      ]
     },
     "execution_count": 29,
     "metadata": {},
     "output_type": "execute_result"
    }
   ],
   "source": [
    "df.drop_duplicates('text', keep='last').sort_values('retweeted_counts', ascending=False)"
   ]
  },
  {
   "cell_type": "code",
   "execution_count": 1318,
   "metadata": {},
   "outputs": [
    {
     "data": {
      "text/plain": [
       "RT @FeCastanhari: Pyong nem precisou sair do BBB pra começar a educar uma criança                                                                                                                                                                                                                                        2008\n",
       "GENTE??? E o Victor Hugo que passou essa madrugada TODA falando com o ex participante Guilherme que foi eliminado do #BBB20 há uma semana. E ainda cheirou as toalhas como se o Guilherme tivesse usado... EU TO ASSUSTADO!\\nhttps://t.co/O1VuiGESUj                                                                     1779\n",
       "O AUGE DO DESAUGE o Prior dizendo que o pai só deu o BÁSICO: que foi o carro, a faculdade, o celular e o plano de saúde. Que ele sobrevivia com os 800 reais do estágio!\\n\\nHAHAHAHAHAHAHAAHAHAHAHHAHAHAHAHAHAHAHAHAHAHAHAHGAHAGAHAHAHAHAHHA #BBB20                                                                      1309\n",
       "RT @MaraTellesReal: Gabi fugindo do Palestrinha é o vídeo mais sensato que você vai ver hoje!\\n\\n#BBB20 #redeBBB \\n\\n https://t.co/qHAHp41Aq1                                                                                                                                                                            1216\n",
       "O jeito que a Ivy imita o Babu é tããããoooo simbólico.\\n\\nÉ a imagem construída do monstro, é como elas enxergam um homem negro que se impõe ao se defender de um um sonso que o xingou primeiro de idiota.\\n\\nTudo bem o Daniel xingar o Babu mas quão absurdo é ele se defender né? \\n#BBB20 https://t.co/eHJgbJItvA     944\n",
       "                                                                                                                                                                                                                                                                                                                         ... \n",
       "😍😍😍😍                                                                                                                                                                                                                                                                                                                        1\n",
       "Eu amei.                                                                                                                                                                                                                                                                                                                    1\n",
       "aí tem coisa namoral                                                                                                                                                                                                                                                                                                        1\n",
       "RT @pedrogilio: SENHORA\\nVOLTA AQUI, SENHORA\\nSENHORA\\nSENHORA                                                                                                                                                                                                                                                              1\n",
       "PLANTÃO DA TRETA: Victor Hugo seguiu discutindo com Flayslane e Felipe. \"A gente combinou voto, qual o problema, o público não vai matar a gente por causa disso!\" #BBB20 https://t.co/qojEb7ITcZ                                                                                                                           1\n",
       "Name: text, Length: 7965, dtype: int64"
      ]
     },
     "execution_count": 1318,
     "metadata": {},
     "output_type": "execute_result"
    }
   ],
   "source": [
    "df.text.value_counts()"
   ]
  },
  {
   "cell_type": "code",
   "execution_count": 1319,
   "metadata": {},
   "outputs": [],
   "source": [
    "df.created_at = pd.to_datetime(df.created_at)\n",
    "df.set_index('created_at', inplace=True)\n",
    "test = test.append(df.resample('5min').count()['index'].sort_index(ascending=False).reset_index()[:2].to_dict('row'), )\n",
    "test = test.drop_duplicates('created_at', keep='last')"
   ]
  },
  {
   "cell_type": "code",
   "execution_count": 1320,
   "metadata": {},
   "outputs": [
    {
     "data": {
      "text/html": [
       "<div>\n",
       "<style scoped>\n",
       "    .dataframe tbody tr th:only-of-type {\n",
       "        vertical-align: middle;\n",
       "    }\n",
       "\n",
       "    .dataframe tbody tr th {\n",
       "        vertical-align: top;\n",
       "    }\n",
       "\n",
       "    .dataframe thead th {\n",
       "        text-align: right;\n",
       "    }\n",
       "</style>\n",
       "<table border=\"1\" class=\"dataframe\">\n",
       "  <thead>\n",
       "    <tr style=\"text-align: right;\">\n",
       "      <th></th>\n",
       "      <th>created_at</th>\n",
       "      <th>index</th>\n",
       "    </tr>\n",
       "  </thead>\n",
       "  <tbody>\n",
       "    <tr>\n",
       "      <th>0</th>\n",
       "      <td>2020-03-09 22:25:00</td>\n",
       "      <td>4537</td>\n",
       "    </tr>\n",
       "    <tr>\n",
       "      <th>1</th>\n",
       "      <td>2020-03-09 22:20:00</td>\n",
       "      <td>5044</td>\n",
       "    </tr>\n",
       "    <tr>\n",
       "      <th>0</th>\n",
       "      <td>2020-03-09 22:15:00</td>\n",
       "      <td>2403</td>\n",
       "    </tr>\n",
       "    <tr>\n",
       "      <th>1</th>\n",
       "      <td>2020-03-09 22:10:00</td>\n",
       "      <td>4968</td>\n",
       "    </tr>\n",
       "    <tr>\n",
       "      <th>0</th>\n",
       "      <td>2020-03-09 21:55:00</td>\n",
       "      <td>987</td>\n",
       "    </tr>\n",
       "    <tr>\n",
       "      <th>1</th>\n",
       "      <td>2020-03-09 21:50:00</td>\n",
       "      <td>4786</td>\n",
       "    </tr>\n",
       "    <tr>\n",
       "      <th>0</th>\n",
       "      <td>2020-03-09 21:35:00</td>\n",
       "      <td>3318</td>\n",
       "    </tr>\n",
       "    <tr>\n",
       "      <th>1</th>\n",
       "      <td>2020-03-09 21:30:00</td>\n",
       "      <td>3453</td>\n",
       "    </tr>\n",
       "    <tr>\n",
       "      <th>1</th>\n",
       "      <td>2020-03-09 21:25:00</td>\n",
       "      <td>3872</td>\n",
       "    </tr>\n",
       "    <tr>\n",
       "      <th>0</th>\n",
       "      <td>2020-03-09 21:20:00</td>\n",
       "      <td>349</td>\n",
       "    </tr>\n",
       "    <tr>\n",
       "      <th>1</th>\n",
       "      <td>2020-03-09 21:15:00</td>\n",
       "      <td>4447</td>\n",
       "    </tr>\n",
       "    <tr>\n",
       "      <th>0</th>\n",
       "      <td>2020-03-09 21:10:00</td>\n",
       "      <td>1196</td>\n",
       "    </tr>\n",
       "    <tr>\n",
       "      <th>1</th>\n",
       "      <td>2020-03-09 21:05:00</td>\n",
       "      <td>4350</td>\n",
       "    </tr>\n",
       "    <tr>\n",
       "      <th>1</th>\n",
       "      <td>2020-03-09 21:00:00</td>\n",
       "      <td>4467</td>\n",
       "    </tr>\n",
       "    <tr>\n",
       "      <th>0</th>\n",
       "      <td>2020-03-09 20:55:00</td>\n",
       "      <td>2796</td>\n",
       "    </tr>\n",
       "    <tr>\n",
       "      <th>1</th>\n",
       "      <td>2020-03-09 20:50:00</td>\n",
       "      <td>4746</td>\n",
       "    </tr>\n",
       "    <tr>\n",
       "      <th>1</th>\n",
       "      <td>2020-03-09 20:45:00</td>\n",
       "      <td>4808</td>\n",
       "    </tr>\n",
       "    <tr>\n",
       "      <th>1</th>\n",
       "      <td>2020-03-09 20:40:00</td>\n",
       "      <td>4811</td>\n",
       "    </tr>\n",
       "    <tr>\n",
       "      <th>0</th>\n",
       "      <td>2020-03-09 20:10:00</td>\n",
       "      <td>959</td>\n",
       "    </tr>\n",
       "    <tr>\n",
       "      <th>1</th>\n",
       "      <td>2020-03-09 20:05:00</td>\n",
       "      <td>4712</td>\n",
       "    </tr>\n",
       "    <tr>\n",
       "      <th>0</th>\n",
       "      <td>2020-03-09 20:00:00</td>\n",
       "      <td>1678</td>\n",
       "    </tr>\n",
       "    <tr>\n",
       "      <th>1</th>\n",
       "      <td>2020-03-09 19:55:00</td>\n",
       "      <td>2011</td>\n",
       "    </tr>\n",
       "    <tr>\n",
       "      <th>1</th>\n",
       "      <td>2020-03-09 19:50:00</td>\n",
       "      <td>1761</td>\n",
       "    </tr>\n",
       "    <tr>\n",
       "      <th>0</th>\n",
       "      <td>2020-03-09 19:40:00</td>\n",
       "      <td>1417</td>\n",
       "    </tr>\n",
       "    <tr>\n",
       "      <th>1</th>\n",
       "      <td>2020-03-09 19:35:00</td>\n",
       "      <td>4919</td>\n",
       "    </tr>\n",
       "    <tr>\n",
       "      <th>1</th>\n",
       "      <td>2020-03-09 19:30:00</td>\n",
       "      <td>4461</td>\n",
       "    </tr>\n",
       "    <tr>\n",
       "      <th>1</th>\n",
       "      <td>2020-03-09 19:25:00</td>\n",
       "      <td>4575</td>\n",
       "    </tr>\n",
       "    <tr>\n",
       "      <th>0</th>\n",
       "      <td>2020-03-09 19:20:00</td>\n",
       "      <td>8769</td>\n",
       "    </tr>\n",
       "    <tr>\n",
       "      <th>1</th>\n",
       "      <td>2020-03-09 19:10:00</td>\n",
       "      <td>9181</td>\n",
       "    </tr>\n",
       "    <tr>\n",
       "      <th>1</th>\n",
       "      <td>2020-03-09 19:00:00</td>\n",
       "      <td>9150</td>\n",
       "    </tr>\n",
       "    <tr>\n",
       "      <th>1</th>\n",
       "      <td>2020-03-09 18:50:00</td>\n",
       "      <td>8907</td>\n",
       "    </tr>\n",
       "    <tr>\n",
       "      <th>1</th>\n",
       "      <td>2020-03-09 18:40:00</td>\n",
       "      <td>9517</td>\n",
       "    </tr>\n",
       "  </tbody>\n",
       "</table>\n",
       "</div>"
      ],
      "text/plain": [
       "           created_at index\n",
       "0 2020-03-09 22:25:00  4537\n",
       "1 2020-03-09 22:20:00  5044\n",
       "0 2020-03-09 22:15:00  2403\n",
       "1 2020-03-09 22:10:00  4968\n",
       "0 2020-03-09 21:55:00   987\n",
       "1 2020-03-09 21:50:00  4786\n",
       "0 2020-03-09 21:35:00  3318\n",
       "1 2020-03-09 21:30:00  3453\n",
       "1 2020-03-09 21:25:00  3872\n",
       "0 2020-03-09 21:20:00   349\n",
       "1 2020-03-09 21:15:00  4447\n",
       "0 2020-03-09 21:10:00  1196\n",
       "1 2020-03-09 21:05:00  4350\n",
       "1 2020-03-09 21:00:00  4467\n",
       "0 2020-03-09 20:55:00  2796\n",
       "1 2020-03-09 20:50:00  4746\n",
       "1 2020-03-09 20:45:00  4808\n",
       "1 2020-03-09 20:40:00  4811\n",
       "0 2020-03-09 20:10:00   959\n",
       "1 2020-03-09 20:05:00  4712\n",
       "0 2020-03-09 20:00:00  1678\n",
       "1 2020-03-09 19:55:00  2011\n",
       "1 2020-03-09 19:50:00  1761\n",
       "0 2020-03-09 19:40:00  1417\n",
       "1 2020-03-09 19:35:00  4919\n",
       "1 2020-03-09 19:30:00  4461\n",
       "1 2020-03-09 19:25:00  4575\n",
       "0 2020-03-09 19:20:00  8769\n",
       "1 2020-03-09 19:10:00  9181\n",
       "1 2020-03-09 19:00:00  9150\n",
       "1 2020-03-09 18:50:00  8907\n",
       "1 2020-03-09 18:40:00  9517"
      ]
     },
     "execution_count": 1320,
     "metadata": {},
     "output_type": "execute_result"
    }
   ],
   "source": [
    "test.sort_values('created_at', ascending=False)"
   ]
  },
  {
   "cell_type": "code",
   "execution_count": 1321,
   "metadata": {},
   "outputs": [
    {
     "data": {
      "application/vnd.plotly.v1+json": {
       "config": {
        "plotlyServerURL": "https://plot.ly"
       },
       "data": [
        {
         "hoverlabel": {
          "namelength": 0
         },
         "hovertemplate": "created_at=%{x}<br>index=%{y}",
         "legendgroup": "",
         "line": {
          "color": "#636efa",
          "dash": "solid"
         },
         "mode": "lines",
         "name": "",
         "showlegend": false,
         "type": "scatter",
         "x": [
          "2020-03-09T22:25:00",
          "2020-03-09T22:20:00",
          "2020-03-09T22:15:00",
          "2020-03-09T22:10:00",
          "2020-03-09T21:55:00",
          "2020-03-09T21:50:00",
          "2020-03-09T21:35:00",
          "2020-03-09T21:30:00",
          "2020-03-09T21:25:00",
          "2020-03-09T21:20:00",
          "2020-03-09T21:15:00",
          "2020-03-09T21:10:00",
          "2020-03-09T21:05:00",
          "2020-03-09T21:00:00",
          "2020-03-09T20:55:00",
          "2020-03-09T20:50:00",
          "2020-03-09T20:45:00",
          "2020-03-09T20:40:00",
          "2020-03-09T20:10:00",
          "2020-03-09T20:05:00",
          "2020-03-09T20:00:00",
          "2020-03-09T19:55:00",
          "2020-03-09T19:50:00",
          "2020-03-09T19:40:00",
          "2020-03-09T19:35:00",
          "2020-03-09T19:30:00",
          "2020-03-09T19:25:00",
          "2020-03-09T19:20:00",
          "2020-03-09T19:10:00",
          "2020-03-09T19:00:00",
          "2020-03-09T18:50:00",
          "2020-03-09T18:40:00"
         ],
         "xaxis": "x",
         "y": [
          4537,
          5044,
          2403,
          4968,
          987,
          4786,
          3318,
          3453,
          3872,
          349,
          4447,
          1196,
          4350,
          4467,
          2796,
          4746,
          4808,
          4811,
          959,
          4712,
          1678,
          2011,
          1761,
          1417,
          4919,
          4461,
          4575,
          8769,
          9181,
          9150,
          8907,
          9517
         ],
         "yaxis": "y"
        }
       ],
       "layout": {
        "legend": {
         "tracegroupgap": 0
        },
        "margin": {
         "t": 60
        },
        "template": {
         "data": {
          "bar": [
           {
            "error_x": {
             "color": "#2a3f5f"
            },
            "error_y": {
             "color": "#2a3f5f"
            },
            "marker": {
             "line": {
              "color": "#E5ECF6",
              "width": 0.5
             }
            },
            "type": "bar"
           }
          ],
          "barpolar": [
           {
            "marker": {
             "line": {
              "color": "#E5ECF6",
              "width": 0.5
             }
            },
            "type": "barpolar"
           }
          ],
          "carpet": [
           {
            "aaxis": {
             "endlinecolor": "#2a3f5f",
             "gridcolor": "white",
             "linecolor": "white",
             "minorgridcolor": "white",
             "startlinecolor": "#2a3f5f"
            },
            "baxis": {
             "endlinecolor": "#2a3f5f",
             "gridcolor": "white",
             "linecolor": "white",
             "minorgridcolor": "white",
             "startlinecolor": "#2a3f5f"
            },
            "type": "carpet"
           }
          ],
          "choropleth": [
           {
            "colorbar": {
             "outlinewidth": 0,
             "ticks": ""
            },
            "type": "choropleth"
           }
          ],
          "contour": [
           {
            "colorbar": {
             "outlinewidth": 0,
             "ticks": ""
            },
            "colorscale": [
             [
              0,
              "#0d0887"
             ],
             [
              0.1111111111111111,
              "#46039f"
             ],
             [
              0.2222222222222222,
              "#7201a8"
             ],
             [
              0.3333333333333333,
              "#9c179e"
             ],
             [
              0.4444444444444444,
              "#bd3786"
             ],
             [
              0.5555555555555556,
              "#d8576b"
             ],
             [
              0.6666666666666666,
              "#ed7953"
             ],
             [
              0.7777777777777778,
              "#fb9f3a"
             ],
             [
              0.8888888888888888,
              "#fdca26"
             ],
             [
              1,
              "#f0f921"
             ]
            ],
            "type": "contour"
           }
          ],
          "contourcarpet": [
           {
            "colorbar": {
             "outlinewidth": 0,
             "ticks": ""
            },
            "type": "contourcarpet"
           }
          ],
          "heatmap": [
           {
            "colorbar": {
             "outlinewidth": 0,
             "ticks": ""
            },
            "colorscale": [
             [
              0,
              "#0d0887"
             ],
             [
              0.1111111111111111,
              "#46039f"
             ],
             [
              0.2222222222222222,
              "#7201a8"
             ],
             [
              0.3333333333333333,
              "#9c179e"
             ],
             [
              0.4444444444444444,
              "#bd3786"
             ],
             [
              0.5555555555555556,
              "#d8576b"
             ],
             [
              0.6666666666666666,
              "#ed7953"
             ],
             [
              0.7777777777777778,
              "#fb9f3a"
             ],
             [
              0.8888888888888888,
              "#fdca26"
             ],
             [
              1,
              "#f0f921"
             ]
            ],
            "type": "heatmap"
           }
          ],
          "heatmapgl": [
           {
            "colorbar": {
             "outlinewidth": 0,
             "ticks": ""
            },
            "colorscale": [
             [
              0,
              "#0d0887"
             ],
             [
              0.1111111111111111,
              "#46039f"
             ],
             [
              0.2222222222222222,
              "#7201a8"
             ],
             [
              0.3333333333333333,
              "#9c179e"
             ],
             [
              0.4444444444444444,
              "#bd3786"
             ],
             [
              0.5555555555555556,
              "#d8576b"
             ],
             [
              0.6666666666666666,
              "#ed7953"
             ],
             [
              0.7777777777777778,
              "#fb9f3a"
             ],
             [
              0.8888888888888888,
              "#fdca26"
             ],
             [
              1,
              "#f0f921"
             ]
            ],
            "type": "heatmapgl"
           }
          ],
          "histogram": [
           {
            "marker": {
             "colorbar": {
              "outlinewidth": 0,
              "ticks": ""
             }
            },
            "type": "histogram"
           }
          ],
          "histogram2d": [
           {
            "colorbar": {
             "outlinewidth": 0,
             "ticks": ""
            },
            "colorscale": [
             [
              0,
              "#0d0887"
             ],
             [
              0.1111111111111111,
              "#46039f"
             ],
             [
              0.2222222222222222,
              "#7201a8"
             ],
             [
              0.3333333333333333,
              "#9c179e"
             ],
             [
              0.4444444444444444,
              "#bd3786"
             ],
             [
              0.5555555555555556,
              "#d8576b"
             ],
             [
              0.6666666666666666,
              "#ed7953"
             ],
             [
              0.7777777777777778,
              "#fb9f3a"
             ],
             [
              0.8888888888888888,
              "#fdca26"
             ],
             [
              1,
              "#f0f921"
             ]
            ],
            "type": "histogram2d"
           }
          ],
          "histogram2dcontour": [
           {
            "colorbar": {
             "outlinewidth": 0,
             "ticks": ""
            },
            "colorscale": [
             [
              0,
              "#0d0887"
             ],
             [
              0.1111111111111111,
              "#46039f"
             ],
             [
              0.2222222222222222,
              "#7201a8"
             ],
             [
              0.3333333333333333,
              "#9c179e"
             ],
             [
              0.4444444444444444,
              "#bd3786"
             ],
             [
              0.5555555555555556,
              "#d8576b"
             ],
             [
              0.6666666666666666,
              "#ed7953"
             ],
             [
              0.7777777777777778,
              "#fb9f3a"
             ],
             [
              0.8888888888888888,
              "#fdca26"
             ],
             [
              1,
              "#f0f921"
             ]
            ],
            "type": "histogram2dcontour"
           }
          ],
          "mesh3d": [
           {
            "colorbar": {
             "outlinewidth": 0,
             "ticks": ""
            },
            "type": "mesh3d"
           }
          ],
          "parcoords": [
           {
            "line": {
             "colorbar": {
              "outlinewidth": 0,
              "ticks": ""
             }
            },
            "type": "parcoords"
           }
          ],
          "pie": [
           {
            "automargin": true,
            "type": "pie"
           }
          ],
          "scatter": [
           {
            "marker": {
             "colorbar": {
              "outlinewidth": 0,
              "ticks": ""
             }
            },
            "type": "scatter"
           }
          ],
          "scatter3d": [
           {
            "line": {
             "colorbar": {
              "outlinewidth": 0,
              "ticks": ""
             }
            },
            "marker": {
             "colorbar": {
              "outlinewidth": 0,
              "ticks": ""
             }
            },
            "type": "scatter3d"
           }
          ],
          "scattercarpet": [
           {
            "marker": {
             "colorbar": {
              "outlinewidth": 0,
              "ticks": ""
             }
            },
            "type": "scattercarpet"
           }
          ],
          "scattergeo": [
           {
            "marker": {
             "colorbar": {
              "outlinewidth": 0,
              "ticks": ""
             }
            },
            "type": "scattergeo"
           }
          ],
          "scattergl": [
           {
            "marker": {
             "colorbar": {
              "outlinewidth": 0,
              "ticks": ""
             }
            },
            "type": "scattergl"
           }
          ],
          "scattermapbox": [
           {
            "marker": {
             "colorbar": {
              "outlinewidth": 0,
              "ticks": ""
             }
            },
            "type": "scattermapbox"
           }
          ],
          "scatterpolar": [
           {
            "marker": {
             "colorbar": {
              "outlinewidth": 0,
              "ticks": ""
             }
            },
            "type": "scatterpolar"
           }
          ],
          "scatterpolargl": [
           {
            "marker": {
             "colorbar": {
              "outlinewidth": 0,
              "ticks": ""
             }
            },
            "type": "scatterpolargl"
           }
          ],
          "scatterternary": [
           {
            "marker": {
             "colorbar": {
              "outlinewidth": 0,
              "ticks": ""
             }
            },
            "type": "scatterternary"
           }
          ],
          "surface": [
           {
            "colorbar": {
             "outlinewidth": 0,
             "ticks": ""
            },
            "colorscale": [
             [
              0,
              "#0d0887"
             ],
             [
              0.1111111111111111,
              "#46039f"
             ],
             [
              0.2222222222222222,
              "#7201a8"
             ],
             [
              0.3333333333333333,
              "#9c179e"
             ],
             [
              0.4444444444444444,
              "#bd3786"
             ],
             [
              0.5555555555555556,
              "#d8576b"
             ],
             [
              0.6666666666666666,
              "#ed7953"
             ],
             [
              0.7777777777777778,
              "#fb9f3a"
             ],
             [
              0.8888888888888888,
              "#fdca26"
             ],
             [
              1,
              "#f0f921"
             ]
            ],
            "type": "surface"
           }
          ],
          "table": [
           {
            "cells": {
             "fill": {
              "color": "#EBF0F8"
             },
             "line": {
              "color": "white"
             }
            },
            "header": {
             "fill": {
              "color": "#C8D4E3"
             },
             "line": {
              "color": "white"
             }
            },
            "type": "table"
           }
          ]
         },
         "layout": {
          "annotationdefaults": {
           "arrowcolor": "#2a3f5f",
           "arrowhead": 0,
           "arrowwidth": 1
          },
          "coloraxis": {
           "colorbar": {
            "outlinewidth": 0,
            "ticks": ""
           }
          },
          "colorscale": {
           "diverging": [
            [
             0,
             "#8e0152"
            ],
            [
             0.1,
             "#c51b7d"
            ],
            [
             0.2,
             "#de77ae"
            ],
            [
             0.3,
             "#f1b6da"
            ],
            [
             0.4,
             "#fde0ef"
            ],
            [
             0.5,
             "#f7f7f7"
            ],
            [
             0.6,
             "#e6f5d0"
            ],
            [
             0.7,
             "#b8e186"
            ],
            [
             0.8,
             "#7fbc41"
            ],
            [
             0.9,
             "#4d9221"
            ],
            [
             1,
             "#276419"
            ]
           ],
           "sequential": [
            [
             0,
             "#0d0887"
            ],
            [
             0.1111111111111111,
             "#46039f"
            ],
            [
             0.2222222222222222,
             "#7201a8"
            ],
            [
             0.3333333333333333,
             "#9c179e"
            ],
            [
             0.4444444444444444,
             "#bd3786"
            ],
            [
             0.5555555555555556,
             "#d8576b"
            ],
            [
             0.6666666666666666,
             "#ed7953"
            ],
            [
             0.7777777777777778,
             "#fb9f3a"
            ],
            [
             0.8888888888888888,
             "#fdca26"
            ],
            [
             1,
             "#f0f921"
            ]
           ],
           "sequentialminus": [
            [
             0,
             "#0d0887"
            ],
            [
             0.1111111111111111,
             "#46039f"
            ],
            [
             0.2222222222222222,
             "#7201a8"
            ],
            [
             0.3333333333333333,
             "#9c179e"
            ],
            [
             0.4444444444444444,
             "#bd3786"
            ],
            [
             0.5555555555555556,
             "#d8576b"
            ],
            [
             0.6666666666666666,
             "#ed7953"
            ],
            [
             0.7777777777777778,
             "#fb9f3a"
            ],
            [
             0.8888888888888888,
             "#fdca26"
            ],
            [
             1,
             "#f0f921"
            ]
           ]
          },
          "colorway": [
           "#636efa",
           "#EF553B",
           "#00cc96",
           "#ab63fa",
           "#FFA15A",
           "#19d3f3",
           "#FF6692",
           "#B6E880",
           "#FF97FF",
           "#FECB52"
          ],
          "font": {
           "color": "#2a3f5f"
          },
          "geo": {
           "bgcolor": "white",
           "lakecolor": "white",
           "landcolor": "#E5ECF6",
           "showlakes": true,
           "showland": true,
           "subunitcolor": "white"
          },
          "hoverlabel": {
           "align": "left"
          },
          "hovermode": "closest",
          "mapbox": {
           "style": "light"
          },
          "paper_bgcolor": "white",
          "plot_bgcolor": "#E5ECF6",
          "polar": {
           "angularaxis": {
            "gridcolor": "white",
            "linecolor": "white",
            "ticks": ""
           },
           "bgcolor": "#E5ECF6",
           "radialaxis": {
            "gridcolor": "white",
            "linecolor": "white",
            "ticks": ""
           }
          },
          "scene": {
           "xaxis": {
            "backgroundcolor": "#E5ECF6",
            "gridcolor": "white",
            "gridwidth": 2,
            "linecolor": "white",
            "showbackground": true,
            "ticks": "",
            "zerolinecolor": "white"
           },
           "yaxis": {
            "backgroundcolor": "#E5ECF6",
            "gridcolor": "white",
            "gridwidth": 2,
            "linecolor": "white",
            "showbackground": true,
            "ticks": "",
            "zerolinecolor": "white"
           },
           "zaxis": {
            "backgroundcolor": "#E5ECF6",
            "gridcolor": "white",
            "gridwidth": 2,
            "linecolor": "white",
            "showbackground": true,
            "ticks": "",
            "zerolinecolor": "white"
           }
          },
          "shapedefaults": {
           "line": {
            "color": "#2a3f5f"
           }
          },
          "ternary": {
           "aaxis": {
            "gridcolor": "white",
            "linecolor": "white",
            "ticks": ""
           },
           "baxis": {
            "gridcolor": "white",
            "linecolor": "white",
            "ticks": ""
           },
           "bgcolor": "#E5ECF6",
           "caxis": {
            "gridcolor": "white",
            "linecolor": "white",
            "ticks": ""
           }
          },
          "title": {
           "x": 0.05
          },
          "xaxis": {
           "automargin": true,
           "gridcolor": "white",
           "linecolor": "white",
           "ticks": "",
           "title": {
            "standoff": 15
           },
           "zerolinecolor": "white",
           "zerolinewidth": 2
          },
          "yaxis": {
           "automargin": true,
           "gridcolor": "white",
           "linecolor": "white",
           "ticks": "",
           "title": {
            "standoff": 15
           },
           "zerolinecolor": "white",
           "zerolinewidth": 2
          }
         }
        },
        "xaxis": {
         "anchor": "y",
         "domain": [
          0,
          1
         ],
         "title": {
          "text": "created_at"
         }
        },
        "yaxis": {
         "anchor": "x",
         "domain": [
          0,
          1
         ],
         "title": {
          "text": "index"
         }
        }
       }
      },
      "text/html": [
       "<div>\n",
       "        \n",
       "        \n",
       "            <div id=\"9644495b-1378-4696-a946-7df2d3f8be79\" class=\"plotly-graph-div\" style=\"height:525px; width:100%;\"></div>\n",
       "            <script type=\"text/javascript\">\n",
       "                require([\"plotly\"], function(Plotly) {\n",
       "                    window.PLOTLYENV=window.PLOTLYENV || {};\n",
       "                    \n",
       "                if (document.getElementById(\"9644495b-1378-4696-a946-7df2d3f8be79\")) {\n",
       "                    Plotly.newPlot(\n",
       "                        '9644495b-1378-4696-a946-7df2d3f8be79',\n",
       "                        [{\"hoverlabel\": {\"namelength\": 0}, \"hovertemplate\": \"created_at=%{x}<br>index=%{y}\", \"legendgroup\": \"\", \"line\": {\"color\": \"#636efa\", \"dash\": \"solid\"}, \"mode\": \"lines\", \"name\": \"\", \"showlegend\": false, \"type\": \"scatter\", \"x\": [\"2020-03-09T22:25:00\", \"2020-03-09T22:20:00\", \"2020-03-09T22:15:00\", \"2020-03-09T22:10:00\", \"2020-03-09T21:55:00\", \"2020-03-09T21:50:00\", \"2020-03-09T21:35:00\", \"2020-03-09T21:30:00\", \"2020-03-09T21:25:00\", \"2020-03-09T21:20:00\", \"2020-03-09T21:15:00\", \"2020-03-09T21:10:00\", \"2020-03-09T21:05:00\", \"2020-03-09T21:00:00\", \"2020-03-09T20:55:00\", \"2020-03-09T20:50:00\", \"2020-03-09T20:45:00\", \"2020-03-09T20:40:00\", \"2020-03-09T20:10:00\", \"2020-03-09T20:05:00\", \"2020-03-09T20:00:00\", \"2020-03-09T19:55:00\", \"2020-03-09T19:50:00\", \"2020-03-09T19:40:00\", \"2020-03-09T19:35:00\", \"2020-03-09T19:30:00\", \"2020-03-09T19:25:00\", \"2020-03-09T19:20:00\", \"2020-03-09T19:10:00\", \"2020-03-09T19:00:00\", \"2020-03-09T18:50:00\", \"2020-03-09T18:40:00\"], \"xaxis\": \"x\", \"y\": [4537, 5044, 2403, 4968, 987, 4786, 3318, 3453, 3872, 349, 4447, 1196, 4350, 4467, 2796, 4746, 4808, 4811, 959, 4712, 1678, 2011, 1761, 1417, 4919, 4461, 4575, 8769, 9181, 9150, 8907, 9517], \"yaxis\": \"y\"}],\n",
       "                        {\"legend\": {\"tracegroupgap\": 0}, \"margin\": {\"t\": 60}, \"template\": {\"data\": {\"bar\": [{\"error_x\": {\"color\": \"#2a3f5f\"}, \"error_y\": {\"color\": \"#2a3f5f\"}, \"marker\": {\"line\": {\"color\": \"#E5ECF6\", \"width\": 0.5}}, \"type\": \"bar\"}], \"barpolar\": [{\"marker\": {\"line\": {\"color\": \"#E5ECF6\", \"width\": 0.5}}, \"type\": \"barpolar\"}], \"carpet\": [{\"aaxis\": {\"endlinecolor\": \"#2a3f5f\", \"gridcolor\": \"white\", \"linecolor\": \"white\", \"minorgridcolor\": \"white\", \"startlinecolor\": \"#2a3f5f\"}, \"baxis\": {\"endlinecolor\": \"#2a3f5f\", \"gridcolor\": \"white\", \"linecolor\": \"white\", \"minorgridcolor\": \"white\", \"startlinecolor\": \"#2a3f5f\"}, \"type\": \"carpet\"}], \"choropleth\": [{\"colorbar\": {\"outlinewidth\": 0, \"ticks\": \"\"}, \"type\": \"choropleth\"}], \"contour\": [{\"colorbar\": {\"outlinewidth\": 0, \"ticks\": \"\"}, \"colorscale\": [[0.0, \"#0d0887\"], [0.1111111111111111, \"#46039f\"], [0.2222222222222222, \"#7201a8\"], [0.3333333333333333, \"#9c179e\"], [0.4444444444444444, \"#bd3786\"], [0.5555555555555556, \"#d8576b\"], [0.6666666666666666, \"#ed7953\"], [0.7777777777777778, \"#fb9f3a\"], [0.8888888888888888, \"#fdca26\"], [1.0, \"#f0f921\"]], \"type\": \"contour\"}], \"contourcarpet\": [{\"colorbar\": {\"outlinewidth\": 0, \"ticks\": \"\"}, \"type\": \"contourcarpet\"}], \"heatmap\": [{\"colorbar\": {\"outlinewidth\": 0, \"ticks\": \"\"}, \"colorscale\": [[0.0, \"#0d0887\"], [0.1111111111111111, \"#46039f\"], [0.2222222222222222, \"#7201a8\"], [0.3333333333333333, \"#9c179e\"], [0.4444444444444444, \"#bd3786\"], [0.5555555555555556, \"#d8576b\"], [0.6666666666666666, \"#ed7953\"], [0.7777777777777778, \"#fb9f3a\"], [0.8888888888888888, \"#fdca26\"], [1.0, \"#f0f921\"]], \"type\": \"heatmap\"}], \"heatmapgl\": [{\"colorbar\": {\"outlinewidth\": 0, \"ticks\": \"\"}, \"colorscale\": [[0.0, \"#0d0887\"], [0.1111111111111111, \"#46039f\"], [0.2222222222222222, \"#7201a8\"], [0.3333333333333333, \"#9c179e\"], [0.4444444444444444, \"#bd3786\"], [0.5555555555555556, \"#d8576b\"], [0.6666666666666666, \"#ed7953\"], [0.7777777777777778, \"#fb9f3a\"], [0.8888888888888888, \"#fdca26\"], [1.0, \"#f0f921\"]], \"type\": \"heatmapgl\"}], \"histogram\": [{\"marker\": {\"colorbar\": {\"outlinewidth\": 0, \"ticks\": \"\"}}, \"type\": \"histogram\"}], \"histogram2d\": [{\"colorbar\": {\"outlinewidth\": 0, \"ticks\": \"\"}, \"colorscale\": [[0.0, \"#0d0887\"], [0.1111111111111111, \"#46039f\"], [0.2222222222222222, \"#7201a8\"], [0.3333333333333333, \"#9c179e\"], [0.4444444444444444, \"#bd3786\"], [0.5555555555555556, \"#d8576b\"], [0.6666666666666666, \"#ed7953\"], [0.7777777777777778, \"#fb9f3a\"], [0.8888888888888888, \"#fdca26\"], [1.0, \"#f0f921\"]], \"type\": \"histogram2d\"}], \"histogram2dcontour\": [{\"colorbar\": {\"outlinewidth\": 0, \"ticks\": \"\"}, \"colorscale\": [[0.0, \"#0d0887\"], [0.1111111111111111, \"#46039f\"], [0.2222222222222222, \"#7201a8\"], [0.3333333333333333, \"#9c179e\"], [0.4444444444444444, \"#bd3786\"], [0.5555555555555556, \"#d8576b\"], [0.6666666666666666, \"#ed7953\"], [0.7777777777777778, \"#fb9f3a\"], [0.8888888888888888, \"#fdca26\"], [1.0, \"#f0f921\"]], \"type\": \"histogram2dcontour\"}], \"mesh3d\": [{\"colorbar\": {\"outlinewidth\": 0, \"ticks\": \"\"}, \"type\": \"mesh3d\"}], \"parcoords\": [{\"line\": {\"colorbar\": {\"outlinewidth\": 0, \"ticks\": \"\"}}, \"type\": \"parcoords\"}], \"pie\": [{\"automargin\": true, \"type\": \"pie\"}], \"scatter\": [{\"marker\": {\"colorbar\": {\"outlinewidth\": 0, \"ticks\": \"\"}}, \"type\": \"scatter\"}], \"scatter3d\": [{\"line\": {\"colorbar\": {\"outlinewidth\": 0, \"ticks\": \"\"}}, \"marker\": {\"colorbar\": {\"outlinewidth\": 0, \"ticks\": \"\"}}, \"type\": \"scatter3d\"}], \"scattercarpet\": [{\"marker\": {\"colorbar\": {\"outlinewidth\": 0, \"ticks\": \"\"}}, \"type\": \"scattercarpet\"}], \"scattergeo\": [{\"marker\": {\"colorbar\": {\"outlinewidth\": 0, \"ticks\": \"\"}}, \"type\": \"scattergeo\"}], \"scattergl\": [{\"marker\": {\"colorbar\": {\"outlinewidth\": 0, \"ticks\": \"\"}}, \"type\": \"scattergl\"}], \"scattermapbox\": [{\"marker\": {\"colorbar\": {\"outlinewidth\": 0, \"ticks\": \"\"}}, \"type\": \"scattermapbox\"}], \"scatterpolar\": [{\"marker\": {\"colorbar\": {\"outlinewidth\": 0, \"ticks\": \"\"}}, \"type\": \"scatterpolar\"}], \"scatterpolargl\": [{\"marker\": {\"colorbar\": {\"outlinewidth\": 0, \"ticks\": \"\"}}, \"type\": \"scatterpolargl\"}], \"scatterternary\": [{\"marker\": {\"colorbar\": {\"outlinewidth\": 0, \"ticks\": \"\"}}, \"type\": \"scatterternary\"}], \"surface\": [{\"colorbar\": {\"outlinewidth\": 0, \"ticks\": \"\"}, \"colorscale\": [[0.0, \"#0d0887\"], [0.1111111111111111, \"#46039f\"], [0.2222222222222222, \"#7201a8\"], [0.3333333333333333, \"#9c179e\"], [0.4444444444444444, \"#bd3786\"], [0.5555555555555556, \"#d8576b\"], [0.6666666666666666, \"#ed7953\"], [0.7777777777777778, \"#fb9f3a\"], [0.8888888888888888, \"#fdca26\"], [1.0, \"#f0f921\"]], \"type\": \"surface\"}], \"table\": [{\"cells\": {\"fill\": {\"color\": \"#EBF0F8\"}, \"line\": {\"color\": \"white\"}}, \"header\": {\"fill\": {\"color\": \"#C8D4E3\"}, \"line\": {\"color\": \"white\"}}, \"type\": \"table\"}]}, \"layout\": {\"annotationdefaults\": {\"arrowcolor\": \"#2a3f5f\", \"arrowhead\": 0, \"arrowwidth\": 1}, \"coloraxis\": {\"colorbar\": {\"outlinewidth\": 0, \"ticks\": \"\"}}, \"colorscale\": {\"diverging\": [[0, \"#8e0152\"], [0.1, \"#c51b7d\"], [0.2, \"#de77ae\"], [0.3, \"#f1b6da\"], [0.4, \"#fde0ef\"], [0.5, \"#f7f7f7\"], [0.6, \"#e6f5d0\"], [0.7, \"#b8e186\"], [0.8, \"#7fbc41\"], [0.9, \"#4d9221\"], [1, \"#276419\"]], \"sequential\": [[0.0, \"#0d0887\"], [0.1111111111111111, \"#46039f\"], [0.2222222222222222, \"#7201a8\"], [0.3333333333333333, \"#9c179e\"], [0.4444444444444444, \"#bd3786\"], [0.5555555555555556, \"#d8576b\"], [0.6666666666666666, \"#ed7953\"], [0.7777777777777778, \"#fb9f3a\"], [0.8888888888888888, \"#fdca26\"], [1.0, \"#f0f921\"]], \"sequentialminus\": [[0.0, \"#0d0887\"], [0.1111111111111111, \"#46039f\"], [0.2222222222222222, \"#7201a8\"], [0.3333333333333333, \"#9c179e\"], [0.4444444444444444, \"#bd3786\"], [0.5555555555555556, \"#d8576b\"], [0.6666666666666666, \"#ed7953\"], [0.7777777777777778, \"#fb9f3a\"], [0.8888888888888888, \"#fdca26\"], [1.0, \"#f0f921\"]]}, \"colorway\": [\"#636efa\", \"#EF553B\", \"#00cc96\", \"#ab63fa\", \"#FFA15A\", \"#19d3f3\", \"#FF6692\", \"#B6E880\", \"#FF97FF\", \"#FECB52\"], \"font\": {\"color\": \"#2a3f5f\"}, \"geo\": {\"bgcolor\": \"white\", \"lakecolor\": \"white\", \"landcolor\": \"#E5ECF6\", \"showlakes\": true, \"showland\": true, \"subunitcolor\": \"white\"}, \"hoverlabel\": {\"align\": \"left\"}, \"hovermode\": \"closest\", \"mapbox\": {\"style\": \"light\"}, \"paper_bgcolor\": \"white\", \"plot_bgcolor\": \"#E5ECF6\", \"polar\": {\"angularaxis\": {\"gridcolor\": \"white\", \"linecolor\": \"white\", \"ticks\": \"\"}, \"bgcolor\": \"#E5ECF6\", \"radialaxis\": {\"gridcolor\": \"white\", \"linecolor\": \"white\", \"ticks\": \"\"}}, \"scene\": {\"xaxis\": {\"backgroundcolor\": \"#E5ECF6\", \"gridcolor\": \"white\", \"gridwidth\": 2, \"linecolor\": \"white\", \"showbackground\": true, \"ticks\": \"\", \"zerolinecolor\": \"white\"}, \"yaxis\": {\"backgroundcolor\": \"#E5ECF6\", \"gridcolor\": \"white\", \"gridwidth\": 2, \"linecolor\": \"white\", \"showbackground\": true, \"ticks\": \"\", \"zerolinecolor\": \"white\"}, \"zaxis\": {\"backgroundcolor\": \"#E5ECF6\", \"gridcolor\": \"white\", \"gridwidth\": 2, \"linecolor\": \"white\", \"showbackground\": true, \"ticks\": \"\", \"zerolinecolor\": \"white\"}}, \"shapedefaults\": {\"line\": {\"color\": \"#2a3f5f\"}}, \"ternary\": {\"aaxis\": {\"gridcolor\": \"white\", \"linecolor\": \"white\", \"ticks\": \"\"}, \"baxis\": {\"gridcolor\": \"white\", \"linecolor\": \"white\", \"ticks\": \"\"}, \"bgcolor\": \"#E5ECF6\", \"caxis\": {\"gridcolor\": \"white\", \"linecolor\": \"white\", \"ticks\": \"\"}}, \"title\": {\"x\": 0.05}, \"xaxis\": {\"automargin\": true, \"gridcolor\": \"white\", \"linecolor\": \"white\", \"ticks\": \"\", \"title\": {\"standoff\": 15}, \"zerolinecolor\": \"white\", \"zerolinewidth\": 2}, \"yaxis\": {\"automargin\": true, \"gridcolor\": \"white\", \"linecolor\": \"white\", \"ticks\": \"\", \"title\": {\"standoff\": 15}, \"zerolinecolor\": \"white\", \"zerolinewidth\": 2}}}, \"xaxis\": {\"anchor\": \"y\", \"domain\": [0.0, 1.0], \"title\": {\"text\": \"created_at\"}}, \"yaxis\": {\"anchor\": \"x\", \"domain\": [0.0, 1.0], \"title\": {\"text\": \"index\"}}},\n",
       "                        {\"responsive\": true}\n",
       "                    ).then(function(){\n",
       "                            \n",
       "var gd = document.getElementById('9644495b-1378-4696-a946-7df2d3f8be79');\n",
       "var x = new MutationObserver(function (mutations, observer) {{\n",
       "        var display = window.getComputedStyle(gd).display;\n",
       "        if (!display || display === 'none') {{\n",
       "            console.log([gd, 'removed!']);\n",
       "            Plotly.purge(gd);\n",
       "            observer.disconnect();\n",
       "        }}\n",
       "}});\n",
       "\n",
       "// Listen for the removal of the full notebook cells\n",
       "var notebookContainer = gd.closest('#notebook-container');\n",
       "if (notebookContainer) {{\n",
       "    x.observe(notebookContainer, {childList: true});\n",
       "}}\n",
       "\n",
       "// Listen for the clearing of the current output cell\n",
       "var outputEl = gd.closest('.output');\n",
       "if (outputEl) {{\n",
       "    x.observe(outputEl, {childList: true});\n",
       "}}\n",
       "\n",
       "                        })\n",
       "                };\n",
       "                });\n",
       "            </script>\n",
       "        </div>"
      ]
     },
     "metadata": {},
     "output_type": "display_data"
    }
   ],
   "source": [
    "px.line(test.sort_values('created_at', ascending=False), x='created_at', y='index')"
   ]
  },
  {
   "cell_type": "raw",
   "metadata": {},
   "source": [
    "testing4 = df.resample('15min').count()['index'].reset_index().sort_values('created_at', ascending=False)"
   ]
  },
  {
   "cell_type": "code",
   "execution_count": 1293,
   "metadata": {},
   "outputs": [
    {
     "name": "stderr",
     "output_type": "stream",
     "text": [
      "/home/leonardo/anaconda3/envs/tf_gpu2/lib/python3.7/site-packages/pandas/core/frame.py:7116: FutureWarning:\n",
      "\n",
      "Sorting because non-concatenation axis is not aligned. A future version\n",
      "of pandas will change to not sort by default.\n",
      "\n",
      "To accept the future behavior, pass 'sort=False'.\n",
      "\n",
      "To retain the current behavior and silence the warning, pass 'sort=True'.\n",
      "\n",
      "\n"
     ]
    }
   ],
   "source": [
    "\n",
    "def count_timeseries(list_dates, test):\n",
    "    df = list_dates.copy()\n",
    "    df.created_at = pd.to_datetime(df.created_at)\n",
    "    df.set_index('created_at', inplace=True)\n",
    "    \n",
    "    test.append(df.resample('10min').count().reset_index()[:2].to_dict('row'))\n",
    "    test = test.drop_duplicates('created_at', keep='last')\n",
    "    \n",
    "    return test\n",
    "    \n",
    "df = pd.read_sql_query(\"SELECT * from tweet\", con)\n",
    "test = count_timeseries(df, test)"
   ]
  },
  {
   "cell_type": "code",
   "execution_count": 1294,
   "metadata": {},
   "outputs": [
    {
     "data": {
      "text/html": [
       "<div>\n",
       "<style scoped>\n",
       "    .dataframe tbody tr th:only-of-type {\n",
       "        vertical-align: middle;\n",
       "    }\n",
       "\n",
       "    .dataframe tbody tr th {\n",
       "        vertical-align: top;\n",
       "    }\n",
       "\n",
       "    .dataframe thead th {\n",
       "        text-align: right;\n",
       "    }\n",
       "</style>\n",
       "<table border=\"1\" class=\"dataframe\">\n",
       "  <thead>\n",
       "    <tr style=\"text-align: right;\">\n",
       "      <th></th>\n",
       "      <th>index</th>\n",
       "    </tr>\n",
       "    <tr>\n",
       "      <th>created_at</th>\n",
       "      <th></th>\n",
       "    </tr>\n",
       "  </thead>\n",
       "  <tbody>\n",
       "    <tr>\n",
       "      <th>2020-03-09 18:40:00</th>\n",
       "      <td>9517</td>\n",
       "    </tr>\n",
       "    <tr>\n",
       "      <th>2020-03-09 18:50:00</th>\n",
       "      <td>8907</td>\n",
       "    </tr>\n",
       "    <tr>\n",
       "      <th>2020-03-09 19:00:00</th>\n",
       "      <td>9150</td>\n",
       "    </tr>\n",
       "    <tr>\n",
       "      <th>2020-03-09 19:20:00</th>\n",
       "      <td>8769</td>\n",
       "    </tr>\n",
       "    <tr>\n",
       "      <th>2020-03-09 19:10:00</th>\n",
       "      <td>9181</td>\n",
       "    </tr>\n",
       "    <tr>\n",
       "      <th>2020-03-09 19:25:00</th>\n",
       "      <td>4575</td>\n",
       "    </tr>\n",
       "    <tr>\n",
       "      <th>2020-03-09 19:30:00</th>\n",
       "      <td>4461</td>\n",
       "    </tr>\n",
       "    <tr>\n",
       "      <th>2020-03-09 19:40:00</th>\n",
       "      <td>1417</td>\n",
       "    </tr>\n",
       "    <tr>\n",
       "      <th>2020-03-09 19:35:00</th>\n",
       "      <td>4919</td>\n",
       "    </tr>\n",
       "    <tr>\n",
       "      <th>2020-03-09 19:50:00</th>\n",
       "      <td>1761</td>\n",
       "    </tr>\n",
       "    <tr>\n",
       "      <th>2020-03-09 20:00:00</th>\n",
       "      <td>1678</td>\n",
       "    </tr>\n",
       "    <tr>\n",
       "      <th>2020-03-09 19:55:00</th>\n",
       "      <td>2011</td>\n",
       "    </tr>\n",
       "    <tr>\n",
       "      <th>2020-03-09 20:10:00</th>\n",
       "      <td>959</td>\n",
       "    </tr>\n",
       "    <tr>\n",
       "      <th>2020-03-09 20:05:00</th>\n",
       "      <td>4712</td>\n",
       "    </tr>\n",
       "    <tr>\n",
       "      <th>2020-03-09 20:40:00</th>\n",
       "      <td>4811</td>\n",
       "    </tr>\n",
       "    <tr>\n",
       "      <th>2020-03-09 20:45:00</th>\n",
       "      <td>4808</td>\n",
       "    </tr>\n",
       "    <tr>\n",
       "      <th>2020-03-09 20:55:00</th>\n",
       "      <td>2796</td>\n",
       "    </tr>\n",
       "    <tr>\n",
       "      <th>2020-03-09 20:50:00</th>\n",
       "      <td>4746</td>\n",
       "    </tr>\n",
       "    <tr>\n",
       "      <th>2020-03-09 21:00:00</th>\n",
       "      <td>4467</td>\n",
       "    </tr>\n",
       "    <tr>\n",
       "      <th>2020-03-09 21:10:00</th>\n",
       "      <td>1196</td>\n",
       "    </tr>\n",
       "    <tr>\n",
       "      <th>2020-03-09 21:05:00</th>\n",
       "      <td>4350</td>\n",
       "    </tr>\n",
       "    <tr>\n",
       "      <th>2020-03-09 21:20:00</th>\n",
       "      <td>349</td>\n",
       "    </tr>\n",
       "    <tr>\n",
       "      <th>2020-03-09 21:15:00</th>\n",
       "      <td>4447</td>\n",
       "    </tr>\n",
       "    <tr>\n",
       "      <th>2020-03-09 21:30:00</th>\n",
       "      <td>1973</td>\n",
       "    </tr>\n",
       "    <tr>\n",
       "      <th>2020-03-09 21:25:00</th>\n",
       "      <td>3872</td>\n",
       "    </tr>\n",
       "  </tbody>\n",
       "</table>\n",
       "</div>"
      ],
      "text/plain": [
       "                    index\n",
       "created_at               \n",
       "2020-03-09 18:40:00  9517\n",
       "2020-03-09 18:50:00  8907\n",
       "2020-03-09 19:00:00  9150\n",
       "2020-03-09 19:20:00  8769\n",
       "2020-03-09 19:10:00  9181\n",
       "2020-03-09 19:25:00  4575\n",
       "2020-03-09 19:30:00  4461\n",
       "2020-03-09 19:40:00  1417\n",
       "2020-03-09 19:35:00  4919\n",
       "2020-03-09 19:50:00  1761\n",
       "2020-03-09 20:00:00  1678\n",
       "2020-03-09 19:55:00  2011\n",
       "2020-03-09 20:10:00   959\n",
       "2020-03-09 20:05:00  4712\n",
       "2020-03-09 20:40:00  4811\n",
       "2020-03-09 20:45:00  4808\n",
       "2020-03-09 20:55:00  2796\n",
       "2020-03-09 20:50:00  4746\n",
       "2020-03-09 21:00:00  4467\n",
       "2020-03-09 21:10:00  1196\n",
       "2020-03-09 21:05:00  4350\n",
       "2020-03-09 21:20:00   349\n",
       "2020-03-09 21:15:00  4447\n",
       "2020-03-09 21:30:00  1973\n",
       "2020-03-09 21:25:00  3872"
      ]
     },
     "execution_count": 1294,
     "metadata": {},
     "output_type": "execute_result"
    }
   ],
   "source": [
    "test.set_index('created_at')"
   ]
  },
  {
   "cell_type": "code",
   "execution_count": 1034,
   "metadata": {},
   "outputs": [
    {
     "data": {
      "text/html": [
       "<div>\n",
       "<style scoped>\n",
       "    .dataframe tbody tr th:only-of-type {\n",
       "        vertical-align: middle;\n",
       "    }\n",
       "\n",
       "    .dataframe tbody tr th {\n",
       "        vertical-align: top;\n",
       "    }\n",
       "\n",
       "    .dataframe thead th {\n",
       "        text-align: right;\n",
       "    }\n",
       "</style>\n",
       "<table border=\"1\" class=\"dataframe\">\n",
       "  <thead>\n",
       "    <tr style=\"text-align: right;\">\n",
       "      <th></th>\n",
       "      <th>created_at</th>\n",
       "      <th>index</th>\n",
       "    </tr>\n",
       "  </thead>\n",
       "  <tbody>\n",
       "    <tr>\n",
       "      <th>1</th>\n",
       "      <td>2020-03-09 18:40:00</td>\n",
       "      <td>9517</td>\n",
       "    </tr>\n",
       "    <tr>\n",
       "      <th>0</th>\n",
       "      <td>2020-03-09 19:00:00</td>\n",
       "      <td>9008</td>\n",
       "    </tr>\n",
       "    <tr>\n",
       "      <th>1</th>\n",
       "      <td>2020-03-09 18:50:00</td>\n",
       "      <td>8907</td>\n",
       "    </tr>\n",
       "  </tbody>\n",
       "</table>\n",
       "</div>"
      ],
      "text/plain": [
       "           created_at index\n",
       "1 2020-03-09 18:40:00  9517\n",
       "0 2020-03-09 19:00:00  9008\n",
       "1 2020-03-09 18:50:00  8907"
      ]
     },
     "execution_count": 1034,
     "metadata": {},
     "output_type": "execute_result"
    }
   ],
   "source": [
    "test.drop_duplicates('created_at', keep='last')"
   ]
  },
  {
   "cell_type": "code",
   "execution_count": 921,
   "metadata": {},
   "outputs": [],
   "source": [
    "test = test.append(df.resample('10min').count()['index'].sort_index(ascending=False).reset_index()[:2].to_dict('row'))"
   ]
  },
  {
   "cell_type": "code",
   "execution_count": 922,
   "metadata": {},
   "outputs": [],
   "source": [
    "test = test.drop_duplicates('created_at', keep='last')\n"
   ]
  },
  {
   "cell_type": "code",
   "execution_count": 923,
   "metadata": {},
   "outputs": [
    {
     "ename": "ValueError",
     "evalue": "No axis named  for object type <class 'pandas.core.frame.DataFrame'>",
     "output_type": "error",
     "traceback": [
      "\u001b[0;31m---------------------------------------------------------------------------\u001b[0m",
      "\u001b[0;31mValueError\u001b[0m                                Traceback (most recent call last)",
      "\u001b[0;32m<ipython-input-923-8e5c979aba4a>\u001b[0m in \u001b[0;36m<module>\u001b[0;34m\u001b[0m\n\u001b[0;32m----> 1\u001b[0;31m \u001b[0mtest\u001b[0m \u001b[0;34m=\u001b[0m \u001b[0mtest\u001b[0m\u001b[0;34m.\u001b[0m\u001b[0mdropna\u001b[0m\u001b[0;34m(\u001b[0m\u001b[0;34m\"\"\u001b[0m\u001b[0;34m)\u001b[0m\u001b[0;34m\u001b[0m\u001b[0;34m\u001b[0m\u001b[0m\n\u001b[0m",
      "\u001b[0;32m~/anaconda3/envs/tf_gpu2/lib/python3.7/site-packages/pandas/core/frame.py\u001b[0m in \u001b[0;36mdropna\u001b[0;34m(self, axis, how, thresh, subset, inplace)\u001b[0m\n\u001b[1;32m   4828\u001b[0m                 \u001b[0mresult\u001b[0m \u001b[0;34m=\u001b[0m \u001b[0mresult\u001b[0m\u001b[0;34m.\u001b[0m\u001b[0mdropna\u001b[0m\u001b[0;34m(\u001b[0m\u001b[0mhow\u001b[0m\u001b[0;34m=\u001b[0m\u001b[0mhow\u001b[0m\u001b[0;34m,\u001b[0m \u001b[0mthresh\u001b[0m\u001b[0;34m=\u001b[0m\u001b[0mthresh\u001b[0m\u001b[0;34m,\u001b[0m \u001b[0msubset\u001b[0m\u001b[0;34m=\u001b[0m\u001b[0msubset\u001b[0m\u001b[0;34m,\u001b[0m \u001b[0maxis\u001b[0m\u001b[0;34m=\u001b[0m\u001b[0max\u001b[0m\u001b[0;34m)\u001b[0m\u001b[0;34m\u001b[0m\u001b[0;34m\u001b[0m\u001b[0m\n\u001b[1;32m   4829\u001b[0m         \u001b[0;32melse\u001b[0m\u001b[0;34m:\u001b[0m\u001b[0;34m\u001b[0m\u001b[0;34m\u001b[0m\u001b[0m\n\u001b[0;32m-> 4830\u001b[0;31m             \u001b[0maxis\u001b[0m \u001b[0;34m=\u001b[0m \u001b[0mself\u001b[0m\u001b[0;34m.\u001b[0m\u001b[0m_get_axis_number\u001b[0m\u001b[0;34m(\u001b[0m\u001b[0maxis\u001b[0m\u001b[0;34m)\u001b[0m\u001b[0;34m\u001b[0m\u001b[0;34m\u001b[0m\u001b[0m\n\u001b[0m\u001b[1;32m   4831\u001b[0m             \u001b[0magg_axis\u001b[0m \u001b[0;34m=\u001b[0m \u001b[0;36m1\u001b[0m \u001b[0;34m-\u001b[0m \u001b[0maxis\u001b[0m\u001b[0;34m\u001b[0m\u001b[0;34m\u001b[0m\u001b[0m\n\u001b[1;32m   4832\u001b[0m \u001b[0;34m\u001b[0m\u001b[0m\n",
      "\u001b[0;32m~/anaconda3/envs/tf_gpu2/lib/python3.7/site-packages/pandas/core/generic.py\u001b[0m in \u001b[0;36m_get_axis_number\u001b[0;34m(cls, axis)\u001b[0m\n\u001b[1;32m    410\u001b[0m             \u001b[0;32mexcept\u001b[0m \u001b[0mKeyError\u001b[0m\u001b[0;34m:\u001b[0m\u001b[0;34m\u001b[0m\u001b[0;34m\u001b[0m\u001b[0m\n\u001b[1;32m    411\u001b[0m                 \u001b[0;32mpass\u001b[0m\u001b[0;34m\u001b[0m\u001b[0;34m\u001b[0m\u001b[0m\n\u001b[0;32m--> 412\u001b[0;31m         \u001b[0;32mraise\u001b[0m \u001b[0mValueError\u001b[0m\u001b[0;34m(\u001b[0m\u001b[0;34m\"No axis named {0} for object type {1}\"\u001b[0m\u001b[0;34m.\u001b[0m\u001b[0mformat\u001b[0m\u001b[0;34m(\u001b[0m\u001b[0maxis\u001b[0m\u001b[0;34m,\u001b[0m \u001b[0mcls\u001b[0m\u001b[0;34m)\u001b[0m\u001b[0;34m)\u001b[0m\u001b[0;34m\u001b[0m\u001b[0;34m\u001b[0m\u001b[0m\n\u001b[0m\u001b[1;32m    413\u001b[0m \u001b[0;34m\u001b[0m\u001b[0m\n\u001b[1;32m    414\u001b[0m     \u001b[0;34m@\u001b[0m\u001b[0mclassmethod\u001b[0m\u001b[0;34m\u001b[0m\u001b[0;34m\u001b[0m\u001b[0m\n",
      "\u001b[0;31mValueError\u001b[0m: No axis named  for object type <class 'pandas.core.frame.DataFrame'>"
     ]
    }
   ],
   "source": [
    "test = test.dropna(\"\")"
   ]
  },
  {
   "cell_type": "code",
   "execution_count": null,
   "metadata": {},
   "outputs": [],
   "source": []
  },
  {
   "cell_type": "code",
   "execution_count": 900,
   "metadata": {},
   "outputs": [
    {
     "data": {
      "text/html": [
       "<div>\n",
       "<style scoped>\n",
       "    .dataframe tbody tr th:only-of-type {\n",
       "        vertical-align: middle;\n",
       "    }\n",
       "\n",
       "    .dataframe tbody tr th {\n",
       "        vertical-align: top;\n",
       "    }\n",
       "\n",
       "    .dataframe thead th {\n",
       "        text-align: right;\n",
       "    }\n",
       "</style>\n",
       "<table border=\"1\" class=\"dataframe\">\n",
       "  <thead>\n",
       "    <tr style=\"text-align: right;\">\n",
       "      <th></th>\n",
       "      <th>created_at</th>\n",
       "      <th>index</th>\n",
       "    </tr>\n",
       "  </thead>\n",
       "  <tbody>\n",
       "    <tr>\n",
       "      <th>0</th>\n",
       "      <td>2020-03-09 18:46:00</td>\n",
       "      <td>287</td>\n",
       "    </tr>\n",
       "    <tr>\n",
       "      <th>1</th>\n",
       "      <td>2020-03-09 18:44:00</td>\n",
       "      <td>1879</td>\n",
       "    </tr>\n",
       "    <tr>\n",
       "      <th>1</th>\n",
       "      <td>2020-03-09 18:42:00</td>\n",
       "      <td>1891</td>\n",
       "    </tr>\n",
       "    <tr>\n",
       "      <th>1</th>\n",
       "      <td>2020-03-09 18:40:00</td>\n",
       "      <td>1939</td>\n",
       "    </tr>\n",
       "    <tr>\n",
       "      <th>created_at</th>\n",
       "      <td>NaT</td>\n",
       "      <td>NaN</td>\n",
       "    </tr>\n",
       "  </tbody>\n",
       "</table>\n",
       "</div>"
      ],
      "text/plain": [
       "                    created_at index\n",
       "0          2020-03-09 18:46:00   287\n",
       "1          2020-03-09 18:44:00  1879\n",
       "1          2020-03-09 18:42:00  1891\n",
       "1          2020-03-09 18:40:00  1939\n",
       "created_at                 NaT   NaN"
      ]
     },
     "execution_count": 900,
     "metadata": {},
     "output_type": "execute_result"
    }
   ],
   "source": [
    "test.sort_values('created_at',ascending=False)"
   ]
  },
  {
   "cell_type": "code",
   "execution_count": 410,
   "metadata": {},
   "outputs": [
    {
     "data": {
      "text/html": [
       "<div>\n",
       "<style scoped>\n",
       "    .dataframe tbody tr th:only-of-type {\n",
       "        vertical-align: middle;\n",
       "    }\n",
       "\n",
       "    .dataframe tbody tr th {\n",
       "        vertical-align: top;\n",
       "    }\n",
       "\n",
       "    .dataframe thead th {\n",
       "        text-align: right;\n",
       "    }\n",
       "</style>\n",
       "<table border=\"1\" class=\"dataframe\">\n",
       "  <thead>\n",
       "    <tr style=\"text-align: right;\">\n",
       "      <th></th>\n",
       "      <th>date</th>\n",
       "      <th>count</th>\n",
       "    </tr>\n",
       "  </thead>\n",
       "  <tbody>\n",
       "  </tbody>\n",
       "</table>\n",
       "</div>"
      ],
      "text/plain": [
       "Empty DataFrame\n",
       "Columns: [date, count]\n",
       "Index: []"
      ]
     },
     "execution_count": 410,
     "metadata": {},
     "output_type": "execute_result"
    }
   ],
   "source": [
    "test."
   ]
  },
  {
   "cell_type": "code",
   "execution_count": 360,
   "metadata": {},
   "outputs": [
    {
     "data": {
      "text/plain": [
       "Timestamp('2020-03-09 17:00:00')"
      ]
     },
     "execution_count": 360,
     "metadata": {},
     "output_type": "execute_result"
    }
   ],
   "source": [
    "testing2['created_at'][3]"
   ]
  },
  {
   "cell_type": "code",
   "execution_count": 325,
   "metadata": {},
   "outputs": [
    {
     "data": {
      "text/html": [
       "<div>\n",
       "<style scoped>\n",
       "    .dataframe tbody tr th:only-of-type {\n",
       "        vertical-align: middle;\n",
       "    }\n",
       "\n",
       "    .dataframe tbody tr th {\n",
       "        vertical-align: top;\n",
       "    }\n",
       "\n",
       "    .dataframe thead th {\n",
       "        text-align: right;\n",
       "    }\n",
       "</style>\n",
       "<table border=\"1\" class=\"dataframe\">\n",
       "  <thead>\n",
       "    <tr style=\"text-align: right;\">\n",
       "      <th></th>\n",
       "      <th>created_at</th>\n",
       "      <th>index</th>\n",
       "    </tr>\n",
       "  </thead>\n",
       "  <tbody>\n",
       "    <tr>\n",
       "      <th>3</th>\n",
       "      <td>2020-03-09 17:00:00</td>\n",
       "      <td>17</td>\n",
       "    </tr>\n",
       "    <tr>\n",
       "      <th>2</th>\n",
       "      <td>2020-03-09 16:45:00</td>\n",
       "      <td>16117</td>\n",
       "    </tr>\n",
       "    <tr>\n",
       "      <th>1</th>\n",
       "      <td>2020-03-09 16:30:00</td>\n",
       "      <td>16728</td>\n",
       "    </tr>\n",
       "    <tr>\n",
       "      <th>0</th>\n",
       "      <td>2020-03-09 16:15:00</td>\n",
       "      <td>5173</td>\n",
       "    </tr>\n",
       "  </tbody>\n",
       "</table>\n",
       "</div>"
      ],
      "text/plain": [
       "           created_at  index\n",
       "3 2020-03-09 17:00:00     17\n",
       "2 2020-03-09 16:45:00  16117\n",
       "1 2020-03-09 16:30:00  16728\n",
       "0 2020-03-09 16:15:00   5173"
      ]
     },
     "execution_count": 325,
     "metadata": {},
     "output_type": "execute_result"
    }
   ],
   "source": [
    "testing2"
   ]
  },
  {
   "cell_type": "code",
   "execution_count": 326,
   "metadata": {},
   "outputs": [
    {
     "data": {
      "text/html": [
       "<div>\n",
       "<style scoped>\n",
       "    .dataframe tbody tr th:only-of-type {\n",
       "        vertical-align: middle;\n",
       "    }\n",
       "\n",
       "    .dataframe tbody tr th {\n",
       "        vertical-align: top;\n",
       "    }\n",
       "\n",
       "    .dataframe thead th {\n",
       "        text-align: right;\n",
       "    }\n",
       "</style>\n",
       "<table border=\"1\" class=\"dataframe\">\n",
       "  <thead>\n",
       "    <tr style=\"text-align: right;\">\n",
       "      <th></th>\n",
       "      <th>date</th>\n",
       "      <th>count</th>\n",
       "    </tr>\n",
       "  </thead>\n",
       "  <tbody>\n",
       "    <tr>\n",
       "      <th>0</th>\n",
       "      <td>2020-03-09 16:45:00</td>\n",
       "      <td>13774</td>\n",
       "    </tr>\n",
       "    <tr>\n",
       "      <th>1</th>\n",
       "      <td>2020-03-09 16:30:00</td>\n",
       "      <td>16728</td>\n",
       "    </tr>\n",
       "    <tr>\n",
       "      <th>2</th>\n",
       "      <td>2020-03-09 16:15:00</td>\n",
       "      <td>7436</td>\n",
       "    </tr>\n",
       "  </tbody>\n",
       "</table>\n",
       "</div>"
      ],
      "text/plain": [
       "                 date  count\n",
       "0 2020-03-09 16:45:00  13774\n",
       "1 2020-03-09 16:30:00  16728\n",
       "2 2020-03-09 16:15:00   7436"
      ]
     },
     "execution_count": 326,
     "metadata": {},
     "output_type": "execute_result"
    }
   ],
   "source": [
    "testing"
   ]
  },
  {
   "cell_type": "code",
   "execution_count": 302,
   "metadata": {},
   "outputs": [
    {
     "data": {
      "text/html": [
       "<div>\n",
       "<style scoped>\n",
       "    .dataframe tbody tr th:only-of-type {\n",
       "        vertical-align: middle;\n",
       "    }\n",
       "\n",
       "    .dataframe tbody tr th {\n",
       "        vertical-align: top;\n",
       "    }\n",
       "\n",
       "    .dataframe thead th {\n",
       "        text-align: right;\n",
       "    }\n",
       "</style>\n",
       "<table border=\"1\" class=\"dataframe\">\n",
       "  <thead>\n",
       "    <tr style=\"text-align: right;\">\n",
       "      <th></th>\n",
       "      <th>date</th>\n",
       "      <th>count</th>\n",
       "    </tr>\n",
       "  </thead>\n",
       "  <tbody>\n",
       "    <tr>\n",
       "      <th>0</th>\n",
       "      <td>2020-03-09 16:45:00</td>\n",
       "      <td>13774</td>\n",
       "    </tr>\n",
       "    <tr>\n",
       "      <th>1</th>\n",
       "      <td>2020-03-09 16:30:00</td>\n",
       "      <td>16728</td>\n",
       "    </tr>\n",
       "    <tr>\n",
       "      <th>2</th>\n",
       "      <td>2020-03-09 16:15:00</td>\n",
       "      <td>7436</td>\n",
       "    </tr>\n",
       "  </tbody>\n",
       "</table>\n",
       "</div>"
      ],
      "text/plain": [
       "                 date  count\n",
       "0 2020-03-09 16:45:00  13774\n",
       "1 2020-03-09 16:30:00  16728\n",
       "2 2020-03-09 16:15:00   7436"
      ]
     },
     "execution_count": 302,
     "metadata": {},
     "output_type": "execute_result"
    }
   ],
   "source": [
    "testing"
   ]
  },
  {
   "cell_type": "code",
   "execution_count": null,
   "metadata": {},
   "outputs": [],
   "source": []
  },
  {
   "cell_type": "code",
   "execution_count": 222,
   "metadata": {},
   "outputs": [
    {
     "ename": "AttributeError",
     "evalue": "'Series' object has no attribute 'iterrows'",
     "output_type": "error",
     "traceback": [
      "\u001b[0;31m---------------------------------------------------------------------------\u001b[0m",
      "\u001b[0;31mAttributeError\u001b[0m                            Traceback (most recent call last)",
      "\u001b[0;32m<ipython-input-222-f8f3c3184172>\u001b[0m in \u001b[0;36m<module>\u001b[0;34m\u001b[0m\n\u001b[0;32m----> 1\u001b[0;31m \u001b[0;32mfor\u001b[0m \u001b[0mi\u001b[0m \u001b[0;32min\u001b[0m \u001b[0mdf\u001b[0m\u001b[0;34m.\u001b[0m\u001b[0mresample\u001b[0m\u001b[0;34m(\u001b[0m\u001b[0;34m'15min'\u001b[0m\u001b[0;34m)\u001b[0m\u001b[0;34m.\u001b[0m\u001b[0mcount\u001b[0m\u001b[0;34m(\u001b[0m\u001b[0;34m)\u001b[0m\u001b[0;34m[\u001b[0m\u001b[0;34m'index'\u001b[0m\u001b[0;34m]\u001b[0m\u001b[0;34m.\u001b[0m\u001b[0msort_index\u001b[0m\u001b[0;34m(\u001b[0m\u001b[0mascending\u001b[0m\u001b[0;34m=\u001b[0m\u001b[0;32mFalse\u001b[0m\u001b[0;34m)\u001b[0m\u001b[0;34m.\u001b[0m\u001b[0miterrows\u001b[0m\u001b[0;34m(\u001b[0m\u001b[0;34m)\u001b[0m\u001b[0;34m:\u001b[0m\u001b[0;34m\u001b[0m\u001b[0;34m\u001b[0m\u001b[0m\n\u001b[0m\u001b[1;32m      2\u001b[0m     \u001b[0mprint\u001b[0m\u001b[0;34m(\u001b[0m\u001b[0mi\u001b[0m\u001b[0;34m)\u001b[0m\u001b[0;34m\u001b[0m\u001b[0;34m\u001b[0m\u001b[0m\n",
      "\u001b[0;32m~/anaconda3/envs/tf_gpu2/lib/python3.7/site-packages/pandas/core/generic.py\u001b[0m in \u001b[0;36m__getattr__\u001b[0;34m(self, name)\u001b[0m\n\u001b[1;32m   5178\u001b[0m             \u001b[0;32mif\u001b[0m \u001b[0mself\u001b[0m\u001b[0;34m.\u001b[0m\u001b[0m_info_axis\u001b[0m\u001b[0;34m.\u001b[0m\u001b[0m_can_hold_identifiers_and_holds_name\u001b[0m\u001b[0;34m(\u001b[0m\u001b[0mname\u001b[0m\u001b[0;34m)\u001b[0m\u001b[0;34m:\u001b[0m\u001b[0;34m\u001b[0m\u001b[0;34m\u001b[0m\u001b[0m\n\u001b[1;32m   5179\u001b[0m                 \u001b[0;32mreturn\u001b[0m \u001b[0mself\u001b[0m\u001b[0;34m[\u001b[0m\u001b[0mname\u001b[0m\u001b[0;34m]\u001b[0m\u001b[0;34m\u001b[0m\u001b[0;34m\u001b[0m\u001b[0m\n\u001b[0;32m-> 5180\u001b[0;31m             \u001b[0;32mreturn\u001b[0m \u001b[0mobject\u001b[0m\u001b[0;34m.\u001b[0m\u001b[0m__getattribute__\u001b[0m\u001b[0;34m(\u001b[0m\u001b[0mself\u001b[0m\u001b[0;34m,\u001b[0m \u001b[0mname\u001b[0m\u001b[0;34m)\u001b[0m\u001b[0;34m\u001b[0m\u001b[0;34m\u001b[0m\u001b[0m\n\u001b[0m\u001b[1;32m   5181\u001b[0m \u001b[0;34m\u001b[0m\u001b[0m\n\u001b[1;32m   5182\u001b[0m     \u001b[0;32mdef\u001b[0m \u001b[0m__setattr__\u001b[0m\u001b[0;34m(\u001b[0m\u001b[0mself\u001b[0m\u001b[0;34m,\u001b[0m \u001b[0mname\u001b[0m\u001b[0;34m,\u001b[0m \u001b[0mvalue\u001b[0m\u001b[0;34m)\u001b[0m\u001b[0;34m:\u001b[0m\u001b[0;34m\u001b[0m\u001b[0;34m\u001b[0m\u001b[0m\n",
      "\u001b[0;31mAttributeError\u001b[0m: 'Series' object has no attribute 'iterrows'"
     ]
    }
   ],
   "source": [
    "for i in df.resample('15min').count()['index'].sort_values(ascending=False).iterrows():\n",
    "    print(i)"
   ]
  },
  {
   "cell_type": "code",
   "execution_count": 205,
   "metadata": {},
   "outputs": [
    {
     "data": {
      "text/plain": [
       "'42 minutes'"
      ]
     },
     "execution_count": 205,
     "metadata": {},
     "output_type": "execute_result"
    }
   ],
   "source": [
    "f\"{round(pd.Timedelta(df.index.max() - df.index.min()).seconds / 60)} minutes\""
   ]
  },
  {
   "cell_type": "code",
   "execution_count": null,
   "metadata": {},
   "outputs": [],
   "source": []
  },
  {
   "cell_type": "code",
   "execution_count": 127,
   "metadata": {},
   "outputs": [],
   "source": [
    "def calc_tweet_metrics(df):\n",
    "    total_tweets = len(df)\n",
    "    unique_texts = df['text'].nunique()\n",
    "    unique_texts_perc = round(df['text'].nunique() / len(df) *100,2)\n",
    "    unique_users = df['id_user'].nunique()\n",
    "    top_20_posts = round((df.text.value_counts().reset_index().rename(columns={'text':'total', 'index':'text'})[:20].total.sum() / len(df)) * 100,2)\n",
    "    zero_retweets = round((len(df[df.retweeted_counts == 0]) / len(df) * 100),2)\n",
    "    df.created_at = pd.to_datetime(df.created_at)\n",
    "    \n",
    "    print(f\"Total tweets in the last x minutes - {total_tweets}\")\n",
    "    print(f\"Unique text - {unique_texts}({round(df['text'].nunique() / len(df) *100,2)}%)\")\n",
    "    print(\"Unique users: \", df['id_user'].nunique())\n",
    "    print(f\"TOP 20 posts in last x minutes: {round((df.text.value_counts().reset_index().rename(columns={'text':'total', 'index':'text'})[:20].total.sum() / len(df)) * 100,2)}%\")    \n",
    "    print(f\"New Tweets(0 retweets): {round((len(df[df.retweeted_counts == 0]) / len(df) * 100),2)}%\")\n"
   ]
  },
  {
   "cell_type": "code",
   "execution_count": 83,
   "metadata": {},
   "outputs": [
    {
     "name": "stdout",
     "output_type": "stream",
     "text": [
      "Total tweets in the last x minutes - 51445\n",
      "Unique text - 12910(25.09%)\n",
      "Unique users:  31592\n",
      "TOP 20 posts in last x minutes: 26.22%\n",
      "New Tweets(0 retweets): 56.85%\n"
     ]
    }
   ],
   "source": [
    "calc_tweet_metrics(df)"
   ]
  },
  {
   "cell_type": "code",
   "execution_count": 38,
   "metadata": {
    "scrolled": false
   },
   "outputs": [],
   "source": [
    "tweets_list = df.text.value_counts().reset_index().rename(columns={'text':'total', 'index':'text'})[:20].reset_index().drop('index', axis=1)"
   ]
  },
  {
   "cell_type": "code",
   "execution_count": 39,
   "metadata": {},
   "outputs": [
    {
     "data": {
      "text/plain": [
       "'- flay cuspiu em gizelly -\\nrafa: cuspiu sim\\nthelma: defendeu gi na briga\\nmarcela: ah eu gosto da flay\\n\\n- vh foi falso com gizelly -\\nrafa: entendeu o incomodo de gi\\nthelma: só gizelly sabe como se sentiu\\nmarcela: gizelly foi desnecessária e eu gosto de vh\\n\\nENTENDERAM? #bbb20'"
      ]
     },
     "execution_count": 39,
     "metadata": {},
     "output_type": "execute_result"
    }
   ],
   "source": [
    "tweets_list.text[0]"
   ]
  },
  {
   "cell_type": "code",
   "execution_count": 40,
   "metadata": {},
   "outputs": [],
   "source": [
    "from unicodedata import normalize\n",
    "\n"
   ]
  },
  {
   "cell_type": "code",
   "execution_count": 32,
   "metadata": {},
   "outputs": [
    {
     "data": {
      "text/plain": [
       "0        RT @oalisoncomenta2: saudades de quando o boni...\n",
       "1        RT @bembestaBBB: Manu disse que o Babu foi o u...\n",
       "2        RT @drgigifuracao: 1 e 2 revolucao feminista, ...\n",
       "3        marcela ta usando a estrategia do vh dizendo q...\n",
       "4        RT @doctorjubz: o twitter inteiro pra manu dep...\n",
       "                               ...                        \n",
       "52807    RT @favgizelIy: a proporcao que os peidos da g...\n",
       "52808    Prior avisou o Daniel que nao pode ficar na po...\n",
       "52809    Gizelly: \"Marcela disse que eu gritei: 'Falso'...\n",
       "52810    \"Cara, a Marcela me olha de um jeito... do mes...\n",
       "52811    RT @doctorjubz: o twitter inteiro pra manu dep...\n",
       "Name: text, Length: 52812, dtype: object"
      ]
     },
     "execution_count": 32,
     "metadata": {},
     "output_type": "execute_result"
    }
   ],
   "source": [
    "df.text.apply(remover_acentos)"
   ]
  },
  {
   "cell_type": "code",
   "execution_count": 76,
   "metadata": {},
   "outputs": [
    {
     "data": {
      "text/plain": [
       "6.840059237319511"
      ]
     },
     "execution_count": 76,
     "metadata": {},
     "output_type": "execute_result"
    }
   ],
   "source": [
    "df_duplicates = df.drop_duplicates('text', keep='last').sort_values('retweeted_counts', ascending=False)\n",
    "\n",
    "len(df_duplicates[df_duplicates.retweeted_counts > 50]) / len(df_duplicates) * 100"
   ]
  },
  {
   "cell_type": "code",
   "execution_count": 78,
   "metadata": {},
   "outputs": [
    {
     "data": {
      "text/plain": [
       "79.5002182038973"
      ]
     },
     "execution_count": 78,
     "metadata": {},
     "output_type": "execute_result"
    }
   ],
   "source": [
    "df.duplicated(subset='text', keep='last').sum() / len(df) * 100"
   ]
  },
  {
   "cell_type": "code",
   "execution_count": 1349,
   "metadata": {},
   "outputs": [
    {
     "data": {
      "text/html": [
       "<div>\n",
       "<style scoped>\n",
       "    .dataframe tbody tr th:only-of-type {\n",
       "        vertical-align: middle;\n",
       "    }\n",
       "\n",
       "    .dataframe tbody tr th {\n",
       "        vertical-align: top;\n",
       "    }\n",
       "\n",
       "    .dataframe thead th {\n",
       "        text-align: right;\n",
       "    }\n",
       "</style>\n",
       "<table border=\"1\" class=\"dataframe\">\n",
       "  <thead>\n",
       "    <tr style=\"text-align: right;\">\n",
       "      <th></th>\n",
       "      <th>orig_tweet_user</th>\n",
       "      <th>text</th>\n",
       "      <th>retweeted_counts</th>\n",
       "      <th>likes_counts</th>\n",
       "      <th>count</th>\n",
       "    </tr>\n",
       "  </thead>\n",
       "  <tbody>\n",
       "    <tr>\n",
       "      <th>20670</th>\n",
       "      <td>pqp_dann</td>\n",
       "      <td>O AUGE DO DESAUGE o Prior dizendo que o pai só...</td>\n",
       "      <td>9138</td>\n",
       "      <td>66836</td>\n",
       "      <td>774</td>\n",
       "    </tr>\n",
       "    <tr>\n",
       "      <th>20671</th>\n",
       "      <td>portalspopify</td>\n",
       "      <td>GENTE??? E o Victor Hugo que passou essa madru...</td>\n",
       "      <td>3824</td>\n",
       "      <td>32425</td>\n",
       "      <td>723</td>\n",
       "    </tr>\n",
       "    <tr>\n",
       "      <th>20598</th>\n",
       "      <td>None</td>\n",
       "      <td>RT @FeCastanhari: Pyong nem precisou sair do B...</td>\n",
       "      <td>0</td>\n",
       "      <td>0</td>\n",
       "      <td>624</td>\n",
       "    </tr>\n",
       "    <tr>\n",
       "      <th>20617</th>\n",
       "      <td>siteptbr</td>\n",
       "      <td>ELE NÃO DEIXOU NADA PRA MIM! Psicólogo Victor ...</td>\n",
       "      <td>430</td>\n",
       "      <td>3455</td>\n",
       "      <td>457</td>\n",
       "    </tr>\n",
       "    <tr>\n",
       "      <th>20636</th>\n",
       "      <td>None</td>\n",
       "      <td>RT @MaraTellesReal: Gabi fugindo do Palestrinh...</td>\n",
       "      <td>0</td>\n",
       "      <td>0</td>\n",
       "      <td>441</td>\n",
       "    </tr>\n",
       "    <tr>\n",
       "      <th>20628</th>\n",
       "      <td>natalyneri</td>\n",
       "      <td>O jeito que a Ivy imita o Babu é tããããoooo sim...</td>\n",
       "      <td>11986</td>\n",
       "      <td>63539</td>\n",
       "      <td>342</td>\n",
       "    </tr>\n",
       "    <tr>\n",
       "      <th>20641</th>\n",
       "      <td>None</td>\n",
       "      <td>RT @brigdesnotwalls: esse é o meu novo vídeo f...</td>\n",
       "      <td>0</td>\n",
       "      <td>0</td>\n",
       "      <td>319</td>\n",
       "    </tr>\n",
       "    <tr>\n",
       "      <th>20657</th>\n",
       "      <td>None</td>\n",
       "      <td>RT @gbmch: velho. é como ensinar uma criança. ...</td>\n",
       "      <td>0</td>\n",
       "      <td>0</td>\n",
       "      <td>307</td>\n",
       "    </tr>\n",
       "    <tr>\n",
       "      <th>20642</th>\n",
       "      <td>None</td>\n",
       "      <td>RT @IdiotaMarcos: o pai / a mãe / o filho \\n\\n...</td>\n",
       "      <td>0</td>\n",
       "      <td>0</td>\n",
       "      <td>302</td>\n",
       "    </tr>\n",
       "    <tr>\n",
       "      <th>20655</th>\n",
       "      <td>ValescaOficial</td>\n",
       "      <td>Eu To vendo todo mundo votando pro VH sair, qu...</td>\n",
       "      <td>648</td>\n",
       "      <td>3373</td>\n",
       "      <td>281</td>\n",
       "    </tr>\n",
       "  </tbody>\n",
       "</table>\n",
       "</div>"
      ],
      "text/plain": [
       "      orig_tweet_user                                               text  \\\n",
       "20670        pqp_dann  O AUGE DO DESAUGE o Prior dizendo que o pai só...   \n",
       "20671   portalspopify  GENTE??? E o Victor Hugo que passou essa madru...   \n",
       "20598            None  RT @FeCastanhari: Pyong nem precisou sair do B...   \n",
       "20617        siteptbr  ELE NÃO DEIXOU NADA PRA MIM! Psicólogo Victor ...   \n",
       "20636            None  RT @MaraTellesReal: Gabi fugindo do Palestrinh...   \n",
       "20628      natalyneri  O jeito que a Ivy imita o Babu é tããããoooo sim...   \n",
       "20641            None  RT @brigdesnotwalls: esse é o meu novo vídeo f...   \n",
       "20657            None  RT @gbmch: velho. é como ensinar uma criança. ...   \n",
       "20642            None  RT @IdiotaMarcos: o pai / a mãe / o filho \\n\\n...   \n",
       "20655  ValescaOficial  Eu To vendo todo mundo votando pro VH sair, qu...   \n",
       "\n",
       "       retweeted_counts  likes_counts  count  \n",
       "20670              9138         66836    774  \n",
       "20671              3824         32425    723  \n",
       "20598                 0             0    624  \n",
       "20617               430          3455    457  \n",
       "20636                 0             0    441  \n",
       "20628             11986         63539    342  \n",
       "20641                 0             0    319  \n",
       "20657                 0             0    307  \n",
       "20642                 0             0    302  \n",
       "20655               648          3373    281  "
      ]
     },
     "execution_count": 1349,
     "metadata": {},
     "output_type": "execute_result"
    }
   ],
   "source": [
    "df['count'] = df.groupby([\"text\"])[\"created_at\"].transform(\"count\")\n",
    "df.drop_duplicates('text', keep='last').sort_values('count', ascending=False)[['orig_tweet_user', 'text', 'retweeted_counts', 'likes_counts', 'count']][:10]"
   ]
  },
  {
   "cell_type": "code",
   "execution_count": 676,
   "metadata": {},
   "outputs": [
    {
     "data": {
      "text/plain": [
       "created_at\n",
       "2020-03-08 19:22:24.000000    24\n",
       "2020-03-08 19:22:25.000000    23\n",
       "2020-03-08 19:22:26.000000    29\n",
       "2020-03-08 19:22:27.000000    21\n",
       "2020-03-08 19:22:28.000000    24\n",
       "                              ..\n",
       "2020-03-08 20:11:12.000000    16\n",
       "2020-03-08 20:11:13.000000    15\n",
       "2020-03-08 20:11:14.000000    26\n",
       "2020-03-08 20:11:15.000000    25\n",
       "2020-03-08 20:11:16.000000    16\n",
       "Name: text, Length: 2576, dtype: int64"
      ]
     },
     "execution_count": 676,
     "metadata": {},
     "output_type": "execute_result"
    }
   ],
   "source": [
    "df.groupby('created_at')['text'].count()"
   ]
  },
  {
   "cell_type": "code",
   "execution_count": null,
   "metadata": {},
   "outputs": [],
   "source": [
    "#----------------------------- ETL ---------------------------------------#\n",
    "# Pipeline like preprocessing with helper functions\n",
    "\n",
    "nltk.download('stopwords')\n",
    "stop_words = stopwords.words('english')\n",
    "\n",
    "# cleaning helper function -----------------------------#\n",
    "def processTweet(tweet):\n",
    "    \"\"\"\n",
    "    Takes in a string of text, then performs the following:\n",
    "    1. Removes links, special characters and other bulk cleaning\n",
    "    2. Returns a list of the tidy text\n",
    "    \"\"\"\n",
    "    # Remove HTML special entities (e.g. &amp;)\n",
    "    tweet = re.sub(r'\\&\\w*;', '', tweet)\n",
    "    #Convert @username to AT_USER\n",
    "    tweet = re.sub('@[^\\s]+','',tweet)\n",
    "    # Remove tickers\n",
    "    tweet = re.sub(r'\\$\\w*', '', tweet)\n",
    "    # To lowercase\n",
    "    tweet = tweet.lower()\n",
    "    # Remove hyperlinks\n",
    "    tweet = re.sub(r'https?:\\/\\/.*\\/\\w*', '', tweet)\n",
    "    # Remove hashtags\n",
    "    tweet = re.sub(r'#\\w*', '', tweet)\n",
    "    # Remove words with 2 or fewer letters\n",
    "    tweet = re.sub(r'\\b\\w{1,2}\\b', '', tweet)\n",
    "    # Remove whitespace (including new line characters)\n",
    "    tweet = re.sub(r'\\s\\s+', ' ', tweet)\n",
    "    # Remove single space remaining at the front of the tweet.\n",
    "    tweet = tweet.lstrip(' ') \n",
    "    # Remove characters beyond Basic Multilingual Plane (BMP) of Unicode:\n",
    "    tweet = ''.join(c for c in tweet if c <= '\\uFFFF') \n",
    "    return tweet\n",
    "\n",
    "# tokenize helper function ------------------------------------#\n",
    "def text_process(tweet):\n",
    "    \"\"\"\n",
    "    Takes in a string of text, then performs the following:\n",
    "    1. Remove all punctuation\n",
    "    2. Remove all stopwords\n",
    "    3. Returns a list of the cleaned text\n",
    "    \"\"\"\n",
    "    # Check characters to see if they are in punctuation\n",
    "    nopunc = [char for char in list(tweet) if char not in string.punctuation]\n",
    "\n",
    "    # Join the characters again to form the string.\n",
    "    nopunc = ''.join(nopunc)\n",
    "    \n",
    "    # Now just remove any stopwords\n",
    "    return [word for word in nopunc.lower().split() if word.lower() not in stopwords.words('english')]\n",
    "\n",
    "# Lexicon normalisation with Stemming ----------------------------------------------#\n",
    "def stemming(tokens):\n",
    "  \"\"\"\n",
    "  Takes in a string of text, then performs the following:\n",
    "  1. Replace words for its root based on orter Stemmer rule.\n",
    "  2. Returns normalised text\n",
    "   \"\"\"\n",
    "  stemmer = PorterStemmer()\n",
    "  x = [stemmer.stem(w) for w in tokens]\n",
    "   \n",
    "  return ' '.join(x)"
   ]
  },
  {
   "cell_type": "code",
   "execution_count": 7,
   "metadata": {},
   "outputs": [],
   "source": [
    "df_dup = df.drop_duplicates('text', keep='last').sort_values('retweeted_counts', ascending=False)"
   ]
  },
  {
   "cell_type": "code",
   "execution_count": 17,
   "metadata": {},
   "outputs": [
    {
     "data": {
      "text/plain": [
       "0.7821052631578947"
      ]
     },
     "execution_count": 17,
     "metadata": {},
     "output_type": "execute_result"
    }
   ],
   "source": [
    "len(df_dup[df_dup['retweeted_counts'] == 0]) / len(df_dup)"
   ]
  },
  {
   "cell_type": "code",
   "execution_count": 19,
   "metadata": {},
   "outputs": [
    {
     "data": {
      "text/plain": [
       "0.8413157894736842"
      ]
     },
     "execution_count": 19,
     "metadata": {},
     "output_type": "execute_result"
    }
   ],
   "source": [
    "len(df_dup[df_dup['retweeted_counts'] <= 10]) / len(df_dup)"
   ]
  },
  {
   "cell_type": "code",
   "execution_count": 23,
   "metadata": {},
   "outputs": [
    {
     "data": {
      "text/plain": [
       "0.95"
      ]
     },
     "execution_count": 23,
     "metadata": {},
     "output_type": "execute_result"
    }
   ],
   "source": [
    "len(df_dup[df_dup['retweeted_counts'] <= 500]) / len(df_dup)"
   ]
  },
  {
   "cell_type": "code",
   "execution_count": 82,
   "metadata": {},
   "outputs": [
    {
     "name": "stdout",
     "output_type": "stream",
     "text": [
      "{'url': 'https://t.co/jq2TYuEzit', 'expanded_url': 'https://twitter.com/i/web/status/1237578170083115008', 'display_url': 'twitter.com/i/web/status/1…', 'indices': [117, 140]}\n"
     ]
    }
   ],
   "source": [
    "for i in quoted_json2['entities']['urls']:\n",
    "    print(i)"
   ]
  },
  {
   "cell_type": "code",
   "execution_count": 100,
   "metadata": {},
   "outputs": [
    {
     "name": "stdout",
     "output_type": "stream",
     "text": [
      "https://t.co/jq2TYuEzit\n",
      "https://twitter.com/i/web/status/1237578170083115008\n",
      "twitter.com/i/web/status/1…\n",
      "[117, 140]\n"
     ]
    }
   ],
   "source": [
    "for i in quoted_json2['entities']['urls'][0]:\n",
    "    print(quoted_json2['entities']['urls'][0][i])"
   ]
  },
  {
   "cell_type": "code",
   "execution_count": 116,
   "metadata": {
    "scrolled": false
   },
   "outputs": [
    {
     "name": "stdout",
     "output_type": "stream",
     "text": [
      "created_at\n",
      "Wed Mar 11 00:11:52 +0000 2020\n",
      "id\n",
      "1237531651283898368\n",
      "id_str\n",
      "1237531651283898368\n",
      "text\n",
      "Marcela e Ivy foram gordofobicas com Babu. Explico o motivo e #GordofobiaNãoÉPiada #bbb20 https://t.co/Fa5dF5naoP\n",
      "display_text_range\n",
      "[0, 89]\n",
      "source\n",
      "<a href=\"http://twitter.com/download/iphone\" rel=\"nofollow\">Twitter for iPhone</a>\n",
      "truncated\n",
      "False\n",
      "in_reply_to_status_id\n",
      "None\n",
      "in_reply_to_status_id_str\n",
      "None\n",
      "in_reply_to_user_id\n",
      "None\n",
      "in_reply_to_user_id_str\n",
      "None\n",
      "in_reply_to_screen_name\n",
      "None\n",
      "user\n",
      "{'id': 17031996, 'id_str': '17031996', 'name': 'Alexandra Gurgel | #CorpoLivre', 'screen_name': 'alexandrismos', 'location': 'São Paulo, Brasil', 'url': 'http://instagram.com/alexandrismos', 'description': 'aqui tem #CorpoLivre | Opinião | Feminismo | #lgbt // autora bestseller', 'translator_type': 'none', 'protected': False, 'verified': True, 'followers_count': 79304, 'friends_count': 432, 'listed_count': 80, 'favourites_count': 8214, 'statuses_count': 13817, 'created_at': 'Wed Oct 29 00:12:29 +0000 2008', 'utc_offset': None, 'time_zone': None, 'geo_enabled': True, 'lang': None, 'contributors_enabled': False, 'is_translator': False, 'profile_background_color': '000000', 'profile_background_image_url': 'http://abs.twimg.com/images/themes/theme2/bg.gif', 'profile_background_image_url_https': 'https://abs.twimg.com/images/themes/theme2/bg.gif', 'profile_background_tile': True, 'profile_link_color': '981CEB', 'profile_sidebar_border_color': 'F5D7D7', 'profile_sidebar_fill_color': 'F5FCFF', 'profile_text_color': '050505', 'profile_use_background_image': True, 'profile_image_url': 'http://pbs.twimg.com/profile_images/1236829200860041218/E8ObXIm1_normal.jpg', 'profile_image_url_https': 'https://pbs.twimg.com/profile_images/1236829200860041218/E8ObXIm1_normal.jpg', 'profile_banner_url': 'https://pbs.twimg.com/profile_banners/17031996/1578681207', 'default_profile': False, 'default_profile_image': False, 'following': None, 'follow_request_sent': None, 'notifications': None}\n",
      "geo\n",
      "None\n",
      "coordinates\n",
      "None\n",
      "place\n",
      "{'id': '68e019afec7d0ba5', 'url': 'https://api.twitter.com/1.1/geo/id/68e019afec7d0ba5.json', 'place_type': 'city', 'name': 'São Paulo', 'full_name': 'São Paulo, Brasil', 'country_code': 'BR', 'country': 'Brasil', 'bounding_box': {'type': 'Polygon', 'coordinates': [[[-46.826039, -24.008814], [-46.826039, -23.356792], [-46.365052, -23.356792], [-46.365052, -24.008814]]]}, 'attributes': {}}\n",
      "contributors\n",
      "None\n",
      "is_quote_status\n",
      "False\n",
      "quote_count\n",
      "917\n",
      "reply_count\n",
      "442\n",
      "retweet_count\n",
      "13424\n",
      "favorite_count\n",
      "45972\n",
      "entities\n",
      "{'hashtags': [{'text': 'GordofobiaNãoÉPiada', 'indices': [62, 82]}, {'text': 'bbb20', 'indices': [83, 89]}], 'urls': [], 'user_mentions': [], 'symbols': [], 'media': [{'id': 1237531372798894080, 'id_str': '1237531372798894080', 'indices': [90, 113], 'additional_media_info': {'monetizable': False}, 'media_url': 'http://pbs.twimg.com/ext_tw_video_thumb/1237531372798894080/pu/img/UbR7NH2An4D6h_dM.jpg', 'media_url_https': 'https://pbs.twimg.com/ext_tw_video_thumb/1237531372798894080/pu/img/UbR7NH2An4D6h_dM.jpg', 'url': 'https://t.co/Fa5dF5naoP', 'display_url': 'pic.twitter.com/Fa5dF5naoP', 'expanded_url': 'https://twitter.com/alexandrismos/status/1237531651283898368/video/1', 'type': 'photo', 'sizes': {'thumb': {'w': 150, 'h': 150, 'resize': 'crop'}, 'small': {'w': 383, 'h': 680, 'resize': 'fit'}, 'large': {'w': 720, 'h': 1280, 'resize': 'fit'}, 'medium': {'w': 675, 'h': 1200, 'resize': 'fit'}}}]}\n",
      "extended_entities\n",
      "{'media': [{'id': 1237531372798894080, 'id_str': '1237531372798894080', 'indices': [90, 113], 'additional_media_info': {'monetizable': False}, 'media_url': 'http://pbs.twimg.com/ext_tw_video_thumb/1237531372798894080/pu/img/UbR7NH2An4D6h_dM.jpg', 'media_url_https': 'https://pbs.twimg.com/ext_tw_video_thumb/1237531372798894080/pu/img/UbR7NH2An4D6h_dM.jpg', 'url': 'https://t.co/Fa5dF5naoP', 'display_url': 'pic.twitter.com/Fa5dF5naoP', 'expanded_url': 'https://twitter.com/alexandrismos/status/1237531651283898368/video/1', 'type': 'video', 'video_info': {'aspect_ratio': [9, 16], 'duration_millis': 100350, 'variants': [{'content_type': 'application/x-mpegURL', 'url': 'https://video.twimg.com/ext_tw_video/1237531372798894080/pu/pl/AR4z4ENiFJIb3n6Q.m3u8?tag=10'}, {'bitrate': 632000, 'content_type': 'video/mp4', 'url': 'https://video.twimg.com/ext_tw_video/1237531372798894080/pu/vid/320x568/NE_r4P0sxzS2PV0T.mp4?tag=10'}, {'bitrate': 2176000, 'content_type': 'video/mp4', 'url': 'https://video.twimg.com/ext_tw_video/1237531372798894080/pu/vid/720x1280/XhGf3gNqfI3zhgYu.mp4?tag=10'}, {'bitrate': 832000, 'content_type': 'video/mp4', 'url': 'https://video.twimg.com/ext_tw_video/1237531372798894080/pu/vid/360x640/fnQ9bIGygZu8cNNJ.mp4?tag=10'}]}, 'sizes': {'thumb': {'w': 150, 'h': 150, 'resize': 'crop'}, 'small': {'w': 383, 'h': 680, 'resize': 'fit'}, 'large': {'w': 720, 'h': 1280, 'resize': 'fit'}, 'medium': {'w': 675, 'h': 1200, 'resize': 'fit'}}}]}\n",
      "favorited\n",
      "False\n",
      "retweeted\n",
      "False\n",
      "possibly_sensitive\n",
      "False\n",
      "filter_level\n",
      "low\n",
      "lang\n",
      "pt\n"
     ]
    }
   ],
   "source": [
    "quoted_json = {'created_at': 'Tue Mar 10 00:44:46 +0000 2020', 'id': 1237177542899052549, 'id_str': '1237177542899052549', 'text': 'RT @bbboneco: Manu: ganhou uma carreira do pai na capricho pq ele era um jornalista influente\\nMarcela: com 21 anos gastava em paris 10k em…', 'source': '<a href=\"http://twitter.com/download/android\" rel=\"nofollow\">Twitter for Android</a>', 'truncated': False, 'in_reply_to_status_id': None, 'in_reply_to_status_id_str': None, 'in_reply_to_user_id': None, 'in_reply_to_user_id_str': None, 'in_reply_to_screen_name': None, 'user': {'id': 1295663814, 'id_str': '1295663814', 'name': 'isa ♻️', 'screen_name': 'drewgozado', 'location': 'Minas Gerais ', 'url': None, 'description': '@petrixbarbosa 🤸\\u200d♂️    l  @eulucasviana 🍼', 'translator_type': 'regular', 'protected': False, 'verified': False, 'followers_count': 13059, 'friends_count': 6472, 'listed_count': 28, 'favourites_count': 265, 'statuses_count': 211350, 'created_at': 'Sun Mar 24 15:38:45 +0000 2013', 'utc_offset': None, 'time_zone': None, 'geo_enabled': False, 'lang': None, 'contributors_enabled': False, 'is_translator': False, 'profile_background_color': '642D8B', 'profile_background_image_url': 'http://abs.twimg.com/images/themes/theme10/bg.gif', 'profile_background_image_url_https': 'https://abs.twimg.com/images/themes/theme10/bg.gif', 'profile_background_tile': True, 'profile_link_color': 'FF0000', 'profile_sidebar_border_color': '65B0DA', 'profile_sidebar_fill_color': '7AC3EE', 'profile_text_color': '3D1957', 'profile_use_background_image': True, 'profile_image_url': 'http://pbs.twimg.com/profile_images/1237171248779726848/vuP-8Pj9_normal.jpg', 'profile_image_url_https': 'https://pbs.twimg.com/profile_images/1237171248779726848/vuP-8Pj9_normal.jpg', 'profile_banner_url': 'https://pbs.twimg.com/profile_banners/1295663814/1583787892', 'default_profile': False, 'default_profile_image': False, 'following': None, 'follow_request_sent': None, 'notifications': None}, 'geo': None, 'coordinates': None, 'place': None, 'contributors': None, 'retweeted_status': {'created_at': 'Tue Mar 10 00:31:47 +0000 2020', 'id': 1237174276781944843, 'id_str': '1237174276781944843', 'text': 'Manu: ganhou uma carreira do pai na capricho pq ele era um jornalista influente\\nMarcela: com 21 anos gastava em par… https://t.co/FWF6FnaoKp', 'source': '<a href=\"http://twitter.com/download/android\" rel=\"nofollow\">Twitter for Android</a>', 'truncated': True, 'in_reply_to_status_id': None, 'in_reply_to_status_id_str': None, 'in_reply_to_user_id': None, 'in_reply_to_user_id_str': None, 'in_reply_to_screen_name': None, 'user': {'id': 1228138425372549120, 'id_str': '1228138425372549120', 'name': 'gabriel 🍺', 'screen_name': 'bbboneco', 'location': None, 'url': None, 'description': 'prioridades!', 'translator_type': 'none', 'protected': False, 'verified': False, 'followers_count': 1592, 'friends_count': 338, 'listed_count': 1, 'favourites_count': 2469, 'statuses_count': 4273, 'created_at': 'Fri Feb 14 02:21:03 +0000 2020', 'utc_offset': None, 'time_zone': None, 'geo_enabled': False, 'lang': None, 'contributors_enabled': False, 'is_translator': False, 'profile_background_color': 'F5F8FA', 'profile_background_image_url': '', 'profile_background_image_url_https': '', 'profile_background_tile': False, 'profile_link_color': '1DA1F2', 'profile_sidebar_border_color': 'C0DEED', 'profile_sidebar_fill_color': 'DDEEF6', 'profile_text_color': '333333', 'profile_use_background_image': True, 'profile_image_url': 'http://pbs.twimg.com/profile_images/1236518580289748992/2WiYkBhJ_normal.jpg', 'profile_image_url_https': 'https://pbs.twimg.com/profile_images/1236518580289748992/2WiYkBhJ_normal.jpg', 'profile_banner_url': 'https://pbs.twimg.com/profile_banners/1228138425372549120/1582166490', 'default_profile': True, 'default_profile_image': False, 'following': None, 'follow_request_sent': None, 'notifications': None}, 'geo': None, 'coordinates': None, 'place': None, 'contributors': None, 'quoted_status_id': 1236837398241259522, 'quoted_status_id_str': '1236837398241259522', 'quoted_status': {'created_at': 'Mon Mar 09 02:13:09 +0000 2020', 'id': 1236837398241259522, 'id_str': '1236837398241259522', 'text': 'O AUGE DO DESAUGE o Prior dizendo que o pai só deu o BÁSICO: que foi o carro, a faculdade, o celular e o plano de s… https://t.co/HEsQR9pHzh', 'source': '<a href=\"http://twitter.com/download/android\" rel=\"nofollow\">Twitter for Android</a>', 'truncated': True, 'in_reply_to_status_id': None, 'in_reply_to_status_id_str': None, 'in_reply_to_user_id': None, 'in_reply_to_user_id_str': None, 'in_reply_to_screen_name': None, 'user': {'id': 588681219, 'id_str': '588681219', 'name': 'Dan', 'screen_name': 'pqp_dann', 'location': 'Salvador, Brasil', 'url': None, 'description': '🤷\\u200d♂️', 'translator_type': 'none', 'protected': False, 'verified': False, 'followers_count': 19449, 'friends_count': 343, 'listed_count': 115, 'favourites_count': 6078, 'statuses_count': 307656, 'created_at': 'Wed May 23 21:38:26 +0000 2012', 'utc_offset': None, 'time_zone': None, 'geo_enabled': True, 'lang': None, 'contributors_enabled': False, 'is_translator': False, 'profile_background_color': 'FFFFFF', 'profile_background_image_url': 'http://abs.twimg.com/images/themes/theme1/bg.png', 'profile_background_image_url_https': 'https://abs.twimg.com/images/themes/theme1/bg.png', 'profile_background_tile': False, 'profile_link_color': '343B40', 'profile_sidebar_border_color': 'FFFFFF', 'profile_sidebar_fill_color': '087F8C', 'profile_text_color': 'A64170', 'profile_use_background_image': False, 'profile_image_url': 'http://pbs.twimg.com/profile_images/1216028627109863425/M7oKR4mk_normal.jpg', 'profile_image_url_https': 'https://pbs.twimg.com/profile_images/1216028627109863425/M7oKR4mk_normal.jpg', 'profile_banner_url': 'https://pbs.twimg.com/profile_banners/588681219/1480790420', 'default_profile': False, 'default_profile_image': False, 'following': None, 'follow_request_sent': None, 'notifications': None}, 'geo': None, 'coordinates': None, 'place': None, 'contributors': None, 'is_quote_status': False, 'extended_tweet': {'full_text': 'O AUGE DO DESAUGE o Prior dizendo que o pai só deu o BÁSICO: que foi o carro, a faculdade, o celular e o plano de saúde. Que ele sobrevivia com os 800 reais do estágio!\\n\\nHAHAHAHAHAHAHAAHAHAHAHHAHAHAHAHAHAHAHAHAHAHAHAHGAHAGAHAHAHAHAHHA #BBB20', 'display_text_range': [0, 241], 'entities': {'hashtags': [{'text': 'BBB20', 'indices': [235, 241]}], 'urls': [], 'user_mentions': [], 'symbols': []}}, 'quote_count': 4319, 'reply_count': 1181, 'retweet_count': 9431, 'favorite_count': 69313, 'entities': {'hashtags': [], 'urls': [{'url': 'https://t.co/HEsQR9pHzh', 'expanded_url': 'https://twitter.com/i/web/status/1236837398241259522', 'display_url': 'twitter.com/i/web/status/1…', 'indices': [117, 140]}], 'user_mentions': [], 'symbols': []}, 'favorited': False, 'retweeted': False, 'filter_level': 'low', 'lang': 'pt'}, 'quoted_status_permalink': {'url': 'https://t.co/6mH2zJnckd', 'expanded': 'https://twitter.com/pqp_dann/status/1236837398241259522', 'display': 'twitter.com/pqp_dann/statu…'}, 'is_quote_status': True, 'extended_tweet': {'full_text': 'Manu: ganhou uma carreira do pai na capricho pq ele era um jornalista influente\\nMarcela: com 21 anos gastava em paris 10k em uma bolsa chanel \\n\\nMas o \"auge do desauge\" é o cara procurar um estágio pra ter suas próprias coisas.', 'display_text_range': [0, 226], 'entities': {'hashtags': [], 'urls': [], 'user_mentions': [], 'symbols': []}}, 'quote_count': 2, 'reply_count': 1, 'retweet_count': 17, 'favorite_count': 42, 'entities': {'hashtags': [], 'urls': [{'url': 'https://t.co/FWF6FnaoKp', 'expanded_url': 'https://twitter.com/i/web/status/1237174276781944843', 'display_url': 'twitter.com/i/web/status/1…', 'indices': [117, 140]}], 'user_mentions': [], 'symbols': []}, 'favorited': False, 'retweeted': False, 'filter_level': 'low', 'lang': 'pt'}, 'quoted_status_id': 1236837398241259522, 'quoted_status_id_str': '1236837398241259522', 'quoted_status': {'created_at': 'Mon Mar 09 02:13:09 +0000 2020', 'id': 1236837398241259522, 'id_str': '1236837398241259522', 'text': 'O AUGE DO DESAUGE o Prior dizendo que o pai só deu o BÁSICO: que foi o carro, a faculdade, o celular e o plano de s… https://t.co/HEsQR9pHzh', 'source': '<a href=\"http://twitter.com/download/android\" rel=\"nofollow\">Twitter for Android</a>', 'truncated': True, 'in_reply_to_status_id': None, 'in_reply_to_status_id_str': None, 'in_reply_to_user_id': None, 'in_reply_to_user_id_str': None, 'in_reply_to_screen_name': None, 'user': {'id': 588681219, 'id_str': '588681219', 'name': 'Dan', 'screen_name': 'pqp_dann', 'location': 'Salvador, Brasil', 'url': None, 'description': '🤷\\u200d♂️', 'translator_type': 'none', 'protected': False, 'verified': False, 'followers_count': 19449, 'friends_count': 343, 'listed_count': 115, 'favourites_count': 6078, 'statuses_count': 307656, 'created_at': 'Wed May 23 21:38:26 +0000 2012', 'utc_offset': None, 'time_zone': None, 'geo_enabled': True, 'lang': None, 'contributors_enabled': False, 'is_translator': False, 'profile_background_color': 'FFFFFF', 'profile_background_image_url': 'http://abs.twimg.com/images/themes/theme1/bg.png', 'profile_background_image_url_https': 'https://abs.twimg.com/images/themes/theme1/bg.png', 'profile_background_tile': False, 'profile_link_color': '343B40', 'profile_sidebar_border_color': 'FFFFFF', 'profile_sidebar_fill_color': '087F8C', 'profile_text_color': 'A64170', 'profile_use_background_image': False, 'profile_image_url': 'http://pbs.twimg.com/profile_images/1216028627109863425/M7oKR4mk_normal.jpg', 'profile_image_url_https': 'https://pbs.twimg.com/profile_images/1216028627109863425/M7oKR4mk_normal.jpg', 'profile_banner_url': 'https://pbs.twimg.com/profile_banners/588681219/1480790420', 'default_profile': False, 'default_profile_image': False, 'following': None, 'follow_request_sent': None, 'notifications': None}, 'geo': None, 'coordinates': None, 'place': None, 'contributors': None, 'is_quote_status': False, 'extended_tweet': {'full_text': 'O AUGE DO DESAUGE o Prior dizendo que o pai só deu o BÁSICO: que foi o carro, a faculdade, o celular e o plano de saúde. Que ele sobrevivia com os 800 reais do estágio!\\n\\nHAHAHAHAHAHAHAAHAHAHAHHAHAHAHAHAHAHAHAHAHAHAHAHGAHAGAHAHAHAHAHHA #BBB20', 'display_text_range': [0, 241], 'entities': {'hashtags': [{'text': 'BBB20', 'indices': [235, 241]}], 'urls': [], 'user_mentions': [], 'symbols': []}}, 'quote_count': 4319, 'reply_count': 1181, 'retweet_count': 9431, 'favorite_count': 69313, 'entities': {'hashtags': [], 'urls': [{'url': 'https://t.co/HEsQR9pHzh', 'expanded_url': 'https://twitter.com/i/web/status/1236837398241259522', 'display_url': 'twitter.com/i/web/status/1…', 'indices': [117, 140]}], 'user_mentions': [], 'symbols': []}, 'favorited': False, 'retweeted': False, 'filter_level': 'low', 'lang': 'pt'}, 'quoted_status_permalink': {'url': 'https://t.co/6mH2zJnckd', 'expanded': 'https://twitter.com/pqp_dann/status/1236837398241259522', 'display': 'twitter.com/pqp_dann/statu…'}, 'is_quote_status': True, 'quote_count': 0, 'reply_count': 0, 'retweet_count': 0, 'favorite_count': 0, 'entities': {'hashtags': [], 'urls': [], 'user_mentions': [{'screen_name': 'bbboneco', 'name': 'gabriel 🍺', 'id': 1228138425372549120, 'id_str': '1228138425372549120', 'indices': [3, 12]}], 'symbols': []}, 'favorited': False, 'retweeted': False, 'filter_level': 'low', 'lang': 'pt', 'timestamp_ms': '1583801086531'}\n",
    "quoted_json2 = {'created_at': 'Wed Mar 11 03:16:43 +0000 2020', 'id': 1237578170083115008, 'id_str': '1237578170083115008', 'text': 'MEU DEUS! \\n\\nAna Clara finalizando a conversa e Victor Hugo pede pra fazer uma pergunta:\\n\\n“Em algum momento eu fui o… https://t.co/jq2TYuEzit', 'display_text_range': [0, 140], 'source': '<a href=\"http://twitter.com/download/iphone\" rel=\"nofollow\">Twitter for iPhone</a>', 'truncated': True, 'in_reply_to_status_id': None, 'in_reply_to_status_id_str': None, 'in_reply_to_user_id': None, 'in_reply_to_user_id_str': None, 'in_reply_to_screen_name': None, 'user': {'id': 104565437, 'id_str': '104565437', 'name': 'Dantas', 'screen_name': 'Dantinhas', 'location': 'Rio de Janeiro/RJ', 'url': 'http://www.instagram.com/odantas', 'description': 'ENTRETENIMENTO!', 'translator_type': 'none', 'protected': False, 'verified': False, 'followers_count': 43496, 'friends_count': 228, 'listed_count': 104, 'favourites_count': 9425, 'statuses_count': 41046, 'created_at': 'Wed Jan 13 18:31:53 +0000 2010', 'utc_offset': None, 'time_zone': None, 'geo_enabled': True, 'lang': None, 'contributors_enabled': False, 'is_translator': False, 'profile_background_color': 'ABB8C2', 'profile_background_image_url': 'http://abs.twimg.com/images/themes/theme1/bg.png', 'profile_background_image_url_https': 'https://abs.twimg.com/images/themes/theme1/bg.png', 'profile_background_tile': True, 'profile_link_color': 'E0BC09', 'profile_sidebar_border_color': 'FFFFFF', 'profile_sidebar_fill_color': 'FFFFFF', 'profile_text_color': '000000', 'profile_use_background_image': False, 'profile_image_url': 'http://pbs.twimg.com/profile_images/1236816221951201280/l1EQBjk2_normal.jpg', 'profile_image_url_https': 'https://pbs.twimg.com/profile_images/1236816221951201280/l1EQBjk2_normal.jpg', 'profile_banner_url': 'https://pbs.twimg.com/profile_banners/104565437/1583731392', 'default_profile': False, 'default_profile_image': False, 'following': None, 'follow_request_sent': None, 'notifications': None}, 'geo': None, 'coordinates': None, 'place': None, 'contributors': None, 'is_quote_status': False, 'extended_tweet': {'full_text': 'MEU DEUS! \\n\\nAna Clara finalizando a conversa e Victor Hugo pede pra fazer uma pergunta:\\n\\n“Em algum momento eu fui o favorito?”\\n\\nOOOOOOMG!!!!\\n\\n#BBB #BBB20 #REDEBBB https://t.co/6eEk68PWF6', 'display_text_range': [0, 162], 'entities': {'hashtags': [{'text': 'BBB', 'indices': [142, 146]}, {'text': 'BBB20', 'indices': [147, 153]}, {'text': 'REDEBBB', 'indices': [154, 162]}], 'urls': [], 'user_mentions': [], 'symbols': [], 'media': [{'id': 1237578119885668352, 'id_str': '1237578119885668352', 'indices': [163, 186], 'additional_media_info': {'monetizable': False}, 'media_url': 'http://pbs.twimg.com/ext_tw_video_thumb/1237578119885668352/pu/img/KsEvkZSmgfc-Lfo7.jpg', 'media_url_https': 'https://pbs.twimg.com/ext_tw_video_thumb/1237578119885668352/pu/img/KsEvkZSmgfc-Lfo7.jpg', 'url': 'https://t.co/6eEk68PWF6', 'display_url': 'pic.twitter.com/6eEk68PWF6', 'expanded_url': 'https://twitter.com/Dantinhas/status/1237578170083115008/video/1', 'type': 'video', 'video_info': {'aspect_ratio': [16, 9], 'duration_millis': 22615, 'variants': [{'content_type': 'application/x-mpegURL', 'url': 'https://video.twimg.com/ext_tw_video/1237578119885668352/pu/pl/s6mBsDQnBwUO-uqV.m3u8?tag=10'}, {'bitrate': 832000, 'content_type': 'video/mp4', 'url': 'https://video.twimg.com/ext_tw_video/1237578119885668352/pu/vid/640x360/hKZ7CuAPiZMNI2RF.mp4?tag=10'}, {'bitrate': 256000, 'content_type': 'video/mp4', 'url': 'https://video.twimg.com/ext_tw_video/1237578119885668352/pu/vid/480x270/1pJW8wOQ3Vkq4_Pu.mp4?tag=10'}, {'bitrate': 2176000, 'content_type': 'video/mp4', 'url': 'https://video.twimg.com/ext_tw_video/1237578119885668352/pu/vid/1280x720/28smScDYkOMtGSLr.mp4?tag=10'}]}, 'sizes': {'thumb': {'w': 150, 'h': 150, 'resize': 'crop'}, 'medium': {'w': 1200, 'h': 675, 'resize': 'fit'}, 'small': {'w': 680, 'h': 383, 'resize': 'fit'}, 'large': {'w': 1280, 'h': 720, 'resize': 'fit'}}}]}, 'extended_entities': {'media': [{'id': 1237578119885668352, 'id_str': '1237578119885668352', 'indices': [163, 186], 'additional_media_info': {'monetizable': False}, 'media_url': 'http://pbs.twimg.com/ext_tw_video_thumb/1237578119885668352/pu/img/KsEvkZSmgfc-Lfo7.jpg', 'media_url_https': 'https://pbs.twimg.com/ext_tw_video_thumb/1237578119885668352/pu/img/KsEvkZSmgfc-Lfo7.jpg', 'url': 'https://t.co/6eEk68PWF6', 'display_url': 'pic.twitter.com/6eEk68PWF6', 'expanded_url': 'https://twitter.com/Dantinhas/status/1237578170083115008/video/1', 'type': 'video', 'video_info': {'aspect_ratio': [16, 9], 'duration_millis': 22615, 'variants': [{'content_type': 'application/x-mpegURL', 'url': 'https://video.twimg.com/ext_tw_video/1237578119885668352/pu/pl/s6mBsDQnBwUO-uqV.m3u8?tag=10'}, {'bitrate': 832000, 'content_type': 'video/mp4', 'url': 'https://video.twimg.com/ext_tw_video/1237578119885668352/pu/vid/640x360/hKZ7CuAPiZMNI2RF.mp4?tag=10'}, {'bitrate': 256000, 'content_type': 'video/mp4', 'url': 'https://video.twimg.com/ext_tw_video/1237578119885668352/pu/vid/480x270/1pJW8wOQ3Vkq4_Pu.mp4?tag=10'}, {'bitrate': 2176000, 'content_type': 'video/mp4', 'url': 'https://video.twimg.com/ext_tw_video/1237578119885668352/pu/vid/1280x720/28smScDYkOMtGSLr.mp4?tag=10'}]}, 'sizes': {'thumb': {'w': 150, 'h': 150, 'resize': 'crop'}, 'medium': {'w': 1200, 'h': 675, 'resize': 'fit'}, 'small': {'w': 680, 'h': 383, 'resize': 'fit'}, 'large': {'w': 1280, 'h': 720, 'resize': 'fit'}}}]}}, 'quote_count': 455, 'reply_count': 269, 'retweet_count': 524, 'favorite_count': 8100, 'entities': {'hashtags': [], 'urls': [{'url': 'https://t.co/jq2TYuEzit', 'expanded_url': 'https://twitter.com/i/web/status/1237578170083115008', 'display_url': 'twitter.com/i/web/status/1…', 'indices': [117, 140]}], 'user_mentions': [], 'symbols': []}, 'favorited': False, 'retweeted': False, 'possibly_sensitive': False, 'filter_level': 'low', 'lang': 'pt'}\n",
    "alexandrismos_rt_problem = {'created_at': 'Wed Mar 11 18:43:57 +0000 2020', 'id': 1237811514201038851, 'id_str': '1237811514201038851', 'text': 'RT @alexandrismos: Marcela e Ivy foram gordofobicas com Babu. Explico o motivo e #GordofobiaNãoÉPiada #bbb20 https://t.co/Fa5dF5naoP', 'source': '<a href=\"http://twitter.com/download/android\" rel=\"nofollow\">Twitter for Android</a>', 'truncated': False, 'in_reply_to_status_id': None, 'in_reply_to_status_id_str': None, 'in_reply_to_user_id': None, 'in_reply_to_user_id_str': None, 'in_reply_to_screen_name': None, 'user': {'id': 1078483151222177792, 'id_str': '1078483151222177792', 'name': 'cassiane', 'screen_name': 'cassiasbne', 'location': 'baixada, rj', 'url': 'https://curiouscat.me/cahsabrine', 'description': 'traio o mundo, mas não vou me trair, derrubo quem for, mas não aceito cair / @vinicinrjc', 'translator_type': 'none', 'protected': False, 'verified': False, 'followers_count': 711, 'friends_count': 490, 'listed_count': 0, 'favourites_count': 17343, 'statuses_count': 21689, 'created_at': 'Fri Dec 28 02:49:55 +0000 2018', 'utc_offset': None, 'time_zone': None, 'geo_enabled': True, 'lang': None, 'contributors_enabled': False, 'is_translator': False, 'profile_background_color': 'F5F8FA', 'profile_background_image_url': '', 'profile_background_image_url_https': '', 'profile_background_tile': False, 'profile_link_color': '1DA1F2', 'profile_sidebar_border_color': 'C0DEED', 'profile_sidebar_fill_color': 'DDEEF6', 'profile_text_color': '333333', 'profile_use_background_image': True, 'profile_image_url': 'http://pbs.twimg.com/profile_images/1236044709660889089/CzJzWDdD_normal.jpg', 'profile_image_url_https': 'https://pbs.twimg.com/profile_images/1236044709660889089/CzJzWDdD_normal.jpg', 'profile_banner_url': 'https://pbs.twimg.com/profile_banners/1078483151222177792/1583291755', 'default_profile': True, 'default_profile_image': False, 'following': None, 'follow_request_sent': None, 'notifications': None}, 'geo': None, 'coordinates': None, 'place': None, 'contributors': None, 'retweeted_status': {'created_at': 'Wed Mar 11 00:11:52 +0000 2020', 'id': 1237531651283898368, 'id_str': '1237531651283898368', 'text': 'Marcela e Ivy foram gordofobicas com Babu. Explico o motivo e #GordofobiaNãoÉPiada #bbb20 https://t.co/Fa5dF5naoP', 'display_text_range': [0, 89], 'source': '<a href=\"http://twitter.com/download/iphone\" rel=\"nofollow\">Twitter for iPhone</a>', 'truncated': False, 'in_reply_to_status_id': None, 'in_reply_to_status_id_str': None, 'in_reply_to_user_id': None, 'in_reply_to_user_id_str': None, 'in_reply_to_screen_name': None, 'user': {'id': 17031996, 'id_str': '17031996', 'name': 'Alexandra Gurgel | #CorpoLivre', 'screen_name': 'alexandrismos', 'location': 'São Paulo, Brasil', 'url': 'http://instagram.com/alexandrismos', 'description': 'aqui tem #CorpoLivre | Opinião | Feminismo | #lgbt // autora bestseller', 'translator_type': 'none', 'protected': False, 'verified': True, 'followers_count': 79304, 'friends_count': 432, 'listed_count': 80, 'favourites_count': 8214, 'statuses_count': 13817, 'created_at': 'Wed Oct 29 00:12:29 +0000 2008', 'utc_offset': None, 'time_zone': None, 'geo_enabled': True, 'lang': None, 'contributors_enabled': False, 'is_translator': False, 'profile_background_color': '000000', 'profile_background_image_url': 'http://abs.twimg.com/images/themes/theme2/bg.gif', 'profile_background_image_url_https': 'https://abs.twimg.com/images/themes/theme2/bg.gif', 'profile_background_tile': True, 'profile_link_color': '981CEB', 'profile_sidebar_border_color': 'F5D7D7', 'profile_sidebar_fill_color': 'F5FCFF', 'profile_text_color': '050505', 'profile_use_background_image': True, 'profile_image_url': 'http://pbs.twimg.com/profile_images/1236829200860041218/E8ObXIm1_normal.jpg', 'profile_image_url_https': 'https://pbs.twimg.com/profile_images/1236829200860041218/E8ObXIm1_normal.jpg', 'profile_banner_url': 'https://pbs.twimg.com/profile_banners/17031996/1578681207', 'default_profile': False, 'default_profile_image': False, 'following': None, 'follow_request_sent': None, 'notifications': None}, 'geo': None, 'coordinates': None, 'place': {'id': '68e019afec7d0ba5', 'url': 'https://api.twitter.com/1.1/geo/id/68e019afec7d0ba5.json', 'place_type': 'city', 'name': 'São Paulo', 'full_name': 'São Paulo, Brasil', 'country_code': 'BR', 'country': 'Brasil', 'bounding_box': {'type': 'Polygon', 'coordinates': [[[-46.826039, -24.008814], [-46.826039, -23.356792], [-46.365052, -23.356792], [-46.365052, -24.008814]]]}, 'attributes': {}}, 'contributors': None, 'is_quote_status': False, 'quote_count': 917, 'reply_count': 442, 'retweet_count': 13424, 'favorite_count': 45972, 'entities': {'hashtags': [{'text': 'GordofobiaNãoÉPiada', 'indices': [62, 82]}, {'text': 'bbb20', 'indices': [83, 89]}], 'urls': [], 'user_mentions': [], 'symbols': [], 'media': [{'id': 1237531372798894080, 'id_str': '1237531372798894080', 'indices': [90, 113], 'additional_media_info': {'monetizable': False}, 'media_url': 'http://pbs.twimg.com/ext_tw_video_thumb/1237531372798894080/pu/img/UbR7NH2An4D6h_dM.jpg', 'media_url_https': 'https://pbs.twimg.com/ext_tw_video_thumb/1237531372798894080/pu/img/UbR7NH2An4D6h_dM.jpg', 'url': 'https://t.co/Fa5dF5naoP', 'display_url': 'pic.twitter.com/Fa5dF5naoP', 'expanded_url': 'https://twitter.com/alexandrismos/status/1237531651283898368/video/1', 'type': 'photo', 'sizes': {'thumb': {'w': 150, 'h': 150, 'resize': 'crop'}, 'small': {'w': 383, 'h': 680, 'resize': 'fit'}, 'large': {'w': 720, 'h': 1280, 'resize': 'fit'}, 'medium': {'w': 675, 'h': 1200, 'resize': 'fit'}}}]}, 'extended_entities': {'media': [{'id': 1237531372798894080, 'id_str': '1237531372798894080', 'indices': [90, 113], 'additional_media_info': {'monetizable': False}, 'media_url': 'http://pbs.twimg.com/ext_tw_video_thumb/1237531372798894080/pu/img/UbR7NH2An4D6h_dM.jpg', 'media_url_https': 'https://pbs.twimg.com/ext_tw_video_thumb/1237531372798894080/pu/img/UbR7NH2An4D6h_dM.jpg', 'url': 'https://t.co/Fa5dF5naoP', 'display_url': 'pic.twitter.com/Fa5dF5naoP', 'expanded_url': 'https://twitter.com/alexandrismos/status/1237531651283898368/video/1', 'type': 'video', 'video_info': {'aspect_ratio': [9, 16], 'duration_millis': 100350, 'variants': [{'content_type': 'application/x-mpegURL', 'url': 'https://video.twimg.com/ext_tw_video/1237531372798894080/pu/pl/AR4z4ENiFJIb3n6Q.m3u8?tag=10'}, {'bitrate': 632000, 'content_type': 'video/mp4', 'url': 'https://video.twimg.com/ext_tw_video/1237531372798894080/pu/vid/320x568/NE_r4P0sxzS2PV0T.mp4?tag=10'}, {'bitrate': 2176000, 'content_type': 'video/mp4', 'url': 'https://video.twimg.com/ext_tw_video/1237531372798894080/pu/vid/720x1280/XhGf3gNqfI3zhgYu.mp4?tag=10'}, {'bitrate': 832000, 'content_type': 'video/mp4', 'url': 'https://video.twimg.com/ext_tw_video/1237531372798894080/pu/vid/360x640/fnQ9bIGygZu8cNNJ.mp4?tag=10'}]}, 'sizes': {'thumb': {'w': 150, 'h': 150, 'resize': 'crop'}, 'small': {'w': 383, 'h': 680, 'resize': 'fit'}, 'large': {'w': 720, 'h': 1280, 'resize': 'fit'}, 'medium': {'w': 675, 'h': 1200, 'resize': 'fit'}}}]}, 'favorited': False, 'retweeted': False, 'possibly_sensitive': False, 'filter_level': 'low', 'lang': 'pt'}, 'is_quote_status': False, 'quote_count': 0, 'reply_count': 0, 'retweet_count': 0, 'favorite_count': 0, 'entities': {'hashtags': [{'text': 'GordofobiaNãoÉPiada', 'indices': [81, 101]}, {'text': 'bbb20', 'indices': [102, 108]}], 'urls': [], 'user_mentions': [{'screen_name': 'alexandrismos', 'name': 'Alexandra Gurgel | #CorpoLivre', 'id': 17031996, 'id_str': '17031996', 'indices': [3, 17]}], 'symbols': [], 'media': [{'id': 1237531372798894080, 'id_str': '1237531372798894080', 'indices': [109, 132], 'additional_media_info': {'monetizable': False}, 'media_url': 'http://pbs.twimg.com/ext_tw_video_thumb/1237531372798894080/pu/img/UbR7NH2An4D6h_dM.jpg', 'media_url_https': 'https://pbs.twimg.com/ext_tw_video_thumb/1237531372798894080/pu/img/UbR7NH2An4D6h_dM.jpg', 'url': 'https://t.co/Fa5dF5naoP', 'display_url': 'pic.twitter.com/Fa5dF5naoP', 'expanded_url': 'https://twitter.com/alexandrismos/status/1237531651283898368/video/1', 'type': 'photo', 'sizes': {'thumb': {'w': 150, 'h': 150, 'resize': 'crop'}, 'small': {'w': 383, 'h': 680, 'resize': 'fit'}, 'large': {'w': 720, 'h': 1280, 'resize': 'fit'}, 'medium': {'w': 675, 'h': 1200, 'resize': 'fit'}}, 'source_status_id': 1237531651283898368, 'source_status_id_str': '1237531651283898368', 'source_user_id': 17031996, 'source_user_id_str': '17031996'}]}, 'extended_entities': {'media': [{'id': 1237531372798894080, 'id_str': '1237531372798894080', 'indices': [109, 132], 'additional_media_info': {'monetizable': False}, 'media_url': 'http://pbs.twimg.com/ext_tw_video_thumb/1237531372798894080/pu/img/UbR7NH2An4D6h_dM.jpg', 'media_url_https': 'https://pbs.twimg.com/ext_tw_video_thumb/1237531372798894080/pu/img/UbR7NH2An4D6h_dM.jpg', 'url': 'https://t.co/Fa5dF5naoP', 'display_url': 'pic.twitter.com/Fa5dF5naoP', 'expanded_url': 'https://twitter.com/alexandrismos/status/1237531651283898368/video/1', 'type': 'video', 'video_info': {'aspect_ratio': [9, 16], 'duration_millis': 100350, 'variants': [{'content_type': 'application/x-mpegURL', 'url': 'https://video.twimg.com/ext_tw_video/1237531372798894080/pu/pl/AR4z4ENiFJIb3n6Q.m3u8?tag=10'}, {'bitrate': 632000, 'content_type': 'video/mp4', 'url': 'https://video.twimg.com/ext_tw_video/1237531372798894080/pu/vid/320x568/NE_r4P0sxzS2PV0T.mp4?tag=10'}, {'bitrate': 2176000, 'content_type': 'video/mp4', 'url': 'https://video.twimg.com/ext_tw_video/1237531372798894080/pu/vid/720x1280/XhGf3gNqfI3zhgYu.mp4?tag=10'}, {'bitrate': 832000, 'content_type': 'video/mp4', 'url': 'https://video.twimg.com/ext_tw_video/1237531372798894080/pu/vid/360x640/fnQ9bIGygZu8cNNJ.mp4?tag=10'}]}, 'sizes': {'thumb': {'w': 150, 'h': 150, 'resize': 'crop'}, 'small': {'w': 383, 'h': 680, 'resize': 'fit'}, 'large': {'w': 720, 'h': 1280, 'resize': 'fit'}, 'medium': {'w': 675, 'h': 1200, 'resize': 'fit'}}, 'source_status_id': 1237531651283898368, 'source_status_id_str': '1237531651283898368', 'source_user_id': 17031996, 'source_user_id_str': '17031996'}]}, 'favorited': False, 'retweeted': False, 'possibly_sensitive': False, 'filter_level': 'low', 'lang': 'pt', 'timestamp_ms': '1583952237068'}\n",
    "\n",
    "for i in alexandrismos_rt_problem['retweeted_status']:\n",
    "    print(i)\n",
    "    print(alexandrismos_rt_problem['retweeted_status'][i])"
   ]
  },
  {
   "cell_type": "code",
   "execution_count": 108,
   "metadata": {},
   "outputs": [
    {
     "name": "stdout",
     "output_type": "stream",
     "text": [
      "yes\n"
     ]
    }
   ],
   "source": [
    "if 'retweeted_status' in rt_errors_test:\n",
    "    print('yes')"
   ]
  },
  {
   "cell_type": "code",
   "execution_count": 106,
   "metadata": {
    "scrolled": false
   },
   "outputs": [
    {
     "name": "stdout",
     "output_type": "stream",
     "text": [
      "{\n",
      "    \"contributors\": null,\n",
      "    \"coordinates\": null,\n",
      "    \"created_at\": \"Wed Mar 11 18:43:57 +0000 2020\",\n",
      "    \"entities\": {\n",
      "        \"hashtags\": [\n",
      "            {\n",
      "                \"indices\": [\n",
      "                    81,\n",
      "                    101\n",
      "                ],\n",
      "                \"text\": \"GordofobiaN\\u00e3o\\u00c9Piada\"\n",
      "            },\n",
      "            {\n",
      "                \"indices\": [\n",
      "                    102,\n",
      "                    108\n",
      "                ],\n",
      "                \"text\": \"bbb20\"\n",
      "            }\n",
      "        ],\n",
      "        \"media\": [\n",
      "            {\n",
      "                \"additional_media_info\": {\n",
      "                    \"monetizable\": false\n",
      "                },\n",
      "                \"display_url\": \"pic.twitter.com/Fa5dF5naoP\",\n",
      "                \"expanded_url\": \"https://twitter.com/alexandrismos/status/1237531651283898368/video/1\",\n",
      "                \"id\": 1237531372798894080,\n",
      "                \"id_str\": \"1237531372798894080\",\n",
      "                \"indices\": [\n",
      "                    109,\n",
      "                    132\n",
      "                ],\n",
      "                \"media_url\": \"http://pbs.twimg.com/ext_tw_video_thumb/1237531372798894080/pu/img/UbR7NH2An4D6h_dM.jpg\",\n",
      "                \"media_url_https\": \"https://pbs.twimg.com/ext_tw_video_thumb/1237531372798894080/pu/img/UbR7NH2An4D6h_dM.jpg\",\n",
      "                \"sizes\": {\n",
      "                    \"large\": {\n",
      "                        \"h\": 1280,\n",
      "                        \"resize\": \"fit\",\n",
      "                        \"w\": 720\n",
      "                    },\n",
      "                    \"medium\": {\n",
      "                        \"h\": 1200,\n",
      "                        \"resize\": \"fit\",\n",
      "                        \"w\": 675\n",
      "                    },\n",
      "                    \"small\": {\n",
      "                        \"h\": 680,\n",
      "                        \"resize\": \"fit\",\n",
      "                        \"w\": 383\n",
      "                    },\n",
      "                    \"thumb\": {\n",
      "                        \"h\": 150,\n",
      "                        \"resize\": \"crop\",\n",
      "                        \"w\": 150\n",
      "                    }\n",
      "                },\n",
      "                \"source_status_id\": 1237531651283898368,\n",
      "                \"source_status_id_str\": \"1237531651283898368\",\n",
      "                \"source_user_id\": 17031996,\n",
      "                \"source_user_id_str\": \"17031996\",\n",
      "                \"type\": \"photo\",\n",
      "                \"url\": \"https://t.co/Fa5dF5naoP\"\n",
      "            }\n",
      "        ],\n",
      "        \"symbols\": [],\n",
      "        \"urls\": [],\n",
      "        \"user_mentions\": [\n",
      "            {\n",
      "                \"id\": 17031996,\n",
      "                \"id_str\": \"17031996\",\n",
      "                \"indices\": [\n",
      "                    3,\n",
      "                    17\n",
      "                ],\n",
      "                \"name\": \"Alexandra Gurgel | #CorpoLivre\",\n",
      "                \"screen_name\": \"alexandrismos\"\n",
      "            }\n",
      "        ]\n",
      "    },\n",
      "    \"extended_entities\": {\n",
      "        \"media\": [\n",
      "            {\n",
      "                \"additional_media_info\": {\n",
      "                    \"monetizable\": false\n",
      "                },\n",
      "                \"display_url\": \"pic.twitter.com/Fa5dF5naoP\",\n",
      "                \"expanded_url\": \"https://twitter.com/alexandrismos/status/1237531651283898368/video/1\",\n",
      "                \"id\": 1237531372798894080,\n",
      "                \"id_str\": \"1237531372798894080\",\n",
      "                \"indices\": [\n",
      "                    109,\n",
      "                    132\n",
      "                ],\n",
      "                \"media_url\": \"http://pbs.twimg.com/ext_tw_video_thumb/1237531372798894080/pu/img/UbR7NH2An4D6h_dM.jpg\",\n",
      "                \"media_url_https\": \"https://pbs.twimg.com/ext_tw_video_thumb/1237531372798894080/pu/img/UbR7NH2An4D6h_dM.jpg\",\n",
      "                \"sizes\": {\n",
      "                    \"large\": {\n",
      "                        \"h\": 1280,\n",
      "                        \"resize\": \"fit\",\n",
      "                        \"w\": 720\n",
      "                    },\n",
      "                    \"medium\": {\n",
      "                        \"h\": 1200,\n",
      "                        \"resize\": \"fit\",\n",
      "                        \"w\": 675\n",
      "                    },\n",
      "                    \"small\": {\n",
      "                        \"h\": 680,\n",
      "                        \"resize\": \"fit\",\n",
      "                        \"w\": 383\n",
      "                    },\n",
      "                    \"thumb\": {\n",
      "                        \"h\": 150,\n",
      "                        \"resize\": \"crop\",\n",
      "                        \"w\": 150\n",
      "                    }\n",
      "                },\n",
      "                \"source_status_id\": 1237531651283898368,\n",
      "                \"source_status_id_str\": \"1237531651283898368\",\n",
      "                \"source_user_id\": 17031996,\n",
      "                \"source_user_id_str\": \"17031996\",\n",
      "                \"type\": \"video\",\n",
      "                \"url\": \"https://t.co/Fa5dF5naoP\",\n",
      "                \"video_info\": {\n",
      "                    \"aspect_ratio\": [\n",
      "                        9,\n",
      "                        16\n",
      "                    ],\n",
      "                    \"duration_millis\": 100350,\n",
      "                    \"variants\": [\n",
      "                        {\n",
      "                            \"content_type\": \"application/x-mpegURL\",\n",
      "                            \"url\": \"https://video.twimg.com/ext_tw_video/1237531372798894080/pu/pl/AR4z4ENiFJIb3n6Q.m3u8?tag=10\"\n",
      "                        },\n",
      "                        {\n",
      "                            \"bitrate\": 632000,\n",
      "                            \"content_type\": \"video/mp4\",\n",
      "                            \"url\": \"https://video.twimg.com/ext_tw_video/1237531372798894080/pu/vid/320x568/NE_r4P0sxzS2PV0T.mp4?tag=10\"\n",
      "                        },\n",
      "                        {\n",
      "                            \"bitrate\": 2176000,\n",
      "                            \"content_type\": \"video/mp4\",\n",
      "                            \"url\": \"https://video.twimg.com/ext_tw_video/1237531372798894080/pu/vid/720x1280/XhGf3gNqfI3zhgYu.mp4?tag=10\"\n",
      "                        },\n",
      "                        {\n",
      "                            \"bitrate\": 832000,\n",
      "                            \"content_type\": \"video/mp4\",\n",
      "                            \"url\": \"https://video.twimg.com/ext_tw_video/1237531372798894080/pu/vid/360x640/fnQ9bIGygZu8cNNJ.mp4?tag=10\"\n",
      "                        }\n",
      "                    ]\n",
      "                }\n",
      "            }\n",
      "        ]\n",
      "    },\n",
      "    \"favorite_count\": 0,\n",
      "    \"favorited\": false,\n",
      "    \"filter_level\": \"low\",\n",
      "    \"geo\": null,\n",
      "    \"id\": 1237811514201038851,\n",
      "    \"id_str\": \"1237811514201038851\",\n",
      "    \"in_reply_to_screen_name\": null,\n",
      "    \"in_reply_to_status_id\": null,\n",
      "    \"in_reply_to_status_id_str\": null,\n",
      "    \"in_reply_to_user_id\": null,\n",
      "    \"in_reply_to_user_id_str\": null,\n",
      "    \"is_quote_status\": false,\n",
      "    \"lang\": \"pt\",\n",
      "    \"place\": null,\n",
      "    \"possibly_sensitive\": false,\n",
      "    \"quote_count\": 0,\n",
      "    \"reply_count\": 0,\n",
      "    \"retweet_count\": 0,\n",
      "    \"retweeted\": false,\n",
      "    \"retweeted_status\": {\n",
      "        \"contributors\": null,\n",
      "        \"coordinates\": null,\n",
      "        \"created_at\": \"Wed Mar 11 00:11:52 +0000 2020\",\n",
      "        \"display_text_range\": [\n",
      "            0,\n",
      "            89\n",
      "        ],\n",
      "        \"entities\": {\n",
      "            \"hashtags\": [\n",
      "                {\n",
      "                    \"indices\": [\n",
      "                        62,\n",
      "                        82\n",
      "                    ],\n",
      "                    \"text\": \"GordofobiaN\\u00e3o\\u00c9Piada\"\n",
      "                },\n",
      "                {\n",
      "                    \"indices\": [\n",
      "                        83,\n",
      "                        89\n",
      "                    ],\n",
      "                    \"text\": \"bbb20\"\n",
      "                }\n",
      "            ],\n",
      "            \"media\": [\n",
      "                {\n",
      "                    \"additional_media_info\": {\n",
      "                        \"monetizable\": false\n",
      "                    },\n",
      "                    \"display_url\": \"pic.twitter.com/Fa5dF5naoP\",\n",
      "                    \"expanded_url\": \"https://twitter.com/alexandrismos/status/1237531651283898368/video/1\",\n",
      "                    \"id\": 1237531372798894080,\n",
      "                    \"id_str\": \"1237531372798894080\",\n",
      "                    \"indices\": [\n",
      "                        90,\n",
      "                        113\n",
      "                    ],\n",
      "                    \"media_url\": \"http://pbs.twimg.com/ext_tw_video_thumb/1237531372798894080/pu/img/UbR7NH2An4D6h_dM.jpg\",\n",
      "                    \"media_url_https\": \"https://pbs.twimg.com/ext_tw_video_thumb/1237531372798894080/pu/img/UbR7NH2An4D6h_dM.jpg\",\n",
      "                    \"sizes\": {\n",
      "                        \"large\": {\n",
      "                            \"h\": 1280,\n",
      "                            \"resize\": \"fit\",\n",
      "                            \"w\": 720\n",
      "                        },\n",
      "                        \"medium\": {\n",
      "                            \"h\": 1200,\n",
      "                            \"resize\": \"fit\",\n",
      "                            \"w\": 675\n",
      "                        },\n",
      "                        \"small\": {\n",
      "                            \"h\": 680,\n",
      "                            \"resize\": \"fit\",\n",
      "                            \"w\": 383\n",
      "                        },\n",
      "                        \"thumb\": {\n",
      "                            \"h\": 150,\n",
      "                            \"resize\": \"crop\",\n",
      "                            \"w\": 150\n",
      "                        }\n",
      "                    },\n",
      "                    \"type\": \"photo\",\n",
      "                    \"url\": \"https://t.co/Fa5dF5naoP\"\n",
      "                }\n",
      "            ],\n",
      "            \"symbols\": [],\n",
      "            \"urls\": [],\n",
      "            \"user_mentions\": []\n",
      "        },\n",
      "        \"extended_entities\": {\n",
      "            \"media\": [\n",
      "                {\n",
      "                    \"additional_media_info\": {\n",
      "                        \"monetizable\": false\n",
      "                    },\n",
      "                    \"display_url\": \"pic.twitter.com/Fa5dF5naoP\",\n",
      "                    \"expanded_url\": \"https://twitter.com/alexandrismos/status/1237531651283898368/video/1\",\n",
      "                    \"id\": 1237531372798894080,\n",
      "                    \"id_str\": \"1237531372798894080\",\n",
      "                    \"indices\": [\n",
      "                        90,\n",
      "                        113\n",
      "                    ],\n",
      "                    \"media_url\": \"http://pbs.twimg.com/ext_tw_video_thumb/1237531372798894080/pu/img/UbR7NH2An4D6h_dM.jpg\",\n",
      "                    \"media_url_https\": \"https://pbs.twimg.com/ext_tw_video_thumb/1237531372798894080/pu/img/UbR7NH2An4D6h_dM.jpg\",\n",
      "                    \"sizes\": {\n",
      "                        \"large\": {\n",
      "                            \"h\": 1280,\n",
      "                            \"resize\": \"fit\",\n",
      "                            \"w\": 720\n",
      "                        },\n",
      "                        \"medium\": {\n",
      "                            \"h\": 1200,\n",
      "                            \"resize\": \"fit\",\n",
      "                            \"w\": 675\n",
      "                        },\n",
      "                        \"small\": {\n",
      "                            \"h\": 680,\n",
      "                            \"resize\": \"fit\",\n",
      "                            \"w\": 383\n",
      "                        },\n",
      "                        \"thumb\": {\n",
      "                            \"h\": 150,\n",
      "                            \"resize\": \"crop\",\n",
      "                            \"w\": 150\n",
      "                        }\n",
      "                    },\n",
      "                    \"type\": \"video\",\n",
      "                    \"url\": \"https://t.co/Fa5dF5naoP\",\n",
      "                    \"video_info\": {\n",
      "                        \"aspect_ratio\": [\n",
      "                            9,\n",
      "                            16\n",
      "                        ],\n",
      "                        \"duration_millis\": 100350,\n",
      "                        \"variants\": [\n",
      "                            {\n",
      "                                \"content_type\": \"application/x-mpegURL\",\n",
      "                                \"url\": \"https://video.twimg.com/ext_tw_video/1237531372798894080/pu/pl/AR4z4ENiFJIb3n6Q.m3u8?tag=10\"\n",
      "                            },\n",
      "                            {\n",
      "                                \"bitrate\": 632000,\n",
      "                                \"content_type\": \"video/mp4\",\n",
      "                                \"url\": \"https://video.twimg.com/ext_tw_video/1237531372798894080/pu/vid/320x568/NE_r4P0sxzS2PV0T.mp4?tag=10\"\n",
      "                            },\n",
      "                            {\n",
      "                                \"bitrate\": 2176000,\n",
      "                                \"content_type\": \"video/mp4\",\n",
      "                                \"url\": \"https://video.twimg.com/ext_tw_video/1237531372798894080/pu/vid/720x1280/XhGf3gNqfI3zhgYu.mp4?tag=10\"\n",
      "                            },\n",
      "                            {\n",
      "                                \"bitrate\": 832000,\n",
      "                                \"content_type\": \"video/mp4\",\n",
      "                                \"url\": \"https://video.twimg.com/ext_tw_video/1237531372798894080/pu/vid/360x640/fnQ9bIGygZu8cNNJ.mp4?tag=10\"\n",
      "                            }\n",
      "                        ]\n",
      "                    }\n",
      "                }\n",
      "            ]\n",
      "        },\n",
      "        \"favorite_count\": 45972,\n",
      "        \"favorited\": false,\n",
      "        \"filter_level\": \"low\",\n",
      "        \"geo\": null,\n",
      "        \"id\": 1237531651283898368,\n",
      "        \"id_str\": \"1237531651283898368\",\n",
      "        \"in_reply_to_screen_name\": null,\n",
      "        \"in_reply_to_status_id\": null,\n",
      "        \"in_reply_to_status_id_str\": null,\n",
      "        \"in_reply_to_user_id\": null,\n",
      "        \"in_reply_to_user_id_str\": null,\n",
      "        \"is_quote_status\": false,\n",
      "        \"lang\": \"pt\",\n",
      "        \"place\": {\n",
      "            \"attributes\": {},\n",
      "            \"bounding_box\": {\n",
      "                \"coordinates\": [\n",
      "                    [\n",
      "                        [\n",
      "                            -46.826039,\n",
      "                            -24.008814\n",
      "                        ],\n",
      "                        [\n",
      "                            -46.826039,\n",
      "                            -23.356792\n",
      "                        ],\n",
      "                        [\n",
      "                            -46.365052,\n",
      "                            -23.356792\n",
      "                        ],\n",
      "                        [\n",
      "                            -46.365052,\n",
      "                            -24.008814\n",
      "                        ]\n",
      "                    ]\n",
      "                ],\n",
      "                \"type\": \"Polygon\"\n",
      "            },\n",
      "            \"country\": \"Brasil\",\n",
      "            \"country_code\": \"BR\",\n",
      "            \"full_name\": \"S\\u00e3o Paulo, Brasil\",\n",
      "            \"id\": \"68e019afec7d0ba5\",\n",
      "            \"name\": \"S\\u00e3o Paulo\",\n",
      "            \"place_type\": \"city\",\n",
      "            \"url\": \"https://api.twitter.com/1.1/geo/id/68e019afec7d0ba5.json\"\n",
      "        },\n",
      "        \"possibly_sensitive\": false,\n",
      "        \"quote_count\": 917,\n",
      "        \"reply_count\": 442,\n",
      "        \"retweet_count\": 13424,\n",
      "        \"retweeted\": false,\n",
      "        \"source\": \"<a href=\\\"http://twitter.com/download/iphone\\\" rel=\\\"nofollow\\\">Twitter for iPhone</a>\",\n",
      "        \"text\": \"Marcela e Ivy foram gordofobicas com Babu. Explico o motivo e #GordofobiaN\\u00e3o\\u00c9Piada #bbb20 https://t.co/Fa5dF5naoP\",\n",
      "        \"truncated\": false,\n",
      "        \"user\": {\n",
      "            \"contributors_enabled\": false,\n",
      "            \"created_at\": \"Wed Oct 29 00:12:29 +0000 2008\",\n",
      "            \"default_profile\": false,\n",
      "            \"default_profile_image\": false,\n",
      "            \"description\": \"aqui tem #CorpoLivre | Opini\\u00e3o | Feminismo | #lgbt // autora bestseller\",\n",
      "            \"favourites_count\": 8214,\n",
      "            \"follow_request_sent\": null,\n",
      "            \"followers_count\": 79304,\n",
      "            \"following\": null,\n",
      "            \"friends_count\": 432,\n",
      "            \"geo_enabled\": true,\n",
      "            \"id\": 17031996,\n",
      "            \"id_str\": \"17031996\",\n",
      "            \"is_translator\": false,\n",
      "            \"lang\": null,\n",
      "            \"listed_count\": 80,\n",
      "            \"location\": \"S\\u00e3o Paulo, Brasil\",\n",
      "            \"name\": \"Alexandra Gurgel | #CorpoLivre\",\n",
      "            \"notifications\": null,\n",
      "            \"profile_background_color\": \"000000\",\n",
      "            \"profile_background_image_url\": \"http://abs.twimg.com/images/themes/theme2/bg.gif\",\n",
      "            \"profile_background_image_url_https\": \"https://abs.twimg.com/images/themes/theme2/bg.gif\",\n",
      "            \"profile_background_tile\": true,\n",
      "            \"profile_banner_url\": \"https://pbs.twimg.com/profile_banners/17031996/1578681207\",\n",
      "            \"profile_image_url\": \"http://pbs.twimg.com/profile_images/1236829200860041218/E8ObXIm1_normal.jpg\",\n",
      "            \"profile_image_url_https\": \"https://pbs.twimg.com/profile_images/1236829200860041218/E8ObXIm1_normal.jpg\",\n",
      "            \"profile_link_color\": \"981CEB\",\n",
      "            \"profile_sidebar_border_color\": \"F5D7D7\",\n",
      "            \"profile_sidebar_fill_color\": \"F5FCFF\",\n",
      "            \"profile_text_color\": \"050505\",\n",
      "            \"profile_use_background_image\": true,\n",
      "            \"protected\": false,\n",
      "            \"screen_name\": \"alexandrismos\",\n",
      "            \"statuses_count\": 13817,\n",
      "            \"time_zone\": null,\n",
      "            \"translator_type\": \"none\",\n",
      "            \"url\": \"http://instagram.com/alexandrismos\",\n",
      "            \"utc_offset\": null,\n",
      "            \"verified\": true\n",
      "        }\n",
      "    },\n",
      "    \"source\": \"<a href=\\\"http://twitter.com/download/android\\\" rel=\\\"nofollow\\\">Twitter for Android</a>\",\n",
      "    \"text\": \"RT @alexandrismos: Marcela e Ivy foram gordofobicas com Babu. Explico o motivo e #GordofobiaN\\u00e3o\\u00c9Piada #bbb20 https://t.co/Fa5dF5naoP\",\n",
      "    \"timestamp_ms\": \"1583952237068\",\n",
      "    \"truncated\": false,\n",
      "    \"user\": {\n",
      "        \"contributors_enabled\": false,\n",
      "        \"created_at\": \"Fri Dec 28 02:49:55 +0000 2018\",\n",
      "        \"default_profile\": true,\n",
      "        \"default_profile_image\": false,\n",
      "        \"description\": \"traio o mundo, mas n\\u00e3o vou me trair, derrubo quem for, mas n\\u00e3o aceito cair / @vinicinrjc\",\n",
      "        \"favourites_count\": 17343,\n",
      "        \"follow_request_sent\": null,\n",
      "        \"followers_count\": 711,\n",
      "        \"following\": null,\n",
      "        \"friends_count\": 490,\n",
      "        \"geo_enabled\": true,\n",
      "        \"id\": 1078483151222177792,\n",
      "        \"id_str\": \"1078483151222177792\",\n",
      "        \"is_translator\": false,\n",
      "        \"lang\": null,\n",
      "        \"listed_count\": 0,\n",
      "        \"location\": \"baixada, rj\",\n",
      "        \"name\": \"cassiane\",\n",
      "        \"notifications\": null,\n",
      "        \"profile_background_color\": \"F5F8FA\",\n",
      "        \"profile_background_image_url\": \"\",\n",
      "        \"profile_background_image_url_https\": \"\",\n",
      "        \"profile_background_tile\": false,\n",
      "        \"profile_banner_url\": \"https://pbs.twimg.com/profile_banners/1078483151222177792/1583291755\",\n",
      "        \"profile_image_url\": \"http://pbs.twimg.com/profile_images/1236044709660889089/CzJzWDdD_normal.jpg\",\n",
      "        \"profile_image_url_https\": \"https://pbs.twimg.com/profile_images/1236044709660889089/CzJzWDdD_normal.jpg\",\n",
      "        \"profile_link_color\": \"1DA1F2\",\n",
      "        \"profile_sidebar_border_color\": \"C0DEED\",\n",
      "        \"profile_sidebar_fill_color\": \"DDEEF6\",\n",
      "        \"profile_text_color\": \"333333\",\n",
      "        \"profile_use_background_image\": true,\n",
      "        \"protected\": false,\n",
      "        \"screen_name\": \"cassiasbne\",\n",
      "        \"statuses_count\": 21689,\n",
      "        \"time_zone\": null,\n",
      "        \"translator_type\": \"none\",\n",
      "        \"url\": \"https://curiouscat.me/cahsabrine\",\n",
      "        \"utc_offset\": null,\n",
      "        \"verified\": false\n",
      "    }\n",
      "}\n"
     ]
    }
   ],
   "source": [
    "import json\n",
    "\n",
    "print(json.dumps(rt_errors_test, indent=4, sort_keys=True))"
   ]
  },
  {
   "cell_type": "code",
   "execution_count": 56,
   "metadata": {},
   "outputs": [
    {
     "name": "stdout",
     "output_type": "stream",
     "text": [
      "url\n",
      "https://t.co/6mH2zJnckd\n",
      "expanded\n",
      "https://twitter.com/pqp_dann/status/1236837398241259522\n",
      "display\n",
      "twitter.com/pqp_dann/statu…\n"
     ]
    }
   ],
   "source": [
    "for i in quoted_json['retweeted_status']['quoted_status_permalink'].keys():\n",
    "    print(i)\n",
    "    print(quoted_json['retweeted_status']['quoted_status_permalink'][i])\n",
    "    \n",
    "https://twitter.com/{'user_id'}/status/{'tweet_id'}"
   ]
  },
  {
   "cell_type": "code",
   "execution_count": 63,
   "metadata": {},
   "outputs": [
    {
     "data": {
      "text/plain": [
       "'https://twitter.com/FeCastanhari/status/1237055790948777991'"
      ]
     },
     "execution_count": 63,
     "metadata": {},
     "output_type": "execute_result"
    }
   ],
   "source": []
  },
  {
   "cell_type": "code",
   "execution_count": 60,
   "metadata": {
    "scrolled": false
   },
   "outputs": [
    {
     "name": "stdout",
     "output_type": "stream",
     "text": [
      "created_at\n",
      "Mon Mar 09 16:40:58 +0000 2020\n",
      "id\n",
      "1237055790948777991\n",
      "id_str\n",
      "1237055790948777991\n",
      "text\n",
      "Pyong nem precisou sair do BBB pra começar a educar uma criança\n",
      "source\n",
      "<a href=\"http://twitter.com/download/iphone\" rel=\"nofollow\">Twitter for iPhone</a>\n",
      "truncated\n",
      "False\n",
      "in_reply_to_status_id\n",
      "None\n",
      "in_reply_to_status_id_str\n",
      "None\n",
      "in_reply_to_user_id\n",
      "None\n",
      "in_reply_to_user_id_str\n",
      "None\n",
      "in_reply_to_screen_name\n",
      "None\n",
      "user\n",
      "{'id': 226542162, 'id_str': '226542162', 'name': 'Felipe Castanhari', 'screen_name': 'FeCastanhari', 'location': 'Osasco, SP', 'url': 'http://Instagram.com/fecastanhari', 'description': '30 Anos Diretor e Apresentador / Criador do Canal Nostalgia - Contato: business@canalnostalgia.com.br http://youtube.com/fecastanhari', 'translator_type': 'regular', 'protected': False, 'verified': True, 'followers_count': 6693419, 'friends_count': 1248, 'listed_count': 1693, 'favourites_count': 15496, 'statuses_count': 24482, 'created_at': 'Tue Dec 14 12:39:43 +0000 2010', 'utc_offset': None, 'time_zone': None, 'geo_enabled': True, 'lang': None, 'contributors_enabled': False, 'is_translator': False, 'profile_background_color': '004855', 'profile_background_image_url': 'http://abs.twimg.com/images/themes/theme14/bg.gif', 'profile_background_image_url_https': 'https://abs.twimg.com/images/themes/theme14/bg.gif', 'profile_background_tile': False, 'profile_link_color': 'FF691F', 'profile_sidebar_border_color': '000000', 'profile_sidebar_fill_color': 'DDEEF6', 'profile_text_color': '333333', 'profile_use_background_image': True, 'profile_image_url': 'http://pbs.twimg.com/profile_images/1044170135810924544/BNPdZhsF_normal.jpg', 'profile_image_url_https': 'https://pbs.twimg.com/profile_images/1044170135810924544/BNPdZhsF_normal.jpg', 'profile_banner_url': 'https://pbs.twimg.com/profile_banners/226542162/1532413326', 'default_profile': False, 'default_profile_image': False, 'following': None, 'follow_request_sent': None, 'notifications': None}\n",
      "geo\n",
      "None\n",
      "coordinates\n",
      "None\n",
      "place\n",
      "None\n",
      "contributors\n",
      "None\n",
      "quoted_status_id\n",
      "1236860449888571393\n",
      "quoted_status_id_str\n",
      "1236860449888571393\n",
      "quoted_status\n",
      "{'created_at': 'Mon Mar 09 03:44:45 +0000 2020', 'id': 1236860449888571393, 'id_str': '1236860449888571393', 'text': 'velho. é como ensinar uma criança. eu não consigo acreditar nisso. #bbb20 https://t.co/BsKXtvoqNK', 'display_text_range': [0, 73], 'source': '<a href=\"http://twitter.com/download/iphone\" rel=\"nofollow\">Twitter for iPhone</a>', 'truncated': False, 'in_reply_to_status_id': None, 'in_reply_to_status_id_str': None, 'in_reply_to_user_id': None, 'in_reply_to_user_id_str': None, 'in_reply_to_screen_name': None, 'user': {'id': 2612346372, 'id_str': '2612346372', 'name': '𝕘𝕒𝕓𝕚𝕣𝕠𝕓𝕒', 'screen_name': 'gbmch', 'location': 'sc', 'url': 'http://gabiroba.iluria.com', 'description': 'curso nutrição e faço uns freela de desenho tbm', 'translator_type': 'none', 'protected': False, 'verified': False, 'followers_count': 3168, 'friends_count': 805, 'listed_count': 58, 'favourites_count': 148029, 'statuses_count': 122055, 'created_at': 'Tue Jul 08 21:22:03 +0000 2014', 'utc_offset': None, 'time_zone': None, 'geo_enabled': True, 'lang': None, 'contributors_enabled': False, 'is_translator': False, 'profile_background_color': '000000', 'profile_background_image_url': 'http://abs.twimg.com/images/themes/theme1/bg.png', 'profile_background_image_url_https': 'https://abs.twimg.com/images/themes/theme1/bg.png', 'profile_background_tile': False, 'profile_link_color': 'FAB81E', 'profile_sidebar_border_color': '000000', 'profile_sidebar_fill_color': '000000', 'profile_text_color': '000000', 'profile_use_background_image': False, 'profile_image_url': 'http://pbs.twimg.com/profile_images/1235975365379657729/jx1dJy29_normal.jpg', 'profile_image_url_https': 'https://pbs.twimg.com/profile_images/1235975365379657729/jx1dJy29_normal.jpg', 'profile_banner_url': 'https://pbs.twimg.com/profile_banners/2612346372/1525951706', 'default_profile': False, 'default_profile_image': False, 'following': None, 'follow_request_sent': None, 'notifications': None}, 'geo': None, 'coordinates': None, 'place': None, 'contributors': None, 'is_quote_status': False, 'quote_count': 9580, 'reply_count': 1455, 'retweet_count': 11480, 'favorite_count': 90561, 'entities': {'hashtags': [{'text': 'bbb20', 'indices': [67, 73]}], 'urls': [], 'user_mentions': [], 'symbols': [], 'media': [{'id': 1236860279314616325, 'id_str': '1236860279314616325', 'indices': [74, 97], 'additional_media_info': {'monetizable': False}, 'media_url': 'http://pbs.twimg.com/ext_tw_video_thumb/1236860279314616325/pu/img/Zbp0lFn5U7Sw1vR3.jpg', 'media_url_https': 'https://pbs.twimg.com/ext_tw_video_thumb/1236860279314616325/pu/img/Zbp0lFn5U7Sw1vR3.jpg', 'url': 'https://t.co/BsKXtvoqNK', 'display_url': 'pic.twitter.com/BsKXtvoqNK', 'expanded_url': 'https://twitter.com/gbmch/status/1236860449888571393/video/1', 'type': 'photo', 'sizes': {'thumb': {'w': 150, 'h': 150, 'resize': 'crop'}, 'medium': {'w': 1200, 'h': 675, 'resize': 'fit'}, 'small': {'w': 680, 'h': 383, 'resize': 'fit'}, 'large': {'w': 1280, 'h': 720, 'resize': 'fit'}}}]}, 'extended_entities': {'media': [{'id': 1236860279314616325, 'id_str': '1236860279314616325', 'indices': [74, 97], 'additional_media_info': {'monetizable': False}, 'media_url': 'http://pbs.twimg.com/ext_tw_video_thumb/1236860279314616325/pu/img/Zbp0lFn5U7Sw1vR3.jpg', 'media_url_https': 'https://pbs.twimg.com/ext_tw_video_thumb/1236860279314616325/pu/img/Zbp0lFn5U7Sw1vR3.jpg', 'url': 'https://t.co/BsKXtvoqNK', 'display_url': 'pic.twitter.com/BsKXtvoqNK', 'expanded_url': 'https://twitter.com/gbmch/status/1236860449888571393/video/1', 'type': 'video', 'video_info': {'aspect_ratio': [16, 9], 'duration_millis': 25503, 'variants': [{'bitrate': 2176000, 'content_type': 'video/mp4', 'url': 'https://video.twimg.com/ext_tw_video/1236860279314616325/pu/vid/1280x720/RiiNXiPoUKhY14Rj.mp4?tag=10'}, {'bitrate': 832000, 'content_type': 'video/mp4', 'url': 'https://video.twimg.com/ext_tw_video/1236860279314616325/pu/vid/640x360/Db76wrRJjjH0ZXHQ.mp4?tag=10'}, {'bitrate': 256000, 'content_type': 'video/mp4', 'url': 'https://video.twimg.com/ext_tw_video/1236860279314616325/pu/vid/480x270/faQhRgEyh5AlkcIB.mp4?tag=10'}, {'content_type': 'application/x-mpegURL', 'url': 'https://video.twimg.com/ext_tw_video/1236860279314616325/pu/pl/E8pcaGlfOQskaMXN.m3u8?tag=10'}]}, 'sizes': {'thumb': {'w': 150, 'h': 150, 'resize': 'crop'}, 'medium': {'w': 1200, 'h': 675, 'resize': 'fit'}, 'small': {'w': 680, 'h': 383, 'resize': 'fit'}, 'large': {'w': 1280, 'h': 720, 'resize': 'fit'}}}]}, 'favorited': False, 'retweeted': False, 'possibly_sensitive': False, 'filter_level': 'low', 'lang': 'pt'}\n",
      "quoted_status_permalink\n",
      "{'url': 'https://t.co/uWad2Ky83q', 'expanded': 'https://twitter.com/gbmch/status/1236860449888571393', 'display': 'twitter.com/gbmch/status/1…'}\n",
      "is_quote_status\n",
      "True\n",
      "quote_count\n",
      "673\n",
      "reply_count\n",
      "923\n",
      "retweet_count\n",
      "18528\n",
      "favorite_count\n",
      "125976\n",
      "entities\n",
      "{'hashtags': [], 'urls': [], 'user_mentions': [], 'symbols': []}\n",
      "favorited\n",
      "False\n",
      "retweeted\n",
      "False\n",
      "filter_level\n",
      "low\n",
      "lang\n",
      "pt\n"
     ]
    }
   ],
   "source": [
    "for i in ret_rt['retweeted_status'].keys():\n",
    "    print(i)\n",
    "    print(ret_rt['retweeted_status'][i])\n",
    "    \n",
    "print(f\"https://twitter.com/{ret_rt['retweeted_status']['user']['name']}/status/{ret_rt['retweeted_status']['id']}}\")"
   ]
  },
  {
   "cell_type": "code",
   "execution_count": 14,
   "metadata": {
    "scrolled": false
   },
   "outputs": [
    {
     "name": "stdout",
     "output_type": "stream",
     "text": [
      "{\n",
      "    \"contributors\": null,\n",
      "    \"coordinates\": null,\n",
      "    \"created_at\": \"Thu Mar 12 14:57:25 +0000 2020\",\n",
      "    \"entities\": {\n",
      "        \"hashtags\": [\n",
      "            {\n",
      "                \"indices\": [\n",
      "                    112,\n",
      "                    118\n",
      "                ],\n",
      "                \"text\": \"BBB20\"\n",
      "            }\n",
      "        ],\n",
      "        \"symbols\": [],\n",
      "        \"urls\": [],\n",
      "        \"user_mentions\": [\n",
      "            {\n",
      "                \"id\": 511577335,\n",
      "                \"id_str\": \"511577335\",\n",
      "                \"indices\": [\n",
      "                    3,\n",
      "                    15\n",
      "                ],\n",
      "                \"name\": \"Vai Desmaiar #BBB20\",\n",
      "                \"screen_name\": \"vaidesmaiar\"\n",
      "            }\n",
      "        ]\n",
      "    },\n",
      "    \"favorite_count\": 0,\n",
      "    \"favorited\": false,\n",
      "    \"filter_level\": \"low\",\n",
      "    \"geo\": null,\n",
      "    \"id\": 1238116896035278848,\n",
      "    \"id_str\": \"1238116896035278848\",\n",
      "    \"in_reply_to_screen_name\": null,\n",
      "    \"in_reply_to_status_id\": null,\n",
      "    \"in_reply_to_status_id_str\": null,\n",
      "    \"in_reply_to_user_id\": null,\n",
      "    \"in_reply_to_user_id_str\": null,\n",
      "    \"is_quote_status\": false,\n",
      "    \"lang\": \"pt\",\n",
      "    \"place\": null,\n",
      "    \"quote_count\": 0,\n",
      "    \"reply_count\": 0,\n",
      "    \"retweet_count\": 0,\n",
      "    \"retweeted\": false,\n",
      "    \"retweeted_status\": {\n",
      "        \"contributors\": null,\n",
      "        \"coordinates\": null,\n",
      "        \"created_at\": \"Thu Mar 12 07:55:09 +0000 2020\",\n",
      "        \"entities\": {\n",
      "            \"hashtags\": [\n",
      "                {\n",
      "                    \"indices\": [\n",
      "                        95,\n",
      "                        101\n",
      "                    ],\n",
      "                    \"text\": \"BBB20\"\n",
      "                }\n",
      "            ],\n",
      "            \"media\": [\n",
      "                {\n",
      "                    \"additional_media_info\": {\n",
      "                        \"monetizable\": false\n",
      "                    },\n",
      "                    \"display_url\": \"pic.twitter.com/l2t7sVXikX\",\n",
      "                    \"expanded_url\": \"https://twitter.com/xpvine/status/1238003901280006145/video/1\",\n",
      "                    \"id\": 1238002795250429952,\n",
      "                    \"id_str\": \"1238002795250429952\",\n",
      "                    \"indices\": [\n",
      "                        102,\n",
      "                        125\n",
      "                    ],\n",
      "                    \"media_url\": \"http://pbs.twimg.com/ext_tw_video_thumb/1238002795250429952/pu/img/RG4GaxCad5ZnJjsF.jpg\",\n",
      "                    \"media_url_https\": \"https://pbs.twimg.com/ext_tw_video_thumb/1238002795250429952/pu/img/RG4GaxCad5ZnJjsF.jpg\",\n",
      "                    \"sizes\": {\n",
      "                        \"large\": {\n",
      "                            \"h\": 800,\n",
      "                            \"resize\": \"fit\",\n",
      "                            \"w\": 450\n",
      "                        },\n",
      "                        \"medium\": {\n",
      "                            \"h\": 800,\n",
      "                            \"resize\": \"fit\",\n",
      "                            \"w\": 450\n",
      "                        },\n",
      "                        \"small\": {\n",
      "                            \"h\": 680,\n",
      "                            \"resize\": \"fit\",\n",
      "                            \"w\": 383\n",
      "                        },\n",
      "                        \"thumb\": {\n",
      "                            \"h\": 150,\n",
      "                            \"resize\": \"crop\",\n",
      "                            \"w\": 150\n",
      "                        }\n",
      "                    },\n",
      "                    \"source_status_id\": 1238003901280006145,\n",
      "                    \"source_status_id_str\": \"1238003901280006145\",\n",
      "                    \"source_user_id\": 755220054116007936,\n",
      "                    \"source_user_id_str\": \"755220054116007936\",\n",
      "                    \"type\": \"photo\",\n",
      "                    \"url\": \"https://t.co/l2t7sVXikX\"\n",
      "                }\n",
      "            ],\n",
      "            \"symbols\": [],\n",
      "            \"urls\": [],\n",
      "            \"user_mentions\": []\n",
      "        },\n",
      "        \"extended_entities\": {\n",
      "            \"media\": [\n",
      "                {\n",
      "                    \"additional_media_info\": {\n",
      "                        \"monetizable\": false\n",
      "                    },\n",
      "                    \"display_url\": \"pic.twitter.com/l2t7sVXikX\",\n",
      "                    \"expanded_url\": \"https://twitter.com/xpvine/status/1238003901280006145/video/1\",\n",
      "                    \"id\": 1238002795250429952,\n",
      "                    \"id_str\": \"1238002795250429952\",\n",
      "                    \"indices\": [\n",
      "                        102,\n",
      "                        125\n",
      "                    ],\n",
      "                    \"media_url\": \"http://pbs.twimg.com/ext_tw_video_thumb/1238002795250429952/pu/img/RG4GaxCad5ZnJjsF.jpg\",\n",
      "                    \"media_url_https\": \"https://pbs.twimg.com/ext_tw_video_thumb/1238002795250429952/pu/img/RG4GaxCad5ZnJjsF.jpg\",\n",
      "                    \"sizes\": {\n",
      "                        \"large\": {\n",
      "                            \"h\": 800,\n",
      "                            \"resize\": \"fit\",\n",
      "                            \"w\": 450\n",
      "                        },\n",
      "                        \"medium\": {\n",
      "                            \"h\": 800,\n",
      "                            \"resize\": \"fit\",\n",
      "                            \"w\": 450\n",
      "                        },\n",
      "                        \"small\": {\n",
      "                            \"h\": 680,\n",
      "                            \"resize\": \"fit\",\n",
      "                            \"w\": 383\n",
      "                        },\n",
      "                        \"thumb\": {\n",
      "                            \"h\": 150,\n",
      "                            \"resize\": \"crop\",\n",
      "                            \"w\": 150\n",
      "                        }\n",
      "                    },\n",
      "                    \"source_status_id\": 1238003901280006145,\n",
      "                    \"source_status_id_str\": \"1238003901280006145\",\n",
      "                    \"source_user_id\": 755220054116007936,\n",
      "                    \"source_user_id_str\": \"755220054116007936\",\n",
      "                    \"type\": \"video\",\n",
      "                    \"url\": \"https://t.co/l2t7sVXikX\",\n",
      "                    \"video_info\": {\n",
      "                        \"aspect_ratio\": [\n",
      "                            9,\n",
      "                            16\n",
      "                        ],\n",
      "                        \"duration_millis\": 14760,\n",
      "                        \"variants\": [\n",
      "                            {\n",
      "                                \"bitrate\": 632000,\n",
      "                                \"content_type\": \"video/mp4\",\n",
      "                                \"url\": \"https://video.twimg.com/ext_tw_video/1238002795250429952/pu/vid/320x568/COhEtROnOKOsylF7.mp4?tag=10\"\n",
      "                            },\n",
      "                            {\n",
      "                                \"bitrate\": 832000,\n",
      "                                \"content_type\": \"video/mp4\",\n",
      "                                \"url\": \"https://video.twimg.com/ext_tw_video/1238002795250429952/pu/vid/450x800/pG9CYaQLa8Rr15i1.mp4?tag=10\"\n",
      "                            },\n",
      "                            {\n",
      "                                \"content_type\": \"application/x-mpegURL\",\n",
      "                                \"url\": \"https://video.twimg.com/ext_tw_video/1238002795250429952/pu/pl/RfmmNuC2kJaLsSPG.m3u8?tag=10\"\n",
      "                            }\n",
      "                        ]\n",
      "                    }\n",
      "                }\n",
      "            ]\n",
      "        },\n",
      "        \"favorite_count\": 630,\n",
      "        \"favorited\": false,\n",
      "        \"filter_level\": \"low\",\n",
      "        \"geo\": null,\n",
      "        \"id\": 1238010626989047808,\n",
      "        \"id_str\": \"1238010626989047808\",\n",
      "        \"in_reply_to_screen_name\": null,\n",
      "        \"in_reply_to_status_id\": null,\n",
      "        \"in_reply_to_status_id_str\": null,\n",
      "        \"in_reply_to_user_id\": null,\n",
      "        \"in_reply_to_user_id_str\": null,\n",
      "        \"is_quote_status\": false,\n",
      "        \"lang\": \"pt\",\n",
      "        \"place\": null,\n",
      "        \"possibly_sensitive\": false,\n",
      "        \"quote_count\": 17,\n",
      "        \"reply_count\": 28,\n",
      "        \"retweet_count\": 196,\n",
      "        \"retweeted\": false,\n",
      "        \"source\": \"<a href=\\\"http://twitter.com/download/iphone\\\" rel=\\\"nofollow\\\">Twitter for iPhone</a>\",\n",
      "        \"text\": \"Achou que Daniel ia falar alguma coisa pra se queimar e quem acabou queimado foi ele. Eu berro #BBB20 https://t.co/l2t7sVXikX\",\n",
      "        \"truncated\": false,\n",
      "        \"user\": {\n",
      "            \"contributors_enabled\": false,\n",
      "            \"created_at\": \"Fri Mar 02 08:08:27 +0000 2012\",\n",
      "            \"default_profile\": false,\n",
      "            \"default_profile_image\": false,\n",
      "            \"description\": \"apenas 4 malucos que gostam de reality show. e-mail: vaidesmaiar@gmail.com instagram: @vaidesmaiar\",\n",
      "            \"favourites_count\": 62083,\n",
      "            \"follow_request_sent\": null,\n",
      "            \"followers_count\": 240865,\n",
      "            \"following\": null,\n",
      "            \"friends_count\": 805,\n",
      "            \"geo_enabled\": true,\n",
      "            \"id\": 511577335,\n",
      "            \"id_str\": \"511577335\",\n",
      "            \"is_translator\": false,\n",
      "            \"lang\": null,\n",
      "            \"listed_count\": 727,\n",
      "            \"location\": \"RJ | CE\",\n",
      "            \"name\": \"Vai Desmaiar #BBB20\",\n",
      "            \"notifications\": null,\n",
      "            \"profile_background_color\": \"8B542B\",\n",
      "            \"profile_background_image_url\": \"http://abs.twimg.com/images/themes/theme1/bg.png\",\n",
      "            \"profile_background_image_url_https\": \"https://abs.twimg.com/images/themes/theme1/bg.png\",\n",
      "            \"profile_background_tile\": true,\n",
      "            \"profile_banner_url\": \"https://pbs.twimg.com/profile_banners/511577335/1548710063\",\n",
      "            \"profile_image_url\": \"http://pbs.twimg.com/profile_images/1090001335599157248/o8bib-Mm_normal.jpg\",\n",
      "            \"profile_image_url_https\": \"https://pbs.twimg.com/profile_images/1090001335599157248/o8bib-Mm_normal.jpg\",\n",
      "            \"profile_link_color\": \"9D582E\",\n",
      "            \"profile_sidebar_border_color\": \"FFFFFF\",\n",
      "            \"profile_sidebar_fill_color\": \"DDEEF6\",\n",
      "            \"profile_text_color\": \"333333\",\n",
      "            \"profile_use_background_image\": true,\n",
      "            \"protected\": false,\n",
      "            \"screen_name\": \"vaidesmaiar\",\n",
      "            \"statuses_count\": 409203,\n",
      "            \"time_zone\": null,\n",
      "            \"translator_type\": \"regular\",\n",
      "            \"url\": \"https://www.instagram.com/vaidesmaiar\",\n",
      "            \"utc_offset\": null,\n",
      "            \"verified\": false\n",
      "        }\n",
      "    },\n",
      "    \"source\": \"<a href=\\\"http://twitter.com/download/android\\\" rel=\\\"nofollow\\\">Twitter for Android</a>\",\n",
      "    \"text\": \"RT @vaidesmaiar: Achou que Daniel ia falar alguma coisa pra se queimar e quem acabou queimado foi ele. Eu berro #BBB20 https://t.co/l2t7sVX\\u2026\",\n",
      "    \"timestamp_ms\": \"1584025045771\",\n",
      "    \"truncated\": false,\n",
      "    \"user\": {\n",
      "        \"contributors_enabled\": false,\n",
      "        \"created_at\": \"Mon Jun 27 16:42:52 +0000 2011\",\n",
      "        \"default_profile\": false,\n",
      "        \"default_profile_image\": false,\n",
      "        \"description\": null,\n",
      "        \"favourites_count\": 66532,\n",
      "        \"follow_request_sent\": null,\n",
      "        \"followers_count\": 1610,\n",
      "        \"following\": null,\n",
      "        \"friends_count\": 1400,\n",
      "        \"geo_enabled\": false,\n",
      "        \"id\": 325033787,\n",
      "        \"id_str\": \"325033787\",\n",
      "        \"is_translator\": false,\n",
      "        \"lang\": null,\n",
      "        \"listed_count\": 11,\n",
      "        \"location\": \"Sampa\",\n",
      "        \"name\": \"Li \\ud83c\\udf2c\\ufe0f \\ud83e\\udd43\",\n",
      "        \"notifications\": null,\n",
      "        \"profile_background_color\": \"642D8B\",\n",
      "        \"profile_background_image_url\": \"http://abs.twimg.com/images/themes/theme10/bg.gif\",\n",
      "        \"profile_background_image_url_https\": \"https://abs.twimg.com/images/themes/theme10/bg.gif\",\n",
      "        \"profile_background_tile\": true,\n",
      "        \"profile_banner_url\": \"https://pbs.twimg.com/profile_banners/325033787/1566152174\",\n",
      "        \"profile_image_url\": \"http://pbs.twimg.com/profile_images/1211060573594632194/jJrIiEWm_normal.jpg\",\n",
      "        \"profile_image_url_https\": \"https://pbs.twimg.com/profile_images/1211060573594632194/jJrIiEWm_normal.jpg\",\n",
      "        \"profile_link_color\": \"981CEB\",\n",
      "        \"profile_sidebar_border_color\": \"FFFFFF\",\n",
      "        \"profile_sidebar_fill_color\": \"7AC3EE\",\n",
      "        \"profile_text_color\": \"3D1957\",\n",
      "        \"profile_use_background_image\": true,\n",
      "        \"protected\": false,\n",
      "        \"screen_name\": \"SoueuLih\",\n",
      "        \"statuses_count\": 121761,\n",
      "        \"time_zone\": null,\n",
      "        \"translator_type\": \"none\",\n",
      "        \"url\": null,\n",
      "        \"utc_offset\": null,\n",
      "        \"verified\": false\n",
      "    }\n",
      "}\n"
     ]
    }
   ],
   "source": [
    "import json\n",
    "\n",
    "## Quoted \n",
    "ret_rt = {'created_at': 'Tue Mar 10 00:21:46 +0000 2020', 'id': 1237171755233562624, 'id_str': '1237171755233562624', 'text': 'RT @FeCastanhari: Pyong nem precisou sair do BBB pra começar a educar uma criança', 'source': '<a href=\"http://twitter.com/download/android\" rel=\"nofollow\">Twitter for Android</a>', 'truncated': False, 'in_reply_to_status_id': None, 'in_reply_to_status_id_str': None, 'in_reply_to_user_id': None, 'in_reply_to_user_id_str': None, 'in_reply_to_screen_name': None, 'user': {'id': 922308888317308928, 'id_str': '922308888317308928', 'name': 'Peralta', 'screen_name': 'KCouteiro', 'location': 'Ji-Paraná, Brasil', 'url': None, 'description': '@eliza_s8 👸', 'translator_type': 'none', 'protected': False, 'verified': False, 'followers_count': 264, 'friends_count': 151, 'listed_count': 0, 'favourites_count': 9042, 'statuses_count': 13254, 'created_at': 'Mon Oct 23 03:49:09 +0000 2017', 'utc_offset': None, 'time_zone': None, 'geo_enabled': True, 'lang': None, 'contributors_enabled': False, 'is_translator': False, 'profile_background_color': '000000', 'profile_background_image_url': 'http://abs.twimg.com/images/themes/theme1/bg.png', 'profile_background_image_url_https': 'https://abs.twimg.com/images/themes/theme1/bg.png', 'profile_background_tile': False, 'profile_link_color': '39FF14', 'profile_sidebar_border_color': '000000', 'profile_sidebar_fill_color': '000000', 'profile_text_color': '000000', 'profile_use_background_image': False, 'profile_image_url': 'http://pbs.twimg.com/profile_images/1147953512753577984/B48P-SyQ_normal.jpg', 'profile_image_url_https': 'https://pbs.twimg.com/profile_images/1147953512753577984/B48P-SyQ_normal.jpg', 'profile_banner_url': 'https://pbs.twimg.com/profile_banners/922308888317308928/1581986223', 'default_profile': False, 'default_profile_image': False, 'following': None, 'follow_request_sent': None, 'notifications': None}, 'geo': None, 'coordinates': None, 'place': None, 'contributors': None, 'retweeted_status': {'created_at': 'Mon Mar 09 16:40:58 +0000 2020', 'id': 1237055790948777991, 'id_str': '1237055790948777991', 'text': 'Pyong nem precisou sair do BBB pra começar a educar uma criança', 'source': '<a href=\"http://twitter.com/download/iphone\" rel=\"nofollow\">Twitter for iPhone</a>', 'truncated': False, 'in_reply_to_status_id': None, 'in_reply_to_status_id_str': None, 'in_reply_to_user_id': None, 'in_reply_to_user_id_str': None, 'in_reply_to_screen_name': None, 'user': {'id': 226542162, 'id_str': '226542162', 'name': 'Felipe Castanhari', 'screen_name': 'FeCastanhari', 'location': 'Osasco, SP', 'url': 'http://Instagram.com/fecastanhari', 'description': '30 Anos Diretor e Apresentador / Criador do Canal Nostalgia - Contato: business@canalnostalgia.com.br http://youtube.com/fecastanhari', 'translator_type': 'regular', 'protected': False, 'verified': True, 'followers_count': 6693419, 'friends_count': 1248, 'listed_count': 1693, 'favourites_count': 15496, 'statuses_count': 24482, 'created_at': 'Tue Dec 14 12:39:43 +0000 2010', 'utc_offset': None, 'time_zone': None, 'geo_enabled': True, 'lang': None, 'contributors_enabled': False, 'is_translator': False, 'profile_background_color': '004855', 'profile_background_image_url': 'http://abs.twimg.com/images/themes/theme14/bg.gif', 'profile_background_image_url_https': 'https://abs.twimg.com/images/themes/theme14/bg.gif', 'profile_background_tile': False, 'profile_link_color': 'FF691F', 'profile_sidebar_border_color': '000000', 'profile_sidebar_fill_color': 'DDEEF6', 'profile_text_color': '333333', 'profile_use_background_image': True, 'profile_image_url': 'http://pbs.twimg.com/profile_images/1044170135810924544/BNPdZhsF_normal.jpg', 'profile_image_url_https': 'https://pbs.twimg.com/profile_images/1044170135810924544/BNPdZhsF_normal.jpg', 'profile_banner_url': 'https://pbs.twimg.com/profile_banners/226542162/1532413326', 'default_profile': False, 'default_profile_image': False, 'following': None, 'follow_request_sent': None, 'notifications': None}, 'geo': None, 'coordinates': None, 'place': None, 'contributors': None, 'quoted_status_id': 1236860449888571393, 'quoted_status_id_str': '1236860449888571393', 'quoted_status': {'created_at': 'Mon Mar 09 03:44:45 +0000 2020', 'id': 1236860449888571393, 'id_str': '1236860449888571393', 'text': 'velho. é como ensinar uma criança. eu não consigo acreditar nisso. #bbb20 https://t.co/BsKXtvoqNK', 'display_text_range': [0, 73], 'source': '<a href=\"http://twitter.com/download/iphone\" rel=\"nofollow\">Twitter for iPhone</a>', 'truncated': False, 'in_reply_to_status_id': None, 'in_reply_to_status_id_str': None, 'in_reply_to_user_id': None, 'in_reply_to_user_id_str': None, 'in_reply_to_screen_name': None, 'user': {'id': 2612346372, 'id_str': '2612346372', 'name': '𝕘𝕒𝕓𝕚𝕣𝕠𝕓𝕒', 'screen_name': 'gbmch', 'location': 'sc', 'url': 'http://gabiroba.iluria.com', 'description': 'curso nutrição e faço uns freela de desenho tbm', 'translator_type': 'none', 'protected': False, 'verified': False, 'followers_count': 3168, 'friends_count': 805, 'listed_count': 58, 'favourites_count': 148029, 'statuses_count': 122055, 'created_at': 'Tue Jul 08 21:22:03 +0000 2014', 'utc_offset': None, 'time_zone': None, 'geo_enabled': True, 'lang': None, 'contributors_enabled': False, 'is_translator': False, 'profile_background_color': '000000', 'profile_background_image_url': 'http://abs.twimg.com/images/themes/theme1/bg.png', 'profile_background_image_url_https': 'https://abs.twimg.com/images/themes/theme1/bg.png', 'profile_background_tile': False, 'profile_link_color': 'FAB81E', 'profile_sidebar_border_color': '000000', 'profile_sidebar_fill_color': '000000', 'profile_text_color': '000000', 'profile_use_background_image': False, 'profile_image_url': 'http://pbs.twimg.com/profile_images/1235975365379657729/jx1dJy29_normal.jpg', 'profile_image_url_https': 'https://pbs.twimg.com/profile_images/1235975365379657729/jx1dJy29_normal.jpg', 'profile_banner_url': 'https://pbs.twimg.com/profile_banners/2612346372/1525951706', 'default_profile': False, 'default_profile_image': False, 'following': None, 'follow_request_sent': None, 'notifications': None}, 'geo': None, 'coordinates': None, 'place': None, 'contributors': None, 'is_quote_status': False, 'quote_count': 9580, 'reply_count': 1455, 'retweet_count': 11480, 'favorite_count': 90561, 'entities': {'hashtags': [{'text': 'bbb20', 'indices': [67, 73]}], 'urls': [], 'user_mentions': [], 'symbols': [], 'media': [{'id': 1236860279314616325, 'id_str': '1236860279314616325', 'indices': [74, 97], 'additional_media_info': {'monetizable': False}, 'media_url': 'http://pbs.twimg.com/ext_tw_video_thumb/1236860279314616325/pu/img/Zbp0lFn5U7Sw1vR3.jpg', 'media_url_https': 'https://pbs.twimg.com/ext_tw_video_thumb/1236860279314616325/pu/img/Zbp0lFn5U7Sw1vR3.jpg', 'url': 'https://t.co/BsKXtvoqNK', 'display_url': 'pic.twitter.com/BsKXtvoqNK', 'expanded_url': 'https://twitter.com/gbmch/status/1236860449888571393/video/1', 'type': 'photo', 'sizes': {'thumb': {'w': 150, 'h': 150, 'resize': 'crop'}, 'medium': {'w': 1200, 'h': 675, 'resize': 'fit'}, 'small': {'w': 680, 'h': 383, 'resize': 'fit'}, 'large': {'w': 1280, 'h': 720, 'resize': 'fit'}}}]}, 'extended_entities': {'media': [{'id': 1236860279314616325, 'id_str': '1236860279314616325', 'indices': [74, 97], 'additional_media_info': {'monetizable': False}, 'media_url': 'http://pbs.twimg.com/ext_tw_video_thumb/1236860279314616325/pu/img/Zbp0lFn5U7Sw1vR3.jpg', 'media_url_https': 'https://pbs.twimg.com/ext_tw_video_thumb/1236860279314616325/pu/img/Zbp0lFn5U7Sw1vR3.jpg', 'url': 'https://t.co/BsKXtvoqNK', 'display_url': 'pic.twitter.com/BsKXtvoqNK', 'expanded_url': 'https://twitter.com/gbmch/status/1236860449888571393/video/1', 'type': 'video', 'video_info': {'aspect_ratio': [16, 9], 'duration_millis': 25503, 'variants': [{'bitrate': 2176000, 'content_type': 'video/mp4', 'url': 'https://video.twimg.com/ext_tw_video/1236860279314616325/pu/vid/1280x720/RiiNXiPoUKhY14Rj.mp4?tag=10'}, {'bitrate': 832000, 'content_type': 'video/mp4', 'url': 'https://video.twimg.com/ext_tw_video/1236860279314616325/pu/vid/640x360/Db76wrRJjjH0ZXHQ.mp4?tag=10'}, {'bitrate': 256000, 'content_type': 'video/mp4', 'url': 'https://video.twimg.com/ext_tw_video/1236860279314616325/pu/vid/480x270/faQhRgEyh5AlkcIB.mp4?tag=10'}, {'content_type': 'application/x-mpegURL', 'url': 'https://video.twimg.com/ext_tw_video/1236860279314616325/pu/pl/E8pcaGlfOQskaMXN.m3u8?tag=10'}]}, 'sizes': {'thumb': {'w': 150, 'h': 150, 'resize': 'crop'}, 'medium': {'w': 1200, 'h': 675, 'resize': 'fit'}, 'small': {'w': 680, 'h': 383, 'resize': 'fit'}, 'large': {'w': 1280, 'h': 720, 'resize': 'fit'}}}]}, 'favorited': False, 'retweeted': False, 'possibly_sensitive': False, 'filter_level': 'low', 'lang': 'pt'}, 'quoted_status_permalink': {'url': 'https://t.co/uWad2Ky83q', 'expanded': 'https://twitter.com/gbmch/status/1236860449888571393', 'display': 'twitter.com/gbmch/status/1…'}, 'is_quote_status': True, 'quote_count': 673, 'reply_count': 923, 'retweet_count': 18528, 'favorite_count': 125976, 'entities': {'hashtags': [], 'urls': [], 'user_mentions': [], 'symbols': []}, 'favorited': False, 'retweeted': False, 'filter_level': 'low', 'lang': 'pt'}, 'quoted_status_id': 1236860449888571393, 'quoted_status_id_str': '1236860449888571393', 'quoted_status': {'created_at': 'Mon Mar 09 03:44:45 +0000 2020', 'id': 1236860449888571393, 'id_str': '1236860449888571393', 'text': 'velho. é como ensinar uma criança. eu não consigo acreditar nisso. #bbb20 https://t.co/BsKXtvoqNK', 'display_text_range': [0, 73], 'source': '<a href=\"http://twitter.com/download/iphone\" rel=\"nofollow\">Twitter for iPhone</a>', 'truncated': False, 'in_reply_to_status_id': None, 'in_reply_to_status_id_str': None, 'in_reply_to_user_id': None, 'in_reply_to_user_id_str': None, 'in_reply_to_screen_name': None, 'user': {'id': 2612346372, 'id_str': '2612346372', 'name': '𝕘𝕒𝕓𝕚𝕣𝕠𝕓𝕒', 'screen_name': 'gbmch', 'location': 'sc', 'url': 'http://gabiroba.iluria.com', 'description': 'curso nutrição e faço uns freela de desenho tbm', 'translator_type': 'none', 'protected': False, 'verified': False, 'followers_count': 3168, 'friends_count': 805, 'listed_count': 58, 'favourites_count': 148029, 'statuses_count': 122055, 'created_at': 'Tue Jul 08 21:22:03 +0000 2014', 'utc_offset': None, 'time_zone': None, 'geo_enabled': True, 'lang': None, 'contributors_enabled': False, 'is_translator': False, 'profile_background_color': '000000', 'profile_background_image_url': 'http://abs.twimg.com/images/themes/theme1/bg.png', 'profile_background_image_url_https': 'https://abs.twimg.com/images/themes/theme1/bg.png', 'profile_background_tile': False, 'profile_link_color': 'FAB81E', 'profile_sidebar_border_color': '000000', 'profile_sidebar_fill_color': '000000', 'profile_text_color': '000000', 'profile_use_background_image': False, 'profile_image_url': 'http://pbs.twimg.com/profile_images/1235975365379657729/jx1dJy29_normal.jpg', 'profile_image_url_https': 'https://pbs.twimg.com/profile_images/1235975365379657729/jx1dJy29_normal.jpg', 'profile_banner_url': 'https://pbs.twimg.com/profile_banners/2612346372/1525951706', 'default_profile': False, 'default_profile_image': False, 'following': None, 'follow_request_sent': None, 'notifications': None}, 'geo': None, 'coordinates': None, 'place': None, 'contributors': None, 'is_quote_status': False, 'quote_count': 9580, 'reply_count': 1455, 'retweet_count': 11480, 'favorite_count': 90561, 'entities': {'hashtags': [{'text': 'bbb20', 'indices': [67, 73]}], 'urls': [], 'user_mentions': [], 'symbols': [], 'media': [{'id': 1236860279314616325, 'id_str': '1236860279314616325', 'indices': [74, 97], 'additional_media_info': {'monetizable': False}, 'media_url': 'http://pbs.twimg.com/ext_tw_video_thumb/1236860279314616325/pu/img/Zbp0lFn5U7Sw1vR3.jpg', 'media_url_https': 'https://pbs.twimg.com/ext_tw_video_thumb/1236860279314616325/pu/img/Zbp0lFn5U7Sw1vR3.jpg', 'url': 'https://t.co/BsKXtvoqNK', 'display_url': 'pic.twitter.com/BsKXtvoqNK', 'expanded_url': 'https://twitter.com/gbmch/status/1236860449888571393/video/1', 'type': 'photo', 'sizes': {'thumb': {'w': 150, 'h': 150, 'resize': 'crop'}, 'medium': {'w': 1200, 'h': 675, 'resize': 'fit'}, 'small': {'w': 680, 'h': 383, 'resize': 'fit'}, 'large': {'w': 1280, 'h': 720, 'resize': 'fit'}}}]}, 'extended_entities': {'media': [{'id': 1236860279314616325, 'id_str': '1236860279314616325', 'indices': [74, 97], 'additional_media_info': {'monetizable': False}, 'media_url': 'http://pbs.twimg.com/ext_tw_video_thumb/1236860279314616325/pu/img/Zbp0lFn5U7Sw1vR3.jpg', 'media_url_https': 'https://pbs.twimg.com/ext_tw_video_thumb/1236860279314616325/pu/img/Zbp0lFn5U7Sw1vR3.jpg', 'url': 'https://t.co/BsKXtvoqNK', 'display_url': 'pic.twitter.com/BsKXtvoqNK', 'expanded_url': 'https://twitter.com/gbmch/status/1236860449888571393/video/1', 'type': 'video', 'video_info': {'aspect_ratio': [16, 9], 'duration_millis': 25503, 'variants': [{'bitrate': 2176000, 'content_type': 'video/mp4', 'url': 'https://video.twimg.com/ext_tw_video/1236860279314616325/pu/vid/1280x720/RiiNXiPoUKhY14Rj.mp4?tag=10'}, {'bitrate': 832000, 'content_type': 'video/mp4', 'url': 'https://video.twimg.com/ext_tw_video/1236860279314616325/pu/vid/640x360/Db76wrRJjjH0ZXHQ.mp4?tag=10'}, {'bitrate': 256000, 'content_type': 'video/mp4', 'url': 'https://video.twimg.com/ext_tw_video/1236860279314616325/pu/vid/480x270/faQhRgEyh5AlkcIB.mp4?tag=10'}, {'content_type': 'application/x-mpegURL', 'url': 'https://video.twimg.com/ext_tw_video/1236860279314616325/pu/pl/E8pcaGlfOQskaMXN.m3u8?tag=10'}]}, 'sizes': {'thumb': {'w': 150, 'h': 150, 'resize': 'crop'}, 'medium': {'w': 1200, 'h': 675, 'resize': 'fit'}, 'small': {'w': 680, 'h': 383, 'resize': 'fit'}, 'large': {'w': 1280, 'h': 720, 'resize': 'fit'}}}]}, 'favorited': False, 'retweeted': False, 'possibly_sensitive': False, 'filter_level': 'low', 'lang': 'pt'}, 'quoted_status_permalink': {'url': 'https://t.co/uWad2Ky83q', 'expanded': 'https://twitter.com/gbmch/status/1236860449888571393', 'display': 'twitter.com/gbmch/status/1…'}, 'is_quote_status': True, 'quote_count': 0, 'reply_count': 0, 'retweet_count': 0, 'favorite_count': 0, 'entities': {'hashtags': [], 'urls': [], 'user_mentions': [{'screen_name': 'FeCastanhari', 'name': 'Felipe Castanhari', 'id': 226542162, 'id_str': '226542162', 'indices': [3, 16]}], 'symbols': []}, 'favorited': False, 'retweeted': False, 'filter_level': 'low', 'lang': 'pt', 'timestamp_ms': '1583799706644'}\n",
    "reply_tweet = {'created_at': 'Thu Mar 12 14:57:25 +0000 2020', 'id': 1238116896035278848, 'id_str': '1238116896035278848', 'text': 'RT @vaidesmaiar: Achou que Daniel ia falar alguma coisa pra se queimar e quem acabou queimado foi ele. Eu berro #BBB20 https://t.co/l2t7sVX…', 'source': '<a href=\"http://twitter.com/download/android\" rel=\"nofollow\">Twitter for Android</a>', 'truncated': False, 'in_reply_to_status_id': None, 'in_reply_to_status_id_str': None, 'in_reply_to_user_id': None, 'in_reply_to_user_id_str': None, 'in_reply_to_screen_name': None, 'user': {'id': 325033787, 'id_str': '325033787', 'name': 'Li 🌬️ 🥃', 'screen_name': 'SoueuLih', 'location': 'Sampa', 'url': None, 'description': None, 'translator_type': 'none', 'protected': False, 'verified': False, 'followers_count': 1610, 'friends_count': 1400, 'listed_count': 11, 'favourites_count': 66532, 'statuses_count': 121761, 'created_at': 'Mon Jun 27 16:42:52 +0000 2011', 'utc_offset': None, 'time_zone': None, 'geo_enabled': False, 'lang': None, 'contributors_enabled': False, 'is_translator': False, 'profile_background_color': '642D8B', 'profile_background_image_url': 'http://abs.twimg.com/images/themes/theme10/bg.gif', 'profile_background_image_url_https': 'https://abs.twimg.com/images/themes/theme10/bg.gif', 'profile_background_tile': True, 'profile_link_color': '981CEB', 'profile_sidebar_border_color': 'FFFFFF', 'profile_sidebar_fill_color': '7AC3EE', 'profile_text_color': '3D1957', 'profile_use_background_image': True, 'profile_image_url': 'http://pbs.twimg.com/profile_images/1211060573594632194/jJrIiEWm_normal.jpg', 'profile_image_url_https': 'https://pbs.twimg.com/profile_images/1211060573594632194/jJrIiEWm_normal.jpg', 'profile_banner_url': 'https://pbs.twimg.com/profile_banners/325033787/1566152174', 'default_profile': False, 'default_profile_image': False, 'following': None, 'follow_request_sent': None, 'notifications': None}, 'geo': None, 'coordinates': None, 'place': None, 'contributors': None, 'retweeted_status': {'created_at': 'Thu Mar 12 07:55:09 +0000 2020', 'id': 1238010626989047808, 'id_str': '1238010626989047808', 'text': 'Achou que Daniel ia falar alguma coisa pra se queimar e quem acabou queimado foi ele. Eu berro #BBB20 https://t.co/l2t7sVXikX', 'source': '<a href=\"http://twitter.com/download/iphone\" rel=\"nofollow\">Twitter for iPhone</a>', 'truncated': False, 'in_reply_to_status_id': None, 'in_reply_to_status_id_str': None, 'in_reply_to_user_id': None, 'in_reply_to_user_id_str': None, 'in_reply_to_screen_name': None, 'user': {'id': 511577335, 'id_str': '511577335', 'name': 'Vai Desmaiar #BBB20', 'screen_name': 'vaidesmaiar', 'location': 'RJ | CE', 'url': 'https://www.instagram.com/vaidesmaiar', 'description': 'apenas 4 malucos que gostam de reality show. e-mail: vaidesmaiar@gmail.com instagram: @vaidesmaiar', 'translator_type': 'regular', 'protected': False, 'verified': False, 'followers_count': 240865, 'friends_count': 805, 'listed_count': 727, 'favourites_count': 62083, 'statuses_count': 409203, 'created_at': 'Fri Mar 02 08:08:27 +0000 2012', 'utc_offset': None, 'time_zone': None, 'geo_enabled': True, 'lang': None, 'contributors_enabled': False, 'is_translator': False, 'profile_background_color': '8B542B', 'profile_background_image_url': 'http://abs.twimg.com/images/themes/theme1/bg.png', 'profile_background_image_url_https': 'https://abs.twimg.com/images/themes/theme1/bg.png', 'profile_background_tile': True, 'profile_link_color': '9D582E', 'profile_sidebar_border_color': 'FFFFFF', 'profile_sidebar_fill_color': 'DDEEF6', 'profile_text_color': '333333', 'profile_use_background_image': True, 'profile_image_url': 'http://pbs.twimg.com/profile_images/1090001335599157248/o8bib-Mm_normal.jpg', 'profile_image_url_https': 'https://pbs.twimg.com/profile_images/1090001335599157248/o8bib-Mm_normal.jpg', 'profile_banner_url': 'https://pbs.twimg.com/profile_banners/511577335/1548710063', 'default_profile': False, 'default_profile_image': False, 'following': None, 'follow_request_sent': None, 'notifications': None}, 'geo': None, 'coordinates': None, 'place': None, 'contributors': None, 'is_quote_status': False, 'quote_count': 17, 'reply_count': 28, 'retweet_count': 196, 'favorite_count': 630, 'entities': {'hashtags': [{'text': 'BBB20', 'indices': [95, 101]}], 'urls': [], 'user_mentions': [], 'symbols': [], 'media': [{'id': 1238002795250429952, 'id_str': '1238002795250429952', 'indices': [102, 125], 'additional_media_info': {'monetizable': False}, 'media_url': 'http://pbs.twimg.com/ext_tw_video_thumb/1238002795250429952/pu/img/RG4GaxCad5ZnJjsF.jpg', 'media_url_https': 'https://pbs.twimg.com/ext_tw_video_thumb/1238002795250429952/pu/img/RG4GaxCad5ZnJjsF.jpg', 'url': 'https://t.co/l2t7sVXikX', 'display_url': 'pic.twitter.com/l2t7sVXikX', 'expanded_url': 'https://twitter.com/xpvine/status/1238003901280006145/video/1', 'type': 'photo', 'sizes': {'thumb': {'w': 150, 'h': 150, 'resize': 'crop'}, 'small': {'w': 383, 'h': 680, 'resize': 'fit'}, 'large': {'w': 450, 'h': 800, 'resize': 'fit'}, 'medium': {'w': 450, 'h': 800, 'resize': 'fit'}}, 'source_status_id': 1238003901280006145, 'source_status_id_str': '1238003901280006145', 'source_user_id': 755220054116007936, 'source_user_id_str': '755220054116007936'}]}, 'extended_entities': {'media': [{'id': 1238002795250429952, 'id_str': '1238002795250429952', 'indices': [102, 125], 'additional_media_info': {'monetizable': False}, 'media_url': 'http://pbs.twimg.com/ext_tw_video_thumb/1238002795250429952/pu/img/RG4GaxCad5ZnJjsF.jpg', 'media_url_https': 'https://pbs.twimg.com/ext_tw_video_thumb/1238002795250429952/pu/img/RG4GaxCad5ZnJjsF.jpg', 'url': 'https://t.co/l2t7sVXikX', 'display_url': 'pic.twitter.com/l2t7sVXikX', 'expanded_url': 'https://twitter.com/xpvine/status/1238003901280006145/video/1', 'type': 'video', 'video_info': {'aspect_ratio': [9, 16], 'duration_millis': 14760, 'variants': [{'bitrate': 632000, 'content_type': 'video/mp4', 'url': 'https://video.twimg.com/ext_tw_video/1238002795250429952/pu/vid/320x568/COhEtROnOKOsylF7.mp4?tag=10'}, {'bitrate': 832000, 'content_type': 'video/mp4', 'url': 'https://video.twimg.com/ext_tw_video/1238002795250429952/pu/vid/450x800/pG9CYaQLa8Rr15i1.mp4?tag=10'}, {'content_type': 'application/x-mpegURL', 'url': 'https://video.twimg.com/ext_tw_video/1238002795250429952/pu/pl/RfmmNuC2kJaLsSPG.m3u8?tag=10'}]}, 'sizes': {'thumb': {'w': 150, 'h': 150, 'resize': 'crop'}, 'small': {'w': 383, 'h': 680, 'resize': 'fit'}, 'large': {'w': 450, 'h': 800, 'resize': 'fit'}, 'medium': {'w': 450, 'h': 800, 'resize': 'fit'}}, 'source_status_id': 1238003901280006145, 'source_status_id_str': '1238003901280006145', 'source_user_id': 755220054116007936, 'source_user_id_str': '755220054116007936'}]}, 'favorited': False, 'retweeted': False, 'possibly_sensitive': False, 'filter_level': 'low', 'lang': 'pt'}, 'is_quote_status': False, 'quote_count': 0, 'reply_count': 0, 'retweet_count': 0, 'favorite_count': 0, 'entities': {'hashtags': [{'text': 'BBB20', 'indices': [112, 118]}], 'urls': [], 'user_mentions': [{'screen_name': 'vaidesmaiar', 'name': 'Vai Desmaiar #BBB20', 'id': 511577335, 'id_str': '511577335', 'indices': [3, 15]}], 'symbols': []}, 'favorited': False, 'retweeted': False, 'filter_level': 'low', 'lang': 'pt', 'timestamp_ms': '1584025045771'}\n",
    "new_test = {'created_at': 'Thu Mar 12 17:25:27 +0000 2020', 'id': 1238154147175768066, 'id_str': '1238154147175768066', 'text': 'o daniel parece eu quando criança implorando a minha mãe pra ela deixar eu ir p rua', 'source': '<a href=\"http://twitter.com/download/iphone\" rel=\"nofollow\">Twitter for iPhone</a>', 'truncated': False, 'in_reply_to_status_id': None, 'in_reply_to_status_id_str': None, 'in_reply_to_user_id': None, 'in_reply_to_user_id_str': None, 'in_reply_to_screen_name': None, 'user': {'id': 707391592148107264, 'id_str': '707391592148107264', 'name': 'duarda', 'screen_name': 'dudabonif', 'location': None, 'url': 'https://curiouscat.me/dudabonif', 'description': 'https://www.instagram.com/duda.bonif/', 'translator_type': 'none', 'protected': False, 'verified': False, 'followers_count': 2187, 'friends_count': 1087, 'listed_count': 4, 'favourites_count': 75464, 'statuses_count': 32450, 'created_at': 'Wed Mar 09 02:24:33 +0000 2016', 'utc_offset': None, 'time_zone': None, 'geo_enabled': True, 'lang': None, 'contributors_enabled': False, 'is_translator': False, 'profile_background_color': 'F5F8FA', 'profile_background_image_url': '', 'profile_background_image_url_https': '', 'profile_background_tile': False, 'profile_link_color': '1DA1F2', 'profile_sidebar_border_color': 'C0DEED', 'profile_sidebar_fill_color': 'DDEEF6', 'profile_text_color': '333333', 'profile_use_background_image': True, 'profile_image_url': 'http://pbs.twimg.com/profile_images/1237757452453642241/1KQUuZIU_normal.jpg', 'profile_image_url_https': 'https://pbs.twimg.com/profile_images/1237757452453642241/1KQUuZIU_normal.jpg', 'profile_banner_url': 'https://pbs.twimg.com/profile_banners/707391592148107264/1581620474', 'default_profile': True, 'default_profile_image': False, 'following': None, 'follow_request_sent': None, 'notifications': None}, 'geo': None, 'coordinates': None, 'place': None, 'contributors': None, 'quoted_status_id': 1237982216304689152, 'quoted_status_id_str': '1237982216304689152', 'quoted_status': {'created_at': 'Thu Mar 12 06:02:15 +0000 2020', 'id': 1237982216304689152, 'id_str': '1237982216304689152', 'text': 'QUANTO ORGULHO DE VOCÊ, FELIPE! #BBB20 \\nhttps://t.co/CsWXz2AF65', 'source': '<a href=\"http://twitter.com/download/iphone\" rel=\"nofollow\">Twitter for iPhone</a>', 'truncated': False, 'in_reply_to_status_id': None, 'in_reply_to_status_id_str': None, 'in_reply_to_user_id': None, 'in_reply_to_user_id_str': None, 'in_reply_to_screen_name': None, 'user': {'id': 3302025423, 'id_str': '3302025423', 'name': 'Portal Felipe Prior 🍺', 'screen_name': 'portalprior', 'location': 'Cervejinhas', 'url': 'https://www.instagram.com/portalprioroficial', 'description': 'Portal oficial de informações e mutirões do Felipe Prior, participante do BBB20 | Perfil Oficial: @felipeprior', 'translator_type': 'none', 'protected': False, 'verified': False, 'followers_count': 36030, 'friends_count': 1354, 'listed_count': 20, 'favourites_count': 8903, 'statuses_count': 4683, 'created_at': 'Thu May 28 19:29:25 +0000 2015', 'utc_offset': None, 'time_zone': None, 'geo_enabled': False, 'lang': None, 'contributors_enabled': False, 'is_translator': False, 'profile_background_color': 'C0DEED', 'profile_background_image_url': 'http://abs.twimg.com/images/themes/theme1/bg.png', 'profile_background_image_url_https': 'https://abs.twimg.com/images/themes/theme1/bg.png', 'profile_background_tile': True, 'profile_link_color': '0084B4', 'profile_sidebar_border_color': '000000', 'profile_sidebar_fill_color': '000000', 'profile_text_color': '000000', 'profile_use_background_image': True, 'profile_image_url': 'http://pbs.twimg.com/profile_images/1234142137085722625/hEPR5ku9_normal.jpg', 'profile_image_url_https': 'https://pbs.twimg.com/profile_images/1234142137085722625/hEPR5ku9_normal.jpg', 'profile_banner_url': 'https://pbs.twimg.com/profile_banners/3302025423/1583077367', 'default_profile': False, 'default_profile_image': False, 'following': None, 'follow_request_sent': None, 'notifications': None}, 'geo': None, 'coordinates': None, 'place': None, 'contributors': None, 'is_quote_status': False, 'quote_count': 1039, 'reply_count': 445, 'retweet_count': 2145, 'favorite_count': 17030, 'entities': {'hashtags': [{'text': 'BBB20', 'indices': [32, 38]}], 'urls': [], 'user_mentions': [], 'symbols': [], 'media': [{'id': 1237981111097180160, 'id_str': '1237981111097180160', 'indices': [40, 63], 'additional_media_info': {'monetizable': False}, 'media_url': 'http://pbs.twimg.com/ext_tw_video_thumb/1237981111097180160/pu/img/LjitAo1lmOLli1v2.jpg', 'media_url_https': 'https://pbs.twimg.com/ext_tw_video_thumb/1237981111097180160/pu/img/LjitAo1lmOLli1v2.jpg', 'url': 'https://t.co/CsWXz2AF65', 'display_url': 'pic.twitter.com/CsWXz2AF65', 'expanded_url': 'https://twitter.com/FelipeGuima6/status/1237981315548536832/video/1', 'type': 'photo', 'sizes': {'thumb': {'w': 150, 'h': 150, 'resize': 'crop'}, 'large': {'w': 1278, 'h': 720, 'resize': 'fit'}, 'medium': {'w': 1200, 'h': 676, 'resize': 'fit'}, 'small': {'w': 680, 'h': 383, 'resize': 'fit'}}, 'source_status_id': 1237981315548536832, 'source_status_id_str': '1237981315548536832', 'source_user_id': 1228350486190940165, 'source_user_id_str': '1228350486190940165'}]}, 'extended_entities': {'media': [{'id': 1237981111097180160, 'id_str': '1237981111097180160', 'indices': [40, 63], 'additional_media_info': {'monetizable': False}, 'media_url': 'http://pbs.twimg.com/ext_tw_video_thumb/1237981111097180160/pu/img/LjitAo1lmOLli1v2.jpg', 'media_url_https': 'https://pbs.twimg.com/ext_tw_video_thumb/1237981111097180160/pu/img/LjitAo1lmOLli1v2.jpg', 'url': 'https://t.co/CsWXz2AF65', 'display_url': 'pic.twitter.com/CsWXz2AF65', 'expanded_url': 'https://twitter.com/FelipeGuima6/status/1237981315548536832/video/1', 'type': 'video', 'video_info': {'aspect_ratio': [71, 40], 'duration_millis': 97034, 'variants': [{'content_type': 'application/x-mpegURL', 'url': 'https://video.twimg.com/ext_tw_video/1237981111097180160/pu/pl/71PPwPY8lN_nNWMC.m3u8?tag=10'}, {'bitrate': 2176000, 'content_type': 'video/mp4', 'url': 'https://video.twimg.com/ext_tw_video/1237981111097180160/pu/vid/1278x720/1XpfRPurawaFgE6i.mp4?tag=10'}, {'bitrate': 256000, 'content_type': 'video/mp4', 'url': 'https://video.twimg.com/ext_tw_video/1237981111097180160/pu/vid/478x270/Zu7FBOqYnzG-_x4C.mp4?tag=10'}, {'bitrate': 832000, 'content_type': 'video/mp4', 'url': 'https://video.twimg.com/ext_tw_video/1237981111097180160/pu/vid/638x360/ndy5aNm6zdmcDEJa.mp4?tag=10'}]}, 'sizes': {'thumb': {'w': 150, 'h': 150, 'resize': 'crop'}, 'large': {'w': 1278, 'h': 720, 'resize': 'fit'}, 'medium': {'w': 1200, 'h': 676, 'resize': 'fit'}, 'small': {'w': 680, 'h': 383, 'resize': 'fit'}}, 'source_status_id': 1237981315548536832, 'source_status_id_str': '1237981315548536832', 'source_user_id': 1228350486190940165, 'source_user_id_str': '1228350486190940165'}]}, 'favorited': False, 'retweeted': False, 'possibly_sensitive': False, 'filter_level': 'low', 'lang': 'pt'}, 'quoted_status_permalink': {'url': 'https://t.co/2cfqkjm7nz', 'expanded': 'https://twitter.com/portalprior/status/1237982216304689152', 'display': 'twitter.com/portalprior/st…'}, 'is_quote_status': True, 'quote_count': 0, 'reply_count': 0, 'retweet_count': 0, 'favorite_count': 0, 'entities': {'hashtags': [], 'urls': [], 'user_mentions': [], 'symbols': []}, 'favorited': False, 'retweeted': False, 'filter_level': 'low', 'lang': 'pt', 'timestamp_ms': '1584033927135'}\n",
    "\n",
    "print(json.dumps(reply_tweet['extended_t, indent=4, sort_keys=True))"
   ]
  },
  {
   "cell_type": "code",
   "execution_count": 58,
   "metadata": {
    "scrolled": false
   },
   "outputs": [
    {
     "name": "stdout",
     "output_type": "stream",
     "text": [
      "\"SheIsCapitu\"\n"
     ]
    }
   ],
   "source": [
    "retweeted_example = {'created_at': 'Sun Mar 08 15:04:48 +0000 2020', 'id': 1236669199910604802, 'id_str': '1236669199910604802', 'text': 'RT @SheIsCapitu: Gizelly: Você (Pyong) vai ficar de papo com o seu arqui rival?\\nPrior: Claro, você acha que o Neymar, Messi e Cristiano Ron…', 'source': '<a href=\"http://twitter.com/download/android\" rel=\"nofollow\">Twitter for Android</a>', 'truncated': False, 'in_reply_to_status_id': None, 'in_reply_to_status_id_str': None, 'in_reply_to_user_id': None, 'in_reply_to_user_id_str': None, 'in_reply_to_screen_name': None, 'user': {'id': 782241799045808128, 'id_str': '782241799045808128', 'name': 'soso', 'screen_name': 'vaiorarimundaa', 'location': 'São Paulo, Brasil', 'url': None, 'description': '🤰', 'translator_type': 'none', 'protected': False, 'verified': False, 'followers_count': 52, 'friends_count': 250, 'listed_count': 0, 'favourites_count': 7555, 'statuses_count': 1867, 'created_at': 'Sat Oct 01 15:32:33 +0000 2016', 'utc_offset': None, 'time_zone': None, 'geo_enabled': False, 'lang': None, 'contributors_enabled': False, 'is_translator': False, 'profile_background_color': 'F5F8FA', 'profile_background_image_url': '', 'profile_background_image_url_https': '', 'profile_background_tile': False, 'profile_link_color': '1DA1F2', 'profile_sidebar_border_color': 'C0DEED', 'profile_sidebar_fill_color': 'DDEEF6', 'profile_text_color': '333333', 'profile_use_background_image': True, 'profile_image_url': 'http://pbs.twimg.com/profile_images/1212044492905291776/grblpIN0_normal.jpg', 'profile_image_url_https': 'https://pbs.twimg.com/profile_images/1212044492905291776/grblpIN0_normal.jpg', 'profile_banner_url': 'https://pbs.twimg.com/profile_banners/782241799045808128/1577808960', 'default_profile': True, 'default_profile_image': False, 'following': None, 'follow_request_sent': None, 'notifications': None}, 'geo': None, 'coordinates': None, 'place': None, 'contributors': None, 'retweeted_status': {'created_at': 'Thu Mar 05 06:38:20 +0000 2020', 'id': 1235454579699060737, 'id_str': '1235454579699060737', 'text': 'Gizelly: Você (Pyong) vai ficar de papo com o seu arqui rival?\\nPrior: Claro, você acha que o Neymar, Messi e Cristi… https://t.co/FMXAbSltOv', 'display_text_range': [0, 140], 'source': '<a href=\"https://mobile.twitter.com\" rel=\"nofollow\">Twitter Web App</a>', 'truncated': True, 'in_reply_to_status_id': None, 'in_reply_to_status_id_str': None, 'in_reply_to_user_id': None, 'in_reply_to_user_id_str': None, 'in_reply_to_screen_name': None, 'user': {'id': 132700773, 'id_str': '132700773', 'name': 'Comentarista Oficial #BBB20 🌪', 'screen_name': 'SheIsCapitu', 'location': 'Rio de janeiro', 'url': None, 'description': \"She wasn't put on this Earth to be ordinary\", 'translator_type': 'none', 'protected': False, 'verified': False, 'followers_count': 449, 'friends_count': 223, 'listed_count': 2, 'favourites_count': 11205, 'statuses_count': 11919, 'created_at': 'Tue Apr 13 23:37:05 +0000 2010', 'utc_offset': None, 'time_zone': None, 'geo_enabled': True, 'lang': None, 'contributors_enabled': False, 'is_translator': False, 'profile_background_color': '89C9FA', 'profile_background_image_url': 'http://abs.twimg.com/images/themes/theme18/bg.gif', 'profile_background_image_url_https': 'https://abs.twimg.com/images/themes/theme18/bg.gif', 'profile_background_tile': False, 'profile_link_color': 'F5ABB5', 'profile_sidebar_border_color': '000000', 'profile_sidebar_fill_color': '000000', 'profile_text_color': '000000', 'profile_use_background_image': True, 'profile_image_url': 'http://pbs.twimg.com/profile_images/1235113647283802113/hzuB5xMZ_normal.jpg', 'profile_image_url_https': 'https://pbs.twimg.com/profile_images/1235113647283802113/hzuB5xMZ_normal.jpg', 'profile_banner_url': 'https://pbs.twimg.com/profile_banners/132700773/1579845477', 'default_profile': False, 'default_profile_image': False, 'following': None, 'follow_request_sent': None, 'notifications': None}, 'geo': None, 'coordinates': None, 'place': None, 'contributors': None, 'is_quote_status': False, 'extended_tweet': {'full_text': 'Gizelly: Você (Pyong) vai ficar de papo com o seu arqui rival?\\nPrior: Claro, você acha que o Neymar, Messi e Cristiano Ronaldo não conversam?\\nGizelly: Ah então eu sou o Cristiano Araújo\\n\\nGIZEEEEEELLY PORRAAAAA KKKKKKKKKKKKKKK\\n#festabbb #BBB20 https://t.co/4Fjd7CJ0DF', 'display_text_range': [0, 242], 'entities': {'hashtags': [{'text': 'festabbb', 'indices': [226, 235]}, {'text': 'BBB20', 'indices': [236, 242]}], 'urls': [], 'user_mentions': [], 'symbols': [], 'media': [{'id': 1235454570635157505, 'id_str': '1235454570635157505', 'indices': [243, 266], 'media_url': 'http://pbs.twimg.com/tweet_video_thumb/ESU3YuLXYAEBztD.jpg', 'media_url_https': 'https://pbs.twimg.com/tweet_video_thumb/ESU3YuLXYAEBztD.jpg', 'url': 'https://t.co/4Fjd7CJ0DF', 'display_url': 'pic.twitter.com/4Fjd7CJ0DF', 'expanded_url': 'https://twitter.com/SheIsCapitu/status/1235454579699060737/photo/1', 'type': 'animated_gif', 'video_info': {'aspect_ratio': [249, 139], 'variants': [{'bitrate': 0, 'content_type': 'video/mp4', 'url': 'https://video.twimg.com/tweet_video/ESU3YuLXYAEBztD.mp4'}]}, 'sizes': {'thumb': {'w': 150, 'h': 150, 'resize': 'crop'}, 'large': {'w': 498, 'h': 278, 'resize': 'fit'}, 'small': {'w': 498, 'h': 278, 'resize': 'fit'}, 'medium': {'w': 498, 'h': 278, 'resize': 'fit'}}}]}, 'extended_entities': {'media': [{'id': 1235454570635157505, 'id_str': '1235454570635157505', 'indices': [243, 266], 'media_url': 'http://pbs.twimg.com/tweet_video_thumb/ESU3YuLXYAEBztD.jpg', 'media_url_https': 'https://pbs.twimg.com/tweet_video_thumb/ESU3YuLXYAEBztD.jpg', 'url': 'https://t.co/4Fjd7CJ0DF', 'display_url': 'pic.twitter.com/4Fjd7CJ0DF', 'expanded_url': 'https://twitter.com/SheIsCapitu/status/1235454579699060737/photo/1', 'type': 'animated_gif', 'video_info': {'aspect_ratio': [249, 139], 'variants': [{'bitrate': 0, 'content_type': 'video/mp4', 'url': 'https://video.twimg.com/tweet_video/ESU3YuLXYAEBztD.mp4'}]}, 'sizes': {'thumb': {'w': 150, 'h': 150, 'resize': 'crop'}, 'large': {'w': 498, 'h': 278, 'resize': 'fit'}, 'small': {'w': 498, 'h': 278, 'resize': 'fit'}, 'medium': {'w': 498, 'h': 278, 'resize': 'fit'}}}]}}, 'quote_count': 16, 'reply_count': 10, 'retweet_count': 186, 'favorite_count': 1520, 'entities': {'hashtags': [], 'urls': [{'url': 'https://t.co/FMXAbSltOv', 'expanded_url': 'https://twitter.com/i/web/status/1235454579699060737', 'display_url': 'twitter.com/i/web/status/1…', 'indices': [117, 140]}], 'user_mentions': [], 'symbols': []}, 'favorited': False, 'retweeted': False, 'possibly_sensitive': False, 'filter_level': 'low', 'lang': 'pt'}, 'is_quote_status': False, 'quote_count': 0, 'reply_count': 0, 'retweet_count': 0, 'favorite_count': 0, 'entities': {'hashtags': [], 'urls': [], 'user_mentions': [{'screen_name': 'SheIsCapitu', 'name': 'Comentarista Oficial #BBB20 🌪', 'id': 132700773, 'id_str': '132700773', 'indices': [3, 15]}], 'symbols': []}, 'favorited': False, 'retweeted': False, 'filter_level': 'low', 'lang': 'pt', 'timestamp_ms': '1583679888118'}\n",
    "retweeted_example.keys()\n",
    "print(json.dumps(retweeted_example['retweeted_status']['user']['screen_name'], indent=4, sort_keys=True))"
   ]
  },
  {
   "cell_type": "code",
   "execution_count": 508,
   "metadata": {
    "scrolled": false
   },
   "outputs": [],
   "source": []
  },
  {
   "cell_type": "code",
   "execution_count": 54,
   "metadata": {},
   "outputs": [],
   "source": [
    "nlp = pt_core_news_sm.load()\n",
    "# nlp = spacy.load('pt_core_news_sm')"
   ]
  },
  {
   "cell_type": "code",
   "execution_count": 60,
   "metadata": {},
   "outputs": [],
   "source": [
    "from spacy.matcher import Matcher\n",
    "\n",
    "matcher = Matcher(nlp.vocab)\n",
    "matcher.add('HASHTAG', None, [{'ORTH': '#'}, {'IS_ASCII': True}])\n",
    "matcher.add('Arroba', None, [{'ORTH': '@'}, {'IS_ASCII': True}])\n",
    "\n",
    "# doc = nlp('This is a #sentence. Here is another #hashtag. #The #End.')\n",
    "# matches = matcher(doc)\n",
    "# hashtags = []\n",
    "# for match_id, start, end in matches:\n",
    "#     hashtags.append(doc[start:end])\n",
    "\n",
    "# for span in hashtags:\n",
    "#     span.merge()\n",
    "#print([t.text for t in doc])"
   ]
  },
  {
   "cell_type": "code",
   "execution_count": 525,
   "metadata": {},
   "outputs": [],
   "source": [
    "doc = nlp(df['text'][1])"
   ]
  },
  {
   "cell_type": "code",
   "execution_count": 526,
   "metadata": {},
   "outputs": [],
   "source": [
    "text = list(doc)"
   ]
  },
  {
   "cell_type": "code",
   "execution_count": 527,
   "metadata": {},
   "outputs": [
    {
     "data": {
      "text/plain": [
       "[RT,\n",
       " @Dantinhas,\n",
       " :,\n",
       " Manu,\n",
       " ficou,\n",
       " emocionada,\n",
       " com,\n",
       " a,\n",
       " mensagem,\n",
       " da,\n",
       " @BruMarquezine,\n",
       " no,\n",
       " telão,\n",
       " da,\n",
       " festa,\n",
       " !,\n",
       " Fofaaaa,\n",
       " !,\n",
       " #,\n",
       " BBB,\n",
       " #,\n",
       " BBB20,\n",
       " #,\n",
       " PICPAYNOBBB,\n",
       " https://t.co/kXm,\n",
       " …]"
      ]
     },
     "execution_count": 527,
     "metadata": {},
     "output_type": "execute_result"
    }
   ],
   "source": [
    "text"
   ]
  },
  {
   "cell_type": "code",
   "execution_count": 509,
   "metadata": {},
   "outputs": [
    {
     "name": "stdout",
     "output_type": "stream",
     "text": [
      "(HAHAHAHA, BBB20 https://t.co/KOsfu6IWhk)\n",
      "(Manu, Fofaaaa, BBB, BBB20)\n",
      "(Gabi, Bonanza)\n",
      "()\n",
      "(thelma gisely, Manu, Victor Hugo, FALSO, BBB20 https://t.co/06KFPNVQhc)\n",
      "(Gizelly, Manu, Victor hugo for, BBB20)\n",
      "(https://t.co/TEQ6Heb7ea,)\n",
      "(Daniel, Victor Hugo)\n",
      "(Manu Gavassi, PRIOR, Gizelly\n",
      "\n",
      "Boninho, BBB20)\n",
      "(kkkkkkkk ai, Manu)\n"
     ]
    }
   ],
   "source": [
    "for i in range(10):\n",
    "    doc = nlp(df['text'][i])\n",
    "#     print([(ent.text, ent.label_) for ent in doc.ents])\n",
    "#     print([(token.text, token.tag_) for token in doc])\n",
    "    print(doc.ents)"
   ]
  },
  {
   "cell_type": "code",
   "execution_count": 128,
   "metadata": {},
   "outputs": [],
   "source": [
    "def remove_punct(text):\n",
    "    text = text.lower()\n",
    "    text  = \"\".join([char for char in text if char not in string.punctuation])\n",
    "    text = re.sub('[0-9]+', '', text)\n",
    "    return text\n",
    "\n",
    "# def tokenization(text):\n",
    "#     text = text.lower()\n",
    "#     text = re.findall(\"[A-Z]{2,}(?![a-z])|[A-Z][a-z]+(?=[A-Z])|[\\'\\w\\-]+\",text)\n",
    "#     #text = re.split('\\W+', text)\n",
    "#     return text\n",
    "\n",
    "def remover_acentos(txt):\n",
    "    return normalize('NFKD', txt).encode('ASCII', 'ignore').decode('ASCII') \n",
    "\n",
    "def remove_URL(text):\n",
    "    url = re.compile(r'https?://\\S+|www\\.\\S+')\n",
    "    return url.sub(r'',text)\n",
    "\n",
    "def remove_at(text):\n",
    "    clean = re.sub(r'@[A-Za-z0-9]+','', text)\n",
    "    return clean\n",
    "\n",
    "df['pre_clean_len'] = [len(t) for t in df.text]\n",
    "df['remove_url'] = df['text'].apply(remove_at)\n",
    "df['remove_at'] = df['remove_url'].apply(remove_at)\n",
    "df['text_punct'] = df['remove_at'].apply(remove_punct)\n",
    "df['data_clean'] = df['text_punct'].apply(remover_acentos)\n",
    "\n",
    "#df['text_tokenized'] = df['text_punct'].apply(tokenization)"
   ]
  },
  {
   "cell_type": "code",
   "execution_count": 129,
   "metadata": {},
   "outputs": [
    {
     "data": {
      "text/plain": [
       "0                      rt  boa pyong\\ntchau vh redebbb bbb\n",
       "1                         rt  paredao formado quem sai bbb\n",
       "2        rt  por favor gente vamo fazer o victor hugo s...\n",
       "3        quero ver a postura da flay q p fugir dos voto...\n",
       "4        na tercaquero q a  de um pombo de presente pro...\n",
       "                               ...                        \n",
       "53804     segundos e ele mudou  vezes de personalidade ...\n",
       "53805    prior disse que votou na flay ela ouviu e ques...\n",
       "53806                                     eu amo esse cara\n",
       "53807    ivy mari e flayslane nao fazem a menor diferen...\n",
       "53808    boninho da proxima vez chame um maranhense mel...\n",
       "Name: data_clean, Length: 53809, dtype: object"
      ]
     },
     "execution_count": 129,
     "metadata": {},
     "output_type": "execute_result"
    }
   ],
   "source": [
    "df['data_clean']"
   ]
  },
  {
   "cell_type": "raw",
   "metadata": {},
   "source": [
    "from spacy import EntityLinker\n",
    "\n",
    "entity_linker = EntityLinker(nlp.vocab)\n",
    "doc = nlp(\"This is a sentence.\")\n",
    "# This usually happens under the hood\n",
    "processed = entity_linker(doc)"
   ]
  },
  {
   "cell_type": "code",
   "execution_count": 358,
   "metadata": {},
   "outputs": [],
   "source": [
    "from sklearn.feature_extraction.text import CountVectorizer, TfidfVectorizer"
   ]
  },
  {
   "cell_type": "code",
   "execution_count": 359,
   "metadata": {},
   "outputs": [
    {
     "data": {
      "text/plain": [
       "0        [poxa, quero, ver, meu, twitte, no, telão, da,...\n",
       "1        [rt, anus, um, milhão, do, prior, bbb, ele, é,...\n",
       "2        [rt, ué, marcela, se, fostes, para, o, bbb, do...\n",
       "3        [espero, que, ele, possa, quem, sabe, receber,...\n",
       "4        [eu, to, urrando, com, a, gizelly, cantando, p...\n",
       "                               ...                        \n",
       "32696    [prior, fingindo, ser, amiguinho, da, manu, br...\n",
       "32697                             [bbb, httpstcorrvidnnbo]\n",
       "32698    [rt, eu, me, preparando, pra, passar, pano, pr...\n",
       "32699    [eu, queria, entender, o, conceito, de, legal,...\n",
       "32700    [rt, deposite, aqui, sua, risada, kkakakaakkak...\n",
       "Name: text_tokenized, Length: 32701, dtype: object"
      ]
     },
     "execution_count": 359,
     "metadata": {},
     "output_type": "execute_result"
    }
   ],
   "source": [
    "df['text_tokenized']"
   ]
  },
  {
   "cell_type": "raw",
   "metadata": {},
   "source": [
    "nlp = pt_core_news_sm.load()\n",
    "# nlp = spacy.load('pt_core_news_sm')"
   ]
  },
  {
   "cell_type": "raw",
   "metadata": {},
   "source": [
    "doc = nlp(df['text'][0])"
   ]
  },
  {
   "cell_type": "raw",
   "metadata": {},
   "source": [
    "doc.vocab"
   ]
  },
  {
   "cell_type": "raw",
   "metadata": {},
   "source": [
    "for i in range(10):\n",
    "    doc = nlp(df['text'][i])\n",
    "#     print([(ent.text, ent.label_) for ent in doc.ents])\n",
    "#     print([(token.text, token.tag_) for token in doc])\n",
    "    for token in doc:\n",
    "        print(token.text, token.lemma_, token.pos_, token.tag_, token.dep_,\n",
    "                token.shape_, token.is_alpha, token.is_stop)"
   ]
  },
  {
   "cell_type": "code",
   "execution_count": null,
   "metadata": {},
   "outputs": [],
   "source": []
  },
  {
   "cell_type": "code",
   "execution_count": 360,
   "metadata": {},
   "outputs": [
    {
     "data": {
      "text/html": [
       "<div>\n",
       "<style scoped>\n",
       "    .dataframe tbody tr th:only-of-type {\n",
       "        vertical-align: middle;\n",
       "    }\n",
       "\n",
       "    .dataframe tbody tr th {\n",
       "        vertical-align: top;\n",
       "    }\n",
       "\n",
       "    .dataframe thead th {\n",
       "        text-align: right;\n",
       "    }\n",
       "</style>\n",
       "<table border=\"1\" class=\"dataframe\">\n",
       "  <thead>\n",
       "    <tr style=\"text-align: right;\">\n",
       "      <th></th>\n",
       "      <th>text</th>\n",
       "      <th>text_punct</th>\n",
       "      <th>text_tokenized</th>\n",
       "    </tr>\n",
       "  </thead>\n",
       "  <tbody>\n",
       "    <tr>\n",
       "      <th>0</th>\n",
       "      <td>Poxa @boninho quero ver meu twitte no telão da...</td>\n",
       "      <td>poxa  quero ver meu twitte no telão da festa p...</td>\n",
       "      <td>[poxa, quero, ver, meu, twitte, no, telão, da,...</td>\n",
       "    </tr>\n",
       "    <tr>\n",
       "      <th>1</th>\n",
       "      <td>RT @cristi_anus: UM MILHÃO DO PRIOR #BBB20 \\n\\...</td>\n",
       "      <td>rt anus um milhão do prior bbb \\n\\nele é bonit...</td>\n",
       "      <td>[rt, anus, um, milhão, do, prior, bbb, ele, é,...</td>\n",
       "    </tr>\n",
       "    <tr>\n",
       "      <th>2</th>\n",
       "      <td>RT @julianaGRITA: ué marcela se fostes para o ...</td>\n",
       "      <td>rt  ué marcela se fostes para o bbb doutrinar ...</td>\n",
       "      <td>[rt, ué, marcela, se, fostes, para, o, bbb, do...</td>\n",
       "    </tr>\n",
       "    <tr>\n",
       "      <th>3</th>\n",
       "      <td>\"Espero que ele possa, quem sabe, receber essa...</td>\n",
       "      <td>espero que ele possa quem sabe receber essa me...</td>\n",
       "      <td>[espero, que, ele, possa, quem, sabe, receber,...</td>\n",
       "    </tr>\n",
       "    <tr>\n",
       "      <th>4</th>\n",
       "      <td>EU TO URRANDO COM A GIZELLY CANTANDO PRO DANIE...</td>\n",
       "      <td>eu to urrando com a gizelly cantando pro danie...</td>\n",
       "      <td>[eu, to, urrando, com, a, gizelly, cantando, p...</td>\n",
       "    </tr>\n",
       "  </tbody>\n",
       "</table>\n",
       "</div>"
      ],
      "text/plain": [
       "                                                text  \\\n",
       "0  Poxa @boninho quero ver meu twitte no telão da...   \n",
       "1  RT @cristi_anus: UM MILHÃO DO PRIOR #BBB20 \\n\\...   \n",
       "2  RT @julianaGRITA: ué marcela se fostes para o ...   \n",
       "3  \"Espero que ele possa, quem sabe, receber essa...   \n",
       "4  EU TO URRANDO COM A GIZELLY CANTANDO PRO DANIE...   \n",
       "\n",
       "                                          text_punct  \\\n",
       "0  poxa  quero ver meu twitte no telão da festa p...   \n",
       "1  rt anus um milhão do prior bbb \\n\\nele é bonit...   \n",
       "2  rt  ué marcela se fostes para o bbb doutrinar ...   \n",
       "3  espero que ele possa quem sabe receber essa me...   \n",
       "4  eu to urrando com a gizelly cantando pro danie...   \n",
       "\n",
       "                                      text_tokenized  \n",
       "0  [poxa, quero, ver, meu, twitte, no, telão, da,...  \n",
       "1  [rt, anus, um, milhão, do, prior, bbb, ele, é,...  \n",
       "2  [rt, ué, marcela, se, fostes, para, o, bbb, do...  \n",
       "3  [espero, que, ele, possa, quem, sabe, receber,...  \n",
       "4  [eu, to, urrando, com, a, gizelly, cantando, p...  "
      ]
     },
     "execution_count": 360,
     "metadata": {},
     "output_type": "execute_result"
    }
   ],
   "source": [
    "df[['text', 'text_punct', 'text_tokenized']].head()"
   ]
  },
  {
   "cell_type": "code",
   "execution_count": 361,
   "metadata": {},
   "outputs": [
    {
     "data": {
      "text/html": [
       "<div>\n",
       "<style scoped>\n",
       "    .dataframe tbody tr th:only-of-type {\n",
       "        vertical-align: middle;\n",
       "    }\n",
       "\n",
       "    .dataframe tbody tr th {\n",
       "        vertical-align: top;\n",
       "    }\n",
       "\n",
       "    .dataframe thead th {\n",
       "        text-align: right;\n",
       "    }\n",
       "</style>\n",
       "<table border=\"1\" class=\"dataframe\">\n",
       "  <thead>\n",
       "    <tr style=\"text-align: right;\">\n",
       "      <th></th>\n",
       "      <th>index</th>\n",
       "      <th>created_at</th>\n",
       "      <th>text</th>\n",
       "      <th>verified</th>\n",
       "      <th>retweeted</th>\n",
       "      <th>location</th>\n",
       "      <th>retweeted_counts</th>\n",
       "      <th>likes_counts</th>\n",
       "      <th>reply_counts</th>\n",
       "      <th>lang</th>\n",
       "      <th>id_user</th>\n",
       "      <th>pre_clean_len</th>\n",
       "      <th>remove_url</th>\n",
       "      <th>remove_at</th>\n",
       "      <th>text_punct</th>\n",
       "      <th>text_tokenized</th>\n",
       "    </tr>\n",
       "  </thead>\n",
       "  <tbody>\n",
       "    <tr>\n",
       "      <th>32696</th>\n",
       "      <td>0</td>\n",
       "      <td>2020-03-08 04:40:11.000000</td>\n",
       "      <td>Prior fingindo ser amiguinho da Manu\\n\\nBruna ...</td>\n",
       "      <td>0</td>\n",
       "      <td>0</td>\n",
       "      <td>None</td>\n",
       "      <td>110</td>\n",
       "      <td>453</td>\n",
       "      <td>41</td>\n",
       "      <td>pt</td>\n",
       "      <td>lufrndz</td>\n",
       "      <td>272</td>\n",
       "      <td>Prior fingindo ser amiguinho da Manu\\n\\nBruna ...</td>\n",
       "      <td>Prior fingindo ser amiguinho da Manu\\n\\nBruna ...</td>\n",
       "      <td>prior fingindo ser amiguinho da manu\\n\\nbruna ...</td>\n",
       "      <td>[prior, fingindo, ser, amiguinho, da, manu, br...</td>\n",
       "    </tr>\n",
       "    <tr>\n",
       "      <th>32697</th>\n",
       "      <td>0</td>\n",
       "      <td>2020-03-08 04:40:11.000000</td>\n",
       "      <td>#BBB20 https://t.co/Rr8viDnnbo</td>\n",
       "      <td>0</td>\n",
       "      <td>0</td>\n",
       "      <td>None</td>\n",
       "      <td>0</td>\n",
       "      <td>0</td>\n",
       "      <td>0</td>\n",
       "      <td>und</td>\n",
       "      <td>hero1ne</td>\n",
       "      <td>30</td>\n",
       "      <td>#BBB20 https://t.co/Rr8viDnnbo</td>\n",
       "      <td>#BBB20 https://t.co/Rr8viDnnbo</td>\n",
       "      <td>bbb httpstcorrvidnnbo</td>\n",
       "      <td>[bbb, httpstcorrvidnnbo]</td>\n",
       "    </tr>\n",
       "    <tr>\n",
       "      <th>32698</th>\n",
       "      <td>0</td>\n",
       "      <td>2020-03-08 04:40:11.000000</td>\n",
       "      <td>RT @Kayllanevicent3: eu me preparando pra pass...</td>\n",
       "      <td>0</td>\n",
       "      <td>0</td>\n",
       "      <td>021/022</td>\n",
       "      <td>0</td>\n",
       "      <td>0</td>\n",
       "      <td>0</td>\n",
       "      <td>pt</td>\n",
       "      <td>Mends_30</td>\n",
       "      <td>140</td>\n",
       "      <td>RT : eu me preparando pra passar pano pro babu...</td>\n",
       "      <td>RT : eu me preparando pra passar pano pro babu...</td>\n",
       "      <td>rt  eu me preparando pra passar pano pro babu ...</td>\n",
       "      <td>[rt, eu, me, preparando, pra, passar, pano, pr...</td>\n",
       "    </tr>\n",
       "    <tr>\n",
       "      <th>32699</th>\n",
       "      <td>0</td>\n",
       "      <td>2020-03-08 04:40:11.000000</td>\n",
       "      <td>Eu queria entender o conceito de legal pra gal...</td>\n",
       "      <td>0</td>\n",
       "      <td>0</td>\n",
       "      <td>Brasília, Brasil</td>\n",
       "      <td>444</td>\n",
       "      <td>3432</td>\n",
       "      <td>33</td>\n",
       "      <td>pt</td>\n",
       "      <td>_velminha</td>\n",
       "      <td>211</td>\n",
       "      <td>Eu queria entender o conceito de legal pra gal...</td>\n",
       "      <td>Eu queria entender o conceito de legal pra gal...</td>\n",
       "      <td>eu queria entender o conceito de legal pra gal...</td>\n",
       "      <td>[eu, queria, entender, o, conceito, de, legal,...</td>\n",
       "    </tr>\n",
       "    <tr>\n",
       "      <th>32700</th>\n",
       "      <td>0</td>\n",
       "      <td>2020-03-08 04:40:11.000000</td>\n",
       "      <td>RT @sirulovesthat: Deposite aqui sua risada:\\n...</td>\n",
       "      <td>0</td>\n",
       "      <td>0</td>\n",
       "      <td>Rio de Janeiro, Brasil</td>\n",
       "      <td>0</td>\n",
       "      <td>0</td>\n",
       "      <td>0</td>\n",
       "      <td>in</td>\n",
       "      <td>Evy232Santos</td>\n",
       "      <td>90</td>\n",
       "      <td>RT : Deposite aqui sua risada:\\nKkakakaakkakak...</td>\n",
       "      <td>RT : Deposite aqui sua risada:\\nKkakakaakkakak...</td>\n",
       "      <td>rt  deposite aqui sua risada\\nkkakakaakkakak b...</td>\n",
       "      <td>[rt, deposite, aqui, sua, risada, kkakakaakkak...</td>\n",
       "    </tr>\n",
       "  </tbody>\n",
       "</table>\n",
       "</div>"
      ],
      "text/plain": [
       "       index                  created_at  \\\n",
       "32696      0  2020-03-08 04:40:11.000000   \n",
       "32697      0  2020-03-08 04:40:11.000000   \n",
       "32698      0  2020-03-08 04:40:11.000000   \n",
       "32699      0  2020-03-08 04:40:11.000000   \n",
       "32700      0  2020-03-08 04:40:11.000000   \n",
       "\n",
       "                                                    text  verified  retweeted  \\\n",
       "32696  Prior fingindo ser amiguinho da Manu\\n\\nBruna ...         0          0   \n",
       "32697                     #BBB20 https://t.co/Rr8viDnnbo         0          0   \n",
       "32698  RT @Kayllanevicent3: eu me preparando pra pass...         0          0   \n",
       "32699  Eu queria entender o conceito de legal pra gal...         0          0   \n",
       "32700  RT @sirulovesthat: Deposite aqui sua risada:\\n...         0          0   \n",
       "\n",
       "                     location  retweeted_counts  likes_counts  reply_counts  \\\n",
       "32696                    None               110           453            41   \n",
       "32697                    None                 0             0             0   \n",
       "32698                021/022                  0             0             0   \n",
       "32699        Brasília, Brasil               444          3432            33   \n",
       "32700  Rio de Janeiro, Brasil                 0             0             0   \n",
       "\n",
       "      lang       id_user  pre_clean_len  \\\n",
       "32696   pt       lufrndz            272   \n",
       "32697  und       hero1ne             30   \n",
       "32698   pt      Mends_30            140   \n",
       "32699   pt     _velminha            211   \n",
       "32700   in  Evy232Santos             90   \n",
       "\n",
       "                                              remove_url  \\\n",
       "32696  Prior fingindo ser amiguinho da Manu\\n\\nBruna ...   \n",
       "32697                     #BBB20 https://t.co/Rr8viDnnbo   \n",
       "32698  RT : eu me preparando pra passar pano pro babu...   \n",
       "32699  Eu queria entender o conceito de legal pra gal...   \n",
       "32700  RT : Deposite aqui sua risada:\\nKkakakaakkakak...   \n",
       "\n",
       "                                               remove_at  \\\n",
       "32696  Prior fingindo ser amiguinho da Manu\\n\\nBruna ...   \n",
       "32697                     #BBB20 https://t.co/Rr8viDnnbo   \n",
       "32698  RT : eu me preparando pra passar pano pro babu...   \n",
       "32699  Eu queria entender o conceito de legal pra gal...   \n",
       "32700  RT : Deposite aqui sua risada:\\nKkakakaakkakak...   \n",
       "\n",
       "                                              text_punct  \\\n",
       "32696  prior fingindo ser amiguinho da manu\\n\\nbruna ...   \n",
       "32697                              bbb httpstcorrvidnnbo   \n",
       "32698  rt  eu me preparando pra passar pano pro babu ...   \n",
       "32699  eu queria entender o conceito de legal pra gal...   \n",
       "32700  rt  deposite aqui sua risada\\nkkakakaakkakak b...   \n",
       "\n",
       "                                          text_tokenized  \n",
       "32696  [prior, fingindo, ser, amiguinho, da, manu, br...  \n",
       "32697                           [bbb, httpstcorrvidnnbo]  \n",
       "32698  [rt, eu, me, preparando, pra, passar, pano, pr...  \n",
       "32699  [eu, queria, entender, o, conceito, de, legal,...  \n",
       "32700  [rt, deposite, aqui, sua, risada, kkakakaakkak...  "
      ]
     },
     "execution_count": 361,
     "metadata": {},
     "output_type": "execute_result"
    }
   ],
   "source": [
    "df.tail()"
   ]
  },
  {
   "cell_type": "raw",
   "metadata": {},
   "source": [
    "\n",
    "vocabulary = \"a list of words I want to look for in the documents\".split()\n",
    "vect = TfidfVectorizer(sublinear_tf=True, max_df=0.5)\n",
    "vect.fit_transform(df['text_tokenized'])"
   ]
  },
  {
   "cell_type": "code",
   "execution_count": 362,
   "metadata": {},
   "outputs": [],
   "source": [
    "stopwords_pt = ['de ', 'a ', 'o ', 'que ', 'e ', 'do ', 'da ', 'em ', 'um ',\n",
    "                'para ', 'é ', 'com ', 'não ', 'uma ', 'os ', 'no ', 'se ', 'na ',\n",
    "#                 'por ', 'mais ', 'as ', 'dos ', 'como ', 'mas ', 'foi ', 'ao ',\n",
    "#                 'ele ', 'das ', 'tem ', 'à ', 'seu ', 'sua ', 'ou ', 'ser ',\n",
    "#                 'quando ', 'muito ', 'há ', 'nos ', 'já ', 'está ', 'eu ',\n",
    "#                 'também ', 'só ', 'pelo ', 'pela ', 'até ', 'isso ', 'ela ',\n",
    "#                 'entre ', 'era ', 'depois ', 'sem ', 'mesmo ', 'aos ', 'ter ',\n",
    "#                 'seus ', 'quem ', 'nas ', 'me ', 'esse ', 'eles ', 'estão ',\n",
    "#                 'você ', 'tinha ', 'foram ', 'essa ', 'num ', 'nem ', 'suas ',\n",
    "#                 'meu ', 'às ', 'minha ', 'têm ', 'numa ', 'pelos ', 'elas ',\n",
    "#                 'havia ', 'seja ', 'qual ', 'será ', 'nós ', 'tenho ', 'lhe ',\n",
    "#                 'deles ', 'essas ', 'esses ', 'pelas ', 'este ', 'fosse ', 'dele ',\n",
    "#                 'tu ', 'te ', 'vocês ', 'vos ', 'lhes ', 'meus ', 'minhas', 'teu ',    \n",
    "#                 'tua', 'teus', 'tuas', 'nosso ', 'nossa', 'nossos', 'nossas',\n",
    "#                 'dela ', 'delas ', 'esta ', 'estes ', 'estas ', 'aquele ',\n",
    "#                 'aquela ', 'aqueles ', 'aquelas ', 'isto ', 'aquilo ', 'estou',\n",
    "#                 'está', 'estamos', 'estão', 'estive', 'esteve', 'estivemos',\n",
    "#                 'estiveram', 'estava', 'estávamos', 'estavam', 'estivera',\n",
    "#                 'estivéramos', 'esteja', 'estejamos', 'estejam', 'estivesse',\n",
    "#                 'estivéssemos', 'estivessem', 'estiver', 'estivermos', 'estiverem',\n",
    "#                 'hei', 'há', 'havemos', 'hão', 'houve', 'houvemos', 'houveram',\n",
    "#                 'houvera', 'houvéramos', 'haja', 'hajamos', 'hajam', 'houvesse',\n",
    "#                 'houvéssemos', 'houvessem', 'houver', 'houvermos', 'houverem',\n",
    "#                 'houverei', 'houverá', 'houveremos', 'houverão', 'houveria',\n",
    "#                 'houveríamos', 'houveriam', 'sou', 'somos', 'são', 'era', 'éramos',\n",
    "#                 'eram', 'fui', 'foi', 'fomos', 'foram', 'fora', 'fôramos', 'seja',\n",
    "                'sejamos', 'sejam', 'fosse', 'fôssemos', 'fossem', 'for', 'formos',\n",
    "                'forem', 'serei', 'será', 'seremos', 'serão', 'seria', 'seríamos',\n",
    "                'seriam', 'tenho', 'tem', 'temos', 'tém', 'tinha', 'tínhamos', 'esse', 'pro', 'tá',\n",
    "                'tinham', 'tive', 'teve', 'tivemos', 'tiveram', 'tivera', 'do', 'no', 'em', 'que',\n",
    "                'tivéramos', 'tenha', 'tenhamos', 'tenham', 'tivesse', 'da','de',\n",
    "                'tivéssemos', 'tivessem', 'tiver', 'tivermos', 'tiverem', 'terei', 'bigbrotherbrasil',\n",
    "                'terá', 'teremos', 'terão', 'teria', 'teríamos', 'teriam', 'rt', 'redebbb', 'festabbb', 'bbb']"
   ]
  },
  {
   "cell_type": "code",
   "execution_count": 365,
   "metadata": {},
   "outputs": [
    {
     "name": "stdout",
     "output_type": "stream",
     "text": [
      "Users with only one tweet: 35.12%\n"
     ]
    }
   ],
   "source": [
    "print(f\"Users with only one tweet: {round(len(df.id_user.value_counts()[df.id_user.value_counts() == 1]) / len(df) * 100, 2)}%\")"
   ]
  },
  {
   "cell_type": "code",
   "execution_count": null,
   "metadata": {},
   "outputs": [],
   "source": []
  },
  {
   "cell_type": "code",
   "execution_count": 151,
   "metadata": {},
   "outputs": [],
   "source": [
    "df['count'] = df.groupby([\"text\"])[\"created_at\"].transform(\"count\")"
   ]
  },
  {
   "cell_type": "code",
   "execution_count": 132,
   "metadata": {},
   "outputs": [
    {
     "data": {
      "application/vnd.plotly.v1+json": {
       "config": {
        "plotlyServerURL": "https://plot.ly"
       },
       "data": [
        {
         "alignmentgroup": "True",
         "hoverlabel": {
          "namelength": 0
         },
         "hovertemplate": "term=%{x}<br>rank=%{y}",
         "legendgroup": "",
         "marker": {
          "color": "#636efa"
         },
         "name": "",
         "offsetgroup": "",
         "orientation": "v",
         "showlegend": false,
         "textposition": "auto",
         "type": "bar",
         "x": [
          "babu",
          "vh",
          "forapombo",
          "prior",
          "hugo",
          "victor",
          "paredao",
          "daniel",
          "victor hugo",
          "manu",
          "rejeicao",
          "flay",
          "marcela",
          "pombo",
          "votar"
         ],
         "xaxis": "x",
         "y": [
          1684.2190037323755,
          1352.615223240581,
          1170.5724014559064,
          1075.9077903144623,
          1063.3472028878123,
          989.4978388939134,
          950.6426255690556,
          922.775045155365,
          921.0276436955883,
          731.0639461711959,
          602.1105034486095,
          601.6059053339793,
          548.3466104407614,
          537.1062353659034,
          533.7689566632055
         ],
         "yaxis": "y"
        }
       ],
       "layout": {
        "autosize": true,
        "barmode": "relative",
        "legend": {
         "tracegroupgap": 0
        },
        "template": {
         "data": {
          "bar": [
           {
            "error_x": {
             "color": "#2a3f5f"
            },
            "error_y": {
             "color": "#2a3f5f"
            },
            "marker": {
             "line": {
              "color": "#E5ECF6",
              "width": 0.5
             }
            },
            "type": "bar"
           }
          ],
          "barpolar": [
           {
            "marker": {
             "line": {
              "color": "#E5ECF6",
              "width": 0.5
             }
            },
            "type": "barpolar"
           }
          ],
          "carpet": [
           {
            "aaxis": {
             "endlinecolor": "#2a3f5f",
             "gridcolor": "white",
             "linecolor": "white",
             "minorgridcolor": "white",
             "startlinecolor": "#2a3f5f"
            },
            "baxis": {
             "endlinecolor": "#2a3f5f",
             "gridcolor": "white",
             "linecolor": "white",
             "minorgridcolor": "white",
             "startlinecolor": "#2a3f5f"
            },
            "type": "carpet"
           }
          ],
          "choropleth": [
           {
            "colorbar": {
             "outlinewidth": 0,
             "ticks": ""
            },
            "type": "choropleth"
           }
          ],
          "contour": [
           {
            "colorbar": {
             "outlinewidth": 0,
             "ticks": ""
            },
            "colorscale": [
             [
              0,
              "#0d0887"
             ],
             [
              0.1111111111111111,
              "#46039f"
             ],
             [
              0.2222222222222222,
              "#7201a8"
             ],
             [
              0.3333333333333333,
              "#9c179e"
             ],
             [
              0.4444444444444444,
              "#bd3786"
             ],
             [
              0.5555555555555556,
              "#d8576b"
             ],
             [
              0.6666666666666666,
              "#ed7953"
             ],
             [
              0.7777777777777778,
              "#fb9f3a"
             ],
             [
              0.8888888888888888,
              "#fdca26"
             ],
             [
              1,
              "#f0f921"
             ]
            ],
            "type": "contour"
           }
          ],
          "contourcarpet": [
           {
            "colorbar": {
             "outlinewidth": 0,
             "ticks": ""
            },
            "type": "contourcarpet"
           }
          ],
          "heatmap": [
           {
            "colorbar": {
             "outlinewidth": 0,
             "ticks": ""
            },
            "colorscale": [
             [
              0,
              "#0d0887"
             ],
             [
              0.1111111111111111,
              "#46039f"
             ],
             [
              0.2222222222222222,
              "#7201a8"
             ],
             [
              0.3333333333333333,
              "#9c179e"
             ],
             [
              0.4444444444444444,
              "#bd3786"
             ],
             [
              0.5555555555555556,
              "#d8576b"
             ],
             [
              0.6666666666666666,
              "#ed7953"
             ],
             [
              0.7777777777777778,
              "#fb9f3a"
             ],
             [
              0.8888888888888888,
              "#fdca26"
             ],
             [
              1,
              "#f0f921"
             ]
            ],
            "type": "heatmap"
           }
          ],
          "heatmapgl": [
           {
            "colorbar": {
             "outlinewidth": 0,
             "ticks": ""
            },
            "colorscale": [
             [
              0,
              "#0d0887"
             ],
             [
              0.1111111111111111,
              "#46039f"
             ],
             [
              0.2222222222222222,
              "#7201a8"
             ],
             [
              0.3333333333333333,
              "#9c179e"
             ],
             [
              0.4444444444444444,
              "#bd3786"
             ],
             [
              0.5555555555555556,
              "#d8576b"
             ],
             [
              0.6666666666666666,
              "#ed7953"
             ],
             [
              0.7777777777777778,
              "#fb9f3a"
             ],
             [
              0.8888888888888888,
              "#fdca26"
             ],
             [
              1,
              "#f0f921"
             ]
            ],
            "type": "heatmapgl"
           }
          ],
          "histogram": [
           {
            "marker": {
             "colorbar": {
              "outlinewidth": 0,
              "ticks": ""
             }
            },
            "type": "histogram"
           }
          ],
          "histogram2d": [
           {
            "colorbar": {
             "outlinewidth": 0,
             "ticks": ""
            },
            "colorscale": [
             [
              0,
              "#0d0887"
             ],
             [
              0.1111111111111111,
              "#46039f"
             ],
             [
              0.2222222222222222,
              "#7201a8"
             ],
             [
              0.3333333333333333,
              "#9c179e"
             ],
             [
              0.4444444444444444,
              "#bd3786"
             ],
             [
              0.5555555555555556,
              "#d8576b"
             ],
             [
              0.6666666666666666,
              "#ed7953"
             ],
             [
              0.7777777777777778,
              "#fb9f3a"
             ],
             [
              0.8888888888888888,
              "#fdca26"
             ],
             [
              1,
              "#f0f921"
             ]
            ],
            "type": "histogram2d"
           }
          ],
          "histogram2dcontour": [
           {
            "colorbar": {
             "outlinewidth": 0,
             "ticks": ""
            },
            "colorscale": [
             [
              0,
              "#0d0887"
             ],
             [
              0.1111111111111111,
              "#46039f"
             ],
             [
              0.2222222222222222,
              "#7201a8"
             ],
             [
              0.3333333333333333,
              "#9c179e"
             ],
             [
              0.4444444444444444,
              "#bd3786"
             ],
             [
              0.5555555555555556,
              "#d8576b"
             ],
             [
              0.6666666666666666,
              "#ed7953"
             ],
             [
              0.7777777777777778,
              "#fb9f3a"
             ],
             [
              0.8888888888888888,
              "#fdca26"
             ],
             [
              1,
              "#f0f921"
             ]
            ],
            "type": "histogram2dcontour"
           }
          ],
          "mesh3d": [
           {
            "colorbar": {
             "outlinewidth": 0,
             "ticks": ""
            },
            "type": "mesh3d"
           }
          ],
          "parcoords": [
           {
            "line": {
             "colorbar": {
              "outlinewidth": 0,
              "ticks": ""
             }
            },
            "type": "parcoords"
           }
          ],
          "pie": [
           {
            "automargin": true,
            "type": "pie"
           }
          ],
          "scatter": [
           {
            "marker": {
             "colorbar": {
              "outlinewidth": 0,
              "ticks": ""
             }
            },
            "type": "scatter"
           }
          ],
          "scatter3d": [
           {
            "line": {
             "colorbar": {
              "outlinewidth": 0,
              "ticks": ""
             }
            },
            "marker": {
             "colorbar": {
              "outlinewidth": 0,
              "ticks": ""
             }
            },
            "type": "scatter3d"
           }
          ],
          "scattercarpet": [
           {
            "marker": {
             "colorbar": {
              "outlinewidth": 0,
              "ticks": ""
             }
            },
            "type": "scattercarpet"
           }
          ],
          "scattergeo": [
           {
            "marker": {
             "colorbar": {
              "outlinewidth": 0,
              "ticks": ""
             }
            },
            "type": "scattergeo"
           }
          ],
          "scattergl": [
           {
            "marker": {
             "colorbar": {
              "outlinewidth": 0,
              "ticks": ""
             }
            },
            "type": "scattergl"
           }
          ],
          "scattermapbox": [
           {
            "marker": {
             "colorbar": {
              "outlinewidth": 0,
              "ticks": ""
             }
            },
            "type": "scattermapbox"
           }
          ],
          "scatterpolar": [
           {
            "marker": {
             "colorbar": {
              "outlinewidth": 0,
              "ticks": ""
             }
            },
            "type": "scatterpolar"
           }
          ],
          "scatterpolargl": [
           {
            "marker": {
             "colorbar": {
              "outlinewidth": 0,
              "ticks": ""
             }
            },
            "type": "scatterpolargl"
           }
          ],
          "scatterternary": [
           {
            "marker": {
             "colorbar": {
              "outlinewidth": 0,
              "ticks": ""
             }
            },
            "type": "scatterternary"
           }
          ],
          "surface": [
           {
            "colorbar": {
             "outlinewidth": 0,
             "ticks": ""
            },
            "colorscale": [
             [
              0,
              "#0d0887"
             ],
             [
              0.1111111111111111,
              "#46039f"
             ],
             [
              0.2222222222222222,
              "#7201a8"
             ],
             [
              0.3333333333333333,
              "#9c179e"
             ],
             [
              0.4444444444444444,
              "#bd3786"
             ],
             [
              0.5555555555555556,
              "#d8576b"
             ],
             [
              0.6666666666666666,
              "#ed7953"
             ],
             [
              0.7777777777777778,
              "#fb9f3a"
             ],
             [
              0.8888888888888888,
              "#fdca26"
             ],
             [
              1,
              "#f0f921"
             ]
            ],
            "type": "surface"
           }
          ],
          "table": [
           {
            "cells": {
             "fill": {
              "color": "#EBF0F8"
             },
             "line": {
              "color": "white"
             }
            },
            "header": {
             "fill": {
              "color": "#C8D4E3"
             },
             "line": {
              "color": "white"
             }
            },
            "type": "table"
           }
          ]
         },
         "layout": {
          "annotationdefaults": {
           "arrowcolor": "#2a3f5f",
           "arrowhead": 0,
           "arrowwidth": 1
          },
          "coloraxis": {
           "colorbar": {
            "outlinewidth": 0,
            "ticks": ""
           }
          },
          "colorscale": {
           "diverging": [
            [
             0,
             "#8e0152"
            ],
            [
             0.1,
             "#c51b7d"
            ],
            [
             0.2,
             "#de77ae"
            ],
            [
             0.3,
             "#f1b6da"
            ],
            [
             0.4,
             "#fde0ef"
            ],
            [
             0.5,
             "#f7f7f7"
            ],
            [
             0.6,
             "#e6f5d0"
            ],
            [
             0.7,
             "#b8e186"
            ],
            [
             0.8,
             "#7fbc41"
            ],
            [
             0.9,
             "#4d9221"
            ],
            [
             1,
             "#276419"
            ]
           ],
           "sequential": [
            [
             0,
             "#0d0887"
            ],
            [
             0.1111111111111111,
             "#46039f"
            ],
            [
             0.2222222222222222,
             "#7201a8"
            ],
            [
             0.3333333333333333,
             "#9c179e"
            ],
            [
             0.4444444444444444,
             "#bd3786"
            ],
            [
             0.5555555555555556,
             "#d8576b"
            ],
            [
             0.6666666666666666,
             "#ed7953"
            ],
            [
             0.7777777777777778,
             "#fb9f3a"
            ],
            [
             0.8888888888888888,
             "#fdca26"
            ],
            [
             1,
             "#f0f921"
            ]
           ],
           "sequentialminus": [
            [
             0,
             "#0d0887"
            ],
            [
             0.1111111111111111,
             "#46039f"
            ],
            [
             0.2222222222222222,
             "#7201a8"
            ],
            [
             0.3333333333333333,
             "#9c179e"
            ],
            [
             0.4444444444444444,
             "#bd3786"
            ],
            [
             0.5555555555555556,
             "#d8576b"
            ],
            [
             0.6666666666666666,
             "#ed7953"
            ],
            [
             0.7777777777777778,
             "#fb9f3a"
            ],
            [
             0.8888888888888888,
             "#fdca26"
            ],
            [
             1,
             "#f0f921"
            ]
           ]
          },
          "colorway": [
           "#636efa",
           "#EF553B",
           "#00cc96",
           "#ab63fa",
           "#FFA15A",
           "#19d3f3",
           "#FF6692",
           "#B6E880",
           "#FF97FF",
           "#FECB52"
          ],
          "font": {
           "color": "#2a3f5f"
          },
          "geo": {
           "bgcolor": "white",
           "lakecolor": "white",
           "landcolor": "#E5ECF6",
           "showlakes": true,
           "showland": true,
           "subunitcolor": "white"
          },
          "hoverlabel": {
           "align": "left"
          },
          "hovermode": "closest",
          "mapbox": {
           "style": "light"
          },
          "paper_bgcolor": "white",
          "plot_bgcolor": "#E5ECF6",
          "polar": {
           "angularaxis": {
            "gridcolor": "white",
            "linecolor": "white",
            "ticks": ""
           },
           "bgcolor": "#E5ECF6",
           "radialaxis": {
            "gridcolor": "white",
            "linecolor": "white",
            "ticks": ""
           }
          },
          "scene": {
           "xaxis": {
            "backgroundcolor": "#E5ECF6",
            "gridcolor": "white",
            "gridwidth": 2,
            "linecolor": "white",
            "showbackground": true,
            "ticks": "",
            "zerolinecolor": "white"
           },
           "yaxis": {
            "backgroundcolor": "#E5ECF6",
            "gridcolor": "white",
            "gridwidth": 2,
            "linecolor": "white",
            "showbackground": true,
            "ticks": "",
            "zerolinecolor": "white"
           },
           "zaxis": {
            "backgroundcolor": "#E5ECF6",
            "gridcolor": "white",
            "gridwidth": 2,
            "linecolor": "white",
            "showbackground": true,
            "ticks": "",
            "zerolinecolor": "white"
           }
          },
          "shapedefaults": {
           "line": {
            "color": "#2a3f5f"
           }
          },
          "ternary": {
           "aaxis": {
            "gridcolor": "white",
            "linecolor": "white",
            "ticks": ""
           },
           "baxis": {
            "gridcolor": "white",
            "linecolor": "white",
            "ticks": ""
           },
           "bgcolor": "#E5ECF6",
           "caxis": {
            "gridcolor": "white",
            "linecolor": "white",
            "ticks": ""
           }
          },
          "title": {
           "x": 0.05
          },
          "xaxis": {
           "automargin": true,
           "gridcolor": "white",
           "linecolor": "white",
           "ticks": "",
           "title": {
            "standoff": 15
           },
           "zerolinecolor": "white",
           "zerolinewidth": 2
          },
          "yaxis": {
           "automargin": true,
           "gridcolor": "white",
           "linecolor": "white",
           "ticks": "",
           "title": {
            "standoff": 15
           },
           "zerolinecolor": "white",
           "zerolinewidth": 2
          }
         }
        },
        "title": {
         "text": "bla",
         "x": 0.5
        },
        "xaxis": {
         "anchor": "y",
         "domain": [
          0,
          1
         ],
         "title": {
          "text": "term"
         }
        },
        "yaxis": {
         "anchor": "x",
         "domain": [
          0,
          1
         ],
         "title": {
          "text": "rank"
         }
        }
       }
      },
      "text/html": [
       "<div>\n",
       "        \n",
       "        \n",
       "            <div id=\"0bf744c9-73b7-4cda-855b-2f82367a34d9\" class=\"plotly-graph-div\" style=\"height:525px; width:100%;\"></div>\n",
       "            <script type=\"text/javascript\">\n",
       "                require([\"plotly\"], function(Plotly) {\n",
       "                    window.PLOTLYENV=window.PLOTLYENV || {};\n",
       "                    \n",
       "                if (document.getElementById(\"0bf744c9-73b7-4cda-855b-2f82367a34d9\")) {\n",
       "                    Plotly.newPlot(\n",
       "                        '0bf744c9-73b7-4cda-855b-2f82367a34d9',\n",
       "                        [{\"alignmentgroup\": \"True\", \"hoverlabel\": {\"namelength\": 0}, \"hovertemplate\": \"term=%{x}<br>rank=%{y}\", \"legendgroup\": \"\", \"marker\": {\"color\": \"#636efa\"}, \"name\": \"\", \"offsetgroup\": \"\", \"orientation\": \"v\", \"showlegend\": false, \"textposition\": \"auto\", \"type\": \"bar\", \"x\": [\"babu\", \"vh\", \"forapombo\", \"prior\", \"hugo\", \"victor\", \"paredao\", \"daniel\", \"victor hugo\", \"manu\", \"rejeicao\", \"flay\", \"marcela\", \"pombo\", \"votar\"], \"xaxis\": \"x\", \"y\": [1684.2190037323755, 1352.615223240581, 1170.5724014559064, 1075.9077903144623, 1063.3472028878123, 989.4978388939134, 950.6426255690556, 922.775045155365, 921.0276436955883, 731.0639461711959, 602.1105034486095, 601.6059053339793, 548.3466104407614, 537.1062353659034, 533.7689566632055], \"yaxis\": \"y\"}],\n",
       "                        {\"autosize\": true, \"barmode\": \"relative\", \"legend\": {\"tracegroupgap\": 0}, \"template\": {\"data\": {\"bar\": [{\"error_x\": {\"color\": \"#2a3f5f\"}, \"error_y\": {\"color\": \"#2a3f5f\"}, \"marker\": {\"line\": {\"color\": \"#E5ECF6\", \"width\": 0.5}}, \"type\": \"bar\"}], \"barpolar\": [{\"marker\": {\"line\": {\"color\": \"#E5ECF6\", \"width\": 0.5}}, \"type\": \"barpolar\"}], \"carpet\": [{\"aaxis\": {\"endlinecolor\": \"#2a3f5f\", \"gridcolor\": \"white\", \"linecolor\": \"white\", \"minorgridcolor\": \"white\", \"startlinecolor\": \"#2a3f5f\"}, \"baxis\": {\"endlinecolor\": \"#2a3f5f\", \"gridcolor\": \"white\", \"linecolor\": \"white\", \"minorgridcolor\": \"white\", \"startlinecolor\": \"#2a3f5f\"}, \"type\": \"carpet\"}], \"choropleth\": [{\"colorbar\": {\"outlinewidth\": 0, \"ticks\": \"\"}, \"type\": \"choropleth\"}], \"contour\": [{\"colorbar\": {\"outlinewidth\": 0, \"ticks\": \"\"}, \"colorscale\": [[0.0, \"#0d0887\"], [0.1111111111111111, \"#46039f\"], [0.2222222222222222, \"#7201a8\"], [0.3333333333333333, \"#9c179e\"], [0.4444444444444444, \"#bd3786\"], [0.5555555555555556, \"#d8576b\"], [0.6666666666666666, \"#ed7953\"], [0.7777777777777778, \"#fb9f3a\"], [0.8888888888888888, \"#fdca26\"], [1.0, \"#f0f921\"]], \"type\": \"contour\"}], \"contourcarpet\": [{\"colorbar\": {\"outlinewidth\": 0, \"ticks\": \"\"}, \"type\": \"contourcarpet\"}], \"heatmap\": [{\"colorbar\": {\"outlinewidth\": 0, \"ticks\": \"\"}, \"colorscale\": [[0.0, \"#0d0887\"], [0.1111111111111111, \"#46039f\"], [0.2222222222222222, \"#7201a8\"], [0.3333333333333333, \"#9c179e\"], [0.4444444444444444, \"#bd3786\"], [0.5555555555555556, \"#d8576b\"], [0.6666666666666666, \"#ed7953\"], [0.7777777777777778, \"#fb9f3a\"], [0.8888888888888888, \"#fdca26\"], [1.0, \"#f0f921\"]], \"type\": \"heatmap\"}], \"heatmapgl\": [{\"colorbar\": {\"outlinewidth\": 0, \"ticks\": \"\"}, \"colorscale\": [[0.0, \"#0d0887\"], [0.1111111111111111, \"#46039f\"], [0.2222222222222222, \"#7201a8\"], [0.3333333333333333, \"#9c179e\"], [0.4444444444444444, \"#bd3786\"], [0.5555555555555556, \"#d8576b\"], [0.6666666666666666, \"#ed7953\"], [0.7777777777777778, \"#fb9f3a\"], [0.8888888888888888, \"#fdca26\"], [1.0, \"#f0f921\"]], \"type\": \"heatmapgl\"}], \"histogram\": [{\"marker\": {\"colorbar\": {\"outlinewidth\": 0, \"ticks\": \"\"}}, \"type\": \"histogram\"}], \"histogram2d\": [{\"colorbar\": {\"outlinewidth\": 0, \"ticks\": \"\"}, \"colorscale\": [[0.0, \"#0d0887\"], [0.1111111111111111, \"#46039f\"], [0.2222222222222222, \"#7201a8\"], [0.3333333333333333, \"#9c179e\"], [0.4444444444444444, \"#bd3786\"], [0.5555555555555556, \"#d8576b\"], [0.6666666666666666, \"#ed7953\"], [0.7777777777777778, \"#fb9f3a\"], [0.8888888888888888, \"#fdca26\"], [1.0, \"#f0f921\"]], \"type\": \"histogram2d\"}], \"histogram2dcontour\": [{\"colorbar\": {\"outlinewidth\": 0, \"ticks\": \"\"}, \"colorscale\": [[0.0, \"#0d0887\"], [0.1111111111111111, \"#46039f\"], [0.2222222222222222, \"#7201a8\"], [0.3333333333333333, \"#9c179e\"], [0.4444444444444444, \"#bd3786\"], [0.5555555555555556, \"#d8576b\"], [0.6666666666666666, \"#ed7953\"], [0.7777777777777778, \"#fb9f3a\"], [0.8888888888888888, \"#fdca26\"], [1.0, \"#f0f921\"]], \"type\": \"histogram2dcontour\"}], \"mesh3d\": [{\"colorbar\": {\"outlinewidth\": 0, \"ticks\": \"\"}, \"type\": \"mesh3d\"}], \"parcoords\": [{\"line\": {\"colorbar\": {\"outlinewidth\": 0, \"ticks\": \"\"}}, \"type\": \"parcoords\"}], \"pie\": [{\"automargin\": true, \"type\": \"pie\"}], \"scatter\": [{\"marker\": {\"colorbar\": {\"outlinewidth\": 0, \"ticks\": \"\"}}, \"type\": \"scatter\"}], \"scatter3d\": [{\"line\": {\"colorbar\": {\"outlinewidth\": 0, \"ticks\": \"\"}}, \"marker\": {\"colorbar\": {\"outlinewidth\": 0, \"ticks\": \"\"}}, \"type\": \"scatter3d\"}], \"scattercarpet\": [{\"marker\": {\"colorbar\": {\"outlinewidth\": 0, \"ticks\": \"\"}}, \"type\": \"scattercarpet\"}], \"scattergeo\": [{\"marker\": {\"colorbar\": {\"outlinewidth\": 0, \"ticks\": \"\"}}, \"type\": \"scattergeo\"}], \"scattergl\": [{\"marker\": {\"colorbar\": {\"outlinewidth\": 0, \"ticks\": \"\"}}, \"type\": \"scattergl\"}], \"scattermapbox\": [{\"marker\": {\"colorbar\": {\"outlinewidth\": 0, \"ticks\": \"\"}}, \"type\": \"scattermapbox\"}], \"scatterpolar\": [{\"marker\": {\"colorbar\": {\"outlinewidth\": 0, \"ticks\": \"\"}}, \"type\": \"scatterpolar\"}], \"scatterpolargl\": [{\"marker\": {\"colorbar\": {\"outlinewidth\": 0, \"ticks\": \"\"}}, \"type\": \"scatterpolargl\"}], \"scatterternary\": [{\"marker\": {\"colorbar\": {\"outlinewidth\": 0, \"ticks\": \"\"}}, \"type\": \"scatterternary\"}], \"surface\": [{\"colorbar\": {\"outlinewidth\": 0, \"ticks\": \"\"}, \"colorscale\": [[0.0, \"#0d0887\"], [0.1111111111111111, \"#46039f\"], [0.2222222222222222, \"#7201a8\"], [0.3333333333333333, \"#9c179e\"], [0.4444444444444444, \"#bd3786\"], [0.5555555555555556, \"#d8576b\"], [0.6666666666666666, \"#ed7953\"], [0.7777777777777778, \"#fb9f3a\"], [0.8888888888888888, \"#fdca26\"], [1.0, \"#f0f921\"]], \"type\": \"surface\"}], \"table\": [{\"cells\": {\"fill\": {\"color\": \"#EBF0F8\"}, \"line\": {\"color\": \"white\"}}, \"header\": {\"fill\": {\"color\": \"#C8D4E3\"}, \"line\": {\"color\": \"white\"}}, \"type\": \"table\"}]}, \"layout\": {\"annotationdefaults\": {\"arrowcolor\": \"#2a3f5f\", \"arrowhead\": 0, \"arrowwidth\": 1}, \"coloraxis\": {\"colorbar\": {\"outlinewidth\": 0, \"ticks\": \"\"}}, \"colorscale\": {\"diverging\": [[0, \"#8e0152\"], [0.1, \"#c51b7d\"], [0.2, \"#de77ae\"], [0.3, \"#f1b6da\"], [0.4, \"#fde0ef\"], [0.5, \"#f7f7f7\"], [0.6, \"#e6f5d0\"], [0.7, \"#b8e186\"], [0.8, \"#7fbc41\"], [0.9, \"#4d9221\"], [1, \"#276419\"]], \"sequential\": [[0.0, \"#0d0887\"], [0.1111111111111111, \"#46039f\"], [0.2222222222222222, \"#7201a8\"], [0.3333333333333333, \"#9c179e\"], [0.4444444444444444, \"#bd3786\"], [0.5555555555555556, \"#d8576b\"], [0.6666666666666666, \"#ed7953\"], [0.7777777777777778, \"#fb9f3a\"], [0.8888888888888888, \"#fdca26\"], [1.0, \"#f0f921\"]], \"sequentialminus\": [[0.0, \"#0d0887\"], [0.1111111111111111, \"#46039f\"], [0.2222222222222222, \"#7201a8\"], [0.3333333333333333, \"#9c179e\"], [0.4444444444444444, \"#bd3786\"], [0.5555555555555556, \"#d8576b\"], [0.6666666666666666, \"#ed7953\"], [0.7777777777777778, \"#fb9f3a\"], [0.8888888888888888, \"#fdca26\"], [1.0, \"#f0f921\"]]}, \"colorway\": [\"#636efa\", \"#EF553B\", \"#00cc96\", \"#ab63fa\", \"#FFA15A\", \"#19d3f3\", \"#FF6692\", \"#B6E880\", \"#FF97FF\", \"#FECB52\"], \"font\": {\"color\": \"#2a3f5f\"}, \"geo\": {\"bgcolor\": \"white\", \"lakecolor\": \"white\", \"landcolor\": \"#E5ECF6\", \"showlakes\": true, \"showland\": true, \"subunitcolor\": \"white\"}, \"hoverlabel\": {\"align\": \"left\"}, \"hovermode\": \"closest\", \"mapbox\": {\"style\": \"light\"}, \"paper_bgcolor\": \"white\", \"plot_bgcolor\": \"#E5ECF6\", \"polar\": {\"angularaxis\": {\"gridcolor\": \"white\", \"linecolor\": \"white\", \"ticks\": \"\"}, \"bgcolor\": \"#E5ECF6\", \"radialaxis\": {\"gridcolor\": \"white\", \"linecolor\": \"white\", \"ticks\": \"\"}}, \"scene\": {\"xaxis\": {\"backgroundcolor\": \"#E5ECF6\", \"gridcolor\": \"white\", \"gridwidth\": 2, \"linecolor\": \"white\", \"showbackground\": true, \"ticks\": \"\", \"zerolinecolor\": \"white\"}, \"yaxis\": {\"backgroundcolor\": \"#E5ECF6\", \"gridcolor\": \"white\", \"gridwidth\": 2, \"linecolor\": \"white\", \"showbackground\": true, \"ticks\": \"\", \"zerolinecolor\": \"white\"}, \"zaxis\": {\"backgroundcolor\": \"#E5ECF6\", \"gridcolor\": \"white\", \"gridwidth\": 2, \"linecolor\": \"white\", \"showbackground\": true, \"ticks\": \"\", \"zerolinecolor\": \"white\"}}, \"shapedefaults\": {\"line\": {\"color\": \"#2a3f5f\"}}, \"ternary\": {\"aaxis\": {\"gridcolor\": \"white\", \"linecolor\": \"white\", \"ticks\": \"\"}, \"baxis\": {\"gridcolor\": \"white\", \"linecolor\": \"white\", \"ticks\": \"\"}, \"bgcolor\": \"#E5ECF6\", \"caxis\": {\"gridcolor\": \"white\", \"linecolor\": \"white\", \"ticks\": \"\"}}, \"title\": {\"x\": 0.05}, \"xaxis\": {\"automargin\": true, \"gridcolor\": \"white\", \"linecolor\": \"white\", \"ticks\": \"\", \"title\": {\"standoff\": 15}, \"zerolinecolor\": \"white\", \"zerolinewidth\": 2}, \"yaxis\": {\"automargin\": true, \"gridcolor\": \"white\", \"linecolor\": \"white\", \"ticks\": \"\", \"title\": {\"standoff\": 15}, \"zerolinecolor\": \"white\", \"zerolinewidth\": 2}}}, \"title\": {\"text\": \"bla\", \"x\": 0.5}, \"xaxis\": {\"anchor\": \"y\", \"domain\": [0.0, 1.0], \"title\": {\"text\": \"term\"}}, \"yaxis\": {\"anchor\": \"x\", \"domain\": [0.0, 1.0], \"title\": {\"text\": \"rank\"}}},\n",
       "                        {\"responsive\": true}\n",
       "                    ).then(function(){\n",
       "                            \n",
       "var gd = document.getElementById('0bf744c9-73b7-4cda-855b-2f82367a34d9');\n",
       "var x = new MutationObserver(function (mutations, observer) {{\n",
       "        var display = window.getComputedStyle(gd).display;\n",
       "        if (!display || display === 'none') {{\n",
       "            console.log([gd, 'removed!']);\n",
       "            Plotly.purge(gd);\n",
       "            observer.disconnect();\n",
       "        }}\n",
       "}});\n",
       "\n",
       "// Listen for the removal of the full notebook cells\n",
       "var notebookContainer = gd.closest('#notebook-container');\n",
       "if (notebookContainer) {{\n",
       "    x.observe(notebookContainer, {childList: true});\n",
       "}}\n",
       "\n",
       "// Listen for the clearing of the current output cell\n",
       "var outputEl = gd.closest('.output');\n",
       "if (outputEl) {{\n",
       "    x.observe(outputEl, {childList: true});\n",
       "}}\n",
       "\n",
       "                        })\n",
       "                };\n",
       "                });\n",
       "            </script>\n",
       "        </div>"
      ]
     },
     "metadata": {},
     "output_type": "display_data"
    }
   ],
   "source": [
    "import plotly_express as px\n",
    "\n",
    "vectorizer = TfidfVectorizer(ngram_range = (1,3), min_df=5, max_df=.3, \n",
    "                             stop_words=['bbb', 'redebbb', 'do', 'rt', 'que', 'da', 'em', 'com', 'esse',\n",
    "                                         'eu', 'nao', 'de', 'no', 'pra', 'pro', 'uma', 'so', 'dos',\n",
    "                                         'ele', 'se','um', 'ta', 'vai', 'na', 'essa', 'me', 'meu',\n",
    "                                         'ja', 'ela', 'to', 'mais', 'mas', 'tem', 'por', 'quem', 'para',\n",
    "                                         'os', 'as', 'ser', 'ver', 'isso', 'como', 'quando','comecar',\n",
    "                                         'ai', 'ate', 'foi', 'voce', 'hoje', 'gente', 'muito', \n",
    "                                         'pq', 'agora', 'falando', 'casa', 'vamos', 'tudo', 'quero',\n",
    "                                         'dois', 'ter', 'minha', 'dia', 'esta', 'sobre', 'cara', 'aqui',\n",
    "                                         'ou', 'todo', 'vou', 'mesmo', 'dele', 'pelo', 'nem', 'nunca',\n",
    "                                         'video', 'ao', 'voces', 'ne', 'ainda', 'ne', 'pode', \n",
    "                                         'bigbrotherbrasil', 'realityshow', 'tv', 'via', 'entretenimento',\n",
    "                                         'reality', 'personalidade', 'pt', 'tirei', 'comeca', 'comecou', \n",
    "                                         'logo', 'edicao', 'alguem', 'amo', 'nada', 'mundo', 'vem', 'sair'], #['do','que', 'de', 'eu', 'bbb', 'para',\n",
    "                                    #      'rt', 'redebbb', 'festabbb'],\n",
    "                             \n",
    "                             max_features=50,\n",
    "                             )\n",
    "\n",
    "#X2 = vectorizer.fit_transform(df_train.loc[(df_train.country == country_var)]['description']) \n",
    "X2 = vectorizer.fit_transform(df['data_clean'].drop_duplicates()) \n",
    "\n",
    "features = (vectorizer.get_feature_names()) \n",
    "scores = (X2.toarray()) \n",
    "\n",
    "# Getting top ranking features \n",
    "sums = X2.sum(axis = 0) \n",
    "data1 = [] \n",
    "\n",
    "for col, term in enumerate(features): \n",
    "    data1.append( (term, sums[0,col] )) \n",
    "\n",
    "ranking = pd.DataFrame(data1, columns = ['term','rank']) \n",
    "words = (ranking.sort_values('rank', ascending = False))[:15]\n",
    "\n",
    "fig = px.bar(words, x='term', y='rank', title='bla')\n",
    "fig.update_layout(autosize=True, title_x=.5)"
   ]
  },
  {
   "cell_type": "code",
   "execution_count": null,
   "metadata": {},
   "outputs": [],
   "source": []
  },
  {
   "cell_type": "code",
   "execution_count": null,
   "metadata": {},
   "outputs": [],
   "source": [
    "import plotly_express as px\n",
    "\n",
    "vectorizer = TfidfVectorizer(ngram_range = (2,3), min_df=5, max_df=.3, \n",
    "                             stop_words=['bbb', 'redebbb', 'do', 'rt', 'que', 'da', 'em', 'com', 'esse',\n",
    "                                         'eu', 'nao', 'de', 'no', 'pra', 'pro', 'uma', 'so',\n",
    "                                         'ele', 'se','um', 'ta', 'vai', 'na', 'essa', 'me', 'meu',\n",
    "                                         'ja', 'ela', 'to', 'mais', 'mas', 'tem', 'por', 'quem', 'para',\n",
    "                                         'os', 'as', 'ser', 'ver', 'isso', 'como', 'quando','comecar',\n",
    "                                         'ai', 'ate', 'foi', 'voce', 'hoje', 'gente', 'muito', \n",
    "                                         'pq', 'agora', 'falando', 'casa', 'vamos', 'tudo', 'quero',\n",
    "                                         'dois', 'ter', 'minha', 'dia', 'esta', 'sobre', 'cara', 'aqui',\n",
    "                                         'ou', 'todo', 'vou', 'mesmo', 'dele', 'pelo', 'nem', 'nunca',\n",
    "                                         'video', 'ao', 'voces', 'ne', 'ainda', 'ne', 'pode', \n",
    "                                         'bigbrotherbrasil', 'realityshow', 'tv', 'via', 'entretenimento',\n",
    "                                         'reality', 'personalidade'], #['do','que', 'de', 'eu', 'bbb', 'para',\n",
    "                                    #      'rt', 'redebbb', 'festabbb'],\n",
    "                             \n",
    "                             max_features=50,\n",
    "                             )\n",
    "\n",
    "#X2 = vectorizer.fit_transform(df_train.loc[(df_train.country == country_var)]['description']) \n",
    "X2 = vectorizer.fit_transform(df['data_clean'].drop_duplicates()) \n",
    "\n",
    "features = (vectorizer.get_feature_names()) \n",
    "scores = (X2.toarray()) \n",
    "\n",
    "# Getting top ranking features \n",
    "sums = X2.sum(axis = 0) \n",
    "data1 = [] \n",
    "\n",
    "for col, term in enumerate(features): \n",
    "    data1.append( (term, sums[0,col] )) \n",
    "\n",
    "ranking = pd.DataFrame(data1, columns = ['term','rank']) \n",
    "words = (ranking.sort_values('rank', ascending = False))[:25]\n",
    "\n",
    "fig = px.bar(words, x='term', y='rank', title='bla')\n",
    "fig.update_layout(autosize=True, title_x=.5)"
   ]
  },
  {
   "cell_type": "code",
   "execution_count": null,
   "metadata": {},
   "outputs": [],
   "source": []
  },
  {
   "cell_type": "code",
   "execution_count": null,
   "metadata": {},
   "outputs": [],
   "source": []
  },
  {
   "cell_type": "code",
   "execution_count": 51,
   "metadata": {},
   "outputs": [
    {
     "data": {
      "text/plain": [
       "<Figure size 1600x800 with 1 Axes>"
      ]
     },
     "metadata": {},
     "output_type": "display_data"
    }
   ],
   "source": [
    "from sklearn.cluster import MiniBatchKMeans\n",
    "from sklearn.decomposition import PCA, TruncatedSVD\n",
    "import time\n",
    "import matplotlib.pyplot as plt\n",
    "\n",
    "#TF-IDF vectorizer\n",
    "tfv = TfidfVectorizer(stop_words = ['bbb', 'redebbb', 'do', 'rt'], ngram_range = (1,3), max_features=250)\n",
    "#transform\n",
    "vec_text = tfv.fit_transform(df['data_clean'])\n",
    "#returns a list of words.\n",
    "words = tfv.get_feature_names()\n",
    "\n",
    "# from sklearn.cluster import KMeans\n",
    "\n",
    "distortions = []\n",
    "K = range(2,25)\n",
    "for k in K:\n",
    "    kmeanModel = MiniBatchKMeans(n_clusters=k)\n",
    "    kmeanModel.fit(vec_text)\n",
    "    distortions.append(kmeanModel.inertia_)\n",
    "\n"
   ]
  },
  {
   "cell_type": "code",
   "execution_count": 52,
   "metadata": {},
   "outputs": [
    {
     "data": {
      "image/png": "[encoded data removed]",
      "text/plain": [
       "<Figure size 1152x576 with 1 Axes>"
      ]
     },
     "metadata": {
      "needs_background": "light"
     },
     "output_type": "display_data"
    }
   ],
   "source": [
    "plt.figure(figsize=(16,8))\n",
    "plt.plot(K, distortions, 'bx-')\n",
    "plt.xlabel('k')\n",
    "plt.ylabel('Distortion')\n",
    "plt.title('The Elbow Method showing the optimal k')\n",
    "plt.show()\n"
   ]
  },
  {
   "cell_type": "code",
   "execution_count": 57,
   "metadata": {},
   "outputs": [
    {
     "data": {
      "text/plain": [
       "'Apply the function to get aspects from reviews'"
      ]
     },
     "execution_count": 57,
     "metadata": {},
     "output_type": "execute_result"
    }
   ],
   "source": [
    "\"\"\"Define a function to extract keywords\"\"\"\n",
    "def get_aspects(x):\n",
    "    doc=nlp(x) ## Tokenize and extract grammatical components\n",
    "    doc=[i.text for i in doc if i.text not in ['bbb', 'redebbb', 'do', 'rt'] and i.pos_==\"NOUN\"] ## Remove common words and retain only nouns\n",
    "    doc=list(map(lambda i: i.lower(),doc)) ## Normalize text to lower case\n",
    "    doc=pd.Series(doc)\n",
    "    doc=doc.value_counts().head(5).index.tolist() ## Get 5 most frequent nouns\n",
    "    return doc\n",
    "\n",
    "\"\"\"Apply the function to get aspects from reviews\"\"\"\n"
   ]
  },
  {
   "cell_type": "code",
   "execution_count": 61,
   "metadata": {},
   "outputs": [
    {
     "data": {
      "text/plain": [
       "0                                [incomodo, flay]\n",
       "1                                      [problema]\n",
       "2                                  [prior, surto]\n",
       "3                       [pyong, manu, jogo, flay]\n",
       "4                       [ordem, desculpa, edicao]\n",
       "5                      [quarteto, falta, marcela]\n",
       "6             [prior, manu, acerto, naoo, semana]\n",
       "7                      [feio, crl, homem, branco]\n",
       "8            [gente, familia, thiago, vezes, cho]\n",
       "9         [interior, estao, vela, problema, vejo]\n",
       "10                                 [prior, surto]\n",
       "11    [flasblack, das, votacoes, boninho, victor]\n",
       "12           [gente, familia, thiago, vezes, cho]\n",
       "13        [pyong, visibilidade, merito, trabalho]\n",
       "14       [mundo, agressividade, to, pai, assunto]\n",
       "15                                 [apaixono, oi]\n",
       "16    [paredao, compensacao, voto, branco, saida]\n",
       "17                                    [foraprior]\n",
       "18                                      [marcela]\n",
       "19                   [mao, vezes, voz, tom, tira]\n",
       "20                   [mao, vezes, voz, tom, tira]\n",
       "21                          [victor, blusa, manu]\n",
       "22                                 [victor, manu]\n",
       "23                           [estado, chao, babu]\n",
       "24                     [marcela, chocante, amiga]\n",
       "Name: data_clean, dtype: object"
      ]
     },
     "execution_count": 61,
     "metadata": {},
     "output_type": "execute_result"
    }
   ],
   "source": [
    "df['data_clean'][:100].apply(get_aspects)[:25]"
   ]
  },
  {
   "cell_type": "code",
   "execution_count": null,
   "metadata": {},
   "outputs": [],
   "source": []
  },
  {
   "cell_type": "code",
   "execution_count": null,
   "metadata": {},
   "outputs": [],
   "source": []
  },
  {
   "cell_type": "code",
   "execution_count": 102,
   "metadata": {},
   "outputs": [
    {
     "ename": "SyntaxError",
     "evalue": "invalid syntax (<ipython-input-102-2c42a4e02c18>, line 1)",
     "output_type": "error",
     "traceback": [
      "\u001b[0;36m  File \u001b[0;32m\"<ipython-input-102-2c42a4e02c18>\"\u001b[0;36m, line \u001b[0;32m1\u001b[0m\n\u001b[0;31m    stop_words_pt =\u001b[0m\n\u001b[0m                    ^\u001b[0m\n\u001b[0;31mSyntaxError\u001b[0m\u001b[0;31m:\u001b[0m invalid syntax\n"
     ]
    }
   ],
   "source": [
    "stop_words_pt = "
   ]
  },
  {
   "cell_type": "code",
   "execution_count": null,
   "metadata": {},
   "outputs": [],
   "source": []
  },
  {
   "cell_type": "code",
   "execution_count": null,
   "metadata": {},
   "outputs": [],
   "source": [
    "stopwords_pt = ['de ', 'a ', 'o ', 'que ', 'e ', 'do ', 'da ', 'em ', 'um ',\n",
    "                'para ', 'é ', 'com ', 'não ', 'uma ', 'os ', 'no ', 'se ', 'na ',\n",
    "                'por ', 'mais ', 'as ', 'dos ', 'como ', 'mas ', 'foi ', 'ao ',\n",
    "                'ele ', 'das ', 'tem ', 'à ', 'seu ', 'sua ', 'ou ', 'ser ',\n",
    "                'quando ', 'muito ', 'há ', 'nos ', 'já ', 'está ', 'eu ',\n",
    "                'também ', 'só ', 'pelo ', 'pela ', 'até ', 'isso ', 'ela ',\n",
    "                'entre ', 'era ', 'depois ', 'sem ', 'mesmo ', 'aos ', 'ter ',\n",
    "                'seus ', 'quem ', 'nas ', 'me ', 'esse ', 'eles ', 'estão ',\n",
    "                'você ', 'tinha ', 'foram ', 'essa ', 'num ', 'nem ', 'suas ',\n",
    "                'meu ', 'às ', 'minha ', 'têm ', 'numa ', 'pelos ', 'elas ',\n",
    "                'havia ', 'seja ', 'qual ', 'será ', 'nós ', 'tenho ', 'lhe ',\n",
    "                'deles ', 'essas ', 'esses ', 'pelas ', 'este ', 'fosse ', 'dele ',\n",
    "                'tu ', 'te ', 'vocês ', 'vos ', 'lhes ', 'meus ', 'minhas', 'teu ',    \n",
    "                'tua', 'teus', 'tuas', 'nosso ', 'nossa', 'nossos', 'nossas',\n",
    "                'dela ', 'delas ', 'esta ', 'estes ', 'estas ', 'aquele ',\n",
    "                'aquela ', 'aqueles ', 'aquelas ', 'isto ', 'aquilo ', 'estou',\n",
    "                'está', 'estamos', 'estão', 'estive', 'esteve', 'estivemos',\n",
    "                'estiveram', 'estava', 'estávamos', 'estavam', 'estivera',\n",
    "                'estivéramos', 'esteja', 'estejamos', 'estejam', 'estivesse',\n",
    "                'estivéssemos', 'estivessem', 'estiver', 'estivermos', 'estiverem',\n",
    "                'hei', 'há', 'havemos', 'hão', 'houve', 'houvemos', 'houveram',\n",
    "                'houvera', 'houvéramos', 'haja', 'hajamos', 'hajam', 'houvesse',\n",
    "                'houvéssemos', 'houvessem', 'houver', 'houvermos', 'houverem',\n",
    "                'houverei', 'houverá', 'houveremos', 'houverão', 'houveria',\n",
    "                'houveríamos', 'houveriam', 'sou', 'somos', 'são', 'era', 'éramos',\n",
    "                'eram', 'fui', 'foi', 'fomos', 'foram', 'fora', 'fôramos', 'seja',\n",
    "                'sejamos', 'sejam', 'fosse', 'fôssemos', 'fossem', 'for', 'formos',\n",
    "                'forem', 'serei', 'será', 'seremos', 'serão', 'seria', 'seríamos',\n",
    "                'seriam', 'tenho', 'tem', 'temos', 'tém', 'tinha', 'tínhamos',\n",
    "                'tinham', 'tive', 'teve', 'tivemos', 'tiveram', 'tivera',\n",
    "                'tivéramos', 'tenha', 'tenhamos', 'tenham', 'tivesse',\n",
    "                'tivéssemos', 'tivessem', 'tiver', 'tivermos', 'tiverem', 'terei',\n",
    "                'terá', 'teremos', 'terão', 'teria', 'teríamos', 'teriam']"
   ]
  },
  {
   "cell_type": "code",
   "execution_count": 27,
   "metadata": {},
   "outputs": [
    {
     "name": "stdout",
     "output_type": "stream",
     "text": [
      "Collecting sqlalchemy_utils\n",
      "  Using cached https://files.pythonhosted.org/packages/85/d8/e889f8071c17773ca0ea3a67a4897ca008e7aff4e5bde0e5b9ef1ee29f1f/SQLAlchemy-Utils-0.36.1.tar.gz\n",
      "Requirement already satisfied: six in /home/leonardo/anaconda3/envs/tf_gpu2/lib/python3.7/site-packages (from sqlalchemy_utils) (1.12.0)\n",
      "Requirement already satisfied: SQLAlchemy>=1.0 in /home/leonardo/anaconda3/envs/tf_gpu2/lib/python3.7/site-packages (from sqlalchemy_utils) (1.3.12)\n",
      "Building wheels for collected packages: sqlalchemy-utils\n",
      "  Building wheel for sqlalchemy-utils (setup.py) ... \u001b[?25ldone\n",
      "\u001b[?25h  Created wheel for sqlalchemy-utils: filename=SQLAlchemy_Utils-0.36.1-py2.py3-none-any.whl size=89166 sha256=b7d89b72d87ff28fe0576f16c3d5ad818686315b48084b70225aef769ed1d74c\n",
      "  Stored in directory: /home/leonardo/.cache/pip/wheels/18/ea/5a/c08930dd718a5db6d2fbbaeaaf060646a8baeeb2722db34cb4\n",
      "Successfully built sqlalchemy-utils\n",
      "Installing collected packages: sqlalchemy-utils\n",
      "Successfully installed sqlalchemy-utils-0.36.1\n"
     ]
    }
   ],
   "source": [
    "! pip install sqlalchemy_utils"
   ]
  },
  {
   "cell_type": "code",
   "execution_count": null,
   "metadata": {},
   "outputs": [],
   "source": []
  },
  {
   "cell_type": "code",
   "execution_count": 37,
   "metadata": {},
   "outputs": [],
   "source": [
    "from tweepy import OAuthHandler\n",
    "from tweepy import API\n",
    "from tweepy import Stream, Status\n",
    "from sqlalchemy import create_engine\n",
    "from sqlalchemy_utils import database_exists, create_database\n",
    "from urllib3.exceptions import ProtocolError\n",
    "from slistener import SListener\n",
    "# from key_secret import consumer_key, consumer_secret\n",
    "# from key_secret import access_token, access_token_secret\n",
    "\n",
    "api_key = 'dHdgnBwOWMZOF07zH5u4pR1NJ'\n",
    "key_secret = 'VR1k0nyst8MzNdbAaNdjrVb1XpoRXZPn0JtBcrUv96KDxxeLeR'\n",
    "\n",
    "access_token = '832282389598576640-4Asg7n5UNmHPSDEfdn1FGvrmvkYx2gD'\n",
    "token_secret = 'vrSZ3yiraNCrfOFJ2kkWlG13WjECS0cqFL6690k05GXg3'\n",
    "\n",
    "# consumer key authentication\n",
    "auth = OAuthHandler(api_key, key_secret)\n",
    "# access key authentication\n",
    "auth.set_access_token(access_token, token_secret)\n",
    "# set up the API with the authentication handler\n",
    "api = API(auth)\n",
    "# instantiate the SListener object\n",
    "listen = SListener(api)\n",
    "# instantiate the stream object\n",
    "stream = Stream(auth, listen)"
   ]
  },
  {
   "cell_type": "code",
   "execution_count": 38,
   "metadata": {},
   "outputs": [
    {
     "ename": "TypeError",
     "evalue": "'Status' object is not iterable",
     "output_type": "error",
     "traceback": [
      "\u001b[0;31m---------------------------------------------------------------------------\u001b[0m",
      "\u001b[0;31mTypeError\u001b[0m                                 Traceback (most recent call last)",
      "\u001b[0;32m<ipython-input-38-ab4d43f851cc>\u001b[0m in \u001b[0;36m<module>\u001b[0;34m\u001b[0m\n\u001b[0;32m----> 1\u001b[0;31m \u001b[0;34m[\u001b[0m \u001b[0mi\u001b[0m \u001b[0;32mfor\u001b[0m \u001b[0mi\u001b[0m \u001b[0;32min\u001b[0m \u001b[0mStatus\u001b[0m\u001b[0;34m(\u001b[0m\u001b[0mstream\u001b[0m\u001b[0;34m)\u001b[0m \u001b[0;34m]\u001b[0m\u001b[0;34m\u001b[0m\u001b[0;34m\u001b[0m\u001b[0m\n\u001b[0m",
      "\u001b[0;31mTypeError\u001b[0m: 'Status' object is not iterable"
     ]
    }
   ],
   "source": [
    "[ i for i in Status(stream) ]"
   ]
  },
  {
   "cell_type": "code",
   "execution_count": 20,
   "metadata": {},
   "outputs": [
    {
     "ename": "NameError",
     "evalue": "name 'public_tweets' is not defined",
     "output_type": "error",
     "traceback": [
      "\u001b[0;31m---------------------------------------------------------------------------\u001b[0m",
      "\u001b[0;31mNameError\u001b[0m                                 Traceback (most recent call last)",
      "\u001b[0;32m<ipython-input-20-325c9709c3a6>\u001b[0m in \u001b[0;36m<module>\u001b[0;34m\u001b[0m\n\u001b[0;32m----> 1\u001b[0;31m \u001b[0mpublic_tweets\u001b[0m\u001b[0;34m[\u001b[0m\u001b[0;36m1\u001b[0m\u001b[0;34m]\u001b[0m\u001b[0;34m.\u001b[0m\u001b[0m_json\u001b[0m\u001b[0;34m.\u001b[0m\u001b[0mkeys\u001b[0m\u001b[0;34m(\u001b[0m\u001b[0;34m)\u001b[0m\u001b[0;34m\u001b[0m\u001b[0;34m\u001b[0m\u001b[0m\n\u001b[0m",
      "\u001b[0;31mNameError\u001b[0m: name 'public_tweets' is not defined"
     ]
    }
   ],
   "source": [
    "public_tweets[1]._json.keys()"
   ]
  },
  {
   "cell_type": "code",
   "execution_count": 79,
   "metadata": {},
   "outputs": [
    {
     "name": "stdout",
     "output_type": "stream",
     "text": [
      "&gt;@esportefera Panini promove evento para fãs da NBA em São Paulo; veja data e local https://t.co/wCqlppxIl7 https://t.co/6fFFzYlNQv\n",
      "Missas do papa Francisco serão feitas via transmissão na internet até o dia 15 de março https://t.co/CgrMMlEBKe #G1 https://t.co/7fYroUeKiz\n",
      "&gt;@EstadaoEsporte Palmeiras cede empate à Ferroviária e perde chance de assumir a liderança https://t.co/O5zcqeCSy4\n",
      "ATUALIZAÇÃO: Subiu para 19 o número de casos confirmados do novo coronavírus no Brasil https://t.co/4HUqa6zCxw https://t.co/Dz6Qfcgd5u\n",
      "RT @lorenagiostri: Por que você acha que a campanha foi expandida? \n",
      "\n",
      "Eu tenho muita certeza de que é porque ela é uma boa campanha, ajuda a…\n"
     ]
    }
   ],
   "source": [
    "public_tweets = api.home_timeline()\n",
    "\n",
    "for tweet in public_tweets[:5]:\n",
    "    print( tweet.text )"
   ]
  },
  {
   "cell_type": "code",
   "execution_count": 80,
   "metadata": {},
   "outputs": [
    {
     "data": {
      "text/plain": [
       "{'created_at': 'Sat Mar 07 22:24:00 +0000 2020',\n",
       " 'id': 1236417340633419782,\n",
       " 'id_str': '1236417340633419782',\n",
       " 'text': '&gt;@EstadaoEsporte Palmeiras cede empate à Ferroviária e perde chance de assumir a liderança https://t.co/O5zcqeCSy4',\n",
       " 'truncated': False,\n",
       " 'entities': {'hashtags': [],\n",
       "  'symbols': [],\n",
       "  'user_mentions': [{'screen_name': 'EstadaoEsporte',\n",
       "    'name': 'Estadão Esportes',\n",
       "    'id': 97293135,\n",
       "    'id_str': '97293135',\n",
       "    'indices': [4, 19]}],\n",
       "  'urls': [{'url': 'https://t.co/O5zcqeCSy4',\n",
       "    'expanded_url': 'http://bit.ly/2v8dOlO',\n",
       "    'display_url': 'bit.ly/2v8dOlO',\n",
       "    'indices': [94, 117]}]},\n",
       " 'source': '<a href=\"https://about.twitter.com/products/tweetdeck\" rel=\"nofollow\">TweetDeck</a>',\n",
       " 'in_reply_to_status_id': None,\n",
       " 'in_reply_to_status_id_str': None,\n",
       " 'in_reply_to_user_id': None,\n",
       " 'in_reply_to_user_id_str': None,\n",
       " 'in_reply_to_screen_name': None,\n",
       " 'user': {'id': 9317502,\n",
       "  'id_str': '9317502',\n",
       "  'name': 'Estadão',\n",
       "  'screen_name': 'Estadao',\n",
       "  'location': 'São Paulo',\n",
       "  'description': 'A versão on-line do jornal O Estado de S.Paulo. Acompanhe também as atualizações pelo Facebook: https://t.co/HTvjzaNfS6',\n",
       "  'url': 'https://t.co/kWyYloi1oN',\n",
       "  'entities': {'url': {'urls': [{'url': 'https://t.co/kWyYloi1oN',\n",
       "      'expanded_url': 'http://www.estadao.com.br',\n",
       "      'display_url': 'estadao.com.br',\n",
       "      'indices': [0, 23]}]},\n",
       "   'description': {'urls': [{'url': 'https://t.co/HTvjzaNfS6',\n",
       "      'expanded_url': 'http://fb.com/estadao',\n",
       "      'display_url': 'fb.com/estadao',\n",
       "      'indices': [96, 119]}]}},\n",
       "  'protected': False,\n",
       "  'followers_count': 6553177,\n",
       "  'friends_count': 56072,\n",
       "  'listed_count': 12310,\n",
       "  'created_at': 'Mon Oct 08 22:08:22 +0000 2007',\n",
       "  'favourites_count': 67,\n",
       "  'utc_offset': None,\n",
       "  'time_zone': None,\n",
       "  'geo_enabled': True,\n",
       "  'verified': True,\n",
       "  'statuses_count': 354124,\n",
       "  'lang': None,\n",
       "  'contributors_enabled': False,\n",
       "  'is_translator': False,\n",
       "  'is_translation_enabled': True,\n",
       "  'profile_background_color': 'EDECE9',\n",
       "  'profile_background_image_url': 'http://abs.twimg.com/images/themes/theme1/bg.png',\n",
       "  'profile_background_image_url_https': 'https://abs.twimg.com/images/themes/theme1/bg.png',\n",
       "  'profile_background_tile': False,\n",
       "  'profile_image_url': 'http://pbs.twimg.com/profile_images/930054894731579392/WGqwI8XJ_normal.jpg',\n",
       "  'profile_image_url_https': 'https://pbs.twimg.com/profile_images/930054894731579392/WGqwI8XJ_normal.jpg',\n",
       "  'profile_banner_url': 'https://pbs.twimg.com/profile_banners/9317502/1583525478',\n",
       "  'profile_link_color': '336699',\n",
       "  'profile_sidebar_border_color': 'D3D2CF',\n",
       "  'profile_sidebar_fill_color': 'E3E2DE',\n",
       "  'profile_text_color': '634047',\n",
       "  'profile_use_background_image': True,\n",
       "  'has_extended_profile': False,\n",
       "  'default_profile': False,\n",
       "  'default_profile_image': False,\n",
       "  'following': True,\n",
       "  'follow_request_sent': False,\n",
       "  'notifications': False,\n",
       "  'translator_type': 'none'},\n",
       " 'geo': None,\n",
       " 'coordinates': None,\n",
       " 'place': None,\n",
       " 'contributors': None,\n",
       " 'is_quote_status': False,\n",
       " 'retweet_count': 1,\n",
       " 'favorite_count': 13,\n",
       " 'favorited': False,\n",
       " 'retweeted': False,\n",
       " 'possibly_sensitive': False,\n",
       " 'possibly_sensitive_appealable': False,\n",
       " 'lang': 'pt'}"
      ]
     },
     "execution_count": 80,
     "metadata": {},
     "output_type": "execute_result"
    }
   ],
   "source": [
    "public_tweets[2]._json"
   ]
  },
  {
   "cell_type": "code",
   "execution_count": 104,
   "metadata": {},
   "outputs": [
    {
     "name": "stdout",
     "output_type": "stream",
     "text": [
      "Assalariado Opressor\n",
      "2\n",
      "28\n",
      "Bogotá\n",
      "\n",
      "JornalismoWando\n",
      "Natália Bonavides\n",
      "Angela Boldrini\n",
      "Andreza Delgado 🕶️ PerifaCon 11-12/04\n",
      "Marcos López de Prado\n",
      "Letícia Duarte\n",
      "Monica Benicio\n",
      "Startupdareal\n",
      "stand inimigo\n",
      "Escola de Dados\n",
      "Fausto Salvadori\n",
      "Phillipe Pessoa\n",
      "André Caramante\n",
      "Debora Diniz\n",
      "Mônica Bergamo\n",
      "Reinaldo Azevedo\n",
      "The Intercept Brasil\n",
      "Marcelo Freixo\n",
      "Edward Snowden\n",
      "Glenn Greenwald\n"
     ]
    }
   ],
   "source": [
    "user = api.get_user('divzera')\n",
    "\n",
    "print(user.name)\n",
    "print(user.followers_count)\n",
    "print(user.friends_count)\n",
    "print(user.location)\n",
    "# print(user.fol)\n",
    "print(\"\")\n",
    "for i in user.friends():\n",
    "    print(i.name)"
   ]
  },
  {
   "cell_type": "code",
   "execution_count": 106,
   "metadata": {
    "scrolled": false
   },
   "outputs": [
    {
     "name": "stdout",
     "output_type": "stream",
     "text": [
      "created_at\n",
      "Fri Mar 06 23:21:15 +0000 2020\n",
      "id\n",
      "1236069361431072770\n",
      "id_str\n",
      "1236069361431072770\n",
      "text\n",
      "RT @startupdareal: ORA ORA https://t.co/iRilCNWvSN\n",
      "truncated\n",
      "False\n",
      "entities\n",
      "{'hashtags': [], 'symbols': [], 'user_mentions': [{'screen_name': 'startupdareal', 'name': 'Startupdareal', 'id': 932675351913926656, 'id_str': '932675351913926656', 'indices': [3, 17]}], 'urls': [{'url': 'https://t.co/iRilCNWvSN', 'expanded_url': 'https://twitter.com/brazilianreport/status/1236037637502308361', 'display_url': 'twitter.com/brazilianrepor…', 'indices': [27, 50]}]}\n",
      "source\n",
      "<a href=\"https://mobile.twitter.com\" rel=\"nofollow\">Twitter Web App</a>\n",
      "in_reply_to_status_id\n",
      "None\n",
      "in_reply_to_status_id_str\n",
      "None\n",
      "in_reply_to_user_id\n",
      "None\n",
      "in_reply_to_user_id_str\n",
      "None\n",
      "in_reply_to_screen_name\n",
      "None\n",
      "geo\n",
      "None\n",
      "coordinates\n",
      "None\n",
      "place\n",
      "None\n",
      "contributors\n",
      "None\n",
      "retweeted_status\n",
      "{'created_at': 'Fri Mar 06 23:17:37 +0000 2020', 'id': 1236068449044049920, 'id_str': '1236068449044049920', 'text': 'ORA ORA https://t.co/iRilCNWvSN', 'truncated': False, 'entities': {'hashtags': [], 'symbols': [], 'user_mentions': [], 'urls': [{'url': 'https://t.co/iRilCNWvSN', 'expanded_url': 'https://twitter.com/brazilianreport/status/1236037637502308361', 'display_url': 'twitter.com/brazilianrepor…', 'indices': [8, 31]}]}, 'source': '<a href=\"http://twitter.com/download/iphone\" rel=\"nofollow\">Twitter for iPhone</a>', 'in_reply_to_status_id': None, 'in_reply_to_status_id_str': None, 'in_reply_to_user_id': None, 'in_reply_to_user_id_str': None, 'in_reply_to_screen_name': None, 'geo': None, 'coordinates': None, 'place': None, 'contributors': None, 'is_quote_status': True, 'quoted_status_id': 1236037637502308361, 'quoted_status_id_str': '1236037637502308361', 'retweet_count': 100, 'favorite_count': 907, 'favorited': True, 'retweeted': True, 'possibly_sensitive': False, 'lang': 'eu'}\n",
      "is_quote_status\n",
      "True\n",
      "quoted_status_id\n",
      "1236037637502308361\n",
      "quoted_status_id_str\n",
      "1236037637502308361\n",
      "retweet_count\n",
      "100\n",
      "favorite_count\n",
      "0\n",
      "favorited\n",
      "True\n",
      "retweeted\n",
      "True\n",
      "possibly_sensitive\n",
      "False\n",
      "lang\n",
      "eu\n"
     ]
    }
   ],
   "source": [
    "for i in user._json['status'].keys():\n",
    "    print(i)\n",
    "    print(user._json['status'][i])"
   ]
  },
  {
   "cell_type": "code",
   "execution_count": 92,
   "metadata": {},
   "outputs": [
    {
     "data": {
      "text/plain": [
       "{'id': 832282389598576640,\n",
       " 'id_str': '832282389598576640',\n",
       " 'name': 'Assalariado Opressor',\n",
       " 'screen_name': 'Divzera',\n",
       " 'location': 'Bogotá',\n",
       " 'profile_location': None,\n",
       " 'description': 'Bolado mas consciente.',\n",
       " 'url': None,\n",
       " 'entities': {'description': {'urls': []}},\n",
       " 'protected': False,\n",
       " 'followers_count': 2,\n",
       " 'friends_count': 28,\n",
       " 'listed_count': 0,\n",
       " 'created_at': 'Thu Feb 16 17:35:59 +0000 2017',\n",
       " 'favourites_count': 812,\n",
       " 'utc_offset': None,\n",
       " 'time_zone': None,\n",
       " 'geo_enabled': False,\n",
       " 'verified': False,\n",
       " 'statuses_count': 506,\n",
       " 'lang': None,\n",
       " 'status': {'created_at': 'Fri Mar 06 23:21:15 +0000 2020',\n",
       "  'id': 1236069361431072770,\n",
       "  'id_str': '1236069361431072770',\n",
       "  'text': 'RT @startupdareal: ORA ORA https://t.co/iRilCNWvSN',\n",
       "  'truncated': False,\n",
       "  'entities': {'hashtags': [],\n",
       "   'symbols': [],\n",
       "   'user_mentions': [{'screen_name': 'startupdareal',\n",
       "     'name': 'Startupdareal',\n",
       "     'id': 932675351913926656,\n",
       "     'id_str': '932675351913926656',\n",
       "     'indices': [3, 17]}],\n",
       "   'urls': [{'url': 'https://t.co/iRilCNWvSN',\n",
       "     'expanded_url': 'https://twitter.com/brazilianreport/status/1236037637502308361',\n",
       "     'display_url': 'twitter.com/brazilianrepor…',\n",
       "     'indices': [27, 50]}]},\n",
       "  'source': '<a href=\"https://mobile.twitter.com\" rel=\"nofollow\">Twitter Web App</a>',\n",
       "  'in_reply_to_status_id': None,\n",
       "  'in_reply_to_status_id_str': None,\n",
       "  'in_reply_to_user_id': None,\n",
       "  'in_reply_to_user_id_str': None,\n",
       "  'in_reply_to_screen_name': None,\n",
       "  'geo': None,\n",
       "  'coordinates': None,\n",
       "  'place': None,\n",
       "  'contributors': None,\n",
       "  'retweeted_status': {'created_at': 'Fri Mar 06 23:17:37 +0000 2020',\n",
       "   'id': 1236068449044049920,\n",
       "   'id_str': '1236068449044049920',\n",
       "   'text': 'ORA ORA https://t.co/iRilCNWvSN',\n",
       "   'truncated': False,\n",
       "   'entities': {'hashtags': [],\n",
       "    'symbols': [],\n",
       "    'user_mentions': [],\n",
       "    'urls': [{'url': 'https://t.co/iRilCNWvSN',\n",
       "      'expanded_url': 'https://twitter.com/brazilianreport/status/1236037637502308361',\n",
       "      'display_url': 'twitter.com/brazilianrepor…',\n",
       "      'indices': [8, 31]}]},\n",
       "   'source': '<a href=\"http://twitter.com/download/iphone\" rel=\"nofollow\">Twitter for iPhone</a>',\n",
       "   'in_reply_to_status_id': None,\n",
       "   'in_reply_to_status_id_str': None,\n",
       "   'in_reply_to_user_id': None,\n",
       "   'in_reply_to_user_id_str': None,\n",
       "   'in_reply_to_screen_name': None,\n",
       "   'geo': None,\n",
       "   'coordinates': None,\n",
       "   'place': None,\n",
       "   'contributors': None,\n",
       "   'is_quote_status': True,\n",
       "   'quoted_status_id': 1236037637502308361,\n",
       "   'quoted_status_id_str': '1236037637502308361',\n",
       "   'retweet_count': 96,\n",
       "   'favorite_count': 864,\n",
       "   'favorited': True,\n",
       "   'retweeted': True,\n",
       "   'possibly_sensitive': False,\n",
       "   'lang': 'eu'},\n",
       "  'is_quote_status': True,\n",
       "  'quoted_status_id': 1236037637502308361,\n",
       "  'quoted_status_id_str': '1236037637502308361',\n",
       "  'retweet_count': 96,\n",
       "  'favorite_count': 0,\n",
       "  'favorited': True,\n",
       "  'retweeted': True,\n",
       "  'possibly_sensitive': False,\n",
       "  'lang': 'eu'},\n",
       " 'contributors_enabled': False,\n",
       " 'is_translator': False,\n",
       " 'is_translation_enabled': False,\n",
       " 'profile_background_color': 'F5F8FA',\n",
       " 'profile_background_image_url': None,\n",
       " 'profile_background_image_url_https': None,\n",
       " 'profile_background_tile': False,\n",
       " 'profile_image_url': 'http://pbs.twimg.com/profile_images/833470574907289601/26MzjDLD_normal.jpg',\n",
       " 'profile_image_url_https': 'https://pbs.twimg.com/profile_images/833470574907289601/26MzjDLD_normal.jpg',\n",
       " 'profile_link_color': '1DA1F2',\n",
       " 'profile_sidebar_border_color': 'C0DEED',\n",
       " 'profile_sidebar_fill_color': 'DDEEF6',\n",
       " 'profile_text_color': '333333',\n",
       " 'profile_use_background_image': True,\n",
       " 'has_extended_profile': True,\n",
       " 'default_profile': True,\n",
       " 'default_profile_image': False,\n",
       " 'following': False,\n",
       " 'follow_request_sent': False,\n",
       " 'notifications': False,\n",
       " 'translator_type': 'none',\n",
       " 'suspended': False,\n",
       " 'needs_phone_verification': False}"
      ]
     },
     "execution_count": 92,
     "metadata": {},
     "output_type": "execute_result"
    }
   ],
   "source": [
    "user._json"
   ]
  },
  {
   "cell_type": "code",
   "execution_count": 40,
   "metadata": {},
   "outputs": [
    {
     "ename": "TypeError",
     "evalue": "'User' object is not subscriptable",
     "output_type": "error",
     "traceback": [
      "\u001b[0;31m---------------------------------------------------------------------------\u001b[0m",
      "\u001b[0;31mTypeError\u001b[0m                                 Traceback (most recent call last)",
      "\u001b[0;32m<ipython-input-40-74a349904703>\u001b[0m in \u001b[0;36m<module>\u001b[0;34m\u001b[0m\n\u001b[0;32m----> 1\u001b[0;31m \u001b[0muser\u001b[0m\u001b[0;34m[\u001b[0m\u001b[0;34m'source'\u001b[0m\u001b[0;34m]\u001b[0m\u001b[0;34m.\u001b[0m\u001b[0mfavorite_count\u001b[0m\u001b[0;34m\u001b[0m\u001b[0;34m\u001b[0m\u001b[0m\n\u001b[0m",
      "\u001b[0;31mTypeError\u001b[0m: 'User' object is not subscriptable"
     ]
    }
   ],
   "source": [
    "user['source'].favorite_count"
   ]
  },
  {
   "cell_type": "code",
   "execution_count": 41,
   "metadata": {},
   "outputs": [
    {
     "name": "stdout",
     "output_type": "stream",
     "text": [
      "RT @startupdareal: ORA ORA https://t.co/iRilCNWvSN 2020-03-06 23:21:15\n",
      "RT @Hendrix_Careta: Imagina quantas vezes a tortura ocorre sem que haja filmagens ou sem a coragem suficiente para divulgar as imagens?http… 2020-03-06 21:31:43\n",
      "RT @natbonavides: 😂 https://t.co/gPnS1Vl71Q 2020-03-06 21:30:04\n",
      "RT @MarceloBackes_: Vale lembrar.\n",
      "Lula não governa há 10 anos.\n",
      "O PT foi definitivamente boicotado há 6 anos e não governa há 4 anos.\n",
      "E a co… 2020-03-06 00:26:04\n",
      "RT @monicabergamo: Todos por um. https://t.co/EHcGEcP7Tb 2020-03-05 22:57:35\n",
      "RT @FaustoSalvadori: Imagina um policial abordar você e rasgar todo o dinheiro que você tem. Uma maldade dessas chega a ser surreal de tão… 2020-03-05 22:54:51\n",
      "RT @monicabergamo: Atenção: https://t.co/xvZlT6Dx3r 2020-03-05 19:55:15\n",
      "RT @zeca_dirceu: E agora José?\n",
      "\n",
      "A Justiça do RJ quebrou sigilo fiscal e bancário de Ronnie Lessa e Élcio Queiroz, acusados de matar Mariell… 2020-03-04 17:03:06\n",
      "@ContaRealAquino @andrezadelgado Isso mesmo... Engole o orgulho e continue puxando saco de quem realmente tem dinhe… https://t.co/nOui0yShdc 2020-03-04 17:01:52\n",
      "RT @coimbraricardo: O @cariocadelegado virou mesmo o Dilma Bolada do Bolsonaro. E, como dizíamos na época do Dilma Bolada, repetimos agora:… 2020-03-04 15:41:30\n",
      "@gtinocolh @phchem Esses 11 milhões devem ser de petistas, porque se observarmos a turma bolsominion vai achar que… https://t.co/tgZ7MhRyW0 2020-03-04 13:43:25\n",
      "@ContaRealAquino @andrezadelgado A internet é o lugar onde todo mundo pode ser o que quiser... Até uns pela saco co… https://t.co/77cQ96hou6 2020-03-04 12:27:27\n",
      "@ContaRealAquino @andrezadelgado Do jeito que você é otário, provavelmente tem uns 200 reais que colocou em bitcoin… https://t.co/JAP557TUnT 2020-03-04 12:25:41\n",
      "@ContaRealAquino @andrezadelgado Não sei se você entendeu, mas você é só um pé rapado que pensa se beneficiar com o… https://t.co/N3AOcV1804 2020-03-04 03:53:19\n",
      "@andrezadelgado @ContaRealAquino Sai dai esquerdista, ele é um dos que se beneficia com o capitalismo.... Afinal, e… https://t.co/TSYddwUpMY 2020-03-04 03:07:36\n",
      "RT @luide: Funciona assim:\n",
      "\n",
      "- com o dinheiro dos investidores, o app subsidia a diferença entre o que o cliente paga e o que o trabalhador… 2020-03-04 02:04:36\n",
      "RT @paulorobnetto: EXCLUSIVO. A CGU atendeu pedido da Secom e impediu a divulgação de relatórios de monitoramento de redes sociais feitas p… 2020-03-03 17:38:18\n",
      "RT @acacio1871: O processo democrático foi garantido na câmara estadual de São Paulo durante a votação da reforma da previdência dos servid… 2020-03-03 17:37:17\n",
      "RT @reinaldoazevedo: CE: afilhado de Moro e marido de Zambelli, coronel fala como líder de motim https://t.co/Sd4UVS1KHM via @UOLNoticias @… 2020-03-03 15:51:00\n",
      "RT @andrecaramante: Mãe de jovem morto em bloco de Carnaval diz que ele foi espancado por PMs - Vinicius S.Muller, 20, estava com o irmão e… 2020-03-03 15:50:13\n",
      "RT @JornalismoWando: Paulo, o influencer bolsominion que repudiava a mamata alheia, conseguiu hoje uma boquinha que lhe rende em torno de 1… 2020-03-02 15:14:14\n",
      "RT @brumelianebrum: 719 dias.\n",
      "Quem mandou matar Marielle?\n",
      "E por quê? 2020-03-02 15:11:45\n",
      "RT @tlmota: o cara fez um vídeo usando arroz pra gente ter uma ideia do tamanho da fortuna do jeff bezos, dono da amazon. cada grão de arro… 2020-03-02 15:09:52\n",
      "RT @monicabergamo: Retrocesso escandaloso: Terra Indígena Raposa Serra do Sol é invadida por garimpo ilegal de larga escala. Os indígenas s… 2020-02-29 00:02:38\n",
      "RT @xicosa: Moro vai atrás de punk e porteiro, mas não de miliciano  https://t.co/Fij93v7CCC via @UOLNoticias @UOL 2020-02-29 00:02:01\n",
      "RT @antifa1982: \"- Eu não ligo para o dólar a R$ 4,50, porque não tenho dívidas em dólar.\"\n",
      "\n",
      "Come pão? O trigo tem preço em dólar.\n",
      "Toma remé… 2020-02-28 19:11:16\n",
      "RT @pontejornalismo: Clayton Tomaz de Souza, o Alph, denunciava guardas da UFPB e foi encontrado morto com um tiro na nuca no dia 8 de feve… 2020-02-26 01:00:44\n",
      "@JornalismoWando @DaniloGentili  é tigrão com minorias e txutxuca com poderosos hahahahaha\n",
      "\n",
      "Qual é o limite do humo… https://t.co/efvhWAP2hx 2020-02-24 14:25:53\n",
      "RT @coimbraricardo: Professor desarmado fazendo greve: \n",
      "\"Porrada nesses vagabundo, estão tumultuando a vida do trabalhador, o direito de ir… 2020-02-21 03:44:34\n",
      "RT @MarceloFreixo: Agora a gente entende por que @SF_Moro ficou tão constrangido quando entreguei a ele o relatório da CPI das Milícias...… 2020-02-21 03:37:12\n",
      "Bandidos de farda à serviço de @jdoriajr;\n",
      "\n",
      "Esse tipo de policial representa a polícia, governador? https://t.co/iOChKEIiI5 2020-02-19 14:45:14\n",
      "RT @andrecaramante: Com a palavra, o senhor @jdoriajr ,governador e chefe da PM de SP #celularemlegitimadefesa https://t.co/SHfXMtoHrW 2020-02-19 14:44:38\n",
      "A policia do @jdoriajr .\n",
      "Parabéns pela ineficácia com os seus cidadao.\n",
      "É fácil ser tigrão contra pobre, mas txutxuc… https://t.co/6QKj0fA7fe 2020-02-19 12:35:22\n",
      "Quando o cinismo bate a porta... A mídia e os velhos oportunistas de plantão https://t.co/KEWflvYgWh 2020-02-19 12:31:01\n",
      "RT @anetoaneto: E assim que a polícia do @jdoriajr  serve, pra entrar dentro de uma escola e espancar os alunos. Todo dia uma violência pol… 2020-02-19 03:13:04\n",
      "RT @zeca_dirceu: Os “empregos” anunciados por PG e Bozo:\n",
      "\n",
      "Maria ganhava 2500 reais, agora está #desempregada, Jessica está no seu lugar, ga… 2020-02-18 12:28:15\n",
      "RT @monica_benicio: 706 dias sem Ela\n",
      "706 dias sem saber #QuemMandouMatarMarielle\n",
      "#JulgamentoJá 2020-02-18 12:27:00\n",
      "RT @monica_benicio: 705 dias sem Ela\n",
      "705 dias sem saber #QuemMandouMatarMarielle\n",
      "#JulgamentoJá 2020-02-17 12:48:29\n",
      "RT @BlogdoNoblat: Ao mandar que seu filho Flávio homenageasse o miliciano Adriano Nóbrega, disse Bolsonaro que, à época, Nóbrega ainda não… 2020-02-16 20:54:40\n",
      "https://t.co/fRxaGnpdRA Customers Churn Dashboard, a cool dashboard with Plotly Dash! #plotly #dash #trich.ai 2020-02-16 20:43:50\n",
      "Os bandidos cinicos de curitiba https://t.co/XwrERImruf 2020-02-15 13:20:31\n",
      "@phchem @BlogdoNoblat É curioso ver como essa turma não se compadece com ninguém, mas quando a água bate na bunda d… https://t.co/myfrXgkQdF 2020-02-14 15:41:17\n",
      "RT @jovensreacinhas: 2014:\n",
      "\"Dólar alto é péssimo\"\n",
      "2020:\n",
      "\"Dólar alto ajuda a economia\"\n",
      "\n",
      "2014:\n",
      "\"Salário mínimo tá uma esmola\"\n",
      "2020:\n",
      "\"Aumentar… 2020-02-14 03:10:41\n",
      "RT @andrecaramante: Família afirma que PM atirou no rosto e matou entregador de pizza em SP - Leandro da Silva, 25 anos, estava conversando… 2020-02-12 22:38:02\n",
      "RT @rafaelmmartins: A Folha não afirma que ele mentiu. A Folha PROVA que ele mentiu. Esse tipo de isentismo/doisladismo é descabido e só co… 2020-02-12 15:55:16\n",
      "@saintliberte @idkpaulo_ Realmente, o varejo está indo ótimo. \n",
      "os 13 milhoes de desempregados também vão bem.\n",
      "O 50%… https://t.co/U52xi3C9nX 2020-02-12 13:44:51\n",
      "RT @xicosa: Arquivo bom é arquivo morto Ou O homem que sabia demais. Na minha crônica de hoje\n",
      "https://t.co/AbClD4pAhZ 2020-02-12 12:25:43\n",
      "RT @Glauber_Braga: Mais de 100 unidades do sistema Petrobras aderiram à greve dos petroleiros. No entanto, os maiores veículos de comunicaç… 2020-02-12 12:18:11\n",
      "RT @MarceloFreixo: Por que a família Bolsonaro não fala nada sobre a morte do amigo e aliado Adriano da Nóbrega? https://t.co/5YKeTJaDFy 2020-02-12 02:47:02\n",
      "RT @GuilhermeBoulos: Garcia Márquez, Camus e Padura censurados pelo governo Doria.\n",
      "https://t.co/fTv4kHGlcd 2020-02-11 21:57:29\n",
      "RT @marcelorubens: \"Adriano? Que Adriano?\" https://t.co/F9E1yS6ZNs 2020-02-11 21:52:14\n",
      "RT @Maufalavigna: Já são 95 unidades da Petrobrás que aderiram à greve. Tô avisando aqui porque vocês não verão na tevê ou nos jornais. 2020-02-11 21:50:34\n",
      "RT @BlogdoNoblat: Delegado da PF que isentou Flávio de lavagem de dinheiro conhece família Bolsonaro há sete anos https://t.co/fUjO8Zk4G6 2020-02-11 17:09:48\n",
      "RT @jandira_feghali: VIRAM? BOLSONAROS E A MILÍCIA NA TV ABERTA! https://t.co/iO55LZE5U1 2020-02-11 15:13:32\n",
      "@excentricko Ele deve ganhar uma nota preta para isso... Já você compartilha, faz propaganda e acha engraçado só porque é bobo mesmo 2020-02-11 01:25:44\n",
      "RT @MongeHan: Detergente de côco bota todos detergentes pra mamar 2020-02-11 00:32:43\n",
      "RT @nave1964: Não posso deixar de prestar meus sinceros pêsames ao presidente @jairbolsonaro  e aos seus filhos pela morte do seu amigo, o… 2020-02-10 21:53:45\n",
      "RT @phchem: Então, sei lá, pessoal do #ForaDaniel #forapyong #forapetrix poderia dar um passo pra trás dessa tela do BBB e começar a aponta… 2020-02-09 19:05:41\n",
      "RT @vanessasoaresc4: Só p. lembrar: \n",
      "O miliciano Adriano da Nóbrega segundo o MP era amigo do Queiroz\n",
      "Sua mulher e sua mãe trabalharam no g… 2020-02-09 17:52:14\n",
      "RT @xicosa: Miliciano e Queiroz agiram juntos para obstruir investigação, diz MP-RJ https://t.co/5w9jsQvM9x via @UOLNoticias @UOL 2020-02-09 17:50:39\n"
     ]
    },
    {
     "name": "stdout",
     "output_type": "stream",
     "text": [
      "@phchem Se for pensar bem, o \"lado positivo\" dele estar desconfiado disso, é que eles podem ter se preparado para c… https://t.co/mlsPynWOTV 2020-02-09 15:29:29\n",
      "RT @phchem: Vamos ser honestos. As pessoas ainda nem começaram a perceber a perversidade e corrupção dos agentes do aparato de segurança. T… 2020-02-09 15:27:57\n",
      "@50ChicoAlencar Talvez agora a família dele decida abrir a boca, ou até mesmo o Queiroz, tentando não ser morto. 2020-02-09 14:35:49\n",
      "@deGaulledaPaz @phchem A dúvida que fica é:\n",
      "Quem mandou matar o Adriano? Será que houve realmente uma troca de tiro… https://t.co/qDMqzNyT5d 2020-02-09 14:32:16\n",
      "Queima de arquivo descarada #marielle #milicianos #bolsomilicia https://t.co/90a7btixfJ 2020-02-09 14:15:30\n",
      "RT @demori: Adriano da Nóbrega, líder de um grupo de matadores milicianos chamado Escritóro do Crime. Mãe e mulher dele trabalhavam pro Flá… 2020-02-09 14:14:48\n",
      "RT @jovensreacinhas: Eduardo Bolsonaro: 33 mil.\n",
      "\n",
      "Flávio Bolsonaro: 33 mil + o salário dos assessores.\n",
      "\n",
      "Carlos Bolsonaro: 20 mil.\n",
      "\n",
      "Bolsonaro… 2020-02-08 04:13:49\n",
      "RT @felipeneto: ATENÇÃO!\n",
      "\n",
      "Policial Militar q trabalha com deputado do PSL é um dos responsáveis pela viralização do vídeo falso e manipulad… 2020-02-08 01:00:56\n",
      "@saintliberte @hcastelo4 @idkpaulo_ ????? \n",
      "\n",
      "Do que está falando querido, só pra eu saber?\n",
      "\n",
      "Fique ai pagando de rico… https://t.co/a3oQ2NN0IA 2020-02-06 17:16:44\n",
      "@hcastelo4 @idkpaulo_ @saintliberte Falou ai o cheira bola de rico que nunca investiu, se bobear nem emprego tem, m… https://t.co/1nmyvNrKTR 2020-02-06 17:09:04\n",
      "@saintliberte E pode falar a verdade, você nem sabe o que é CNPJ né? Nunca pagou um boletinho de DARF né?\n",
      "Se bobear… https://t.co/KDJmZUX6d1 2020-02-06 17:06:57\n",
      "@saintliberte HAHAHAHAHAHAHAHAHA \n",
      "Não precisa se explicar não parsa.... \n",
      "\n",
      "Só é feio ficar pagando de \"investidor\",… https://t.co/TefqztNkwg 2020-02-06 17:06:10\n",
      "@idkpaulo_ @saintliberte O perfil adjetivador e raso que ambos demonstram, deixa claro que são zumbis repetindo dis… https://t.co/mgXTmdVQrK 2020-02-06 16:16:11\n",
      "@idkpaulo_ @saintliberte Nossa hein, como vocês são inteligentões... O comentário deixa claro o quanto são realment… https://t.co/HKJcpRpcy5 2020-02-06 16:14:00\n",
      "@saintliberte @idkpaulo_ Economia vai bem???!?!?! \n",
      "Em que país você mora, militante?\n",
      "Aliás, o que é \"economia ir be… https://t.co/VuHTaeLgkw 2020-02-06 15:50:01\n",
      "@saintliberte Fica pagando de investidor bem sucedido no twitter, mas comprou 25 ações no mercado fracionário rs Estamos de olho 2020-02-06 15:48:23\n",
      "RT @PatoCorporation: Pedalada deixou de ser dibre desde quando? https://t.co/1dG4jm9GeU 2020-02-04 22:10:19\n",
      "Bandidos de farda. https://t.co/gfNtgQ2oA8 2020-02-04 21:56:49\n",
      "RT @andrecaramante: “Ela tá grávida, moço!” Com a palavra @jdoriajr ,governador e chefe da PM de SP. Foi em São José do Rio Preto, interior… 2020-02-04 21:55:51\n",
      "RT @pablovillaca: Quando a pessoa, no afã de atacar um filme, lista omissões da narrativa... que ESTÃO na narrativa. Aliás, Petra chega a d… 2020-02-04 17:54:19\n",
      "RT @raullsantiago: “VOCÊ PRA MIM É LADRÃO, VOCÊ É VAGABUNDO ... COM ESSA DESGRAÇA DESSE CABELO AQUI”\n",
      "disse o policial e em seguida PUXA O C… 2020-02-03 23:51:17\n",
      "RT @YviMcarneiro: -O cara estudou em faculdade pública \n",
      "-O cara passou num concurso público \n",
      "-O cara tem uma mãe aposentada \n",
      "-O cara  já fe… 2020-02-03 12:13:26\n",
      "RT @izanildosabino: Por favor, assistam este vídeo, bem esclarecedor e pode ser útil. https://t.co/gXFrwHZ7LH 2020-02-03 03:15:09\n",
      "RT @zeca_dirceu: \"Quem matou Marielle? Quem mandou matar Marielle? Doutor @SF_Moro, é com você. Como vai a investigação sobre a morte de Ma… 2020-02-03 03:08:13\n",
      "RT @xicosa: se houvesse mínimo jornalismo, se houvesse, não há , não há, nunca houve, o caso Banestado havia matado a ideia do juiz Sergio… 2020-02-03 03:06:36\n",
      "RT @startupdareal: existe alguma justificativa pra uma ideia merda dessas? https://t.co/MWHIULMC9a 2020-02-03 03:04:56\n",
      "Os bandidos seletivos de Curitiba #MPPR #MoroProtegeCorruptos https://t.co/zxmlbDxQeq 2020-02-02 15:04:55\n",
      "RT @TheInterceptBr: O @PSDBoficial virou um puxadinho do grupo Lide, empresa de lobby da família Doria, que atua como sucursal do bolsonari… 2020-02-02 13:28:19\n",
      "RT @MarceloFreixo: Ou o ministro Moro é muito incompetente e esqueceu alguém que toda a Segurança Pública considera perigoso. Ou é pior, é… 2020-01-31 20:16:56\n",
      "RT @HaddadDebochado: @itau @badgallore O procedimento deve ser o mesmo do programa trainee que só selecionou brancos, né? RACISTAS DE MERDA… 2020-01-31 13:32:33\n",
      "@Med176 E você, tonto, continua lá esperando.\n",
      "Você nunca viu aquele lance do \"veio da cobra\"?\n",
      "\n",
      "O papel dele é justa… https://t.co/18TiTJwpag 2020-01-29 22:34:32\n",
      "@JulianoSouza26 @brasileirofirst A questão é: Controlam as pessoas através do medo, e para isso, criam um monte de… https://t.co/SGgq5opSYP 2020-01-29 21:21:27\n",
      "@JulianoSouza26 @brasileirofirst É só ele falar mal do PT 👻👻, Lula 👻👻 e do comunismo👻👻 que já era... \n",
      "\n",
      "O gado cai f… https://t.co/b3xAm4K3U3 2020-01-29 19:37:51\n",
      "@brasileirofirst Eles sabem que os mais ignorantes gostam de violência, de moralidade, de criticar corrupção, de se… https://t.co/MHksJcVcCA 2020-01-29 19:35:59\n",
      "@brasileirofirst Claro que se elege... Se bobear vira presidente ainda.\n",
      "\n",
      "Ele sabe muito bem explorar a burrice do B… https://t.co/m6HDtyCmDz 2020-01-29 19:34:07\n",
      "RT @GuilhermeBoulos: Acabei de ser informado que o MPF denunciou a mim, a Lula e a 3 militantes do MTST pela ocupação do triplex do Guarujá… 2020-01-29 19:29:45\n",
      "Oia o nível bisonho em que as coisas chegaram.... https://t.co/lRtvHFsqX1 2020-01-29 19:14:15\n",
      "@Cristia13308328 @monicabergamo Pera lá, você é gado (e pelo nick parece ser robo), o que é beeeeem diferente. 2020-01-29 00:54:10\n",
      "RT @BlogdoNoblat: [Abusam da credulidade das pessoas]\n",
      "Pastor ‘desafia’ fiéis a assinarem apoio a partido de Bolsonaro, em meio a culto\n",
      "Reve… 2020-01-29 00:51:32\n",
      "@DeyvisonFerrei7 @STF_oficial O certo é nao ser puxa saco de ninguém, trabalhar de forma séria, e sem sensacionalis… https://t.co/dMmFZUWflX 2020-01-28 22:53:10\n",
      "@DeyvisonFerrei7 @STF_oficial O Allan já deve estar milionário de tanto babar ovo e puxar saco dos poderosos... Já… https://t.co/duPi2WB395 2020-01-28 22:30:09\n",
      "RT @randolfeap: A sabotagem que houve foi na vida de milhares de estudantes que, diferente do presidente, passaram muito tempo estudando e… 2020-01-28 18:50:28\n",
      "RT @coimbraricardo: 10 anos de Twitter e já perdi a conta de quantas levas de jovens deslumbrados com o discurso da virtude que logo depois… 2020-01-28 15:01:29\n",
      "RT @andrecaramante: #celularemlegitimadefesa O cozinheiro está internado em estado grave, no Hospital Santa Marcelina. A está alojada a 3 c… 2020-01-28 14:17:13\n",
      "RT @andrecaramante: “Amanhã vou preso (...) para mim tanto faz. Para mim tanto faz”. Um cozinheiro, de 32 anos e morador do Jd. Nove de Jul… 2020-01-28 14:16:46\n",
      "RT @jovensreacinhas: Bozo diminui verbas p/ combater incêndios na Amazônia e as queimadas batem recorde:\n",
      "\"Foi o Leonardo di Caprio\"\n",
      "\n",
      "Bozo c… 2020-01-28 14:14:47\n",
      "@AUrussanga @luciano_hang 👻👻👻👻 Olha o comuniiiisssmoooo Buuhhhhhuhuuhuhuh 👻👻👻👻👻👻👻👻\n",
      "\n",
      "😂🤣😂🤣😂🤣😅😅\n",
      "\n",
      "👉🐮👉🐮👉 2020-01-28 02:05:25\n",
      "@AUrussanga @luciano_hang mimimimimimimimi esquerdistas mimimimim PT imimimimimi Lula mimimimimimimi \n",
      "\n",
      "Puxa mais o… https://t.co/El1w5QOxWm 2020-01-28 02:04:25\n",
      "@ferrasergio 👻👻👻👻👻👻👻👻 BuUUUuuUuUuUuUHhHHhhHHhHHH Olha o comunismooooo 👻👻👻👻👻👻👻 BuUUUuuuUUUuUuUuUHhHHhHHhHHH Olha o c… https://t.co/PtZjbfckY1 2020-01-28 00:54:43\n",
      "RT @phchem: VEJAM GENTE!! OLHA O QUE ESTÁ ACONTECENDO! Os estudantes precisam de ajuda! Docentes bolsonaristas estão se organizando e os es… 2020-01-27 20:00:03\n",
      "@EvaldoA51834604 @Bolsoneas @wilsonwitzel Pois é... Eles viviam fazendo isso contra o Lula e agora fazem contra o Bolso também 2020-01-27 12:50:52\n",
      "@Bolsoneas @wilsonwitzel Nao entendi... O Witzel ta comendo o Mourão ou o Mourão ta comendo o Witzel? 2020-01-27 12:50:12\n",
      "@_comentaduds Sensata não, ela tem interesse em que o marido dela seja visto o máximo possível como bonzinho... Afi… https://t.co/wuTJVJiRtO 2020-01-27 12:13:46\n",
      "RT @parox40: Dão um golpe no partido do cidadão, criam um processo para prendê-lo e tirá-lo da disputa eleitoral, num caso clássico de lawf… 2020-01-27 02:20:46\n",
      "RT @phchem: URGENTE!! MAIS UMA DERROTA DO GOVERNO E DO MINISTRO WEINTRAUB\n",
      "\n",
      "O TRF-3 negou pedido para que fosse mantida a divulgação do resu… 2020-01-27 02:18:26\n",
      "Alguém ai falou em #ANORMAL????\n",
      "Vejam esse clipe genial do Residente Calle 13\n",
      "\n",
      "https://t.co/4YM7UODOaP 2020-01-26 19:05:54\n",
      "RT @demori: No ano passado a Suzane teve a cara de pau de detonar a importância da Vaza Jato em pleno auge das matérias em uma mesa de cong… 2020-01-26 13:55:27\n",
      "RT @RodLago: A ex-presidente Dilma sofreu o golpe em maio de 2016, afastada da Presidência, e cassada em agosto de 2016. Ou seja, há 3 anos… 2020-01-25 19:33:44\n",
      "RT @cristinaarfrei1: \"Por que a Regina Duarte é a eterna namoradinha do Brasil?\n",
      "\n",
      "Porque se ela casar ela perde a pensão.\" 2020-01-25 19:33:08\n"
     ]
    },
    {
     "name": "stdout",
     "output_type": "stream",
     "text": [
      "Ele sabe que pro gado, é só falar que é coisa do PT, do Lula ou de \"esquerdista\" e os bocó tudo sai repetindo hahah… https://t.co/O2xqrLqCqr 2020-01-25 04:32:23\n",
      "@anarcomiguxos Ele podia ter mostrado como é no SACO DO BOLSONARO 2020-01-25 03:45:00\n",
      "@CaioFreduzeski Até porque ficaria muito feio falar que faz porque dá grana... Até o Paulo Lehman tem história tris… https://t.co/D3uQvzcI22 2020-01-25 03:42:40\n",
      "@ronaldozanella1 @Rconstantino Vamos avisar ao Tutinha para colocar apenas pessoas que falem coisas qeu você gosta.… https://t.co/72nuulgp3Y 2020-01-23 13:39:48\n",
      "@Rconstantino mimimimimimimimi vai chorar é?\n",
      "\n",
      "Só fala merda e vomita essas ideologias furadas ai... \n",
      "O seu \"trabalh… https://t.co/uUsqQcD5zv 2020-01-23 12:49:21\n",
      "@Estadao @brpolitico Eu fico imaginando que tipo de assunto esse povo conversa.... Fica um fingindo que ta explican… https://t.co/eJEyl750Ez 2020-01-23 02:11:57\n",
      "@eltonsvieira @Rconstantino E que fique claro que não estou defendendo nenhum lado nem outro, apenas pontuando que… https://t.co/ZN5KjOOijU 2020-01-23 02:07:30\n",
      "@eltonsvieira @Rconstantino Se você não vê diferença nos discursos, presumo que você tem uma grande incapacidade de… https://t.co/b2r5mMobyn 2020-01-23 02:06:37\n",
      "@eltonsvieira @Rconstantino mimimimimi São discursos beeeem diferentes que visam objetivos opostos... Querer coloca… https://t.co/0qps0iI6hT 2020-01-23 02:05:35\n",
      "RT @demori: Procurador usou diálogo que PF já tinha analisado e que, sobre ele, tinha escrito em inquérito: \"Não é possível identificar a p… 2020-01-21 17:48:09\n",
      "RT @andrecaramante: Caro @jdoriajr ,governador e chefe da PM, a palavra é sua. Para ajudar: os PMs são ali do Capão Redondo (zona sul de SP… 2020-01-21 17:24:05\n",
      "RT @jnascim: @SF_Moro @demori @pbbianchi @Cecillia @rafaelmmartins @amandafaudi \"Não cabe a um ministro da @JusticaGovBR ser comentarista s… 2020-01-21 03:29:25\n",
      "RT @raullsantiago: Família, não sei vocês estão acompanhando, mas, O MOTOBOY DE BRASÍLIA ESTÁ SENDO PERSEGUIDO por conta do esculacho do PO… 2020-01-21 03:16:09\n",
      "@Jeffematias @DireitoLibertr1 @contaneves @o_antagonista Torça para o canhão de funcionários públicos como o Moro e… https://t.co/DZUN7FUAXA 2020-01-20 19:29:52\n",
      "@Jeffematias @DireitoLibertr1 @contaneves @o_antagonista Mas enfim, não da pra esperar inteligencia e nem coerência… https://t.co/UOSfok29v1 2020-01-20 19:28:26\n",
      "@Jeffematias @DireitoLibertr1 @contaneves @o_antagonista Talvez te falte entender um mínimo de como funciona o dire… https://t.co/64vERNuM28 2020-01-20 19:25:48\n",
      "#ForaPT #ForaComunismo 👻👻👻👻\n",
      "\n",
      "👉🐮👉🐮👉 https://t.co/a5tIRWLw9O 2020-01-20 18:24:58\n",
      "RT @AndrewDFish: Algum jornalista vai citar essa nova matéria da #VazaJato hoje na Roda Vida? 2020-01-20 18:21:53\n",
      "@Markurgh É triste... Mas digamos que pode haver um ponto bastante positivo nisso. Vão mexer com os jovens que já s… https://t.co/d6amEBeC6b 2020-01-20 15:54:52\n",
      "@DireitoLibertr1 @contaneves @o_antagonista HAHAHAHAHAHAHAHAHAHAHAHAHAHAHA\n",
      "Que é normal, todo mundo sabe, mas que é… https://t.co/LHbY3Xlxfh 2020-01-20 15:50:43\n",
      "RT @contaneves: Resumo da nova #VazaJato:\n",
      "- Lava Jato usou @o_antagonista para promover suas agendas\n",
      "- @o_antagonista quis direcionar inves… 2020-01-20 15:49:28\n",
      "RT @TheInterceptBr: Documento confidencial mostra que Cultura vai continuar pregando ideais nazistas mesmo sem Roberto Alvim https://t.co/c… 2020-01-20 03:09:47\n",
      "RT @erahsfeliz: Eu estava na garupa da moto de um amigo branco. Eu tinha um rasta enorme. A polícia parou-nos. Eles achavam que eu estava a… 2020-01-19 18:57:43\n",
      "RT @jovensreacinhas: Segundo Olavo de Carvalho, Alvim foi vítima de esquerdistas infiltrados que armaram para o secretário usando técnicas… 2020-01-19 18:53:02\n",
      "É curioso como a turma que chama tudo e a todos de \"comunistas\" e \"socialistas\" com conotação negativa e tentando i… https://t.co/mpxpy8ZRSt 2020-01-19 16:06:02\n",
      "@gerdwenzel Dai depois da profecia/milagre, vai vir a hora de \"passar o chapéu\":\n",
      "\"Não bata palma, não... Bata a mão… https://t.co/Jvl2pgoEx7 2020-01-19 15:57:15\n",
      "@rosaguedes1 @Rconstantino @TwitterBrasil mimimimimimimimimi Chola maaaaaisssss, otário\n",
      "VocÊ apoia discurso odioso… https://t.co/GWxm1u48G4 2020-01-19 15:53:51\n",
      "@eltonsvieira @Rconstantino Também não há diferença entre eles e imbecis \"radicais de centro\" como você. \n",
      "Querer co… https://t.co/wbvookiZdJ 2020-01-19 15:53:42\n",
      "@simacari @Rconstantino mimimimimimimimimi Chola maaaaaisssss, otário\n",
      "VocÊ apoia discurso odioso contra todo mundo,… https://t.co/YA4PnRsClH 2020-01-19 15:52:06\n",
      "@Rconstantino mimimimimimimimimi Chola maaaaaisssss, otário\n",
      "VocÊ apoia discurso odioso contra todo mundo, mas quand… https://t.co/bciVYIHqFq 2020-01-19 15:51:51\n",
      "@Gersonfersfilho @Rconstantino mimimimimimimimimi Chola maaaaaisssss, otário\n",
      "\n",
      "VocÊ apoia discurso odioso contra tod… https://t.co/DFJmdbZ1XN 2020-01-19 15:50:35\n",
      "@ThiagoBatistaR3 @Rconstantino mimimimimimimimimi Chola maaaaaisssss, otário\n",
      "\n",
      "VocÊ apoia discurso odioso contra tod… https://t.co/NslnSCjWQ1 2020-01-19 15:50:25\n",
      "@AntiPtralha @Rconstantino mimimimimimimimimi Chola maaaaaisssss, otário\n",
      "\n",
      "VocÊ apoia discurso odioso contra todo mu… https://t.co/eSxClkCQiJ 2020-01-19 15:50:16\n",
      "@danieldacol @Rconstantino @Twitter mimimimimimimimimi Chola maaaaaisssss, otário\n",
      "\n",
      "VocÊ apoia discurso odioso contr… https://t.co/8MwWhgO14Q 2020-01-19 15:50:10\n",
      "@nikacamposb @Rconstantino E o seu é a inocência ou desonestidade intelectual....\n",
      "Afinal, você apoia discurso odios… https://t.co/MgploJv0zp 2020-01-19 15:49:27\n",
      "@rodovalhojoao @Rconstantino E vocÊ apoia discurso odioso contra todo mundo, mas quando é contra o SEU GRUPINHO dai… https://t.co/8HT9EKIZ39 2020-01-19 15:48:35\n",
      "@jpaulocmendonca @Rconstantino E vocÊ apoia discurso odioso contra todo mundo, mas quando é contra o SEU GRUPINHO d… https://t.co/GYc2iMBDCE 2020-01-19 15:48:25\n",
      "@jairfmr @Rconstantino E vocÊ apoia discurso odioso contra todo mundo, mas quando é contra o SEU GRUPINHO dai você… https://t.co/pynCqwAht9 2020-01-19 15:48:17\n",
      "@predo_pg Ta bom, ta bom, desculpa.... Vou arrumar:\n",
      "Cheira saco de Irlandŝe cusão kkkkkk\n",
      "Do jeito que ele é bababa,… https://t.co/lM3n45BLaS 2020-01-19 13:34:14\n",
      "@wwwcrisosth @predo_pg caraaaaaaaaaaaai mano, que mancada hein? Dá zero para ele, como alguém consegue confundir um… https://t.co/4gZr06KGtW 2020-01-19 13:33:24\n",
      "@predo_pg Cheira saco de americano cusão kkkkkk\n",
      "Do jeito que ele é bababa, pra ele você é um verme do 3º mundo, cid… https://t.co/IStN20hMWr 2020-01-19 04:19:01\n",
      "@gospelmente SEja uma ovelhinha mesmo, faça o trabalho de \"advogado\" de jesus, enquanto os seus pastores enriquecem… https://t.co/QBhYXar0WE 2020-01-18 18:24:27\n",
      "@Leo_bae @Andr01969726 @Estadao Você simpmesmente não entende nada de política.... Política é baseada nisso. \n",
      "\n",
      "Quem… https://t.co/TdBVAzFaUE 2020-01-18 03:54:29\n",
      "@Leo_bae @Andr01969726 @Estadao É tipo o PT exigir que o Moro faça auto crítica e todos petistas embarcarem nessa i… https://t.co/2rQu6yPw73 2020-01-17 22:34:34\n",
      "@Leo_bae @Andr01969726 @Estadao Quantos posts você consegue fazer sem falar do Lula/PT, chapa? hahahaha\n",
      "Quantas vez… https://t.co/8HMdC1pFGL 2020-01-17 22:33:28\n",
      "@JpCardosoXX @FreijorgeJ @Mirianfisiot42 @whycaio @davi_cdutra @Estadao HAHAHAHAHA Mais retardado ainda rs\n",
      "Ma diz a… https://t.co/gROuaPbsbk 2020-01-17 21:57:19\n",
      "@JpCardosoXX @FreijorgeJ @Mirianfisiot42 @whycaio @davi_cdutra @Estadao Isso ai, bora trabalhar de graça para os po… https://t.co/E5dDmhZ415 2020-01-17 21:05:35\n",
      "@marcelorubens Resumindo... Ele ter copiado foi apenas um detalhe, ele realmente pensa como um nazista, não foi ape… https://t.co/SEGVozp1ZE 2020-01-17 17:35:33\n",
      "RT @andrecaramante: O homem fugia e foi baleado pelas costas. Com a palavra, o senhor governador @jdoriajr ,chefe da PM de SP.  No final do… 2020-01-17 17:19:31\n",
      "@alexcastro_de Eu aposto na ignorância/burrice mesmo... Para muuuuuuuuuuuuuuuuuuuuuuuuitos a \"guerra\" é simplesment… https://t.co/o9GHzIOGCq 2020-01-17 13:53:00\n",
      "País de birutas alienados, comandando o gado irracional https://t.co/CUGakKNpQZ 2020-01-17 13:45:22\n",
      "@fabianosilva75 Bandido não, desculpa. \n",
      "Enquanto você chupa o saco:\n",
      "- Ele é só um senhor que pega escondido um dinh… https://t.co/jFJP9Xhtsv 2020-01-17 13:41:11\n",
      "RT @raullsantiago: #SOS EM SÃO PAULO. \n",
      "Essa pessoa sendo agredida e presa pela polícia é minha amiga @andrezadelgado do @PerifaCon. Por fav… 2020-01-17 13:27:28\n",
      "@fabianosilva75 É uma pena você não estar recebendo uma comissãozinha do lucro do cara hein =( \n",
      "Baba mais o ovo por… https://t.co/SZOk8Tey1r 2020-01-17 01:05:08\n",
      "@fabianosilva75 hahahaha Pois é, tem até otário que criticava o PT e agora ta defendendo os bandidos direita 2020-01-17 01:04:07\n",
      "@BastidoresDaTV Mas para os minions, tudo bem a Globo receber menos das verbas de publicidade, afinal, \"não é do be… https://t.co/YpaMMemM4P 2020-01-17 00:35:17\n",
      "@fabianosilva75 É isso ai... Bora defender o dinheiro dos nossos bandidos de estimação https://t.co/a7ssHEgigw 2020-01-17 00:32:53\n",
      "@Iacer4 Resumindo, ele só sabia que o gado era fácil de convencer rs 2020-01-17 00:30:14\n",
      "@jorgewski12 @tiburzio @JornalOGlobo hahahaha Tem uma empresinha de fundo de quintal, em uma cidade pequena quase l… https://t.co/IEhEUQ0MAN 2020-01-16 13:39:36\n",
      "@jorgewski12 @tiburzio @JornalOGlobo E caso discorde da ação do casal, envie uma carta para a Rainha te aceitar no… https://t.co/RWq4FZ4znY 2020-01-16 12:59:20\n"
     ]
    },
    {
     "name": "stdout",
     "output_type": "stream",
     "text": [
      "@jorgewski12 @tiburzio @JornalOGlobo A feminazi tem mais dinheiro que você e toda sua família somado vão ter na ete… https://t.co/l8v3kDZ6W7 2020-01-16 12:58:38\n",
      "@_Fabinhu_R_ @JornalOGlobo Ela sozinha fez mais dinheiro que você e toda sua família fizeram e vão fazer pela etern… https://t.co/BKwoRKQyAN 2020-01-16 12:57:00\n",
      "@FaustoSalvadori @PMESP @jdoriajr Será que a 20 - 50m dali, em qualquer um dos prédios de \"Bacana\", isso seria poss… https://t.co/E71a7KX0ym 2020-01-16 12:55:05\n",
      "Existem poucas pessoas mais entusiastas de direitos humanos e presunção de inocência do que um Bolsominion.... \n",
      "Ele… https://t.co/MJHu2ZhTxi 2020-01-16 12:48:08\n",
      "@barbaragancia Poucas coisas são mais vitimistas do que um \"cidadão de bem\" ser pego com a boca na butija... O mais… https://t.co/SUKlQnQfMO 2020-01-16 02:30:45\n",
      "@BrazilFight “Vou continuar enfrentando grupos monopolistas e poderosos”, diz Wajngarten, o chefe da Secom do gover… https://t.co/duqLRQbFez 2020-01-16 02:28:16\n",
      "RT @djairgalvao: “Vou continuar enfrentando grupos monopolistas e poderosos”, diz Wajngarten, o chefe da Secom do governo Bolsonaro que dis… 2020-01-16 02:27:05\n",
      "RT @amandafaudi: Resumo: Record e Band dão dinheiro todo mês para o chefe da comunicação de Bolsonaro.  Ele manda dinheiro público de publi… 2020-01-16 02:20:21\n",
      "@PatoCorporation @phchem SE eles realmente ganhassem algo e tivessem o tal do iate, eu até concordaria... Mas acho… https://t.co/to3viphUne 2020-01-15 20:20:05\n",
      "@riico_porto @BlogdoNoblat E claro que vc é incapaz de perceber qualquer coisa... Você não fede e nem cheira, traba… https://t.co/aUlnPI5wTa 2020-01-14 23:23:24\n",
      "@riico_porto @BlogdoNoblat Nossa hein, agora, graças a deus estamos livres dessa \"corja\" né não?! HHAHAH\n",
      "Essa turma… https://t.co/SRedAHaTRI 2020-01-14 23:22:30\n",
      "@NeloVelo @BlogdoNoblat E eu sei que o seu interesse era \"genuino\" até porque você não fede e nem cheira... É só um… https://t.co/05vbzxoQC6 2020-01-14 23:19:58\n",
      "@NeloVelo @BlogdoNoblat Que auto estima hein?! Sua \"vontade\" foi fabricada pela mídia... esssa mesma mídia que agor… https://t.co/9Db1mjmt7h 2020-01-14 23:18:59\n",
      "@DalilaOliveiraR @BlogdoNoblat Um premio para quem foi manipulado pelos grupos como: Vem pra Rua, MBL, PSDB, MDB, D… https://t.co/Ov0SxryzF5 2020-01-14 18:21:16\n",
      "@guilhermepgroch @BlogdoNoblat Eu também nao curti, mas será que ele não te incomoda por ficar evidente que voce fo… https://t.co/6dQLcRP74Z 2020-01-14 18:19:35\n",
      "@Albert_Principe @BlogdoNoblat Verdade... Esses lixos ai encheram nossos livros de coisa escrita, onde já se viu... Fora esquerdisssstas 2020-01-14 18:18:24\n",
      "@NeloVelo @BlogdoNoblat E não passa pela sua cabeça que talvez você tenha sido um dos milhões que foram feitos de t… https://t.co/XTSG953OdK 2020-01-14 18:17:45\n",
      "@NeloVelo @BlogdoNoblat Ué, você acredita até num juiz que fez esquema para conseguir ganhar cargo de ministro, mas… https://t.co/MriRLLYNmZ 2020-01-14 18:17:38\n",
      "@MarciaSAlmeida @BlogdoNoblat E não passa pela sua cabeça que talvez você tenha sido um dos milhões que foram feito… https://t.co/nbobaDEab7 2020-01-14 18:16:42\n",
      "@Ronaldo36398313 @BlogdoNoblat E não passa pela sua cabeça que talvez você tenha sido um dos milhões que foram feit… https://t.co/AgOc2AmjKo 2020-01-14 18:16:34\n",
      "@sampaio19091 @BlogdoNoblat E não passa pela sua cabeça que talvez você tenha sido um dos milhões que foram feitos… https://t.co/iQISdGOnPk 2020-01-14 18:16:24\n",
      "@riico_porto @BlogdoNoblat E não passa pela sua cabeça que talvez você tenha sido um dos milhões que foram feitos d… https://t.co/jbuYNDlL45 2020-01-14 18:16:01\n",
      "@AzGilson @BlogdoNoblat E não passa pela sua cabeça que talvez você tenha sido um dos milhões que foram feitos de t… https://t.co/bSzpmcAvWW 2020-01-14 18:14:38\n",
      "@Odlani1 @BlogdoNoblat E qual a chance de você ser só um dos milhões de imbecis que foram engambelados pela \"narrat… https://t.co/HiVONYo1ET 2020-01-14 18:12:49\n",
      "@carolaf88 Ou você é tão alienada que não entende que certos países dominaram o mundo praticamente sozinhos por muu… https://t.co/8zsEHZtkAF 2020-01-12 18:46:35\n",
      "@carolaf88 @CassiaDaquino @startupdareal Você é paga pau como ninguém, hein mocinha? hahahahah \n",
      "Se vocÊ já trabalho… https://t.co/eNaxdhuFb5 2020-01-12 18:45:08\n",
      "@carolaf88 @Alfapar2 @startupdareal O jeito mais fácil de ficar rico é enganando os trouxas, vendendo dicas pra fic… https://t.co/Etb1dSM3R7 2020-01-12 18:43:18\n",
      "@carolaf88 @CassiaDaquino @startupdareal Pois é... O Trump também. \n",
      "Tem um relato onde ele fala que começou \"do nad… https://t.co/DrpIXuLGbO 2020-01-12 18:41:04\n",
      "@startupdareal De uns tempos pra cá eu decidi que iria começar falar que era filho de um bilionário, visto que não… https://t.co/UeU8VC552s 2020-01-12 18:39:57\n",
      "@sued_rocha A forma mais fácil de manipular otários alienados como vocÊ é ficar falando de um bixo papão que vai vi… https://t.co/7tEqK3bfwx 2020-01-12 17:46:30\n",
      "@sued_rocha Olha o comunisssssmoooooooo BUBUUUHUHUHUHUHUH👻👻👻👻👻👻👻👻👻👻👻👻👻👻👻👻👻👻 Ele vai te pegar \n",
      "buuuuuuuhhhhhhhh 2020-01-12 17:45:17\n",
      "@mateusfgoias @phchem Inocência sua... \n",
      "Talvez o outro pastor só era mais discreto/cinico na \"arte\" de explorar voc… https://t.co/lYiZP7SABf 2020-01-11 18:10:44\n",
      "RT @marcelorubens: Não precisa falar nada, basta olhar os números dos mensageiros de Jesus https://t.co/t3Iy3nH6i3 2020-01-11 18:04:01\n",
      "RT @biabionica: Lula: \"empreendedorismo é uma palavra chique do capitalismo pra mostrar que mesmo você empobrecendo você tá progredindo\".… 2020-01-10 00:49:09\n",
      "RT @phchem: Eu não creio que isso ofenda menos o cristianismo do que uma peça de humor malfeita. https://t.co/ZSpbWvLKOo 2020-01-10 00:46:09\n",
      "@portadosfundos Fala pro Tabet chamar o Pondé no MyNews... rs 2020-01-09 23:08:09\n",
      "RT @rafapsoares: Um policial militar denunciou à Justiça que foi ameaçado por colegas de farda após prender, em flagrante, o chefe de uma m… 2020-01-08 14:06:15\n",
      "RT @HaddadDebochado: https://t.co/gUDS0aYgzh https://t.co/9XCBnVPyad 2020-01-08 03:02:32\n",
      "RT @GugaNoblat: Apoie essa campanha https://t.co/dJfYLhFZRo 2020-01-08 00:37:58\n",
      "@brunnosarttori Pois é... E você ai tirando sarro com a cara do mito 👉🐮👉 2020-01-07 00:09:09\n",
      "RT @marcelo_semer: O crescimento era queda.... https://t.co/5TEhrub0rM 2020-01-06 23:58:35\n",
      "@dr_edias @viniciuscfp Quais livros do Paulo Freire você já leu? O que realmente sabe sobre a obra dele? \n",
      "Pare de ser papagaio, seu asno. 2020-01-06 15:45:39\n",
      "@MeguminLee @BOLSOMMA Exatamente... Perfeita colocação. \n",
      "\n",
      "Esse bando de baba ovo hipócrita começa a jogar todos pod… https://t.co/VTBmjjESAM 2020-01-05 14:22:36\n",
      "@BOLSOMMA E vocÊs, que até ontem davam likes para ele, só descobriram isso agora é?\n",
      "\n",
      "Não sei quem é mais safado/hipócrita.... Ele ou vocês? 2020-01-05 14:21:34\n",
      "Livros com um monte de coisa escritas.... Realmente, que absurdo.\n",
      "#Bozolino #bolsonaro #gado https://t.co/eBtPgwy0G2 2020-01-04 20:41:38\n",
      "@CrisMenshova Quanto mais ignorante a pessoa for, mais propícia ela está a achar os memes \"cirúrgicos\" e pensar que… https://t.co/hlm1mYpaUr 2020-01-04 20:31:42\n",
      "@niccskyy @DouradoPenis @rick_lessa @PachecoFeA @JornalOGlobo E não \"goze com o pau alheio\", você não participa da… https://t.co/vSWwI6E1L6 2020-01-02 01:19:17\n",
      "@niccskyy @DouradoPenis @rick_lessa @PachecoFeA @JornalOGlobo Na verdade quem vai se dar bem vão ser os pastores su… https://t.co/94BnWj8A86 2020-01-02 01:17:14\n",
      "@niccskyy @DouradoPenis @rick_lessa @PachecoFeA @JornalOGlobo O Cristianismo é dominante no nosso país, caso você n… https://t.co/7Kmmp8M41c 2019-12-31 13:46:39\n",
      "@niccskyy @DouradoPenis @rick_lessa @PachecoFeA @JornalOGlobo Querida, talvez vocÊ não tenha entendido que o erro o… https://t.co/OZsDz3IUwW 2019-12-31 13:44:40\n",
      "RT @andrecaramante: O piloto da moto (23 anos) teve afundamento craniano e foi operado. Não corre risco de morte. Os PMs envolvidos na agre… 2019-12-31 01:29:03\n",
      "RT @andrecaramante: Noite de Natal. Zona oeste de SP. Casal em moto, a caminho da casa dos parentes. Sem ordem de parada, PM pega barra de… 2019-12-31 01:29:01\n",
      "@opropriolavo mimimimimimimimimimimimimimimi\n",
      "\n",
      "Chega de chororo professor... Cadê aquele homem corajoso e sem medo d… https://t.co/g1vF7rDXkW 2019-12-30 20:38:27\n",
      "@LuludeLulude @maribelnascime3 E se eu te chamar de puta, vagabunda, arrombada, cachorra agora... Para você pode so… https://t.co/yZ677O8Bjd 2019-12-30 14:39:12\n",
      "@hsimaox @maribelnascime3 E a sua mãe, irmã, tias, namorada se encaixam no termo vagabunda também ou você só usa para as outras mulheres? 2019-12-30 14:37:56\n",
      "@DouradoPenis @rick_lessa @niccskyy @PachecoFeA @JornalOGlobo A coitada é gado de igreja... Normal que seja ignoran… https://t.co/Ku6DSgF2On 2019-12-30 14:31:24\n",
      "@PachecoFeA @JornalOGlobo Até porque a bancada muçulmana no congresso é gigante né....\n",
      "Bispo Macedo, Malafaia, Vald… https://t.co/032W2HeL6p 2019-12-30 14:30:13\n",
      "@sued_rocha @CsardeBarros3 @Davi03988912 Toffoli é aquele que esses dias atrás estava reunido com o Mito, não?!\n",
      "\n",
      "Se… https://t.co/zT5Wm234RJ 2019-12-29 19:06:09\n",
      "RT @GugaNoblat: Esses lojistas são tudo comunistas ou Bolsonaro é mentiroso? Oh, dúvida cruel https://t.co/NeX0nE39mZ 2019-12-29 16:03:48\n",
      "RT @chadloder: \"Anti-homeless\" hostile architecture, a thread.\n",
      "\n",
      "Toronto. These devices (left) keep homeless people from sleeping on the gra… 2019-12-29 16:02:00\n"
     ]
    },
    {
     "name": "stdout",
     "output_type": "stream",
     "text": [
      "@_pinheira As manifestações foram bastante legítimas, principalmente no início... Mas com o tempo os movimentos e a… https://t.co/S3bRZbRCaT 2019-12-28 21:10:39\n",
      "@AylaSenna @AmericaSula A mesma justiça que condena e persegue alguém, seja Lula ou seja Bolsonaro, amanhã pode ME… https://t.co/az8Mn2VlJH 2019-12-28 21:07:35\n",
      "@AylaSenna @AmericaSula O mesmo peso que eu uso pro Lula eu uso para o cara que eu votei, no caso o Bolso e toda su… https://t.co/M5nOLLwN66 2019-12-28 21:06:24\n",
      "@AylaSenna @AmericaSula E se você acha que idiota e imbecil são tão ofensivos assim, chama a ONU ou os direitos hum… https://t.co/JzXyNxZxnC 2019-12-28 21:05:13\n",
      "@AylaSenna @AmericaSula Eu não defendi o Lula... Essa é uma conclusão bastante bisonha sua. Eu defendi o bom senso.… https://t.co/0ksZAJxUzs 2019-12-28 21:04:20\n",
      "@Rafael47593153 @aguedescartoon Vixiiiii... desconversou hahahahaha\n",
      "\n",
      "É tão anti-corrupção que faz vista grossa para… https://t.co/F8mDY4VR8X 2019-12-28 20:43:33\n",
      "@AylaSenna @AmericaSula OLHA O COMUNIIIIIIIISMOOOOOOOOOOOOOOOOOOOO  👻👻👻👻👻👻👻👻👻👻👻👻👻👻👻👻👻👻👻👻\n",
      "BUUUUHUHHHHHHHHHHHHHHHHHHHHHHHHHHHHHHH 2019-12-28 20:36:23\n",
      "@AylaSenna @AmericaSula Nossa hein, que argumento profundo... \n",
      "\n",
      "Eu sou \"esquerdista\" mas tenho CNPJ, tenho funcioná… https://t.co/EAjHLnHbOH 2019-12-28 20:35:52\n",
      "@AylaSenna @AmericaSula E já que você não quer abrir os olhos, vou te ajudar ainda mais à ser idiota:\n",
      "\n",
      "OLHA O COMUN… https://t.co/5bwpKjY1GS 2019-12-28 20:17:07\n",
      "@Rafael47593153 @aguedescartoon BOOOOOOOOOOOOOOOOOOOORA MIIIIIIIIIIIIIIIIIIIIIIIIIIIIIIIIIIIIIIIIIIIIIIIIIIIITO 🐮👉🐮👉🐮👉🐮👉🐮👉🐮👉🐮👉🐮👉🐮👉 2019-12-28 20:16:02\n",
      "@Rafael47593153 @aguedescartoon Verdade, dsclpa por minha ignorancia. \n",
      "\n",
      "Lavagem de dinheiro em loja de chocolate, p… https://t.co/xxkZBZZtjK 2019-12-28 20:15:05\n",
      "@AylaSenna @AmericaSula Verdade... A família bolsonaro é honestíssima. \n",
      "\n",
      "Como vc prefere ficar c os olhos fechados… https://t.co/anDLn85iUV 2019-12-28 20:11:54\n",
      "@AylaSenna @AmericaSula Eles nos controlam pelo medo... \n",
      "\n",
      "Fica toda hora apelando para o \"comunissssmoooo 👻👻👻👻👻👻 Bu… https://t.co/Neyj7ql8fm 2019-12-28 20:01:50\n",
      "@AylaSenna @AmericaSula Enquanto o Moro, Nando Moura, Família inteira do Bolsonaro, Deltan, toda corja de políticos… https://t.co/fL9wY6UcpA 2019-12-28 20:00:04\n",
      "@AylaSenna @AmericaSula MAs que precisa ser muuuuuuuuuuuuuuuuuuuuuito inocente (gado) para acreditar que as mensage… https://t.co/LURovV7oAl 2019-12-28 19:58:23\n",
      "@AylaSenna @AmericaSula Não é questão de acreditar ou não querida... \n",
      "Se eu tivesse ganhadno uma graninha talvez eu… https://t.co/whq9WYifdX 2019-12-28 19:57:18\n",
      "@vpougy Pera, deixa eu consultar o meu youtuer de direita favorito e ver o que ele fala... Jaja eu volto para responder 👉🐮👉🐮👉🐮👉 2019-12-28 19:56:03\n",
      "@Rafael47593153 @aguedescartoon Gaste o seu tempo ai para defender o Nando ou o Bolso... os dois estão enchendo o c… https://t.co/ymxxArgaz1 2019-12-28 19:54:47\n",
      "@AylaSenna @AmericaSula O mundo é bem mais complexo do que ficar babando ovo de políticos e funcionários públicos r… https://t.co/yEvA4M4DBP 2019-12-28 19:53:23\n",
      "@AylaSenna @AmericaSula Quando você fica acreditando nesse tipo de mundo encantado onde uns são bonzinhos e outros… https://t.co/znJaVtwkWP 2019-12-28 19:52:10\n",
      "@AylaSenna @AmericaSula E também, eles tem esquemas com os advogados amigos que ganham uma nota preta para \"agiliza… https://t.co/bzCDBoB5wP 2019-12-28 19:51:32\n",
      "@AylaSenna @AmericaSula Talvez vocÊ pense assim porque está tão cega que nem buscou entender o que o Ministério Púb… https://t.co/eopkk7jJt6 2019-12-28 19:50:53\n",
      "Enquanto o gado briga para defender os seus heróis, tanto a famílicia que está no poder quanto o Anão de Embu segue… https://t.co/FzAtE0aSmF 2019-12-28 18:37:37\n",
      "#Bolsonaro2026 #Nandomourismo\n",
      "\n",
      "Enquanto o país tem 12 milhões de desempregados, 50 milhões trabalhand ocomo informa… https://t.co/xHY7goA5hm 2019-12-28 18:34:57\n",
      "Enquanto os influencers de direita enchem o rabo de ganhar dinheiro através da política, manipulam o povo como se f… https://t.co/2wyDNnQqGT 2019-12-28 18:33:28\n",
      "Quem ganha a \"cabo de aço\" para chamar o \"outro lado\" de comunista, petista, lulista, taxista, alpinista????\n",
      "\n",
      "Cuida… https://t.co/L7omhLR1Bb 2019-12-28 18:31:41\n",
      "#Nandomourismo e #Bolsonaro2026 \n",
      "Cuidado com o comuniiiiiiiiiiiiismooooooooooo 👻👻👻👻👻👻👻👻👻👻👻👻👻👻👻👻👻👻👻👻👻👻👻👻👻👻👻👻buuUuUuU… https://t.co/uk8lGw1QX6 2019-12-28 18:29:13\n",
      "Também é engraçado ver a guera entre o  #Nandomourismo  e #Bolsonaro2026 para ver quem consegue taxar o outro de es… https://t.co/dzoDgW6u4L 2019-12-28 18:26:33\n",
      "O mais engraçado do #Nandomourismo e também do #Bolsonaro2026 é que quase todos que usam as tags são uns fudidos qu… https://t.co/wZGL8Ftg6T 2019-12-28 18:24:44\n",
      "@Rafael47593153 @aguedescartoon O mais curioso é que uns zé manés como você falam como se realmente fizessem parte… https://t.co/2BCu7VM5Co 2019-12-28 18:22:24\n",
      "@aguedescartoon Nossa que argumento showww hein... Sempre funciona. \n",
      "\n",
      "É só \"acusar\" alguém de ser esquerdista simpl… https://t.co/5ZkgYG8hk5 2019-12-28 18:19:39\n",
      "@LivreUff O Bolsonaro daria palestra para falar do que? \n",
      "- Como é ser deputado por 30 anos e colocar a família inte… https://t.co/bR9s0wfLQq 2019-12-28 16:47:21\n",
      "RT @Normose_: 100 pessoas tinham emprego pleno \n",
      "80 delas perdeu\n",
      "11 conseguiram sub-emprego informal tipo vender bala no semaforo. \n",
      "\n",
      "Notícia… 2019-12-28 16:43:45\n",
      "@mantunes75 Faaaal meu parcero!! Vejo que você tem uma certa veia anarco qualquer coisa, mas compartilha vídeos e c… https://t.co/MNl60GLpET 2019-12-28 16:41:15\n",
      "inacreditável hahahaha https://t.co/QOABLhDE8t 2019-12-28 16:38:30\n",
      "@Estadao @EstadaoPolitica Tigrão contra os pobres, txutxuca contra poderosos... Esse é o nosso presida. 2019-12-28 16:31:31\n",
      "@sued_rocha Ou já tentavam criar histórias contra ele desde aquela época justamente para enganar o gado... E com ta… https://t.co/HK8sKZBzHj 2019-12-27 20:25:29\n",
      "@AmericaSula Ao meu ver, a promessa dele para o Moro é quase um carimbo de que ele e o Moro estavam juntos e se ben… https://t.co/TmKnUINTCf 2019-12-27 20:24:14\n",
      "@AmericaSula Todo mundo gosta de injustiça contra os inimigos, mas peida na farofa quando a injustiça bate em sua p… https://t.co/2Aehk2gR1P 2019-12-27 20:22:51\n",
      "RT @MarceloFreixo: Em pleno recesso de Natal, Bolsonaro publicou medida provisória que desobriga a nomeação do mais votado da lista tríplic… 2019-12-25 22:33:27\n",
      "RT @phchem: A privatização que o governo vai lá e banca qualquer risco do negócio!\n",
      "Prejuízos de negócio privado pagos com dinheiro público!… 2019-12-25 22:25:32\n",
      "@Ruo49910700 Chora não companheiro, você vai superar! \n",
      "\n",
      "Não podemos deixar o comunismo vencer, vamos acabar com tod… https://t.co/T52lyO6Ji5 2019-12-25 22:18:42\n",
      "RT @ldaugusto: \"MP: Flávio disse ter lucro 82% superior ao declarado\"\n",
      "\n",
      "'Não cabe colocar o sobrenome na manchete'\n",
      "\n",
      "Sei... https://t.co/tmII… 2019-12-24 01:34:50\n",
      "@pattRodriguez Que tática?  Quem são esses \"Reclamam\"? eu não sou um coletivo, eu sou uma pessoa. \n",
      "\"Parecem\", qm ca… https://t.co/WRnUEvHgQB 2019-12-23 16:26:06\n",
      "@pattRodriguez E sobre dar razão para a Ditadura, é uma opção, mas seria de certa forma \"legítima\" pois você realme… https://t.co/aNbWtOD7UK 2019-12-23 15:49:22\n",
      "@pattRodriguez Não digo que lá seja perfeito nem nada, e nem um lugar do mundo é, mas é necessário diferenciar e te… https://t.co/AhN5v0FT52 2019-12-23 15:48:19\n",
      "@pattRodriguez Quantos % da sua opinião sobre a china você acha que é algum tipo de propaganda? \n",
      "Quantos % da sua o… https://t.co/kA61cThAId 2019-12-23 15:47:08\n",
      "@pattRodriguez Eu pensava isso... Até que falei com um chines bastante esclarecido que rebateu vááááários dos meus… https://t.co/X5mtUZ1duw 2019-12-23 15:25:55\n",
      "@startupdareal Ou comprar salve por 200 conto. 2019-12-23 13:40:15\n",
      "@peesseze Ninguém passa fome no Brasil. 2019-12-23 02:38:39\n",
      "Essa é a mídia que os minions criticam. \n",
      "Porque vocês acham que a Globo não colocou o sobrenome do filhote do capit… https://t.co/LRVgXvrNai 2019-12-23 01:13:33\n",
      "@AncapcubeBR Que cara puro e sem segundas intenções... Achei fofo. Parabéns. 2019-12-23 00:44:08\n",
      "Engraçado é que os Bolsominions acusam a mídia de todo tipo de crime contra o Presidente, a família e afins... Mas… https://t.co/aE8vaPXR0k 2019-12-22 22:17:09\n",
      "@AncapcubeBR O que ele fala: \"na luta contra o estado\" \n",
      "A real mensagem por trás:  \"Para alimentar meu ego e eu me… https://t.co/zhowc7QCfg 2019-12-22 22:13:52\n",
      "@CNacional01 @TniaJosedeSFei1 E quando a mídia batia dia e noite no PT, Lula e Dilma... Praticamente em todos jorna… https://t.co/bkPUdBhBH1 2019-12-22 15:57:57\n",
      "@CNacional01 @TniaJosedeSFei1 A \"direita\" não defende DIRETAMENTE o Flávio, mas agem assim como você, tentando acha… https://t.co/hfIadAWDDa 2019-12-22 15:55:38\n",
      "@CNacional01 @TniaJosedeSFei1 Ué, era isso que os petistas falavam o tempo todo...\n",
      "\n",
      "Isso sempre aconteceu, quem est… https://t.co/eM4XguQM2J 2019-12-22 15:54:08\n",
      "@CNacional01 @TniaJosedeSFei1 André Ceciliano é filho do presidente? A família do André Ceciliano está no poder? \n",
      "Q… https://t.co/GlVBpVkGd2 2019-12-22 15:25:04\n",
      "@phchem Está falando do meteoro? hahahah 2019-12-22 13:46:06\n",
      "@PATRlOTAS @TniaJosedeSFei1 Estamos organizando um onibus para visitar o Flávio Bolsonaro na cadeia, contamos com t… https://t.co/tyv1rNpnkD 2019-12-21 18:31:38\n"
     ]
    },
    {
     "name": "stdout",
     "output_type": "stream",
     "text": [
      "@TniaJosedeSFei1 NOSSA, DROGASSSSSSS NÃÃÃO AMIGA!!! \n",
      "O ideal era ele estar roubando o dinheiro público e dividindo… https://t.co/GQe7FOw8zK 2019-12-21 18:29:23\n",
      "@MarceloFreixo Futebol, igreja são igualmente escrotos... Feitos para controle e tirar dinheiro do gado. \n",
      "Curiosame… https://t.co/R6l7KBZM6p 2019-12-21 15:40:20\n",
      "@TheInterceptBr @ChiaraEisner Bandidos por todos os lados... A hora que o povo acordar e se unir, ninguém mais vai… https://t.co/UU4SLYMskn 2019-12-21 14:37:09\n",
      "RT @TheInterceptBr: Mensagens e telefonemas mostram como executivos da empresa de energia Desa tramaram a morte da ativista hondurenha, que… 2019-12-21 14:36:27\n",
      "@igorhistoriador Curioso é vocês, gado veio que sempre aceitou tudo que a Globo falava contra o PT, e agora que a m… https://t.co/qjDC0B5M4g 2019-12-21 13:07:57\n",
      "@Cristia13308328 @SenadorKajuru Enquanto a turma enxe os bolsos de ganhar dinheiro com política, você como todo bom… https://t.co/Y0HA5tzS9w 2019-12-21 13:05:58\n",
      "@almir_jpg O segredo é ir tentando mano... Cigarro é apenas uma ilusão de estar ajudando em algo, na verdade ele só… https://t.co/T04RRVqbof 2019-12-21 00:02:06\n",
      "@almir_jpg Cara, instala um APP chamado QUITNOW.... É bom para ajudar a parar... \n",
      "Eu já estou a 4 meses sem essa po… https://t.co/cplwQ7OiIP 2019-12-20 19:40:25\n",
      "@ZeoWild Enquanto ele está tretando com quem está \"em cima\" não tem problema... O problema é ele tentar direcionar… https://t.co/fEzea834pW 2019-12-20 18:44:06\n",
      "RT @coimbraricardo: O Flávio não tem nada a ver com Jair, galera. É um petista que há 38 anos se infiltrou no saco do Jair. 2019-12-20 16:37:47\n",
      "RT @BernardoMF: Queiroz foi contratado por ordem de Bolsonaro, de quem é amigo desde 1984. O operador da rachadinha estava lotado no gabine… 2019-12-20 16:34:15\n",
      "RT @parox40: Não é \"não pagar\", senhora, é não recolher.\n",
      "O ICMS já foi pago pelo consumidor.\n",
      "Pegue qualquer cupom de supermercado e está lá… 2019-12-19 23:43:57\n",
      "RT @Debora_D_Diniz: Como Ministro @SF_Moro está calado, insisto: “o pequeno problema” do filho do presidente Bolsonaro deve ou não ser cham… 2019-12-19 22:06:48\n",
      "RT @jovensreacinhas: Resumo das investigações do MP:\n",
      "\n",
      "Flavio e seus capangas faziam o esquema da rachadinha\n",
      "\n",
      "A loja era só uma maneira de l… 2019-12-19 20:36:31\n",
      "RT @felipeneto: A situação do Flávio Bolsonaro é de terror absoluto. Pelo que corre nos bastidores, ele está completamente sem saída.\n",
      "\n",
      "E is… 2019-12-19 20:35:54\n",
      "RT @jairmearrependi: Convocados a depor hoje e amanhã, antes do recesso. Aposto que não vão. Mas vamos agitar? Vamos encher o saco dessa fa… 2019-12-19 19:43:26\n",
      "@MAdansVandinha @EmanuelSan @Rconstantino VAMOS GRITAR TODOS EM CORO ENTÃO: FOOOOOOOOOOOOOOOOOOOOOOOOOOOOORA PEEEEE… https://t.co/I5GlrnhIxh 2019-12-19 18:01:32\n",
      "@EmanuelSan @MAdansVandinha @Rconstantino Mas enfim, vamos voltar a falar do PETE gente, bora defender os Bolsonaro… https://t.co/jEd7ciwBUH 2019-12-19 18:01:07\n",
      "@EmanuelSan @MAdansVandinha @Rconstantino Ah é?! Nossa, eu não sabia....\n",
      "E se amanhã o processo for invalidado pelo… https://t.co/WjXbafLVza 2019-12-19 18:00:13\n",
      "RT @IvanValente: Bolsonaro prefere entregar seu filho, Flávio, aos leões que prejudicar a própria imagem. Cínico e covarde, coloca na conta… 2019-12-19 17:52:24\n",
      "@MAdansVandinha @EmanuelSan @Rconstantino Verdade.... Mas quando é o molusco, qualquer rumor é prova cabal né rs\n",
      "Se… https://t.co/dcvUz0PebX 2019-12-19 17:46:27\n",
      "Desigualdae, que bobagem é essa hein?! \n",
      "Só porque metade da populção ganha até 413 reais vocês pensam que isso é ru… https://t.co/Pun5R5qfWd 2019-12-19 15:03:40\n",
      "@EmanuelSan @MAdansVandinha @Rconstantino HAHAHAHAHAHAHA \n",
      "Verdadeeeeee mesmo🐮🐮🐮🐮🐮🐮🐮🐮🐮🐮🐮🐮\n",
      "Cara, vamos parar de papo… https://t.co/WHttGehnwD 2019-12-19 15:02:20\n",
      "@EmanuelSan @MAdansVandinha @Rconstantino Verdade... Vamos colocar todos esquerdistas na esquerda... Que pode nos r… https://t.co/dm1s4ZUAUa 2019-12-19 14:47:54\n",
      "@MAdansVandinha @EmanuelSan @Rconstantino E o Mito, que sempre é tão falador, por algum motivo, hoje preferiu se ca… https://t.co/KJ41DzQl5R 2019-12-19 14:46:56\n",
      "@MAdansVandinha @EmanuelSan @Rconstantino MAs espero que sim, peguem a ferrari de ouro do Lulinha, acabem com a emp… https://t.co/6mM9QwHRMo 2019-12-19 14:45:32\n",
      "@MAdansVandinha @EmanuelSan @Rconstantino Na verdade, para prender o Lula, criaram a prisão em segunda instância...… https://t.co/ShcKkkFxlZ 2019-12-19 14:44:35\n",
      "RT @jairmearrependi: Tudo começou com o a reportagem da Folha de São Paulo sobre o QGBH17, um comitê clandestino vendido como iniciativa po… 2019-12-19 03:32:11\n",
      "@MAdansVandinha @EmanuelSan @Rconstantino Eu acho que temos que tirar a ferrari dele, a fazenda e também devemos fe… https://t.co/l2w51R0BLi 2019-12-19 03:05:44\n",
      "RT @ggreenwald: Assista aqui a entrevista com @evoespueblo, diretamente da Cidade do México. Foi quase 1h conversa, e falamos sobre vários… 2019-12-19 01:06:40\n",
      "@marcogomes Será que seria possível encontrar os clusters de oportunismo, hipocrisia, cinismo e fé que existe nesse… https://t.co/iK2eJeVPbb 2019-12-19 01:03:10\n",
      "@yuuuuugcmhan10 @BrazilFight Quem ta no poder leva pau... Quem ficava apontando o dedo para os outros chamando de c… https://t.co/ZGv3okkyjc 2019-12-19 00:58:31\n",
      "@BrazilFight \"\"...os apartamentos foram comprados por 30% a menos do que o antigo dono havia pago por ambos. Um ano… https://t.co/UcIT34Uzbc 2019-12-19 00:57:16\n",
      "@BrazilFight E nao precisa defender seus bandidos não, eles tem muito dinheiro para advogados e também, muito baba… https://t.co/heMtTVv48l 2019-12-19 00:56:29\n",
      "@BrazilFight Não sei se você sabe, mas a condenação do Lula foi dada em tempo recorde... Ele foi praticamente o úni… https://t.co/JNjOSneHbi 2019-12-19 00:55:21\n",
      "RT @evoespueblo: Hermanos y hermanas: Hoy, por primera vez, en 14 años, no puedo estar presente con ustedes, pero estoy en la resistencia y… 2019-12-19 00:45:04\n",
      "HAHAHAHAHAAHAHAHAHAHA\n",
      "\n",
      "GUEDES É TXUTXUCA COM EMPRESÁRIO E TIGRÃO COM O POVO\n",
      "\n",
      "Agora que os liberais e ancap e todo t… https://t.co/OsE7xANLRk 2019-12-19 00:00:58\n",
      "@arthurmoledoval Hahahahahaha \"NAO ACUSO ANTES\" HAHAHAHAHAHAHAH\n",
      "O nível de BUNDAMOLISSE  do Arthur é absurda... Tud… https://t.co/eAYcmNTmDw 2019-12-18 23:50:54\n",
      "@Estadao @fausto_macedo Advogado: NÃO VAO ACHAR NADA\n",
      "Realidade: \"\"\"\"os apartamentos foram comprados por 30% a menos… https://t.co/dVu1tzgiPe 2019-12-18 23:46:55\n",
      "os apartamentos foram comprados por 30% a menos do que o antigo dono havia pago por ambos. Um ano depois, Flávio os… https://t.co/zQpnUjtH4U 2019-12-18 23:44:43\n",
      "Movimento anti droga... Vamos subir essa rashtég #maconha https://t.co/6eOtgEGjcn 2019-12-18 23:30:58\n",
      "@EmanuelSan @MAdansVandinha @Rconstantino E vamos parar de discutir, vamos voltar a defender os nossos chefes e her… https://t.co/RM2vTnmM7t 2019-12-18 23:29:00\n",
      "@EmanuelSan @MAdansVandinha @Rconstantino Verdade... FORA CUBA, FORA PETTÊEêEêẼEeÊÊ, FORA COMUNISSSSMOOOOOO \n",
      "pt nun… https://t.co/lCROT9Qs88 2019-12-18 23:26:56\n",
      "@EmanuelSan @MAdansVandinha @Rconstantino Concordo plenamente meu amigo, não podemos parar enquanto o PT nã;o sair do governo.\n",
      "🐮🐮🐮🐮🐮🐮🐮🐮🐮🐮🐮🐮🐮 2019-12-18 22:57:39\n",
      "@EmanuelSan @MAdansVandinha @Rconstantino É isso ai mesmo \n",
      "🐮🐮🐮🐮🐮🐮\n",
      "Sociologia, ciencia, filosofia e tudo que é de hu… https://t.co/vD3xqyjQ15 2019-12-18 21:24:35\n",
      "Bandidagem na casa do Presidente. \n",
      "Até os peixe são inteligentes de desviar do óleo, mas o presidente não consegue… https://t.co/sNCRrLHdaF 2019-12-18 18:40:12\n",
      "@EmanuelSan @MAdansVandinha @Rconstantino Nossa hein, como você é inteligente,  uauu rs\n",
      "sai dai, mocorongo... Repet… https://t.co/3RbWTOJvuL 2019-12-18 18:37:22\n",
      "@Velhoconselhei1 @DireitaBrasil E pois é né.... Tadinho do Flávio... Tão indefeso e inocente. :'(\n",
      "temos que nos emp… https://t.co/j8sY1gzSH9 2019-12-18 14:53:30\n",
      "@Velhoconselhei1 @DireitaBrasil Vamos nos empenhar em trabalhar de graça para político de carreira que mama nas tet… https://t.co/hiZ6l0JFo1 2019-12-18 14:52:20\n",
      "@DireitaBrasil O Lula foi condenado em tempo recorde...  Não faltam exemplos de outros políticos acusados de roubar… https://t.co/XjZqjObpid 2019-12-18 14:48:21\n",
      "RT @startupdareal: Uma escola particular militarizada não seria uma escola miliciana? https://t.co/tXwuT67d6Z 2019-12-18 12:48:09\n",
      "RT @phchem: Paulo Freire na prática! E viva às universidades! https://t.co/0Aq1C7USbg 2019-12-18 12:47:24\n",
      "RT @monicabergamo: Vejam como um PM de São Paulo se dirige a uma MULHER. E professora. https://t.co/Bpx7kiB1Lf 2019-12-18 12:46:17\n",
      "@MAdansVandinha @Rconstantino Imagino que você deve ter uma séria dificuldade em interpretar as coisas... Entao ok. 2019-12-18 12:44:37\n",
      "@MAdansVandinha @Rconstantino É tipo a mulher que fala mal do feminismo, e depois, briga com o marido e apanha... N… https://t.co/kFkIhQsru7 2019-12-18 00:50:12\n",
      "@MAdansVandinha @Rconstantino Você foi inteligente, o que a Luciana estava falando se encaixa perfeitamente ao caso… https://t.co/ZBTkCK87Gg 2019-12-18 00:49:17\n",
      "RT @pattRodriguez: Manjam a Karol Eller?\n",
      "NÃO ESTRANHEM se ela voltar da surra ainda bozonarista.\n",
      "Ser divulgador bozonarista É UM NEGÓCIO.\n",
      "N… 2019-12-17 22:37:56\n",
      "@marcelorubens Vai você esquecer de pagar o DARF pra ver se o pau não pega... Será que um dia os bancos serão respo… https://t.co/IrngoRZFne 2019-12-17 02:57:12\n",
      "Mais um abuso da nossa Policia Militar... Aqueles funcionários públicos que falam grosso com pobre e trabalhador e… https://t.co/GGp5BX1bBN 2019-12-17 02:52:53\n",
      "RT @ggreenwald: Importante na @Folha: “Efeitos do [#VazaJato] que atingiu a Lava Jato estão longe do fim\": \"seus efeitos parecem longe de t… 2019-12-16 19:58:25\n"
     ]
    },
    {
     "name": "stdout",
     "output_type": "stream",
     "text": [
      "RT @kenfujioka: A bandeira do Raquetadas Contra O Fascismo foi retirada pela segurança do Centro Paralímpico a pedido de um membro da @CBTM… 2019-12-16 17:22:37\n",
      "@Estadao @EstadaoPolitica Uma explicação sobre esses patifes.\n",
      "\n",
      "https://t.co/a4WG3YMD8Y 2019-12-15 15:32:28\n",
      "@dilskn Azideia rs 2019-12-14 20:35:25\n",
      "@nino110272 @UOLNoticias Na verdade, o empregador ganha um incentivo para demitir imbecis como vocÊ... Aumentando a… https://t.co/wxnpb8muN6 2019-12-14 12:49:18\n",
      "@cynaramenezes O curioso é que eles criam a narrativa perfeita para o gado abraçar.\n",
      "Dai depois é só lançar um \"olha… https://t.co/Zf4kJp4Qhw 2019-12-14 03:11:45\n",
      "@abhi1thakur It's VScode? 2019-12-13 17:02:59\n",
      "@abhi1thakur And what about projects organization, Abhishek? Do you know some good resources about it? 2019-12-13 17:02:32\n",
      "@thiagorauta Fiquei puto nada, só tive o insight de \"poruqe perder tempo com esse looser, parsa?\" \n",
      "flw 2019-12-12 23:14:15\n",
      "@thiagorauta Viiiixeee... Legítimo imbecil mesmo. Como você chama PROLABORE? \n",
      "Aliás, se é que você sabe o que é iss… https://t.co/yUDYtwLqKW 2019-12-12 23:12:56\n",
      "@thiagorauta mas enfim, fique ai no seu mundo de energumeno... Nem sei porque to até agora batendo boca com um assalariado lambe saco. flw 2019-12-12 23:11:18\n",
      "@thiagorauta 🐮👉🐮👉🐮👉🐮👉🐮👉🐮👉🐮👉🐮👉\n",
      "\n",
      "Olha o comuniiiiiiiiiiiiiiiiiiiiiiiiiissssssssssssmo, BUUUUUHUHUHH 👻👻👻👻👻👻\n",
      "\n",
      "\"Olha aqu… https://t.co/9vgPHKqHsa 2019-12-12 23:10:53\n",
      "@thiagorauta Aahh, e já que você é do tipo capacho: Pode cheirar meu saco, eu também tenho CNPJ, ganho um ótimo sal… https://t.co/vyr6vg6pPp 2019-12-12 23:08:04\n",
      "@thiagorauta Vocês quem, seu animal???? De quem você está falando? \n",
      "Gado é foda, porque é cheio de preconceito, com… https://t.co/yjnLZVaTyn 2019-12-12 23:06:21\n",
      "@thiagorauta OOOOOIAAAAA O SOCIAAAAAAAAALISMOOOOOOO BUUUUHHHH 👻👻👻👻👻👻 \n",
      "OOOOOOOOOOOOIAAA O PETEEEEE BUuUUUUuuUUUhhHhh… https://t.co/3scCRJsMYn 2019-12-12 23:03:29\n",
      "@thiagorauta E você tenta colocar em mim, as coisas que você ouve dos que te manipulam.... Vive falando de PT, Lula… https://t.co/Qr9u0vaP95 2019-12-12 23:01:27\n",
      "@thiagorauta E você, é opressor assalariado??? Com essa sabedoria e sagacidade toda em economia, pelo menos tem um… https://t.co/8o1MjmAR84 2019-12-12 22:59:24\n",
      "@thiagorauta Verdade né... Concetração de renda é um mito criado pelos socialistas. rs\n",
      "Quantos mil você tem na cont… https://t.co/IUQZrabpyO 2019-12-12 22:58:12\n",
      "@thiagorauta Os caras do Misses e think tanks pelegos fazem propaganda da mesma forma que o 247 e o DCM, só que ao… https://t.co/eTYsFrKyGf 2019-12-12 21:55:59\n",
      "@thiagorauta Sua inocência é digna de pena... Você é incapaz de separar FATOS E DADOS de interpretações. A coisa ma… https://t.co/YwixyxAp2j 2019-12-12 21:53:53\n",
      "@thiagorauta SE eu pegar o vídeo de um economista sabichão do 247 ele está falando totalmente o contrário. \n",
      "Porque… https://t.co/ECJA7PMRc4 2019-12-12 19:53:11\n",
      "@thiagorauta quando as coisas melhoram: MITO É FODA\n",
      "quando as coisas pioram: PORRA HERANÇA DO PT\n",
      "\n",
      "Vai lá assistir o… https://t.co/yeWityrbmE 2019-12-12 19:50:27\n",
      "@portalR7 Se fosse do Lula ou do Filho do Lula já estava resolvido na primeira semana... rs 2019-12-12 15:25:06\n",
      "RT @portalR7: Após 6 anos, ações sobre helicóptero dos Perrella seguem sem solução https://t.co/j2iB4kjrn5 https://t.co/CpFxeFCpCN 2019-12-12 15:24:39\n",
      "@thiagorauta Talvez a resposta correta seja: A culpa é de quem eu não sou baba ovo. 2019-12-12 15:23:06\n",
      "@thiagorauta O cara ganha dinheiro nas costas do gado como voce... Ele vende ideologia trajada de economiquês. \n",
      "Qua… https://t.co/PRjmus3InI 2019-12-12 14:32:09\n",
      "@thiagorauta Nossa, que fonte boa hein?! hahahahahah\n",
      "O animal consegue consumir propaganda enquanto pensa estar vir… https://t.co/lDWN6GZXgc 2019-12-12 14:30:57\n",
      "@thiagorauta Pois é, eu imagino... Até porque na internet todo mundo é rico, bem empregado, opressor, empreendedor,… https://t.co/U73wJZdkFH 2019-12-12 14:28:39\n",
      "@thiagorauta 2014 PIb de 2%+ e a mídia: PIBINHO\n",
      "2019 PIb de 0.6% e a mídia: NOSSA RECUPERAÇÃO DA ECONOMIA \n",
      "hahahaha… https://t.co/wHB6M4JT5u 2019-12-12 14:27:04\n",
      "@thiagorauta Eu trabalho com ciência de dados meu querido, eu consigo facilmente pegar um gráfico histórico e facil… https://t.co/7erWP9RLBy 2019-12-12 14:24:50\n",
      "@thiagorauta Entendi... Quando vai bem, foi o mito, quando vai mal é culpa da herança maldita do PT hahahahahaha\n",
      "As… https://t.co/hofOJi8Rql 2019-12-12 14:23:51\n",
      "@phchem Como se categoriza isso???? Evolução? desenvolvimento? hahahaha foda 2019-12-12 13:58:56\n",
      "@thiagorauta Gado é assim mesmo, só presta atenção ao que lhe convém.\n",
      "Quando é conveniente, usa 2014 como exemplo,… https://t.co/jeaGcYc6Ai 2019-12-12 13:54:59\n",
      "@thiagorauta Você sabe qual era a taxa de desemprego de 2012, 2013, 2014 quando falavam que estavamos na pior crise… https://t.co/EYYIBwlSbu 2019-12-12 12:07:51\n",
      "@thiagorauta E o que tenho eu haver com a Dilma? Eu sentava o pau nela e não ficava chupando as bolas assim como vo… https://t.co/7IPxgNObW6 2019-12-12 12:06:21\n",
      "@Rakeell2411 Sem falar que COITADINHO DOS EVANGÉLICOS NÉ?! Tão oprimidooooos!!!!! \n",
      "Se fosse gay, negro, mulher ou q… https://t.co/0M6m4KT0XV 2019-12-12 12:03:42\n",
      "@Rakeell2411 Uééé porque tanto mimimimi? Como vocês são sensíveis hein... \n",
      "Cade a turma da zuera? Cadê a turma opre… https://t.co/t1AEcSSUN5 2019-12-12 12:02:43\n",
      "@thiagorauta Nossa, como ele é economista... Que cara estudado, antenado, super inteligente!!! UaaaaU 🐮🐮🐮🐮🐮\n",
      "Eu acho… https://t.co/Gqaeju3TKp 2019-12-11 23:50:30\n",
      "@thiagorauta \"Popularmente superior\"... Que porra é essa?! hahaha\n",
      "Olha o comunismo, olha o petismooo BUUuUuUuuuUuuH… https://t.co/ONeXZgr2pK 2019-12-11 22:29:01\n",
      "Engraçado é ver a mesma turma que acha o Paulo Kogos \"Normal\" é a mesma que tem siricutitico contra a Greata… https://t.co/t21PbeG06u 2019-12-10 22:55:49\n",
      "@james39406824 @tretaDoBolso @tabataamaralsp @taliriapetrone @LucianoHuck @rigoni_felipe @uneoficial @jdoriajr… https://t.co/tWbXcmJYeD 2019-12-10 14:04:37\n",
      "@james39406824 @tretaDoBolso @tabataamaralsp @taliriapetrone @LucianoHuck @rigoni_felipe @uneoficial @jdoriajr… https://t.co/HtGvSmMAte 2019-12-10 14:04:21\n",
      "RT @DilmaResiste: Doria, teve 53,29% dos votos em Paraisópolis contra 16,70% de Haddad, que liderou amplo processo de inclusão social na re… 2019-12-09 23:10:10\n",
      "RT @BlogdoNoblat: Coitado dos bolsonaristas. Elogiavam a decisão do Mito de não mandar representante para a posse do novo presidente argent… 2019-12-09 22:28:31\n",
      "RT @startupdareal: Todo mundo sabe que #ancap é o jovem rico que esqueceu de estudar história e acha que o mundo inteiro se comporta de aco… 2019-12-09 19:23:42\n",
      "@marcogomes É incrível a admiração que a galera tem por empreendedor, como se fosse o único ser no Brasil que ~sefo… https://t.co/JeMvVXd2ej 2019-12-09 18:27:46\n",
      "RT @heldermaldonado: Usar a Paulista para protestos dominicais permanentes virou programa tradicional de paulistano reaça. Não tem objetivo… 2019-12-09 18:19:46\n",
      "RT @andrecaramante: Seguranças do Metrô de SP agridem adolescente negro e o acusam de um furto - Imagens mostram garoto sendo jogado no chã… 2019-12-09 17:26:53\n",
      "@souprow Uma pergunta bem básica: Você leu a matéria?! Caso tenha lido, tem certeza que interpretou o texto correta… https://t.co/qMS17a15eT 2019-12-09 13:31:25\n",
      "A polícia do João Dória fala grosso com pobre e são txutxucas em \"áreas nobres\" e com quem tem dinheiro. É a políti… https://t.co/L3vg8dQ5yL 2019-12-07 17:25:58\n",
      "@demori AAAAAAAAAAAAAAHHHHHHHHHHHHH ta explicado porque o picareta da Empiricus apareceu no MyNews hoje então hahahaha 2019-12-07 01:22:32\n",
      "RT @rubensvalente: outro vídeo mostra que a hoje deputada Joice Hasselmann fez campanha em 2018 no mesmo “QG” pró-Bolsonaro que não foi dec… 2019-12-07 01:20:19\n",
      "RT @jose_simao: Agora entendi a expressão “8 ou 80”: militar se aposenta com 8 anos e você com 80! 2019-12-07 01:14:01\n",
      "Esse é bandido com B maísculo. Picareta da pior espécie. https://t.co/kZUP8i4LJu 2019-12-07 00:50:20\n",
      "@RCasara @phchem A conjuntura mundial só é lembrada quado a medida proposta é para prejudicar os pobres... \n",
      "Agora q… https://t.co/1OyfQS7JUy 2019-12-06 13:17:53\n",
      "Será que tem algum opressor bolsominion passando fome e que se solidariza com o governador? #Bolso #minion https://t.co/l3nusausPi 2019-12-06 13:15:15\n",
      "O mais engraçado, é que essa turma se pensa como referência de Liberal no Brasil hahahahahaha É de cair o cu da bun… https://t.co/M8eBsVsPPW 2019-12-06 13:14:05\n",
      "@phchem Não falei de você e sim de quem senta o pau no freixo levianamente sem considerar o passado dele e PRINCIPA… https://t.co/jSVaU2cuku 2019-12-06 13:12:05\n",
      "RT @FaustoSalvadori: A @pontejornalismo soube hoje que ganhou um prêmio da Secretaria Municipal de Direitos Humanos. E no mesmo dia soltou… 2019-12-06 03:19:10\n",
      "@catracalivre Mas o sangue nao endurece ou coagula quando para de bombear? Será que alguém tem que ficar chacoalhando a pessoa? 2019-12-06 03:08:54\n",
      "@phchem Eu acho muito leviano a galera sentar o pau no Freixo... Se tem alguém q realmente combateu o crime, esse a… https://t.co/WDnG7xEZnT 2019-12-06 03:01:11\n"
     ]
    },
    {
     "name": "stdout",
     "output_type": "stream",
     "text": [
      "@MaurilioBarbosa Falar de \"trairagem\" do Freixo é não entender o que estava acontecendo. Freixo é um dos que mais l… https://t.co/pv88mRkQ1J 2019-12-06 02:56:28\n",
      "@shazancaraii Então avisa, o vacilão.\n",
      "Então vamos lá, realmente, 13º é um engodo... Talvez seja uma boa oportunidad… https://t.co/EY8d7l9rTG 2019-12-06 00:57:27\n",
      "@shazancaraii E que porra tenho eu, haver com o PT ou com 13? \n",
      "Uma das maiores característica do gado é ter pensame… https://t.co/4oELuV5YEu 2019-12-05 23:46:01\n",
      "@shazancaraii Nossa que malvadão hein?! Muito opressor pra quem acorda cedo todo dia e tem direito a férias e 13º;… https://t.co/N151yaMP0l 2019-12-05 22:05:46\n",
      "RT @MaurilioBarbosa: Quando o cidadão assume essa postura na hora da porradaria você sabe que ele manja dos paranaue \n",
      "\n",
      "É igual gritar IAAAA… 2019-12-05 19:01:11\n",
      "@heldermaldonado É bom se infomar direitinho e só depois sair por ai cagando pela boca né, Helder... Até para não f… https://t.co/BcxKjxLDBo 2019-12-05 19:00:16\n",
      "#paraisopolis vídeo necessário\n",
      "\n",
      "https://t.co/4Hi4RRteAK 2019-12-05 18:25:00\n",
      "@phchem Não fala assim com o companheiro... Ele é um opressor assalariado. \n",
      "Perguntei se ele já abriu mão dos direi… https://t.co/aQUMimKPCc 2019-12-05 18:09:08\n",
      "@ttriani @CeJBrasil @arthurmoledoval muuuuuuuuuuuuuuuuuuuuuuuuuuuu 2019-12-05 18:03:58\n",
      "@shazancaraii Deve ser mesmo... Mas a maioria defende de graça mesmo, enquanto mamam na teta dos pais em casa, na i… https://t.co/ir7gnFMWLO 2019-12-05 17:37:34\n",
      "@MaicoDouglasMi1 E já começa preparar a defesa do Flavinho\n",
      "\n",
      "https://t.co/ZpGQgRuZ2I 2019-12-05 17:21:09\n",
      "@MaicoDouglasMi1 Nossa hein, que engraçadão que você é. Tenho certeza que todo mundo riu muito da sua gadisse que v… https://t.co/K4lFyzus7n 2019-12-05 17:20:40\n",
      "@shazancaraii Precisa ter algum tipo de renda para pagar impostos... Miojo, dinheiro dos pais realmente são isentos, ainda. 2019-12-05 17:18:40\n",
      "@MaicoDouglasMi1 mimimimimimimim marxxxx\n",
      "e desde quando asnos como você conhecem Marx? Além de baba ovo é papagaio… https://t.co/XLaoXoOdvs 2019-12-05 17:15:19\n",
      "@ttriani @CeJBrasil @arthurmoledoval Pra você ver como você é ridiculo. É baba ovo e trampa de graça para candidato… https://t.co/p1uIjz6mJI 2019-12-05 17:14:23\n",
      "@ttriani @CeJBrasil @arthurmoledoval Ou você percebeu o quanto é trouxa e prefere negar para não se sentir mal....… https://t.co/IatEddxnMR 2019-12-05 15:41:53\n",
      "RT @JornalOGlobo: Senadores querem investigar algoritmo que privilegia brancos em hospitais nos EUA https://t.co/ljogBMVna8 https://t.co/Ml… 2019-12-05 15:18:59\n",
      "RT @BlogdoNoblat: Wilson Witzel pede que STF suspenda lei que garante royalties para educação e saúde https://t.co/wgC8YI15P9 2019-12-05 15:17:10\n",
      "@phchem Mas se pá, o mais curioso é eles verem o Mamaefalei como sendo o \"lado frágil\" da história, mesmo ele ganha… https://t.co/hn2wNGqVLu 2019-12-05 15:05:40\n",
      "@phchem é engraçadíssimo ver a turma desempregada fazendo serviço advocatício gratuíto para os deputados de estimação... 2019-12-05 15:04:00\n",
      "@Alexandre3280 @joicehasselmann Na época dessa reportagem, todos raivosos que aqui comentam, na época eram baba ovo… https://t.co/EBxDhGtxZ4 2019-12-05 14:59:32\n",
      "@ttriani @CeJBrasil @arthurmoledoval Você não está com ele não... Ele ganha 20 mil por mês, seguranças, vida boa, m… https://t.co/aHSxVgeFKs 2019-12-05 14:56:07\n",
      "@phchem É que a violência só é autorizada quando é contra os \"esquerdistas\"... Quando é contra qualquer um deles, d… https://t.co/RuRmbWu6No 2019-12-05 14:47:36\n",
      "@meninas_srn O foda é pensar em quantos outros iguais à ele, que nã;o são conhecidos na internet e acabam sendo aut… https://t.co/wux6GHQ3Ev 2019-12-05 14:18:36\n",
      "@DecioGrohs @belleprata @kimpkat Resumindo, quando temos dinheiro na conta para pagar advogados, contratar seguranç… https://t.co/YT5rfrFtyn 2019-12-05 12:06:13\n",
      "@DecioGrohs @belleprata @kimpkat O ponto é que o Arthur é um deputado, recebe uma grana forte do estado para ter to… https://t.co/sz1jl3SOR8 2019-12-05 12:05:03\n",
      "@Jhon_XXI Nooffffa hein, como você é lacrador/opressor... Afinal, você nao votou em alguém que chame os outros de \"… https://t.co/6Ux8M7zEOx 2019-12-05 12:02:54\n",
      "RT @xicosa: Dízimo com quem andas https://t.co/Ij7kpuxFnW 2019-12-05 01:56:48\n",
      "@MaicoDouglasMi1 Sim. Pena de gado como você. Olha aqui a coitada da Carla Zambelli que você ta fazendo trabalho de… https://t.co/A00RqM2jfW 2019-12-05 01:46:29\n",
      "@marcogomes Esse mlk é zica d+ 2019-12-05 01:30:57\n",
      "@roxmo @Biakicis @joicehasselmann @CarlaZambelli17 mimimimimi tadinha, oh meu deus, como podem falar algo assim par… https://t.co/04nuufIlFH 2019-12-05 01:15:35\n",
      "@MaicoDouglasMi1 Enquanto os políticos enchem o cu para defender os intereses dos empresários, otários como você de… https://t.co/PUMCzTKGxR 2019-12-05 01:14:18\n",
      "@MaicoDouglasMi1 Vai lá o chupa saco de político... Fique ai fazendo a sua \"torcida organizada\" de twitter, enquant… https://t.co/qQ54hSFzI6 2019-12-05 01:12:32\n",
      "@MaicoDouglasMi1 A joice conehce a Carla muito melhor que você, não esqueça disso... Até ontem as duas estavam lado… https://t.co/KFO6ruiVyR 2019-12-05 01:08:48\n",
      "@Ceci35450207 @CarlaZambelli17 \"Minha solidariedade\"  mimimimimimimimimimi \n",
      "vai chorar é? Toda essa merda e lixo, g… https://t.co/KjYuFzRVmI 2019-12-05 01:04:38\n",
      "RT @MarceloFreixo: Aniversário de 1 ano do caso Queiroz. Será que é o Moro quem vai soprar a velinha? Ou vai continuar só no abafa?\n",
      " #Parab… 2019-12-04 21:06:46\n",
      "@marciogreccobr @felipemm Para qlqr pessoa com + de 5 neuronios é fácil constatar que é verdade.\n",
      "Muitas das coisas… https://t.co/V1NyelF0U0 2019-12-04 20:48:15\n",
      "RT @marcogomes: é um \"PM de verdade\" sim.\n",
      "\n",
      "\"Falácia do escocês de verdade\" dizer que este não seria um \"PM de verdade\". \n",
      "\n",
      "Ele está fardado… 2019-12-04 18:51:08\n",
      "RT @monicabergamo: Três dias depois da tragédia de Paraisópolis, já surgiram vídeos de PMs espancando jovens desarmados; PMs batendo em pes… 2019-12-04 18:50:20\n",
      "O CARA É SABUJO ATÉ O ÚLTIMO FIO DE CABELO HAHAHAHAHA NÃO É POSSÍVEL https://t.co/bIO9A9exyH 2019-12-04 18:50:02\n",
      "@buenodecama Guarde os prints de tudo e processse esse verme. Ele é pessoa pública e precisa ter responsabilidade.... 2019-12-04 18:05:27\n",
      "@johngaltdamassa Eu prefiro chamar à esses iludidos de GADO do capital financeiro... Enquanto muita gente ganha gra… https://t.co/9oaWxkh4U1 2019-12-04 18:03:50\n",
      "@felipemm Engraçado, eu concordo que ela é canalha, mas até ontem ela era a queridinha. E estava no msm lado que vc… https://t.co/nKvhmhcIDj 2019-12-04 17:57:17\n",
      "RT @xicosa: É sim pra comemorar. #ParabensCasoQueiroz https://t.co/8MMyO6HNMs 2019-12-04 13:26:13\n",
      "@izanildosabino O mais interessante é que o Jornal tem melhor controle que o próprio governo hahahah \n",
      "A única dúvid… https://t.co/1k3g3dMRDb 2019-12-04 03:06:21\n",
      "@johngaltdamassa Na verdade, a falta de investimento no Metro estatal é justamente para sucatear e forçar uma priva… https://t.co/8py3zqTBXX 2019-12-04 00:48:31\n",
      "@esgarotobom2 @gnrsep Defendendo até assassinato é?! A sua vida nao deve ser fácil... Você é uma vergonha para qual… https://t.co/vBh73bfR0O 2019-12-03 00:52:06\n",
      "RT @blogdosakamoto: A PM é responsável pela morte de 9 pessoas pisoteadas após uma ação violenta da corporação em um baile funk na favela d… 2019-12-02 13:20:45\n",
      "@andrecaramante Ação digna daqueles vídeos que viamos do \"esquadrão da morte\" nos anos 90  ~ 2000 2019-12-02 13:06:14\n",
      "@lucianoayan É a mesma mídia que sentava o pau no Lula e tirou a Dilma... Quando ela repetia exaustivamente o \"seu… https://t.co/rrZBzvwbG5 2019-12-02 12:44:36\n",
      "@deinha_asl Baseado nos ministros ~super competentes~ que o Bolso escolheu, podemos ter uma noção do tipo régua que… https://t.co/VsSpZKy3xu 2019-12-02 12:43:16\n",
      "RT @TheInterceptBr: A declaração de Guedes naturalizando o AI-5 vem na esteira de uma escalada dos discursos autoritários do bolsonarismo e… 2019-12-02 12:34:01\n",
      "RT @andrecaramante: PMs que atuam na região da favela de Paraisópolis, zona sul de SP, queriam que o fotógrafo Daniel Arroyo, da @pontejorn… 2019-12-02 01:45:58\n",
      "RT @andrecaramante: No primeiro documento oficial sobre a tragédia com 9 jovens mortos em #paraisopolis , elaborado pela Polícia Civil, não… 2019-12-02 01:21:03\n",
      "RT @marcogomes: PM matou 9 pessoas em Paraisopolis, porque sim.\n",
      "\n",
      "Sabe o que vai dar?\n",
      "\n",
      "Nada.\n",
      "\n",
      "Amanhã tão matando novamente. Parte consideráv… 2019-12-02 01:19:29\n",
      "RT @delucca: Já imaginou o monte de gay branco burguês sem camisa da The Week se pisoteando porque a Polícia Militar foi lá prender os traf… 2019-12-02 01:18:38\n",
      "Ação completamente vergonhosa da polícia militar. Mostrando um tremendo despreparo e também, desrespeito a vida....… https://t.co/5DwMwFXw2b 2019-12-02 01:16:21\n",
      "RT @ggreenwald: @januario_paludo Será interessante ver se @RedeGlobo e @GloboNews  contam à audiência sobre essas acusações de corrupção gr… 2019-11-30 13:26:01\n",
      "RT @TheInterceptBr: URGENTE: Bastidores da PF – Bolsonaro está mentindo. A @policiafederal sabe que as ONGs que atuam na Amazônia não têm q… 2019-11-28 19:47:58\n"
     ]
    },
    {
     "name": "stdout",
     "output_type": "stream",
     "text": [
      "RT @TheInterceptBr: Na Jovem Pan, @AugustoNunes e @BlogdoPim se mostraram admirados com o bom desempenho dos deputados do @partidonovo30  n… 2019-11-28 00:57:29\n",
      "@vpougy @ggreenwald @MauricioRicardo É um dos grandes jênios que fazem esse tipo de equivalência bisonha, que só fa… https://t.co/VzzuBwYNOe 2019-11-27 17:46:19\n",
      "@vpougy @ggreenwald @MauricioRicardo que o diga... Ele fala como se fosse o maior estrategista e analista político… https://t.co/TMcXaI0DzE 2019-11-27 17:45:04\n",
      "RT @SoniaBridi: Essa não é a única fala racista desse senhor. Abominável que receba do  Estado brasileiro para dizer tanta coisa que a Cons… 2019-11-26 22:47:01\n",
      "RT @lauraabcarvalho: Junto com o Estado mínimo na proteção social, sempre vem o Estado máximo na segurança e na repressão. Não existem duas… 2019-11-26 12:38:55\n",
      "RT @ggreenwald: NOVO #VazaJato: Moro mentiu ao público quando disse que apenas seguira o padrão estabelecido pela LJ quando mandou retirar… 2019-11-24 13:50:45\n",
      "@Am2Diego Gado de nada, eu errei aqui!!! \n",
      "Ancaps são seres superiores, completamente conscientes e espertos.... Pen… https://t.co/66BdUxD0KG 2019-11-22 19:53:46\n",
      "@Biaaa96464235 Você pergunta em quem a pessoa votou antes de dar risada é?! rs 2019-11-22 19:46:46\n",
      "@Am2Diego Caramba, como você é superior hein?! \n",
      "Só no fato de você se rotular como algo, já demonstra uma grande vo… https://t.co/vCVXzz1fXG 2019-11-22 19:39:37\n",
      "@RosieDaSerenata @robertobritto11 @camaradeputados OOOOOOOOOOOOOOOPPAAAAAAAAAAAAAAAA 🧐 2017-11-06 02:40:42\n",
      "@luciano_lao @laurojardim Sim sim, ele está sendo orientado a mudar a postura e você falando que ele é autentico ha… https://t.co/UBedFU2mI3 2017-07-13 00:13:45\n",
      "@MBLivre @MBLivre Po que legal, pararam de fingir que não defendiam o Temer hahaha Os especialistas em fake news, c… https://t.co/Nvdh1gRDYI 2017-07-07 01:36:06\n",
      "@Estadao Será que o tradutor do Temer na Rússia ganha um extra para fazer a tradução das mesóclises e aquele vocabu… https://t.co/3E03sEAuwp 2017-06-20 22:49:53\n",
      "@marcelorubens Será que o tradutor do Temer na Rússia ganha um extra para fazer a tradução das mesóclises e aquele… https://t.co/gjcSw1cSGI 2017-06-20 22:43:11\n",
      "@jose_simao Será que o tradutor do Temer na Rússia ganha um extra para fazer a tradução das mesóclises e aquele voc… https://t.co/bBgczAlUNk 2017-06-20 22:41:40\n",
      "@jose_simao Sera que tem uma linha vegana da friboi que utilizam papel vegetal? 2017-03-21 03:33:29\n",
      "@jose_simao Sera que tem uma linha vegana da friboi que utilizam papel vegetal? 2017-03-21 03:33:03\n",
      "@filipe1anderson pior é que nem isso... É só um alienado que pensa que os alienados são só os outros, os tais \"petistas\" que são todo mundo 2017-03-08 22:03:39\n",
      "@romerojuca Esse grande controle da inflação, não se chamaria recessão? 2017-03-08 22:01:49\n",
      "@g1 Óbvio que não, grande pacto nacional. 2017-02-22 14:35:09\n",
      "@Estadao \"- Acordo com STF, com tudo\" 2017-02-22 00:17:30\n",
      "Se você acordasse do coma após anos e conferisse a página do @MBLivre hoje pensaria que ainda Dilma não caiu, e o PT está firme e forte haha 2017-02-21 19:14:07\n",
      "Tinha que ser feito um levantamento para ver quantas vezes o @MBLivre cita o PT/esquerda por dia kk Sobre PSDB/PMDB nem um pio, nunca. 2017-02-21 19:02:22\n",
      "@NandoMoura101 Cao feroz contra o Luladrão, mas um puddle contra os outros ladrões. Estamos de olho, moralista de araque. 2017-02-20 00:20:42\n",
      "@NandoMoura101 Curioso você fazer um vídeo acusando os outros de parcialidade, sem ter feito vídeo criticando as cagadas do atual governo. 2017-02-20 00:20:00\n",
      "@BolsonaroSP Mas porque quando é o Trump que censura a imprensa e chama ela de fake news, dai é legal, legítimo e defendido por você? 2017-02-20 00:15:42\n"
     ]
    }
   ],
   "source": [
    "import tweepy \n",
    "\n",
    "for status in tweepy.Cursor(api.user_timeline).items():\n",
    "    # process status here\n",
    "    print(status.text, status.created_at)"
   ]
  },
  {
   "cell_type": "code",
   "execution_count": 110,
   "metadata": {},
   "outputs": [
    {
     "ename": "TypeError",
     "evalue": "list indices must be integers or slices, not str",
     "output_type": "error",
     "traceback": [
      "\u001b[0;31m---------------------------------------------------------------------------\u001b[0m",
      "\u001b[0;31mTypeError\u001b[0m                                 Traceback (most recent call last)",
      "\u001b[0;32m<ipython-input-110-74ca94256b22>\u001b[0m in \u001b[0;36m<module>\u001b[0;34m\u001b[0m\n\u001b[0;32m----> 1\u001b[0;31m \u001b[0mapi\u001b[0m\u001b[0;34m.\u001b[0m\u001b[0mtrends_available\u001b[0m\u001b[0;34m(\u001b[0m\u001b[0mid\u001b[0m\u001b[0;34m=\u001b[0m\u001b[0;34m'BRXX0936'\u001b[0m\u001b[0;34m,\u001b[0m \u001b[0;34m)\u001b[0m\u001b[0;34m[\u001b[0m\u001b[0;34m'woeid'\u001b[0m\u001b[0;34m]\u001b[0m \u001b[0;34m==\u001b[0m \u001b[0;34m\"BR\"\u001b[0m\u001b[0;34m\u001b[0m\u001b[0;34m\u001b[0m\u001b[0m\n\u001b[0m",
      "\u001b[0;31mTypeError\u001b[0m: list indices must be integers or slices, not str"
     ]
    }
   ],
   "source": [
    "api.trends_available(id='BRXX0936', )['woeid'] == \"BR\""
   ]
  },
  {
   "cell_type": "code",
   "execution_count": null,
   "metadata": {},
   "outputs": [],
   "source": []
  },
  {
   "cell_type": "code",
   "execution_count": 65,
   "metadata": {},
   "outputs": [],
   "source": [
    "WORLD_WOE_ID = 1\n",
    "BR_WOE_ID = 23424768\n",
    "US_WOE_ID = 23424977\n",
    "\n",
    "\n",
    "world_trends = api.trends_place(id=WORLD_WOE_ID)\n",
    "br_trends = api.trends_place(id=BR_WOE_ID)\n"
   ]
  },
  {
   "cell_type": "code",
   "execution_count": 66,
   "metadata": {},
   "outputs": [],
   "source": [
    "world_trends_set = [(trend['name'], trend['tweet_volume'], trend['url'] )\n",
    "                        for trend in world_trends[0]['trends']]\n",
    "\n",
    "br_trends_set = [(trend['name'], trend['tweet_volume'], trend['url'] )\n",
    "                        for trend in br_trends[0]['trends']]"
   ]
  },
  {
   "cell_type": "code",
   "execution_count": 67,
   "metadata": {},
   "outputs": [
    {
     "data": {
      "application/vnd.plotly.v1+json": {
       "config": {
        "plotlyServerURL": "https://plot.ly"
       },
       "data": [
        {
         "alignmentgroup": "True",
         "hoverlabel": {
          "namelength": 0
         },
         "hovertemplate": "tag=%{x}<br>mentions=%{y}",
         "legendgroup": "",
         "marker": {
          "color": "#636efa"
         },
         "name": "",
         "offsetgroup": "",
         "orientation": "v",
         "showlegend": false,
         "textposition": "auto",
         "type": "bar",
         "x": [
          "#TakeCareSeungri",
          "#EuQueroMaiaNaCadeia",
          "#NowUnitedComeTogether",
          "QUEREMOS O GUI DE VOLTA NO BBB",
          "real sociedad",
          "#StreamILoveMe",
          "#FLAxBOT",
          "KAYSAR NA GLORIOSA COSMÉTICOS",
          "MC Livinho",
          "#MengaoAoVivo"
         ],
         "xaxis": "x",
         "y": [
          154548,
          67391,
          59224,
          32001,
          23346,
          21411,
          17790,
          15745,
          10361,
          null
         ],
         "yaxis": "y"
        }
       ],
       "layout": {
        "autosize": true,
        "barmode": "relative",
        "legend": {
         "tracegroupgap": 0
        },
        "template": {
         "data": {
          "bar": [
           {
            "error_x": {
             "color": "#2a3f5f"
            },
            "error_y": {
             "color": "#2a3f5f"
            },
            "marker": {
             "line": {
              "color": "#E5ECF6",
              "width": 0.5
             }
            },
            "type": "bar"
           }
          ],
          "barpolar": [
           {
            "marker": {
             "line": {
              "color": "#E5ECF6",
              "width": 0.5
             }
            },
            "type": "barpolar"
           }
          ],
          "carpet": [
           {
            "aaxis": {
             "endlinecolor": "#2a3f5f",
             "gridcolor": "white",
             "linecolor": "white",
             "minorgridcolor": "white",
             "startlinecolor": "#2a3f5f"
            },
            "baxis": {
             "endlinecolor": "#2a3f5f",
             "gridcolor": "white",
             "linecolor": "white",
             "minorgridcolor": "white",
             "startlinecolor": "#2a3f5f"
            },
            "type": "carpet"
           }
          ],
          "choropleth": [
           {
            "colorbar": {
             "outlinewidth": 0,
             "ticks": ""
            },
            "type": "choropleth"
           }
          ],
          "contour": [
           {
            "colorbar": {
             "outlinewidth": 0,
             "ticks": ""
            },
            "colorscale": [
             [
              0,
              "#0d0887"
             ],
             [
              0.1111111111111111,
              "#46039f"
             ],
             [
              0.2222222222222222,
              "#7201a8"
             ],
             [
              0.3333333333333333,
              "#9c179e"
             ],
             [
              0.4444444444444444,
              "#bd3786"
             ],
             [
              0.5555555555555556,
              "#d8576b"
             ],
             [
              0.6666666666666666,
              "#ed7953"
             ],
             [
              0.7777777777777778,
              "#fb9f3a"
             ],
             [
              0.8888888888888888,
              "#fdca26"
             ],
             [
              1,
              "#f0f921"
             ]
            ],
            "type": "contour"
           }
          ],
          "contourcarpet": [
           {
            "colorbar": {
             "outlinewidth": 0,
             "ticks": ""
            },
            "type": "contourcarpet"
           }
          ],
          "heatmap": [
           {
            "colorbar": {
             "outlinewidth": 0,
             "ticks": ""
            },
            "colorscale": [
             [
              0,
              "#0d0887"
             ],
             [
              0.1111111111111111,
              "#46039f"
             ],
             [
              0.2222222222222222,
              "#7201a8"
             ],
             [
              0.3333333333333333,
              "#9c179e"
             ],
             [
              0.4444444444444444,
              "#bd3786"
             ],
             [
              0.5555555555555556,
              "#d8576b"
             ],
             [
              0.6666666666666666,
              "#ed7953"
             ],
             [
              0.7777777777777778,
              "#fb9f3a"
             ],
             [
              0.8888888888888888,
              "#fdca26"
             ],
             [
              1,
              "#f0f921"
             ]
            ],
            "type": "heatmap"
           }
          ],
          "heatmapgl": [
           {
            "colorbar": {
             "outlinewidth": 0,
             "ticks": ""
            },
            "colorscale": [
             [
              0,
              "#0d0887"
             ],
             [
              0.1111111111111111,
              "#46039f"
             ],
             [
              0.2222222222222222,
              "#7201a8"
             ],
             [
              0.3333333333333333,
              "#9c179e"
             ],
             [
              0.4444444444444444,
              "#bd3786"
             ],
             [
              0.5555555555555556,
              "#d8576b"
             ],
             [
              0.6666666666666666,
              "#ed7953"
             ],
             [
              0.7777777777777778,
              "#fb9f3a"
             ],
             [
              0.8888888888888888,
              "#fdca26"
             ],
             [
              1,
              "#f0f921"
             ]
            ],
            "type": "heatmapgl"
           }
          ],
          "histogram": [
           {
            "marker": {
             "colorbar": {
              "outlinewidth": 0,
              "ticks": ""
             }
            },
            "type": "histogram"
           }
          ],
          "histogram2d": [
           {
            "colorbar": {
             "outlinewidth": 0,
             "ticks": ""
            },
            "colorscale": [
             [
              0,
              "#0d0887"
             ],
             [
              0.1111111111111111,
              "#46039f"
             ],
             [
              0.2222222222222222,
              "#7201a8"
             ],
             [
              0.3333333333333333,
              "#9c179e"
             ],
             [
              0.4444444444444444,
              "#bd3786"
             ],
             [
              0.5555555555555556,
              "#d8576b"
             ],
             [
              0.6666666666666666,
              "#ed7953"
             ],
             [
              0.7777777777777778,
              "#fb9f3a"
             ],
             [
              0.8888888888888888,
              "#fdca26"
             ],
             [
              1,
              "#f0f921"
             ]
            ],
            "type": "histogram2d"
           }
          ],
          "histogram2dcontour": [
           {
            "colorbar": {
             "outlinewidth": 0,
             "ticks": ""
            },
            "colorscale": [
             [
              0,
              "#0d0887"
             ],
             [
              0.1111111111111111,
              "#46039f"
             ],
             [
              0.2222222222222222,
              "#7201a8"
             ],
             [
              0.3333333333333333,
              "#9c179e"
             ],
             [
              0.4444444444444444,
              "#bd3786"
             ],
             [
              0.5555555555555556,
              "#d8576b"
             ],
             [
              0.6666666666666666,
              "#ed7953"
             ],
             [
              0.7777777777777778,
              "#fb9f3a"
             ],
             [
              0.8888888888888888,
              "#fdca26"
             ],
             [
              1,
              "#f0f921"
             ]
            ],
            "type": "histogram2dcontour"
           }
          ],
          "mesh3d": [
           {
            "colorbar": {
             "outlinewidth": 0,
             "ticks": ""
            },
            "type": "mesh3d"
           }
          ],
          "parcoords": [
           {
            "line": {
             "colorbar": {
              "outlinewidth": 0,
              "ticks": ""
             }
            },
            "type": "parcoords"
           }
          ],
          "pie": [
           {
            "automargin": true,
            "type": "pie"
           }
          ],
          "scatter": [
           {
            "marker": {
             "colorbar": {
              "outlinewidth": 0,
              "ticks": ""
             }
            },
            "type": "scatter"
           }
          ],
          "scatter3d": [
           {
            "line": {
             "colorbar": {
              "outlinewidth": 0,
              "ticks": ""
             }
            },
            "marker": {
             "colorbar": {
              "outlinewidth": 0,
              "ticks": ""
             }
            },
            "type": "scatter3d"
           }
          ],
          "scattercarpet": [
           {
            "marker": {
             "colorbar": {
              "outlinewidth": 0,
              "ticks": ""
             }
            },
            "type": "scattercarpet"
           }
          ],
          "scattergeo": [
           {
            "marker": {
             "colorbar": {
              "outlinewidth": 0,
              "ticks": ""
             }
            },
            "type": "scattergeo"
           }
          ],
          "scattergl": [
           {
            "marker": {
             "colorbar": {
              "outlinewidth": 0,
              "ticks": ""
             }
            },
            "type": "scattergl"
           }
          ],
          "scattermapbox": [
           {
            "marker": {
             "colorbar": {
              "outlinewidth": 0,
              "ticks": ""
             }
            },
            "type": "scattermapbox"
           }
          ],
          "scatterpolar": [
           {
            "marker": {
             "colorbar": {
              "outlinewidth": 0,
              "ticks": ""
             }
            },
            "type": "scatterpolar"
           }
          ],
          "scatterpolargl": [
           {
            "marker": {
             "colorbar": {
              "outlinewidth": 0,
              "ticks": ""
             }
            },
            "type": "scatterpolargl"
           }
          ],
          "scatterternary": [
           {
            "marker": {
             "colorbar": {
              "outlinewidth": 0,
              "ticks": ""
             }
            },
            "type": "scatterternary"
           }
          ],
          "surface": [
           {
            "colorbar": {
             "outlinewidth": 0,
             "ticks": ""
            },
            "colorscale": [
             [
              0,
              "#0d0887"
             ],
             [
              0.1111111111111111,
              "#46039f"
             ],
             [
              0.2222222222222222,
              "#7201a8"
             ],
             [
              0.3333333333333333,
              "#9c179e"
             ],
             [
              0.4444444444444444,
              "#bd3786"
             ],
             [
              0.5555555555555556,
              "#d8576b"
             ],
             [
              0.6666666666666666,
              "#ed7953"
             ],
             [
              0.7777777777777778,
              "#fb9f3a"
             ],
             [
              0.8888888888888888,
              "#fdca26"
             ],
             [
              1,
              "#f0f921"
             ]
            ],
            "type": "surface"
           }
          ],
          "table": [
           {
            "cells": {
             "fill": {
              "color": "#EBF0F8"
             },
             "line": {
              "color": "white"
             }
            },
            "header": {
             "fill": {
              "color": "#C8D4E3"
             },
             "line": {
              "color": "white"
             }
            },
            "type": "table"
           }
          ]
         },
         "layout": {
          "annotationdefaults": {
           "arrowcolor": "#2a3f5f",
           "arrowhead": 0,
           "arrowwidth": 1
          },
          "coloraxis": {
           "colorbar": {
            "outlinewidth": 0,
            "ticks": ""
           }
          },
          "colorscale": {
           "diverging": [
            [
             0,
             "#8e0152"
            ],
            [
             0.1,
             "#c51b7d"
            ],
            [
             0.2,
             "#de77ae"
            ],
            [
             0.3,
             "#f1b6da"
            ],
            [
             0.4,
             "#fde0ef"
            ],
            [
             0.5,
             "#f7f7f7"
            ],
            [
             0.6,
             "#e6f5d0"
            ],
            [
             0.7,
             "#b8e186"
            ],
            [
             0.8,
             "#7fbc41"
            ],
            [
             0.9,
             "#4d9221"
            ],
            [
             1,
             "#276419"
            ]
           ],
           "sequential": [
            [
             0,
             "#0d0887"
            ],
            [
             0.1111111111111111,
             "#46039f"
            ],
            [
             0.2222222222222222,
             "#7201a8"
            ],
            [
             0.3333333333333333,
             "#9c179e"
            ],
            [
             0.4444444444444444,
             "#bd3786"
            ],
            [
             0.5555555555555556,
             "#d8576b"
            ],
            [
             0.6666666666666666,
             "#ed7953"
            ],
            [
             0.7777777777777778,
             "#fb9f3a"
            ],
            [
             0.8888888888888888,
             "#fdca26"
            ],
            [
             1,
             "#f0f921"
            ]
           ],
           "sequentialminus": [
            [
             0,
             "#0d0887"
            ],
            [
             0.1111111111111111,
             "#46039f"
            ],
            [
             0.2222222222222222,
             "#7201a8"
            ],
            [
             0.3333333333333333,
             "#9c179e"
            ],
            [
             0.4444444444444444,
             "#bd3786"
            ],
            [
             0.5555555555555556,
             "#d8576b"
            ],
            [
             0.6666666666666666,
             "#ed7953"
            ],
            [
             0.7777777777777778,
             "#fb9f3a"
            ],
            [
             0.8888888888888888,
             "#fdca26"
            ],
            [
             1,
             "#f0f921"
            ]
           ]
          },
          "colorway": [
           "#636efa",
           "#EF553B",
           "#00cc96",
           "#ab63fa",
           "#FFA15A",
           "#19d3f3",
           "#FF6692",
           "#B6E880",
           "#FF97FF",
           "#FECB52"
          ],
          "font": {
           "color": "#2a3f5f"
          },
          "geo": {
           "bgcolor": "white",
           "lakecolor": "white",
           "landcolor": "#E5ECF6",
           "showlakes": true,
           "showland": true,
           "subunitcolor": "white"
          },
          "hoverlabel": {
           "align": "left"
          },
          "hovermode": "closest",
          "mapbox": {
           "style": "light"
          },
          "paper_bgcolor": "white",
          "plot_bgcolor": "#E5ECF6",
          "polar": {
           "angularaxis": {
            "gridcolor": "white",
            "linecolor": "white",
            "ticks": ""
           },
           "bgcolor": "#E5ECF6",
           "radialaxis": {
            "gridcolor": "white",
            "linecolor": "white",
            "ticks": ""
           }
          },
          "scene": {
           "xaxis": {
            "backgroundcolor": "#E5ECF6",
            "gridcolor": "white",
            "gridwidth": 2,
            "linecolor": "white",
            "showbackground": true,
            "ticks": "",
            "zerolinecolor": "white"
           },
           "yaxis": {
            "backgroundcolor": "#E5ECF6",
            "gridcolor": "white",
            "gridwidth": 2,
            "linecolor": "white",
            "showbackground": true,
            "ticks": "",
            "zerolinecolor": "white"
           },
           "zaxis": {
            "backgroundcolor": "#E5ECF6",
            "gridcolor": "white",
            "gridwidth": 2,
            "linecolor": "white",
            "showbackground": true,
            "ticks": "",
            "zerolinecolor": "white"
           }
          },
          "shapedefaults": {
           "line": {
            "color": "#2a3f5f"
           }
          },
          "ternary": {
           "aaxis": {
            "gridcolor": "white",
            "linecolor": "white",
            "ticks": ""
           },
           "baxis": {
            "gridcolor": "white",
            "linecolor": "white",
            "ticks": ""
           },
           "bgcolor": "#E5ECF6",
           "caxis": {
            "gridcolor": "white",
            "linecolor": "white",
            "ticks": ""
           }
          },
          "title": {
           "x": 0.05
          },
          "xaxis": {
           "automargin": true,
           "gridcolor": "white",
           "linecolor": "white",
           "ticks": "",
           "title": {
            "standoff": 15
           },
           "zerolinecolor": "white",
           "zerolinewidth": 2
          },
          "yaxis": {
           "automargin": true,
           "gridcolor": "white",
           "linecolor": "white",
           "ticks": "",
           "title": {
            "standoff": 15
           },
           "zerolinecolor": "white",
           "zerolinewidth": 2
          }
         }
        },
        "title": {
         "text": "bla",
         "x": 0.5
        },
        "xaxis": {
         "anchor": "y",
         "domain": [
          0,
          1
         ],
         "title": {
          "text": "tag"
         }
        },
        "yaxis": {
         "anchor": "x",
         "domain": [
          0,
          1
         ],
         "title": {
          "text": "mentions"
         }
        }
       }
      },
      "text/html": [
       "<div>\n",
       "        \n",
       "        \n",
       "            <div id=\"394a0b9a-1660-4a86-b563-6302e72b937c\" class=\"plotly-graph-div\" style=\"height:525px; width:100%;\"></div>\n",
       "            <script type=\"text/javascript\">\n",
       "                require([\"plotly\"], function(Plotly) {\n",
       "                    window.PLOTLYENV=window.PLOTLYENV || {};\n",
       "                    \n",
       "                if (document.getElementById(\"394a0b9a-1660-4a86-b563-6302e72b937c\")) {\n",
       "                    Plotly.newPlot(\n",
       "                        '394a0b9a-1660-4a86-b563-6302e72b937c',\n",
       "                        [{\"alignmentgroup\": \"True\", \"hoverlabel\": {\"namelength\": 0}, \"hovertemplate\": \"tag=%{x}<br>mentions=%{y}\", \"legendgroup\": \"\", \"marker\": {\"color\": \"#636efa\"}, \"name\": \"\", \"offsetgroup\": \"\", \"orientation\": \"v\", \"showlegend\": false, \"textposition\": \"auto\", \"type\": \"bar\", \"x\": [\"#TakeCareSeungri\", \"#EuQueroMaiaNaCadeia\", \"#NowUnitedComeTogether\", \"QUEREMOS O GUI DE VOLTA NO BBB\", \"real sociedad\", \"#StreamILoveMe\", \"#FLAxBOT\", \"KAYSAR NA GLORIOSA COSM\\u00c9TICOS\", \"MC Livinho\", \"#MengaoAoVivo\"], \"xaxis\": \"x\", \"y\": [154548.0, 67391.0, 59224.0, 32001.0, 23346.0, 21411.0, 17790.0, 15745.0, 10361.0, null], \"yaxis\": \"y\"}],\n",
       "                        {\"autosize\": true, \"barmode\": \"relative\", \"legend\": {\"tracegroupgap\": 0}, \"template\": {\"data\": {\"bar\": [{\"error_x\": {\"color\": \"#2a3f5f\"}, \"error_y\": {\"color\": \"#2a3f5f\"}, \"marker\": {\"line\": {\"color\": \"#E5ECF6\", \"width\": 0.5}}, \"type\": \"bar\"}], \"barpolar\": [{\"marker\": {\"line\": {\"color\": \"#E5ECF6\", \"width\": 0.5}}, \"type\": \"barpolar\"}], \"carpet\": [{\"aaxis\": {\"endlinecolor\": \"#2a3f5f\", \"gridcolor\": \"white\", \"linecolor\": \"white\", \"minorgridcolor\": \"white\", \"startlinecolor\": \"#2a3f5f\"}, \"baxis\": {\"endlinecolor\": \"#2a3f5f\", \"gridcolor\": \"white\", \"linecolor\": \"white\", \"minorgridcolor\": \"white\", \"startlinecolor\": \"#2a3f5f\"}, \"type\": \"carpet\"}], \"choropleth\": [{\"colorbar\": {\"outlinewidth\": 0, \"ticks\": \"\"}, \"type\": \"choropleth\"}], \"contour\": [{\"colorbar\": {\"outlinewidth\": 0, \"ticks\": \"\"}, \"colorscale\": [[0.0, \"#0d0887\"], [0.1111111111111111, \"#46039f\"], [0.2222222222222222, \"#7201a8\"], [0.3333333333333333, \"#9c179e\"], [0.4444444444444444, \"#bd3786\"], [0.5555555555555556, \"#d8576b\"], [0.6666666666666666, \"#ed7953\"], [0.7777777777777778, \"#fb9f3a\"], [0.8888888888888888, \"#fdca26\"], [1.0, \"#f0f921\"]], \"type\": \"contour\"}], \"contourcarpet\": [{\"colorbar\": {\"outlinewidth\": 0, \"ticks\": \"\"}, \"type\": \"contourcarpet\"}], \"heatmap\": [{\"colorbar\": {\"outlinewidth\": 0, \"ticks\": \"\"}, \"colorscale\": [[0.0, \"#0d0887\"], [0.1111111111111111, \"#46039f\"], [0.2222222222222222, \"#7201a8\"], [0.3333333333333333, \"#9c179e\"], [0.4444444444444444, \"#bd3786\"], [0.5555555555555556, \"#d8576b\"], [0.6666666666666666, \"#ed7953\"], [0.7777777777777778, \"#fb9f3a\"], [0.8888888888888888, \"#fdca26\"], [1.0, \"#f0f921\"]], \"type\": \"heatmap\"}], \"heatmapgl\": [{\"colorbar\": {\"outlinewidth\": 0, \"ticks\": \"\"}, \"colorscale\": [[0.0, \"#0d0887\"], [0.1111111111111111, \"#46039f\"], [0.2222222222222222, \"#7201a8\"], [0.3333333333333333, \"#9c179e\"], [0.4444444444444444, \"#bd3786\"], [0.5555555555555556, \"#d8576b\"], [0.6666666666666666, \"#ed7953\"], [0.7777777777777778, \"#fb9f3a\"], [0.8888888888888888, \"#fdca26\"], [1.0, \"#f0f921\"]], \"type\": \"heatmapgl\"}], \"histogram\": [{\"marker\": {\"colorbar\": {\"outlinewidth\": 0, \"ticks\": \"\"}}, \"type\": \"histogram\"}], \"histogram2d\": [{\"colorbar\": {\"outlinewidth\": 0, \"ticks\": \"\"}, \"colorscale\": [[0.0, \"#0d0887\"], [0.1111111111111111, \"#46039f\"], [0.2222222222222222, \"#7201a8\"], [0.3333333333333333, \"#9c179e\"], [0.4444444444444444, \"#bd3786\"], [0.5555555555555556, \"#d8576b\"], [0.6666666666666666, \"#ed7953\"], [0.7777777777777778, \"#fb9f3a\"], [0.8888888888888888, \"#fdca26\"], [1.0, \"#f0f921\"]], \"type\": \"histogram2d\"}], \"histogram2dcontour\": [{\"colorbar\": {\"outlinewidth\": 0, \"ticks\": \"\"}, \"colorscale\": [[0.0, \"#0d0887\"], [0.1111111111111111, \"#46039f\"], [0.2222222222222222, \"#7201a8\"], [0.3333333333333333, \"#9c179e\"], [0.4444444444444444, \"#bd3786\"], [0.5555555555555556, \"#d8576b\"], [0.6666666666666666, \"#ed7953\"], [0.7777777777777778, \"#fb9f3a\"], [0.8888888888888888, \"#fdca26\"], [1.0, \"#f0f921\"]], \"type\": \"histogram2dcontour\"}], \"mesh3d\": [{\"colorbar\": {\"outlinewidth\": 0, \"ticks\": \"\"}, \"type\": \"mesh3d\"}], \"parcoords\": [{\"line\": {\"colorbar\": {\"outlinewidth\": 0, \"ticks\": \"\"}}, \"type\": \"parcoords\"}], \"pie\": [{\"automargin\": true, \"type\": \"pie\"}], \"scatter\": [{\"marker\": {\"colorbar\": {\"outlinewidth\": 0, \"ticks\": \"\"}}, \"type\": \"scatter\"}], \"scatter3d\": [{\"line\": {\"colorbar\": {\"outlinewidth\": 0, \"ticks\": \"\"}}, \"marker\": {\"colorbar\": {\"outlinewidth\": 0, \"ticks\": \"\"}}, \"type\": \"scatter3d\"}], \"scattercarpet\": [{\"marker\": {\"colorbar\": {\"outlinewidth\": 0, \"ticks\": \"\"}}, \"type\": \"scattercarpet\"}], \"scattergeo\": [{\"marker\": {\"colorbar\": {\"outlinewidth\": 0, \"ticks\": \"\"}}, \"type\": \"scattergeo\"}], \"scattergl\": [{\"marker\": {\"colorbar\": {\"outlinewidth\": 0, \"ticks\": \"\"}}, \"type\": \"scattergl\"}], \"scattermapbox\": [{\"marker\": {\"colorbar\": {\"outlinewidth\": 0, \"ticks\": \"\"}}, \"type\": \"scattermapbox\"}], \"scatterpolar\": [{\"marker\": {\"colorbar\": {\"outlinewidth\": 0, \"ticks\": \"\"}}, \"type\": \"scatterpolar\"}], \"scatterpolargl\": [{\"marker\": {\"colorbar\": {\"outlinewidth\": 0, \"ticks\": \"\"}}, \"type\": \"scatterpolargl\"}], \"scatterternary\": [{\"marker\": {\"colorbar\": {\"outlinewidth\": 0, \"ticks\": \"\"}}, \"type\": \"scatterternary\"}], \"surface\": [{\"colorbar\": {\"outlinewidth\": 0, \"ticks\": \"\"}, \"colorscale\": [[0.0, \"#0d0887\"], [0.1111111111111111, \"#46039f\"], [0.2222222222222222, \"#7201a8\"], [0.3333333333333333, \"#9c179e\"], [0.4444444444444444, \"#bd3786\"], [0.5555555555555556, \"#d8576b\"], [0.6666666666666666, \"#ed7953\"], [0.7777777777777778, \"#fb9f3a\"], [0.8888888888888888, \"#fdca26\"], [1.0, \"#f0f921\"]], \"type\": \"surface\"}], \"table\": [{\"cells\": {\"fill\": {\"color\": \"#EBF0F8\"}, \"line\": {\"color\": \"white\"}}, \"header\": {\"fill\": {\"color\": \"#C8D4E3\"}, \"line\": {\"color\": \"white\"}}, \"type\": \"table\"}]}, \"layout\": {\"annotationdefaults\": {\"arrowcolor\": \"#2a3f5f\", \"arrowhead\": 0, \"arrowwidth\": 1}, \"coloraxis\": {\"colorbar\": {\"outlinewidth\": 0, \"ticks\": \"\"}}, \"colorscale\": {\"diverging\": [[0, \"#8e0152\"], [0.1, \"#c51b7d\"], [0.2, \"#de77ae\"], [0.3, \"#f1b6da\"], [0.4, \"#fde0ef\"], [0.5, \"#f7f7f7\"], [0.6, \"#e6f5d0\"], [0.7, \"#b8e186\"], [0.8, \"#7fbc41\"], [0.9, \"#4d9221\"], [1, \"#276419\"]], \"sequential\": [[0.0, \"#0d0887\"], [0.1111111111111111, \"#46039f\"], [0.2222222222222222, \"#7201a8\"], [0.3333333333333333, \"#9c179e\"], [0.4444444444444444, \"#bd3786\"], [0.5555555555555556, \"#d8576b\"], [0.6666666666666666, \"#ed7953\"], [0.7777777777777778, \"#fb9f3a\"], [0.8888888888888888, \"#fdca26\"], [1.0, \"#f0f921\"]], \"sequentialminus\": [[0.0, \"#0d0887\"], [0.1111111111111111, \"#46039f\"], [0.2222222222222222, \"#7201a8\"], [0.3333333333333333, \"#9c179e\"], [0.4444444444444444, \"#bd3786\"], [0.5555555555555556, \"#d8576b\"], [0.6666666666666666, \"#ed7953\"], [0.7777777777777778, \"#fb9f3a\"], [0.8888888888888888, \"#fdca26\"], [1.0, \"#f0f921\"]]}, \"colorway\": [\"#636efa\", \"#EF553B\", \"#00cc96\", \"#ab63fa\", \"#FFA15A\", \"#19d3f3\", \"#FF6692\", \"#B6E880\", \"#FF97FF\", \"#FECB52\"], \"font\": {\"color\": \"#2a3f5f\"}, \"geo\": {\"bgcolor\": \"white\", \"lakecolor\": \"white\", \"landcolor\": \"#E5ECF6\", \"showlakes\": true, \"showland\": true, \"subunitcolor\": \"white\"}, \"hoverlabel\": {\"align\": \"left\"}, \"hovermode\": \"closest\", \"mapbox\": {\"style\": \"light\"}, \"paper_bgcolor\": \"white\", \"plot_bgcolor\": \"#E5ECF6\", \"polar\": {\"angularaxis\": {\"gridcolor\": \"white\", \"linecolor\": \"white\", \"ticks\": \"\"}, \"bgcolor\": \"#E5ECF6\", \"radialaxis\": {\"gridcolor\": \"white\", \"linecolor\": \"white\", \"ticks\": \"\"}}, \"scene\": {\"xaxis\": {\"backgroundcolor\": \"#E5ECF6\", \"gridcolor\": \"white\", \"gridwidth\": 2, \"linecolor\": \"white\", \"showbackground\": true, \"ticks\": \"\", \"zerolinecolor\": \"white\"}, \"yaxis\": {\"backgroundcolor\": \"#E5ECF6\", \"gridcolor\": \"white\", \"gridwidth\": 2, \"linecolor\": \"white\", \"showbackground\": true, \"ticks\": \"\", \"zerolinecolor\": \"white\"}, \"zaxis\": {\"backgroundcolor\": \"#E5ECF6\", \"gridcolor\": \"white\", \"gridwidth\": 2, \"linecolor\": \"white\", \"showbackground\": true, \"ticks\": \"\", \"zerolinecolor\": \"white\"}}, \"shapedefaults\": {\"line\": {\"color\": \"#2a3f5f\"}}, \"ternary\": {\"aaxis\": {\"gridcolor\": \"white\", \"linecolor\": \"white\", \"ticks\": \"\"}, \"baxis\": {\"gridcolor\": \"white\", \"linecolor\": \"white\", \"ticks\": \"\"}, \"bgcolor\": \"#E5ECF6\", \"caxis\": {\"gridcolor\": \"white\", \"linecolor\": \"white\", \"ticks\": \"\"}}, \"title\": {\"x\": 0.05}, \"xaxis\": {\"automargin\": true, \"gridcolor\": \"white\", \"linecolor\": \"white\", \"ticks\": \"\", \"title\": {\"standoff\": 15}, \"zerolinecolor\": \"white\", \"zerolinewidth\": 2}, \"yaxis\": {\"automargin\": true, \"gridcolor\": \"white\", \"linecolor\": \"white\", \"ticks\": \"\", \"title\": {\"standoff\": 15}, \"zerolinecolor\": \"white\", \"zerolinewidth\": 2}}}, \"title\": {\"text\": \"bla\", \"x\": 0.5}, \"xaxis\": {\"anchor\": \"y\", \"domain\": [0.0, 1.0], \"title\": {\"text\": \"tag\"}}, \"yaxis\": {\"anchor\": \"x\", \"domain\": [0.0, 1.0], \"title\": {\"text\": \"mentions\"}}},\n",
       "                        {\"responsive\": true}\n",
       "                    ).then(function(){\n",
       "                            \n",
       "var gd = document.getElementById('394a0b9a-1660-4a86-b563-6302e72b937c');\n",
       "var x = new MutationObserver(function (mutations, observer) {{\n",
       "        var display = window.getComputedStyle(gd).display;\n",
       "        if (!display || display === 'none') {{\n",
       "            console.log([gd, 'removed!']);\n",
       "            Plotly.purge(gd);\n",
       "            observer.disconnect();\n",
       "        }}\n",
       "}});\n",
       "\n",
       "// Listen for the removal of the full notebook cells\n",
       "var notebookContainer = gd.closest('#notebook-container');\n",
       "if (notebookContainer) {{\n",
       "    x.observe(notebookContainer, {childList: true});\n",
       "}}\n",
       "\n",
       "// Listen for the clearing of the current output cell\n",
       "var outputEl = gd.closest('.output');\n",
       "if (outputEl) {{\n",
       "    x.observe(outputEl, {childList: true});\n",
       "}}\n",
       "\n",
       "                        })\n",
       "                };\n",
       "                });\n",
       "            </script>\n",
       "        </div>"
      ]
     },
     "metadata": {},
     "output_type": "display_data"
    }
   ],
   "source": [
    "br_trend = pd.DataFrame(br_trends_set, columns=['tag', 'mentions', 'url']).sort_values('mentions',ascending=False)[:10]\n",
    "\n",
    "fig = px.bar(br_trend, x='tag', y='mentions', title='bla')\n",
    "fig.update_layout(autosize=True, title_x=.5)"
   ]
  },
  {
   "cell_type": "code",
   "execution_count": 68,
   "metadata": {},
   "outputs": [
    {
     "data": {
      "application/vnd.plotly.v1+json": {
       "config": {
        "plotlyServerURL": "https://plot.ly"
       },
       "data": [
        {
         "alignmentgroup": "True",
         "hoverlabel": {
          "namelength": 0
         },
         "hovertemplate": "tag=%{x}<br>mentions=%{y}",
         "legendgroup": "",
         "marker": {
          "color": "#636efa"
         },
         "name": "",
         "offsetgroup": "",
         "orientation": "v",
         "showlegend": false,
         "textposition": "auto",
         "type": "bar",
         "x": [
          "#الهلال_الاتفاق",
          "#AyatollahsSpreadCOVID19",
          "KimseEmniyette Değil",
          "#حريق_صباح_الاحمد",
          "Rafael Cavada",
          "#BeBest",
          "Lombardia",
          "QUEREMOS O GUI DE VOLTA NO BBB",
          "#8marzo2020",
          "#DünyayıKadınGüzelleştirir",
          "#Melfest",
          "#صداره_بس",
          "#KokoGeriGelsin",
          "#DiaperDon",
          "#وزير_التعليم"
         ],
         "xaxis": "x",
         "y": [
          145293,
          121722,
          70587,
          63711,
          59586,
          50252,
          36168,
          35265,
          33697,
          30656,
          26831,
          26544,
          26240,
          22682,
          20948
         ],
         "yaxis": "y"
        }
       ],
       "layout": {
        "autosize": true,
        "barmode": "relative",
        "legend": {
         "tracegroupgap": 0
        },
        "template": {
         "data": {
          "bar": [
           {
            "error_x": {
             "color": "#2a3f5f"
            },
            "error_y": {
             "color": "#2a3f5f"
            },
            "marker": {
             "line": {
              "color": "#E5ECF6",
              "width": 0.5
             }
            },
            "type": "bar"
           }
          ],
          "barpolar": [
           {
            "marker": {
             "line": {
              "color": "#E5ECF6",
              "width": 0.5
             }
            },
            "type": "barpolar"
           }
          ],
          "carpet": [
           {
            "aaxis": {
             "endlinecolor": "#2a3f5f",
             "gridcolor": "white",
             "linecolor": "white",
             "minorgridcolor": "white",
             "startlinecolor": "#2a3f5f"
            },
            "baxis": {
             "endlinecolor": "#2a3f5f",
             "gridcolor": "white",
             "linecolor": "white",
             "minorgridcolor": "white",
             "startlinecolor": "#2a3f5f"
            },
            "type": "carpet"
           }
          ],
          "choropleth": [
           {
            "colorbar": {
             "outlinewidth": 0,
             "ticks": ""
            },
            "type": "choropleth"
           }
          ],
          "contour": [
           {
            "colorbar": {
             "outlinewidth": 0,
             "ticks": ""
            },
            "colorscale": [
             [
              0,
              "#0d0887"
             ],
             [
              0.1111111111111111,
              "#46039f"
             ],
             [
              0.2222222222222222,
              "#7201a8"
             ],
             [
              0.3333333333333333,
              "#9c179e"
             ],
             [
              0.4444444444444444,
              "#bd3786"
             ],
             [
              0.5555555555555556,
              "#d8576b"
             ],
             [
              0.6666666666666666,
              "#ed7953"
             ],
             [
              0.7777777777777778,
              "#fb9f3a"
             ],
             [
              0.8888888888888888,
              "#fdca26"
             ],
             [
              1,
              "#f0f921"
             ]
            ],
            "type": "contour"
           }
          ],
          "contourcarpet": [
           {
            "colorbar": {
             "outlinewidth": 0,
             "ticks": ""
            },
            "type": "contourcarpet"
           }
          ],
          "heatmap": [
           {
            "colorbar": {
             "outlinewidth": 0,
             "ticks": ""
            },
            "colorscale": [
             [
              0,
              "#0d0887"
             ],
             [
              0.1111111111111111,
              "#46039f"
             ],
             [
              0.2222222222222222,
              "#7201a8"
             ],
             [
              0.3333333333333333,
              "#9c179e"
             ],
             [
              0.4444444444444444,
              "#bd3786"
             ],
             [
              0.5555555555555556,
              "#d8576b"
             ],
             [
              0.6666666666666666,
              "#ed7953"
             ],
             [
              0.7777777777777778,
              "#fb9f3a"
             ],
             [
              0.8888888888888888,
              "#fdca26"
             ],
             [
              1,
              "#f0f921"
             ]
            ],
            "type": "heatmap"
           }
          ],
          "heatmapgl": [
           {
            "colorbar": {
             "outlinewidth": 0,
             "ticks": ""
            },
            "colorscale": [
             [
              0,
              "#0d0887"
             ],
             [
              0.1111111111111111,
              "#46039f"
             ],
             [
              0.2222222222222222,
              "#7201a8"
             ],
             [
              0.3333333333333333,
              "#9c179e"
             ],
             [
              0.4444444444444444,
              "#bd3786"
             ],
             [
              0.5555555555555556,
              "#d8576b"
             ],
             [
              0.6666666666666666,
              "#ed7953"
             ],
             [
              0.7777777777777778,
              "#fb9f3a"
             ],
             [
              0.8888888888888888,
              "#fdca26"
             ],
             [
              1,
              "#f0f921"
             ]
            ],
            "type": "heatmapgl"
           }
          ],
          "histogram": [
           {
            "marker": {
             "colorbar": {
              "outlinewidth": 0,
              "ticks": ""
             }
            },
            "type": "histogram"
           }
          ],
          "histogram2d": [
           {
            "colorbar": {
             "outlinewidth": 0,
             "ticks": ""
            },
            "colorscale": [
             [
              0,
              "#0d0887"
             ],
             [
              0.1111111111111111,
              "#46039f"
             ],
             [
              0.2222222222222222,
              "#7201a8"
             ],
             [
              0.3333333333333333,
              "#9c179e"
             ],
             [
              0.4444444444444444,
              "#bd3786"
             ],
             [
              0.5555555555555556,
              "#d8576b"
             ],
             [
              0.6666666666666666,
              "#ed7953"
             ],
             [
              0.7777777777777778,
              "#fb9f3a"
             ],
             [
              0.8888888888888888,
              "#fdca26"
             ],
             [
              1,
              "#f0f921"
             ]
            ],
            "type": "histogram2d"
           }
          ],
          "histogram2dcontour": [
           {
            "colorbar": {
             "outlinewidth": 0,
             "ticks": ""
            },
            "colorscale": [
             [
              0,
              "#0d0887"
             ],
             [
              0.1111111111111111,
              "#46039f"
             ],
             [
              0.2222222222222222,
              "#7201a8"
             ],
             [
              0.3333333333333333,
              "#9c179e"
             ],
             [
              0.4444444444444444,
              "#bd3786"
             ],
             [
              0.5555555555555556,
              "#d8576b"
             ],
             [
              0.6666666666666666,
              "#ed7953"
             ],
             [
              0.7777777777777778,
              "#fb9f3a"
             ],
             [
              0.8888888888888888,
              "#fdca26"
             ],
             [
              1,
              "#f0f921"
             ]
            ],
            "type": "histogram2dcontour"
           }
          ],
          "mesh3d": [
           {
            "colorbar": {
             "outlinewidth": 0,
             "ticks": ""
            },
            "type": "mesh3d"
           }
          ],
          "parcoords": [
           {
            "line": {
             "colorbar": {
              "outlinewidth": 0,
              "ticks": ""
             }
            },
            "type": "parcoords"
           }
          ],
          "pie": [
           {
            "automargin": true,
            "type": "pie"
           }
          ],
          "scatter": [
           {
            "marker": {
             "colorbar": {
              "outlinewidth": 0,
              "ticks": ""
             }
            },
            "type": "scatter"
           }
          ],
          "scatter3d": [
           {
            "line": {
             "colorbar": {
              "outlinewidth": 0,
              "ticks": ""
             }
            },
            "marker": {
             "colorbar": {
              "outlinewidth": 0,
              "ticks": ""
             }
            },
            "type": "scatter3d"
           }
          ],
          "scattercarpet": [
           {
            "marker": {
             "colorbar": {
              "outlinewidth": 0,
              "ticks": ""
             }
            },
            "type": "scattercarpet"
           }
          ],
          "scattergeo": [
           {
            "marker": {
             "colorbar": {
              "outlinewidth": 0,
              "ticks": ""
             }
            },
            "type": "scattergeo"
           }
          ],
          "scattergl": [
           {
            "marker": {
             "colorbar": {
              "outlinewidth": 0,
              "ticks": ""
             }
            },
            "type": "scattergl"
           }
          ],
          "scattermapbox": [
           {
            "marker": {
             "colorbar": {
              "outlinewidth": 0,
              "ticks": ""
             }
            },
            "type": "scattermapbox"
           }
          ],
          "scatterpolar": [
           {
            "marker": {
             "colorbar": {
              "outlinewidth": 0,
              "ticks": ""
             }
            },
            "type": "scatterpolar"
           }
          ],
          "scatterpolargl": [
           {
            "marker": {
             "colorbar": {
              "outlinewidth": 0,
              "ticks": ""
             }
            },
            "type": "scatterpolargl"
           }
          ],
          "scatterternary": [
           {
            "marker": {
             "colorbar": {
              "outlinewidth": 0,
              "ticks": ""
             }
            },
            "type": "scatterternary"
           }
          ],
          "surface": [
           {
            "colorbar": {
             "outlinewidth": 0,
             "ticks": ""
            },
            "colorscale": [
             [
              0,
              "#0d0887"
             ],
             [
              0.1111111111111111,
              "#46039f"
             ],
             [
              0.2222222222222222,
              "#7201a8"
             ],
             [
              0.3333333333333333,
              "#9c179e"
             ],
             [
              0.4444444444444444,
              "#bd3786"
             ],
             [
              0.5555555555555556,
              "#d8576b"
             ],
             [
              0.6666666666666666,
              "#ed7953"
             ],
             [
              0.7777777777777778,
              "#fb9f3a"
             ],
             [
              0.8888888888888888,
              "#fdca26"
             ],
             [
              1,
              "#f0f921"
             ]
            ],
            "type": "surface"
           }
          ],
          "table": [
           {
            "cells": {
             "fill": {
              "color": "#EBF0F8"
             },
             "line": {
              "color": "white"
             }
            },
            "header": {
             "fill": {
              "color": "#C8D4E3"
             },
             "line": {
              "color": "white"
             }
            },
            "type": "table"
           }
          ]
         },
         "layout": {
          "annotationdefaults": {
           "arrowcolor": "#2a3f5f",
           "arrowhead": 0,
           "arrowwidth": 1
          },
          "coloraxis": {
           "colorbar": {
            "outlinewidth": 0,
            "ticks": ""
           }
          },
          "colorscale": {
           "diverging": [
            [
             0,
             "#8e0152"
            ],
            [
             0.1,
             "#c51b7d"
            ],
            [
             0.2,
             "#de77ae"
            ],
            [
             0.3,
             "#f1b6da"
            ],
            [
             0.4,
             "#fde0ef"
            ],
            [
             0.5,
             "#f7f7f7"
            ],
            [
             0.6,
             "#e6f5d0"
            ],
            [
             0.7,
             "#b8e186"
            ],
            [
             0.8,
             "#7fbc41"
            ],
            [
             0.9,
             "#4d9221"
            ],
            [
             1,
             "#276419"
            ]
           ],
           "sequential": [
            [
             0,
             "#0d0887"
            ],
            [
             0.1111111111111111,
             "#46039f"
            ],
            [
             0.2222222222222222,
             "#7201a8"
            ],
            [
             0.3333333333333333,
             "#9c179e"
            ],
            [
             0.4444444444444444,
             "#bd3786"
            ],
            [
             0.5555555555555556,
             "#d8576b"
            ],
            [
             0.6666666666666666,
             "#ed7953"
            ],
            [
             0.7777777777777778,
             "#fb9f3a"
            ],
            [
             0.8888888888888888,
             "#fdca26"
            ],
            [
             1,
             "#f0f921"
            ]
           ],
           "sequentialminus": [
            [
             0,
             "#0d0887"
            ],
            [
             0.1111111111111111,
             "#46039f"
            ],
            [
             0.2222222222222222,
             "#7201a8"
            ],
            [
             0.3333333333333333,
             "#9c179e"
            ],
            [
             0.4444444444444444,
             "#bd3786"
            ],
            [
             0.5555555555555556,
             "#d8576b"
            ],
            [
             0.6666666666666666,
             "#ed7953"
            ],
            [
             0.7777777777777778,
             "#fb9f3a"
            ],
            [
             0.8888888888888888,
             "#fdca26"
            ],
            [
             1,
             "#f0f921"
            ]
           ]
          },
          "colorway": [
           "#636efa",
           "#EF553B",
           "#00cc96",
           "#ab63fa",
           "#FFA15A",
           "#19d3f3",
           "#FF6692",
           "#B6E880",
           "#FF97FF",
           "#FECB52"
          ],
          "font": {
           "color": "#2a3f5f"
          },
          "geo": {
           "bgcolor": "white",
           "lakecolor": "white",
           "landcolor": "#E5ECF6",
           "showlakes": true,
           "showland": true,
           "subunitcolor": "white"
          },
          "hoverlabel": {
           "align": "left"
          },
          "hovermode": "closest",
          "mapbox": {
           "style": "light"
          },
          "paper_bgcolor": "white",
          "plot_bgcolor": "#E5ECF6",
          "polar": {
           "angularaxis": {
            "gridcolor": "white",
            "linecolor": "white",
            "ticks": ""
           },
           "bgcolor": "#E5ECF6",
           "radialaxis": {
            "gridcolor": "white",
            "linecolor": "white",
            "ticks": ""
           }
          },
          "scene": {
           "xaxis": {
            "backgroundcolor": "#E5ECF6",
            "gridcolor": "white",
            "gridwidth": 2,
            "linecolor": "white",
            "showbackground": true,
            "ticks": "",
            "zerolinecolor": "white"
           },
           "yaxis": {
            "backgroundcolor": "#E5ECF6",
            "gridcolor": "white",
            "gridwidth": 2,
            "linecolor": "white",
            "showbackground": true,
            "ticks": "",
            "zerolinecolor": "white"
           },
           "zaxis": {
            "backgroundcolor": "#E5ECF6",
            "gridcolor": "white",
            "gridwidth": 2,
            "linecolor": "white",
            "showbackground": true,
            "ticks": "",
            "zerolinecolor": "white"
           }
          },
          "shapedefaults": {
           "line": {
            "color": "#2a3f5f"
           }
          },
          "ternary": {
           "aaxis": {
            "gridcolor": "white",
            "linecolor": "white",
            "ticks": ""
           },
           "baxis": {
            "gridcolor": "white",
            "linecolor": "white",
            "ticks": ""
           },
           "bgcolor": "#E5ECF6",
           "caxis": {
            "gridcolor": "white",
            "linecolor": "white",
            "ticks": ""
           }
          },
          "title": {
           "x": 0.05
          },
          "xaxis": {
           "automargin": true,
           "gridcolor": "white",
           "linecolor": "white",
           "ticks": "",
           "title": {
            "standoff": 15
           },
           "zerolinecolor": "white",
           "zerolinewidth": 2
          },
          "yaxis": {
           "automargin": true,
           "gridcolor": "white",
           "linecolor": "white",
           "ticks": "",
           "title": {
            "standoff": 15
           },
           "zerolinecolor": "white",
           "zerolinewidth": 2
          }
         }
        },
        "title": {
         "text": "bla",
         "x": 0.5
        },
        "xaxis": {
         "anchor": "y",
         "domain": [
          0,
          1
         ],
         "title": {
          "text": "tag"
         }
        },
        "yaxis": {
         "anchor": "x",
         "domain": [
          0,
          1
         ],
         "title": {
          "text": "mentions"
         }
        }
       }
      },
      "text/html": [
       "<div>\n",
       "        \n",
       "        \n",
       "            <div id=\"0ace2fd1-8af6-4b92-adcd-b11e36ecab68\" class=\"plotly-graph-div\" style=\"height:525px; width:100%;\"></div>\n",
       "            <script type=\"text/javascript\">\n",
       "                require([\"plotly\"], function(Plotly) {\n",
       "                    window.PLOTLYENV=window.PLOTLYENV || {};\n",
       "                    \n",
       "                if (document.getElementById(\"0ace2fd1-8af6-4b92-adcd-b11e36ecab68\")) {\n",
       "                    Plotly.newPlot(\n",
       "                        '0ace2fd1-8af6-4b92-adcd-b11e36ecab68',\n",
       "                        [{\"alignmentgroup\": \"True\", \"hoverlabel\": {\"namelength\": 0}, \"hovertemplate\": \"tag=%{x}<br>mentions=%{y}\", \"legendgroup\": \"\", \"marker\": {\"color\": \"#636efa\"}, \"name\": \"\", \"offsetgroup\": \"\", \"orientation\": \"v\", \"showlegend\": false, \"textposition\": \"auto\", \"type\": \"bar\", \"x\": [\"#\\u0627\\u0644\\u0647\\u0644\\u0627\\u0644_\\u0627\\u0644\\u0627\\u062a\\u0641\\u0627\\u0642\", \"#AyatollahsSpreadCOVID19\", \"KimseEmniyette De\\u011fil\", \"#\\u062d\\u0631\\u064a\\u0642_\\u0635\\u0628\\u0627\\u062d_\\u0627\\u0644\\u0627\\u062d\\u0645\\u062f\", \"Rafael Cavada\", \"#BeBest\", \"Lombardia\", \"QUEREMOS O GUI DE VOLTA NO BBB\", \"#8marzo2020\", \"#D\\u00fcnyay\\u0131Kad\\u0131nG\\u00fczelle\\u015ftirir\", \"#Melfest\", \"#\\u0635\\u062f\\u0627\\u0631\\u0647_\\u0628\\u0633\", \"#KokoGeriGelsin\", \"#DiaperDon\", \"#\\u0648\\u0632\\u064a\\u0631_\\u0627\\u0644\\u062a\\u0639\\u0644\\u064a\\u0645\"], \"xaxis\": \"x\", \"y\": [145293.0, 121722.0, 70587.0, 63711.0, 59586.0, 50252.0, 36168.0, 35265.0, 33697.0, 30656.0, 26831.0, 26544.0, 26240.0, 22682.0, 20948.0], \"yaxis\": \"y\"}],\n",
       "                        {\"autosize\": true, \"barmode\": \"relative\", \"legend\": {\"tracegroupgap\": 0}, \"template\": {\"data\": {\"bar\": [{\"error_x\": {\"color\": \"#2a3f5f\"}, \"error_y\": {\"color\": \"#2a3f5f\"}, \"marker\": {\"line\": {\"color\": \"#E5ECF6\", \"width\": 0.5}}, \"type\": \"bar\"}], \"barpolar\": [{\"marker\": {\"line\": {\"color\": \"#E5ECF6\", \"width\": 0.5}}, \"type\": \"barpolar\"}], \"carpet\": [{\"aaxis\": {\"endlinecolor\": \"#2a3f5f\", \"gridcolor\": \"white\", \"linecolor\": \"white\", \"minorgridcolor\": \"white\", \"startlinecolor\": \"#2a3f5f\"}, \"baxis\": {\"endlinecolor\": \"#2a3f5f\", \"gridcolor\": \"white\", \"linecolor\": \"white\", \"minorgridcolor\": \"white\", \"startlinecolor\": \"#2a3f5f\"}, \"type\": \"carpet\"}], \"choropleth\": [{\"colorbar\": {\"outlinewidth\": 0, \"ticks\": \"\"}, \"type\": \"choropleth\"}], \"contour\": [{\"colorbar\": {\"outlinewidth\": 0, \"ticks\": \"\"}, \"colorscale\": [[0.0, \"#0d0887\"], [0.1111111111111111, \"#46039f\"], [0.2222222222222222, \"#7201a8\"], [0.3333333333333333, \"#9c179e\"], [0.4444444444444444, \"#bd3786\"], [0.5555555555555556, \"#d8576b\"], [0.6666666666666666, \"#ed7953\"], [0.7777777777777778, \"#fb9f3a\"], [0.8888888888888888, \"#fdca26\"], [1.0, \"#f0f921\"]], \"type\": \"contour\"}], \"contourcarpet\": [{\"colorbar\": {\"outlinewidth\": 0, \"ticks\": \"\"}, \"type\": \"contourcarpet\"}], \"heatmap\": [{\"colorbar\": {\"outlinewidth\": 0, \"ticks\": \"\"}, \"colorscale\": [[0.0, \"#0d0887\"], [0.1111111111111111, \"#46039f\"], [0.2222222222222222, \"#7201a8\"], [0.3333333333333333, \"#9c179e\"], [0.4444444444444444, \"#bd3786\"], [0.5555555555555556, \"#d8576b\"], [0.6666666666666666, \"#ed7953\"], [0.7777777777777778, \"#fb9f3a\"], [0.8888888888888888, \"#fdca26\"], [1.0, \"#f0f921\"]], \"type\": \"heatmap\"}], \"heatmapgl\": [{\"colorbar\": {\"outlinewidth\": 0, \"ticks\": \"\"}, \"colorscale\": [[0.0, \"#0d0887\"], [0.1111111111111111, \"#46039f\"], [0.2222222222222222, \"#7201a8\"], [0.3333333333333333, \"#9c179e\"], [0.4444444444444444, \"#bd3786\"], [0.5555555555555556, \"#d8576b\"], [0.6666666666666666, \"#ed7953\"], [0.7777777777777778, \"#fb9f3a\"], [0.8888888888888888, \"#fdca26\"], [1.0, \"#f0f921\"]], \"type\": \"heatmapgl\"}], \"histogram\": [{\"marker\": {\"colorbar\": {\"outlinewidth\": 0, \"ticks\": \"\"}}, \"type\": \"histogram\"}], \"histogram2d\": [{\"colorbar\": {\"outlinewidth\": 0, \"ticks\": \"\"}, \"colorscale\": [[0.0, \"#0d0887\"], [0.1111111111111111, \"#46039f\"], [0.2222222222222222, \"#7201a8\"], [0.3333333333333333, \"#9c179e\"], [0.4444444444444444, \"#bd3786\"], [0.5555555555555556, \"#d8576b\"], [0.6666666666666666, \"#ed7953\"], [0.7777777777777778, \"#fb9f3a\"], [0.8888888888888888, \"#fdca26\"], [1.0, \"#f0f921\"]], \"type\": \"histogram2d\"}], \"histogram2dcontour\": [{\"colorbar\": {\"outlinewidth\": 0, \"ticks\": \"\"}, \"colorscale\": [[0.0, \"#0d0887\"], [0.1111111111111111, \"#46039f\"], [0.2222222222222222, \"#7201a8\"], [0.3333333333333333, \"#9c179e\"], [0.4444444444444444, \"#bd3786\"], [0.5555555555555556, \"#d8576b\"], [0.6666666666666666, \"#ed7953\"], [0.7777777777777778, \"#fb9f3a\"], [0.8888888888888888, \"#fdca26\"], [1.0, \"#f0f921\"]], \"type\": \"histogram2dcontour\"}], \"mesh3d\": [{\"colorbar\": {\"outlinewidth\": 0, \"ticks\": \"\"}, \"type\": \"mesh3d\"}], \"parcoords\": [{\"line\": {\"colorbar\": {\"outlinewidth\": 0, \"ticks\": \"\"}}, \"type\": \"parcoords\"}], \"pie\": [{\"automargin\": true, \"type\": \"pie\"}], \"scatter\": [{\"marker\": {\"colorbar\": {\"outlinewidth\": 0, \"ticks\": \"\"}}, \"type\": \"scatter\"}], \"scatter3d\": [{\"line\": {\"colorbar\": {\"outlinewidth\": 0, \"ticks\": \"\"}}, \"marker\": {\"colorbar\": {\"outlinewidth\": 0, \"ticks\": \"\"}}, \"type\": \"scatter3d\"}], \"scattercarpet\": [{\"marker\": {\"colorbar\": {\"outlinewidth\": 0, \"ticks\": \"\"}}, \"type\": \"scattercarpet\"}], \"scattergeo\": [{\"marker\": {\"colorbar\": {\"outlinewidth\": 0, \"ticks\": \"\"}}, \"type\": \"scattergeo\"}], \"scattergl\": [{\"marker\": {\"colorbar\": {\"outlinewidth\": 0, \"ticks\": \"\"}}, \"type\": \"scattergl\"}], \"scattermapbox\": [{\"marker\": {\"colorbar\": {\"outlinewidth\": 0, \"ticks\": \"\"}}, \"type\": \"scattermapbox\"}], \"scatterpolar\": [{\"marker\": {\"colorbar\": {\"outlinewidth\": 0, \"ticks\": \"\"}}, \"type\": \"scatterpolar\"}], \"scatterpolargl\": [{\"marker\": {\"colorbar\": {\"outlinewidth\": 0, \"ticks\": \"\"}}, \"type\": \"scatterpolargl\"}], \"scatterternary\": [{\"marker\": {\"colorbar\": {\"outlinewidth\": 0, \"ticks\": \"\"}}, \"type\": \"scatterternary\"}], \"surface\": [{\"colorbar\": {\"outlinewidth\": 0, \"ticks\": \"\"}, \"colorscale\": [[0.0, \"#0d0887\"], [0.1111111111111111, \"#46039f\"], [0.2222222222222222, \"#7201a8\"], [0.3333333333333333, \"#9c179e\"], [0.4444444444444444, \"#bd3786\"], [0.5555555555555556, \"#d8576b\"], [0.6666666666666666, \"#ed7953\"], [0.7777777777777778, \"#fb9f3a\"], [0.8888888888888888, \"#fdca26\"], [1.0, \"#f0f921\"]], \"type\": \"surface\"}], \"table\": [{\"cells\": {\"fill\": {\"color\": \"#EBF0F8\"}, \"line\": {\"color\": \"white\"}}, \"header\": {\"fill\": {\"color\": \"#C8D4E3\"}, \"line\": {\"color\": \"white\"}}, \"type\": \"table\"}]}, \"layout\": {\"annotationdefaults\": {\"arrowcolor\": \"#2a3f5f\", \"arrowhead\": 0, \"arrowwidth\": 1}, \"coloraxis\": {\"colorbar\": {\"outlinewidth\": 0, \"ticks\": \"\"}}, \"colorscale\": {\"diverging\": [[0, \"#8e0152\"], [0.1, \"#c51b7d\"], [0.2, \"#de77ae\"], [0.3, \"#f1b6da\"], [0.4, \"#fde0ef\"], [0.5, \"#f7f7f7\"], [0.6, \"#e6f5d0\"], [0.7, \"#b8e186\"], [0.8, \"#7fbc41\"], [0.9, \"#4d9221\"], [1, \"#276419\"]], \"sequential\": [[0.0, \"#0d0887\"], [0.1111111111111111, \"#46039f\"], [0.2222222222222222, \"#7201a8\"], [0.3333333333333333, \"#9c179e\"], [0.4444444444444444, \"#bd3786\"], [0.5555555555555556, \"#d8576b\"], [0.6666666666666666, \"#ed7953\"], [0.7777777777777778, \"#fb9f3a\"], [0.8888888888888888, \"#fdca26\"], [1.0, \"#f0f921\"]], \"sequentialminus\": [[0.0, \"#0d0887\"], [0.1111111111111111, \"#46039f\"], [0.2222222222222222, \"#7201a8\"], [0.3333333333333333, \"#9c179e\"], [0.4444444444444444, \"#bd3786\"], [0.5555555555555556, \"#d8576b\"], [0.6666666666666666, \"#ed7953\"], [0.7777777777777778, \"#fb9f3a\"], [0.8888888888888888, \"#fdca26\"], [1.0, \"#f0f921\"]]}, \"colorway\": [\"#636efa\", \"#EF553B\", \"#00cc96\", \"#ab63fa\", \"#FFA15A\", \"#19d3f3\", \"#FF6692\", \"#B6E880\", \"#FF97FF\", \"#FECB52\"], \"font\": {\"color\": \"#2a3f5f\"}, \"geo\": {\"bgcolor\": \"white\", \"lakecolor\": \"white\", \"landcolor\": \"#E5ECF6\", \"showlakes\": true, \"showland\": true, \"subunitcolor\": \"white\"}, \"hoverlabel\": {\"align\": \"left\"}, \"hovermode\": \"closest\", \"mapbox\": {\"style\": \"light\"}, \"paper_bgcolor\": \"white\", \"plot_bgcolor\": \"#E5ECF6\", \"polar\": {\"angularaxis\": {\"gridcolor\": \"white\", \"linecolor\": \"white\", \"ticks\": \"\"}, \"bgcolor\": \"#E5ECF6\", \"radialaxis\": {\"gridcolor\": \"white\", \"linecolor\": \"white\", \"ticks\": \"\"}}, \"scene\": {\"xaxis\": {\"backgroundcolor\": \"#E5ECF6\", \"gridcolor\": \"white\", \"gridwidth\": 2, \"linecolor\": \"white\", \"showbackground\": true, \"ticks\": \"\", \"zerolinecolor\": \"white\"}, \"yaxis\": {\"backgroundcolor\": \"#E5ECF6\", \"gridcolor\": \"white\", \"gridwidth\": 2, \"linecolor\": \"white\", \"showbackground\": true, \"ticks\": \"\", \"zerolinecolor\": \"white\"}, \"zaxis\": {\"backgroundcolor\": \"#E5ECF6\", \"gridcolor\": \"white\", \"gridwidth\": 2, \"linecolor\": \"white\", \"showbackground\": true, \"ticks\": \"\", \"zerolinecolor\": \"white\"}}, \"shapedefaults\": {\"line\": {\"color\": \"#2a3f5f\"}}, \"ternary\": {\"aaxis\": {\"gridcolor\": \"white\", \"linecolor\": \"white\", \"ticks\": \"\"}, \"baxis\": {\"gridcolor\": \"white\", \"linecolor\": \"white\", \"ticks\": \"\"}, \"bgcolor\": \"#E5ECF6\", \"caxis\": {\"gridcolor\": \"white\", \"linecolor\": \"white\", \"ticks\": \"\"}}, \"title\": {\"x\": 0.05}, \"xaxis\": {\"automargin\": true, \"gridcolor\": \"white\", \"linecolor\": \"white\", \"ticks\": \"\", \"title\": {\"standoff\": 15}, \"zerolinecolor\": \"white\", \"zerolinewidth\": 2}, \"yaxis\": {\"automargin\": true, \"gridcolor\": \"white\", \"linecolor\": \"white\", \"ticks\": \"\", \"title\": {\"standoff\": 15}, \"zerolinecolor\": \"white\", \"zerolinewidth\": 2}}}, \"title\": {\"text\": \"bla\", \"x\": 0.5}, \"xaxis\": {\"anchor\": \"y\", \"domain\": [0.0, 1.0], \"title\": {\"text\": \"tag\"}}, \"yaxis\": {\"anchor\": \"x\", \"domain\": [0.0, 1.0], \"title\": {\"text\": \"mentions\"}}},\n",
       "                        {\"responsive\": true}\n",
       "                    ).then(function(){\n",
       "                            \n",
       "var gd = document.getElementById('0ace2fd1-8af6-4b92-adcd-b11e36ecab68');\n",
       "var x = new MutationObserver(function (mutations, observer) {{\n",
       "        var display = window.getComputedStyle(gd).display;\n",
       "        if (!display || display === 'none') {{\n",
       "            console.log([gd, 'removed!']);\n",
       "            Plotly.purge(gd);\n",
       "            observer.disconnect();\n",
       "        }}\n",
       "}});\n",
       "\n",
       "// Listen for the removal of the full notebook cells\n",
       "var notebookContainer = gd.closest('#notebook-container');\n",
       "if (notebookContainer) {{\n",
       "    x.observe(notebookContainer, {childList: true});\n",
       "}}\n",
       "\n",
       "// Listen for the clearing of the current output cell\n",
       "var outputEl = gd.closest('.output');\n",
       "if (outputEl) {{\n",
       "    x.observe(outputEl, {childList: true});\n",
       "}}\n",
       "\n",
       "                        })\n",
       "                };\n",
       "                });\n",
       "            </script>\n",
       "        </div>"
      ]
     },
     "metadata": {},
     "output_type": "display_data"
    }
   ],
   "source": [
    "world_trend = pd.DataFrame(world_trends_set, columns=['tag', 'mentions', 'url']).sort_values('mentions',ascending=False)[:15]\n",
    "\n",
    "fig = px.bar(world_trend, x='tag', y='mentions', title='bla')\n",
    "fig.update_layout(autosize=True, title_x=.5)"
   ]
  }
 ],
 "metadata": {
  "kernelspec": {
   "display_name": "tf-gpu-2.0",
   "language": "python",
   "name": "tf_gpu2"
  },
  "language_info": {
   "codemirror_mode": {
    "name": "ipython",
    "version": 3
   },
   "file_extension": ".py",
   "mimetype": "text/x-python",
   "name": "python",
   "nbconvert_exporter": "python",
   "pygments_lexer": "ipython3",
   "version": "3.7.4"
  }
 },
 "nbformat": 4,
 "nbformat_minor": 2
}
